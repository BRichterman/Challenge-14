{
 "cells": [
  {
   "cell_type": "markdown",
   "source": [
    "# Machine Learning Trading Bot\n",
    "\n",
    "In this Challenge, you’ll assume the role of a financial advisor at one of the top five financial advisory firms in the world. Your firm constantly competes with the other major firms to manage and automatically trade assets in a highly dynamic environment. In recent years, your firm has heavily profited by using computer algorithms that can buy and sell faster than human traders.\n",
    "\n",
    "The speed of these transactions gave your firm a competitive advantage early on. But, people still need to specifically program these systems, which limits their ability to adapt to new data. You’re thus planning to improve the existing algorithmic trading systems and maintain the firm’s competitive advantage in the market. To do so, you’ll enhance the existing trading signals with machine learning algorithms that can adapt to new data.\n",
    "\n",
    "## Instructions:\n",
    "\n",
    "Use the starter code file to complete the steps that the instructions outline. The steps for this Challenge are divided into the following sections:\n",
    "\n",
    "* Establish a Baseline Performance\n",
    "\n",
    "* Tune the Baseline Trading Algorithm\n",
    "\n",
    "* Evaluate a New Machine Learning Classifier\n",
    "\n",
    "* Create an Evaluation Report\n",
    "\n",
    "#### Establish a Baseline Performance\n",
    "\n",
    "In this section, you’ll run the provided starter code to establish a baseline performance for the trading algorithm. To do so, complete the following steps.\n",
    "\n",
    "Open the Jupyter notebook. Restart the kernel, run the provided cells that correspond with the first three steps, and then proceed to step four. \n",
    "\n",
    "1. Import the OHLCV dataset into a Pandas DataFrame.\n",
    "\n",
    "2. Generate trading signals using short- and long-window SMA values. \n",
    "\n",
    "3. Split the data into training and testing datasets.\n",
    "\n",
    "4. Use the `SVC` classifier model from SKLearn's support vector machine (SVM) learning method to fit the training data and make predictions based on the testing data. Review the predictions.\n",
    "\n",
    "5. Review the classification report associated with the `SVC` model predictions. \n",
    "\n",
    "6. Create a predictions DataFrame that contains columns for “Predicted” values, “Actual Returns”, and “Strategy Returns”.\n",
    "\n",
    "7. Create a cumulative return plot that shows the actual returns vs. the strategy returns. Save a PNG image of this plot. This will serve as a baseline against which to compare the effects of tuning the trading algorithm.\n",
    "\n",
    "8. Write your conclusions about the performance of the baseline trading algorithm in the `README.md` file that’s associated with your GitHub repository. Support your findings by using the PNG image that you saved in the previous step.\n",
    "\n",
    "#### Tune the Baseline Trading Algorithm\n",
    "\n",
    "In this section, you’ll tune, or adjust, the model’s input features to find the parameters that result in the best trading outcomes. (You’ll choose the best by comparing the cumulative products of the strategy returns.) To do so, complete the following steps:\n",
    "\n",
    "1. Tune the training algorithm by adjusting the size of the training dataset. To do so, slice your data into different periods. Rerun the notebook with the updated parameters, and record the results in your `README.md` file. Answer the following question: What impact resulted from increasing or decreasing the training window?\n",
    "\n",
    "> **Hint** To adjust the size of the training dataset, you can use a different `DateOffset` value&mdash;for example, six months. Be aware that changing the size of the training dataset also affects the size of the testing dataset.\n",
    "\n",
    "2. Tune the trading algorithm by adjusting the SMA input features. Adjust one or both of the windows for the algorithm. Rerun the notebook with the updated parameters, and record the results in your `README.md` file. Answer the following question: What impact resulted from increasing or decreasing either or both of the SMA windows?\n",
    "\n",
    "3. Choose the set of parameters that best improved the trading algorithm returns. Save a PNG image of the cumulative product of the actual returns vs. the strategy returns, and document your conclusion in your `README.md` file.\n",
    "\n",
    "#### Evaluate a New Machine Learning Classifier\n",
    "\n",
    "In this section, you’ll use the original parameters that the starter code provided. But, you’ll apply them to the performance of a second machine learning model. To do so, complete the following steps:\n",
    "\n",
    "1. Import a new classifier, such as `AdaBoost`, `DecisionTreeClassifier`, or `LogisticRegression`. (For the full list of classifiers, refer to the [Supervised learning page](https://scikit-learn.org/stable/supervised_learning.html) in the scikit-learn documentation.)\n",
    "\n",
    "2. Using the original training data as the baseline model, fit another model with the new classifier.\n",
    "\n",
    "3. Backtest the new model to evaluate its performance. Save a PNG image of the cumulative product of the actual returns vs. the strategy returns for this updated trading algorithm, and write your conclusions in your `README.md` file. Answer the following questions: Did this new model perform better or worse than the provided baseline model? Did this new model perform better or worse than your tuned trading algorithm?\n",
    "\n",
    "#### Create an Evaluation Report\n",
    "\n",
    "In the previous sections, you updated your `README.md` file with your conclusions. To accomplish this section, you need to add a summary evaluation report at the end of the `README.md` file. For this report, express your final conclusions and analysis. Support your findings by using the PNG images that you created.\n"
   ],
   "metadata": {}
  },
  {
   "cell_type": "code",
   "execution_count": 67,
   "source": [
    "# Imports\n",
    "import pandas as pd\n",
    "import numpy as np\n",
    "from pathlib import Path\n",
    "import hvplot.pandas\n",
    "import matplotlib.pyplot as plt\n",
    "from sklearn import svm\n",
    "from sklearn.preprocessing import StandardScaler\n",
    "from pandas.tseries.offsets import DateOffset\n",
    "from sklearn.metrics import classification_report"
   ],
   "outputs": [],
   "metadata": {}
  },
  {
   "cell_type": "markdown",
   "source": [
    "---\n",
    "\n",
    "## Establish a Baseline Performance\n",
    "\n",
    "In this section, you’ll run the provided starter code to establish a baseline performance for the trading algorithm. To do so, complete the following steps.\n",
    "\n",
    "Open the Jupyter notebook. Restart the kernel, run the provided cells that correspond with the first three steps, and then proceed to step four. \n"
   ],
   "metadata": {}
  },
  {
   "cell_type": "markdown",
   "source": [
    "### Step 1: mport the OHLCV dataset into a Pandas DataFrame."
   ],
   "metadata": {}
  },
  {
   "cell_type": "code",
   "execution_count": 68,
   "source": [
    "# Import the OHLCV dataset into a Pandas Dataframe\n",
    "ohlcv_df = pd.read_csv(\n",
    "    Path(\"./Resources/emerging_markets_ohlcv.csv\"), \n",
    "    index_col='date', \n",
    "    infer_datetime_format=True, \n",
    "    parse_dates=True\n",
    ")\n",
    "\n",
    "# Review the DataFrame\n",
    "ohlcv_df.head()"
   ],
   "outputs": [
    {
     "output_type": "execute_result",
     "data": {
      "text/plain": [
       "                      open   high    low  close  volume\n",
       "date                                                   \n",
       "2015-01-21 09:30:00  23.83  23.83  23.83  23.83     100\n",
       "2015-01-21 11:00:00  23.98  23.98  23.98  23.98     100\n",
       "2015-01-22 15:00:00  24.42  24.42  24.42  24.42     100\n",
       "2015-01-22 15:15:00  24.42  24.44  24.42  24.44     200\n",
       "2015-01-22 15:30:00  24.46  24.46  24.46  24.46     200"
      ],
      "text/html": [
       "<div>\n",
       "<style scoped>\n",
       "    .dataframe tbody tr th:only-of-type {\n",
       "        vertical-align: middle;\n",
       "    }\n",
       "\n",
       "    .dataframe tbody tr th {\n",
       "        vertical-align: top;\n",
       "    }\n",
       "\n",
       "    .dataframe thead th {\n",
       "        text-align: right;\n",
       "    }\n",
       "</style>\n",
       "<table border=\"1\" class=\"dataframe\">\n",
       "  <thead>\n",
       "    <tr style=\"text-align: right;\">\n",
       "      <th></th>\n",
       "      <th>open</th>\n",
       "      <th>high</th>\n",
       "      <th>low</th>\n",
       "      <th>close</th>\n",
       "      <th>volume</th>\n",
       "    </tr>\n",
       "    <tr>\n",
       "      <th>date</th>\n",
       "      <th></th>\n",
       "      <th></th>\n",
       "      <th></th>\n",
       "      <th></th>\n",
       "      <th></th>\n",
       "    </tr>\n",
       "  </thead>\n",
       "  <tbody>\n",
       "    <tr>\n",
       "      <th>2015-01-21 09:30:00</th>\n",
       "      <td>23.83</td>\n",
       "      <td>23.83</td>\n",
       "      <td>23.83</td>\n",
       "      <td>23.83</td>\n",
       "      <td>100</td>\n",
       "    </tr>\n",
       "    <tr>\n",
       "      <th>2015-01-21 11:00:00</th>\n",
       "      <td>23.98</td>\n",
       "      <td>23.98</td>\n",
       "      <td>23.98</td>\n",
       "      <td>23.98</td>\n",
       "      <td>100</td>\n",
       "    </tr>\n",
       "    <tr>\n",
       "      <th>2015-01-22 15:00:00</th>\n",
       "      <td>24.42</td>\n",
       "      <td>24.42</td>\n",
       "      <td>24.42</td>\n",
       "      <td>24.42</td>\n",
       "      <td>100</td>\n",
       "    </tr>\n",
       "    <tr>\n",
       "      <th>2015-01-22 15:15:00</th>\n",
       "      <td>24.42</td>\n",
       "      <td>24.44</td>\n",
       "      <td>24.42</td>\n",
       "      <td>24.44</td>\n",
       "      <td>200</td>\n",
       "    </tr>\n",
       "    <tr>\n",
       "      <th>2015-01-22 15:30:00</th>\n",
       "      <td>24.46</td>\n",
       "      <td>24.46</td>\n",
       "      <td>24.46</td>\n",
       "      <td>24.46</td>\n",
       "      <td>200</td>\n",
       "    </tr>\n",
       "  </tbody>\n",
       "</table>\n",
       "</div>"
      ]
     },
     "metadata": {},
     "execution_count": 68
    }
   ],
   "metadata": {}
  },
  {
   "cell_type": "code",
   "execution_count": 69,
   "source": [
    "# Filter the date index and close columns\n",
    "signals_df = ohlcv_df.loc[:, [\"close\"]]\n",
    "\n",
    "# Use the pct_change function to generate  returns from close prices\n",
    "signals_df[\"Actual Returns\"] = signals_df[\"close\"].pct_change()\n",
    "\n",
    "# Drop all NaN values from the DataFrame\n",
    "signals_df = signals_df.dropna()\n",
    "\n",
    "# Review the DataFrame\n",
    "display(signals_df.head())\n",
    "display(signals_df.tail())"
   ],
   "outputs": [
    {
     "output_type": "display_data",
     "data": {
      "text/plain": [
       "                     close  Actual Returns\n",
       "date                                      \n",
       "2015-01-21 11:00:00  23.98        0.006295\n",
       "2015-01-22 15:00:00  24.42        0.018349\n",
       "2015-01-22 15:15:00  24.44        0.000819\n",
       "2015-01-22 15:30:00  24.46        0.000818\n",
       "2015-01-26 12:30:00  24.33       -0.005315"
      ],
      "text/html": [
       "<div>\n",
       "<style scoped>\n",
       "    .dataframe tbody tr th:only-of-type {\n",
       "        vertical-align: middle;\n",
       "    }\n",
       "\n",
       "    .dataframe tbody tr th {\n",
       "        vertical-align: top;\n",
       "    }\n",
       "\n",
       "    .dataframe thead th {\n",
       "        text-align: right;\n",
       "    }\n",
       "</style>\n",
       "<table border=\"1\" class=\"dataframe\">\n",
       "  <thead>\n",
       "    <tr style=\"text-align: right;\">\n",
       "      <th></th>\n",
       "      <th>close</th>\n",
       "      <th>Actual Returns</th>\n",
       "    </tr>\n",
       "    <tr>\n",
       "      <th>date</th>\n",
       "      <th></th>\n",
       "      <th></th>\n",
       "    </tr>\n",
       "  </thead>\n",
       "  <tbody>\n",
       "    <tr>\n",
       "      <th>2015-01-21 11:00:00</th>\n",
       "      <td>23.98</td>\n",
       "      <td>0.006295</td>\n",
       "    </tr>\n",
       "    <tr>\n",
       "      <th>2015-01-22 15:00:00</th>\n",
       "      <td>24.42</td>\n",
       "      <td>0.018349</td>\n",
       "    </tr>\n",
       "    <tr>\n",
       "      <th>2015-01-22 15:15:00</th>\n",
       "      <td>24.44</td>\n",
       "      <td>0.000819</td>\n",
       "    </tr>\n",
       "    <tr>\n",
       "      <th>2015-01-22 15:30:00</th>\n",
       "      <td>24.46</td>\n",
       "      <td>0.000818</td>\n",
       "    </tr>\n",
       "    <tr>\n",
       "      <th>2015-01-26 12:30:00</th>\n",
       "      <td>24.33</td>\n",
       "      <td>-0.005315</td>\n",
       "    </tr>\n",
       "  </tbody>\n",
       "</table>\n",
       "</div>"
      ]
     },
     "metadata": {}
    },
    {
     "output_type": "display_data",
     "data": {
      "text/plain": [
       "                     close  Actual Returns\n",
       "date                                      \n",
       "2021-01-22 09:30:00  33.27       -0.006866\n",
       "2021-01-22 11:30:00  33.35        0.002405\n",
       "2021-01-22 13:45:00  33.42        0.002099\n",
       "2021-01-22 14:30:00  33.47        0.001496\n",
       "2021-01-22 15:45:00  33.44       -0.000896"
      ],
      "text/html": [
       "<div>\n",
       "<style scoped>\n",
       "    .dataframe tbody tr th:only-of-type {\n",
       "        vertical-align: middle;\n",
       "    }\n",
       "\n",
       "    .dataframe tbody tr th {\n",
       "        vertical-align: top;\n",
       "    }\n",
       "\n",
       "    .dataframe thead th {\n",
       "        text-align: right;\n",
       "    }\n",
       "</style>\n",
       "<table border=\"1\" class=\"dataframe\">\n",
       "  <thead>\n",
       "    <tr style=\"text-align: right;\">\n",
       "      <th></th>\n",
       "      <th>close</th>\n",
       "      <th>Actual Returns</th>\n",
       "    </tr>\n",
       "    <tr>\n",
       "      <th>date</th>\n",
       "      <th></th>\n",
       "      <th></th>\n",
       "    </tr>\n",
       "  </thead>\n",
       "  <tbody>\n",
       "    <tr>\n",
       "      <th>2021-01-22 09:30:00</th>\n",
       "      <td>33.27</td>\n",
       "      <td>-0.006866</td>\n",
       "    </tr>\n",
       "    <tr>\n",
       "      <th>2021-01-22 11:30:00</th>\n",
       "      <td>33.35</td>\n",
       "      <td>0.002405</td>\n",
       "    </tr>\n",
       "    <tr>\n",
       "      <th>2021-01-22 13:45:00</th>\n",
       "      <td>33.42</td>\n",
       "      <td>0.002099</td>\n",
       "    </tr>\n",
       "    <tr>\n",
       "      <th>2021-01-22 14:30:00</th>\n",
       "      <td>33.47</td>\n",
       "      <td>0.001496</td>\n",
       "    </tr>\n",
       "    <tr>\n",
       "      <th>2021-01-22 15:45:00</th>\n",
       "      <td>33.44</td>\n",
       "      <td>-0.000896</td>\n",
       "    </tr>\n",
       "  </tbody>\n",
       "</table>\n",
       "</div>"
      ]
     },
     "metadata": {}
    }
   ],
   "metadata": {}
  },
  {
   "cell_type": "markdown",
   "source": [
    "## Step 2: Generate trading signals using short- and long-window SMA values. "
   ],
   "metadata": {}
  },
  {
   "cell_type": "code",
   "execution_count": 70,
   "source": [
    "# Set the short window and long window\n",
    "short_window = 4\n",
    "long_window = 100\n",
    "\n",
    "# Generate the fast and slow simple moving averages (4 and 100 days, respectively)\n",
    "signals_df['SMA_Fast'] = signals_df['close'].rolling(window=short_window).mean()\n",
    "signals_df['SMA_Slow'] = signals_df['close'].rolling(window=long_window).mean()\n",
    "\n",
    "signals_df = signals_df.dropna()\n",
    "\n",
    "# Review the DataFrame\n",
    "display(signals_df.head())\n",
    "display(signals_df.tail())"
   ],
   "outputs": [
    {
     "output_type": "display_data",
     "data": {
      "text/plain": [
       "                     close  Actual Returns  SMA_Fast  SMA_Slow\n",
       "date                                                          \n",
       "2015-04-02 14:45:00  24.92        0.000000   24.9175   24.3214\n",
       "2015-04-02 15:00:00  24.92        0.000000   24.9200   24.3308\n",
       "2015-04-02 15:15:00  24.94        0.000803   24.9250   24.3360\n",
       "2015-04-02 15:30:00  24.95        0.000401   24.9325   24.3411\n",
       "2015-04-02 15:45:00  24.98        0.001202   24.9475   24.3463"
      ],
      "text/html": [
       "<div>\n",
       "<style scoped>\n",
       "    .dataframe tbody tr th:only-of-type {\n",
       "        vertical-align: middle;\n",
       "    }\n",
       "\n",
       "    .dataframe tbody tr th {\n",
       "        vertical-align: top;\n",
       "    }\n",
       "\n",
       "    .dataframe thead th {\n",
       "        text-align: right;\n",
       "    }\n",
       "</style>\n",
       "<table border=\"1\" class=\"dataframe\">\n",
       "  <thead>\n",
       "    <tr style=\"text-align: right;\">\n",
       "      <th></th>\n",
       "      <th>close</th>\n",
       "      <th>Actual Returns</th>\n",
       "      <th>SMA_Fast</th>\n",
       "      <th>SMA_Slow</th>\n",
       "    </tr>\n",
       "    <tr>\n",
       "      <th>date</th>\n",
       "      <th></th>\n",
       "      <th></th>\n",
       "      <th></th>\n",
       "      <th></th>\n",
       "    </tr>\n",
       "  </thead>\n",
       "  <tbody>\n",
       "    <tr>\n",
       "      <th>2015-04-02 14:45:00</th>\n",
       "      <td>24.92</td>\n",
       "      <td>0.000000</td>\n",
       "      <td>24.9175</td>\n",
       "      <td>24.3214</td>\n",
       "    </tr>\n",
       "    <tr>\n",
       "      <th>2015-04-02 15:00:00</th>\n",
       "      <td>24.92</td>\n",
       "      <td>0.000000</td>\n",
       "      <td>24.9200</td>\n",
       "      <td>24.3308</td>\n",
       "    </tr>\n",
       "    <tr>\n",
       "      <th>2015-04-02 15:15:00</th>\n",
       "      <td>24.94</td>\n",
       "      <td>0.000803</td>\n",
       "      <td>24.9250</td>\n",
       "      <td>24.3360</td>\n",
       "    </tr>\n",
       "    <tr>\n",
       "      <th>2015-04-02 15:30:00</th>\n",
       "      <td>24.95</td>\n",
       "      <td>0.000401</td>\n",
       "      <td>24.9325</td>\n",
       "      <td>24.3411</td>\n",
       "    </tr>\n",
       "    <tr>\n",
       "      <th>2015-04-02 15:45:00</th>\n",
       "      <td>24.98</td>\n",
       "      <td>0.001202</td>\n",
       "      <td>24.9475</td>\n",
       "      <td>24.3463</td>\n",
       "    </tr>\n",
       "  </tbody>\n",
       "</table>\n",
       "</div>"
      ]
     },
     "metadata": {}
    },
    {
     "output_type": "display_data",
     "data": {
      "text/plain": [
       "                     close  Actual Returns  SMA_Fast  SMA_Slow\n",
       "date                                                          \n",
       "2021-01-22 09:30:00  33.27       -0.006866   33.2025  30.40215\n",
       "2021-01-22 11:30:00  33.35        0.002405   33.2725  30.44445\n",
       "2021-01-22 13:45:00  33.42        0.002099   33.3850  30.48745\n",
       "2021-01-22 14:30:00  33.47        0.001496   33.3775  30.53085\n",
       "2021-01-22 15:45:00  33.44       -0.000896   33.4200  30.57495"
      ],
      "text/html": [
       "<div>\n",
       "<style scoped>\n",
       "    .dataframe tbody tr th:only-of-type {\n",
       "        vertical-align: middle;\n",
       "    }\n",
       "\n",
       "    .dataframe tbody tr th {\n",
       "        vertical-align: top;\n",
       "    }\n",
       "\n",
       "    .dataframe thead th {\n",
       "        text-align: right;\n",
       "    }\n",
       "</style>\n",
       "<table border=\"1\" class=\"dataframe\">\n",
       "  <thead>\n",
       "    <tr style=\"text-align: right;\">\n",
       "      <th></th>\n",
       "      <th>close</th>\n",
       "      <th>Actual Returns</th>\n",
       "      <th>SMA_Fast</th>\n",
       "      <th>SMA_Slow</th>\n",
       "    </tr>\n",
       "    <tr>\n",
       "      <th>date</th>\n",
       "      <th></th>\n",
       "      <th></th>\n",
       "      <th></th>\n",
       "      <th></th>\n",
       "    </tr>\n",
       "  </thead>\n",
       "  <tbody>\n",
       "    <tr>\n",
       "      <th>2021-01-22 09:30:00</th>\n",
       "      <td>33.27</td>\n",
       "      <td>-0.006866</td>\n",
       "      <td>33.2025</td>\n",
       "      <td>30.40215</td>\n",
       "    </tr>\n",
       "    <tr>\n",
       "      <th>2021-01-22 11:30:00</th>\n",
       "      <td>33.35</td>\n",
       "      <td>0.002405</td>\n",
       "      <td>33.2725</td>\n",
       "      <td>30.44445</td>\n",
       "    </tr>\n",
       "    <tr>\n",
       "      <th>2021-01-22 13:45:00</th>\n",
       "      <td>33.42</td>\n",
       "      <td>0.002099</td>\n",
       "      <td>33.3850</td>\n",
       "      <td>30.48745</td>\n",
       "    </tr>\n",
       "    <tr>\n",
       "      <th>2021-01-22 14:30:00</th>\n",
       "      <td>33.47</td>\n",
       "      <td>0.001496</td>\n",
       "      <td>33.3775</td>\n",
       "      <td>30.53085</td>\n",
       "    </tr>\n",
       "    <tr>\n",
       "      <th>2021-01-22 15:45:00</th>\n",
       "      <td>33.44</td>\n",
       "      <td>-0.000896</td>\n",
       "      <td>33.4200</td>\n",
       "      <td>30.57495</td>\n",
       "    </tr>\n",
       "  </tbody>\n",
       "</table>\n",
       "</div>"
      ]
     },
     "metadata": {}
    }
   ],
   "metadata": {}
  },
  {
   "cell_type": "code",
   "execution_count": 71,
   "source": [
    "# Initialize the new Signal column\n",
    "signals_df['Signal'] = 0.0\n",
    "\n",
    "# When Actual Returns are greater than or equal to 0, generate signal to buy stock long\n",
    "signals_df.loc[(signals_df['Actual Returns'] >= 0), 'Signal'] = 1\n",
    "\n",
    "# When Actual Returns are less than 0, generate signal to sell stock short\n",
    "signals_df.loc[(signals_df['Actual Returns'] < 0), 'Signal'] = -1\n",
    "\n",
    "# Review the DataFrame\n",
    "display(signals_df.head())\n",
    "display(signals_df.tail())"
   ],
   "outputs": [
    {
     "output_type": "display_data",
     "data": {
      "text/plain": [
       "                     close  Actual Returns  SMA_Fast  SMA_Slow  Signal\n",
       "date                                                                  \n",
       "2015-04-02 14:45:00  24.92        0.000000   24.9175   24.3214     1.0\n",
       "2015-04-02 15:00:00  24.92        0.000000   24.9200   24.3308     1.0\n",
       "2015-04-02 15:15:00  24.94        0.000803   24.9250   24.3360     1.0\n",
       "2015-04-02 15:30:00  24.95        0.000401   24.9325   24.3411     1.0\n",
       "2015-04-02 15:45:00  24.98        0.001202   24.9475   24.3463     1.0"
      ],
      "text/html": [
       "<div>\n",
       "<style scoped>\n",
       "    .dataframe tbody tr th:only-of-type {\n",
       "        vertical-align: middle;\n",
       "    }\n",
       "\n",
       "    .dataframe tbody tr th {\n",
       "        vertical-align: top;\n",
       "    }\n",
       "\n",
       "    .dataframe thead th {\n",
       "        text-align: right;\n",
       "    }\n",
       "</style>\n",
       "<table border=\"1\" class=\"dataframe\">\n",
       "  <thead>\n",
       "    <tr style=\"text-align: right;\">\n",
       "      <th></th>\n",
       "      <th>close</th>\n",
       "      <th>Actual Returns</th>\n",
       "      <th>SMA_Fast</th>\n",
       "      <th>SMA_Slow</th>\n",
       "      <th>Signal</th>\n",
       "    </tr>\n",
       "    <tr>\n",
       "      <th>date</th>\n",
       "      <th></th>\n",
       "      <th></th>\n",
       "      <th></th>\n",
       "      <th></th>\n",
       "      <th></th>\n",
       "    </tr>\n",
       "  </thead>\n",
       "  <tbody>\n",
       "    <tr>\n",
       "      <th>2015-04-02 14:45:00</th>\n",
       "      <td>24.92</td>\n",
       "      <td>0.000000</td>\n",
       "      <td>24.9175</td>\n",
       "      <td>24.3214</td>\n",
       "      <td>1.0</td>\n",
       "    </tr>\n",
       "    <tr>\n",
       "      <th>2015-04-02 15:00:00</th>\n",
       "      <td>24.92</td>\n",
       "      <td>0.000000</td>\n",
       "      <td>24.9200</td>\n",
       "      <td>24.3308</td>\n",
       "      <td>1.0</td>\n",
       "    </tr>\n",
       "    <tr>\n",
       "      <th>2015-04-02 15:15:00</th>\n",
       "      <td>24.94</td>\n",
       "      <td>0.000803</td>\n",
       "      <td>24.9250</td>\n",
       "      <td>24.3360</td>\n",
       "      <td>1.0</td>\n",
       "    </tr>\n",
       "    <tr>\n",
       "      <th>2015-04-02 15:30:00</th>\n",
       "      <td>24.95</td>\n",
       "      <td>0.000401</td>\n",
       "      <td>24.9325</td>\n",
       "      <td>24.3411</td>\n",
       "      <td>1.0</td>\n",
       "    </tr>\n",
       "    <tr>\n",
       "      <th>2015-04-02 15:45:00</th>\n",
       "      <td>24.98</td>\n",
       "      <td>0.001202</td>\n",
       "      <td>24.9475</td>\n",
       "      <td>24.3463</td>\n",
       "      <td>1.0</td>\n",
       "    </tr>\n",
       "  </tbody>\n",
       "</table>\n",
       "</div>"
      ]
     },
     "metadata": {}
    },
    {
     "output_type": "display_data",
     "data": {
      "text/plain": [
       "                     close  Actual Returns  SMA_Fast  SMA_Slow  Signal\n",
       "date                                                                  \n",
       "2021-01-22 09:30:00  33.27       -0.006866   33.2025  30.40215    -1.0\n",
       "2021-01-22 11:30:00  33.35        0.002405   33.2725  30.44445     1.0\n",
       "2021-01-22 13:45:00  33.42        0.002099   33.3850  30.48745     1.0\n",
       "2021-01-22 14:30:00  33.47        0.001496   33.3775  30.53085     1.0\n",
       "2021-01-22 15:45:00  33.44       -0.000896   33.4200  30.57495    -1.0"
      ],
      "text/html": [
       "<div>\n",
       "<style scoped>\n",
       "    .dataframe tbody tr th:only-of-type {\n",
       "        vertical-align: middle;\n",
       "    }\n",
       "\n",
       "    .dataframe tbody tr th {\n",
       "        vertical-align: top;\n",
       "    }\n",
       "\n",
       "    .dataframe thead th {\n",
       "        text-align: right;\n",
       "    }\n",
       "</style>\n",
       "<table border=\"1\" class=\"dataframe\">\n",
       "  <thead>\n",
       "    <tr style=\"text-align: right;\">\n",
       "      <th></th>\n",
       "      <th>close</th>\n",
       "      <th>Actual Returns</th>\n",
       "      <th>SMA_Fast</th>\n",
       "      <th>SMA_Slow</th>\n",
       "      <th>Signal</th>\n",
       "    </tr>\n",
       "    <tr>\n",
       "      <th>date</th>\n",
       "      <th></th>\n",
       "      <th></th>\n",
       "      <th></th>\n",
       "      <th></th>\n",
       "      <th></th>\n",
       "    </tr>\n",
       "  </thead>\n",
       "  <tbody>\n",
       "    <tr>\n",
       "      <th>2021-01-22 09:30:00</th>\n",
       "      <td>33.27</td>\n",
       "      <td>-0.006866</td>\n",
       "      <td>33.2025</td>\n",
       "      <td>30.40215</td>\n",
       "      <td>-1.0</td>\n",
       "    </tr>\n",
       "    <tr>\n",
       "      <th>2021-01-22 11:30:00</th>\n",
       "      <td>33.35</td>\n",
       "      <td>0.002405</td>\n",
       "      <td>33.2725</td>\n",
       "      <td>30.44445</td>\n",
       "      <td>1.0</td>\n",
       "    </tr>\n",
       "    <tr>\n",
       "      <th>2021-01-22 13:45:00</th>\n",
       "      <td>33.42</td>\n",
       "      <td>0.002099</td>\n",
       "      <td>33.3850</td>\n",
       "      <td>30.48745</td>\n",
       "      <td>1.0</td>\n",
       "    </tr>\n",
       "    <tr>\n",
       "      <th>2021-01-22 14:30:00</th>\n",
       "      <td>33.47</td>\n",
       "      <td>0.001496</td>\n",
       "      <td>33.3775</td>\n",
       "      <td>30.53085</td>\n",
       "      <td>1.0</td>\n",
       "    </tr>\n",
       "    <tr>\n",
       "      <th>2021-01-22 15:45:00</th>\n",
       "      <td>33.44</td>\n",
       "      <td>-0.000896</td>\n",
       "      <td>33.4200</td>\n",
       "      <td>30.57495</td>\n",
       "      <td>-1.0</td>\n",
       "    </tr>\n",
       "  </tbody>\n",
       "</table>\n",
       "</div>"
      ]
     },
     "metadata": {}
    }
   ],
   "metadata": {}
  },
  {
   "cell_type": "code",
   "execution_count": 72,
   "source": [
    "signals_df['Signal'].value_counts()"
   ],
   "outputs": [
    {
     "output_type": "execute_result",
     "data": {
      "text/plain": [
       " 1.0    2368\n",
       "-1.0    1855\n",
       "Name: Signal, dtype: int64"
      ]
     },
     "metadata": {},
     "execution_count": 72
    }
   ],
   "metadata": {}
  },
  {
   "cell_type": "code",
   "execution_count": 73,
   "source": [
    "# Calculate the strategy returns and add them to the signals_df DataFrame\n",
    "signals_df['Strategy Returns'] = signals_df['Actual Returns'] * signals_df['Signal'].shift()\n",
    "\n",
    "# Review the DataFrame\n",
    "display(signals_df.head())\n",
    "display(signals_df.tail())"
   ],
   "outputs": [
    {
     "output_type": "display_data",
     "data": {
      "text/plain": [
       "                     close  Actual Returns  SMA_Fast  SMA_Slow  Signal  \\\n",
       "date                                                                     \n",
       "2015-04-02 14:45:00  24.92        0.000000   24.9175   24.3214     1.0   \n",
       "2015-04-02 15:00:00  24.92        0.000000   24.9200   24.3308     1.0   \n",
       "2015-04-02 15:15:00  24.94        0.000803   24.9250   24.3360     1.0   \n",
       "2015-04-02 15:30:00  24.95        0.000401   24.9325   24.3411     1.0   \n",
       "2015-04-02 15:45:00  24.98        0.001202   24.9475   24.3463     1.0   \n",
       "\n",
       "                     Strategy Returns  \n",
       "date                                   \n",
       "2015-04-02 14:45:00               NaN  \n",
       "2015-04-02 15:00:00          0.000000  \n",
       "2015-04-02 15:15:00          0.000803  \n",
       "2015-04-02 15:30:00          0.000401  \n",
       "2015-04-02 15:45:00          0.001202  "
      ],
      "text/html": [
       "<div>\n",
       "<style scoped>\n",
       "    .dataframe tbody tr th:only-of-type {\n",
       "        vertical-align: middle;\n",
       "    }\n",
       "\n",
       "    .dataframe tbody tr th {\n",
       "        vertical-align: top;\n",
       "    }\n",
       "\n",
       "    .dataframe thead th {\n",
       "        text-align: right;\n",
       "    }\n",
       "</style>\n",
       "<table border=\"1\" class=\"dataframe\">\n",
       "  <thead>\n",
       "    <tr style=\"text-align: right;\">\n",
       "      <th></th>\n",
       "      <th>close</th>\n",
       "      <th>Actual Returns</th>\n",
       "      <th>SMA_Fast</th>\n",
       "      <th>SMA_Slow</th>\n",
       "      <th>Signal</th>\n",
       "      <th>Strategy Returns</th>\n",
       "    </tr>\n",
       "    <tr>\n",
       "      <th>date</th>\n",
       "      <th></th>\n",
       "      <th></th>\n",
       "      <th></th>\n",
       "      <th></th>\n",
       "      <th></th>\n",
       "      <th></th>\n",
       "    </tr>\n",
       "  </thead>\n",
       "  <tbody>\n",
       "    <tr>\n",
       "      <th>2015-04-02 14:45:00</th>\n",
       "      <td>24.92</td>\n",
       "      <td>0.000000</td>\n",
       "      <td>24.9175</td>\n",
       "      <td>24.3214</td>\n",
       "      <td>1.0</td>\n",
       "      <td>NaN</td>\n",
       "    </tr>\n",
       "    <tr>\n",
       "      <th>2015-04-02 15:00:00</th>\n",
       "      <td>24.92</td>\n",
       "      <td>0.000000</td>\n",
       "      <td>24.9200</td>\n",
       "      <td>24.3308</td>\n",
       "      <td>1.0</td>\n",
       "      <td>0.000000</td>\n",
       "    </tr>\n",
       "    <tr>\n",
       "      <th>2015-04-02 15:15:00</th>\n",
       "      <td>24.94</td>\n",
       "      <td>0.000803</td>\n",
       "      <td>24.9250</td>\n",
       "      <td>24.3360</td>\n",
       "      <td>1.0</td>\n",
       "      <td>0.000803</td>\n",
       "    </tr>\n",
       "    <tr>\n",
       "      <th>2015-04-02 15:30:00</th>\n",
       "      <td>24.95</td>\n",
       "      <td>0.000401</td>\n",
       "      <td>24.9325</td>\n",
       "      <td>24.3411</td>\n",
       "      <td>1.0</td>\n",
       "      <td>0.000401</td>\n",
       "    </tr>\n",
       "    <tr>\n",
       "      <th>2015-04-02 15:45:00</th>\n",
       "      <td>24.98</td>\n",
       "      <td>0.001202</td>\n",
       "      <td>24.9475</td>\n",
       "      <td>24.3463</td>\n",
       "      <td>1.0</td>\n",
       "      <td>0.001202</td>\n",
       "    </tr>\n",
       "  </tbody>\n",
       "</table>\n",
       "</div>"
      ]
     },
     "metadata": {}
    },
    {
     "output_type": "display_data",
     "data": {
      "text/plain": [
       "                     close  Actual Returns  SMA_Fast  SMA_Slow  Signal  \\\n",
       "date                                                                     \n",
       "2021-01-22 09:30:00  33.27       -0.006866   33.2025  30.40215    -1.0   \n",
       "2021-01-22 11:30:00  33.35        0.002405   33.2725  30.44445     1.0   \n",
       "2021-01-22 13:45:00  33.42        0.002099   33.3850  30.48745     1.0   \n",
       "2021-01-22 14:30:00  33.47        0.001496   33.3775  30.53085     1.0   \n",
       "2021-01-22 15:45:00  33.44       -0.000896   33.4200  30.57495    -1.0   \n",
       "\n",
       "                     Strategy Returns  \n",
       "date                                   \n",
       "2021-01-22 09:30:00         -0.006866  \n",
       "2021-01-22 11:30:00         -0.002405  \n",
       "2021-01-22 13:45:00          0.002099  \n",
       "2021-01-22 14:30:00          0.001496  \n",
       "2021-01-22 15:45:00         -0.000896  "
      ],
      "text/html": [
       "<div>\n",
       "<style scoped>\n",
       "    .dataframe tbody tr th:only-of-type {\n",
       "        vertical-align: middle;\n",
       "    }\n",
       "\n",
       "    .dataframe tbody tr th {\n",
       "        vertical-align: top;\n",
       "    }\n",
       "\n",
       "    .dataframe thead th {\n",
       "        text-align: right;\n",
       "    }\n",
       "</style>\n",
       "<table border=\"1\" class=\"dataframe\">\n",
       "  <thead>\n",
       "    <tr style=\"text-align: right;\">\n",
       "      <th></th>\n",
       "      <th>close</th>\n",
       "      <th>Actual Returns</th>\n",
       "      <th>SMA_Fast</th>\n",
       "      <th>SMA_Slow</th>\n",
       "      <th>Signal</th>\n",
       "      <th>Strategy Returns</th>\n",
       "    </tr>\n",
       "    <tr>\n",
       "      <th>date</th>\n",
       "      <th></th>\n",
       "      <th></th>\n",
       "      <th></th>\n",
       "      <th></th>\n",
       "      <th></th>\n",
       "      <th></th>\n",
       "    </tr>\n",
       "  </thead>\n",
       "  <tbody>\n",
       "    <tr>\n",
       "      <th>2021-01-22 09:30:00</th>\n",
       "      <td>33.27</td>\n",
       "      <td>-0.006866</td>\n",
       "      <td>33.2025</td>\n",
       "      <td>30.40215</td>\n",
       "      <td>-1.0</td>\n",
       "      <td>-0.006866</td>\n",
       "    </tr>\n",
       "    <tr>\n",
       "      <th>2021-01-22 11:30:00</th>\n",
       "      <td>33.35</td>\n",
       "      <td>0.002405</td>\n",
       "      <td>33.2725</td>\n",
       "      <td>30.44445</td>\n",
       "      <td>1.0</td>\n",
       "      <td>-0.002405</td>\n",
       "    </tr>\n",
       "    <tr>\n",
       "      <th>2021-01-22 13:45:00</th>\n",
       "      <td>33.42</td>\n",
       "      <td>0.002099</td>\n",
       "      <td>33.3850</td>\n",
       "      <td>30.48745</td>\n",
       "      <td>1.0</td>\n",
       "      <td>0.002099</td>\n",
       "    </tr>\n",
       "    <tr>\n",
       "      <th>2021-01-22 14:30:00</th>\n",
       "      <td>33.47</td>\n",
       "      <td>0.001496</td>\n",
       "      <td>33.3775</td>\n",
       "      <td>30.53085</td>\n",
       "      <td>1.0</td>\n",
       "      <td>0.001496</td>\n",
       "    </tr>\n",
       "    <tr>\n",
       "      <th>2021-01-22 15:45:00</th>\n",
       "      <td>33.44</td>\n",
       "      <td>-0.000896</td>\n",
       "      <td>33.4200</td>\n",
       "      <td>30.57495</td>\n",
       "      <td>-1.0</td>\n",
       "      <td>-0.000896</td>\n",
       "    </tr>\n",
       "  </tbody>\n",
       "</table>\n",
       "</div>"
      ]
     },
     "metadata": {}
    }
   ],
   "metadata": {}
  },
  {
   "cell_type": "code",
   "execution_count": 74,
   "source": [
    "# Plot Strategy Returns to examine performance\n",
    "(1 + signals_df['Strategy Returns']).cumprod().plot()"
   ],
   "outputs": [
    {
     "output_type": "execute_result",
     "data": {
      "text/plain": [
       "<AxesSubplot:xlabel='date'>"
      ]
     },
     "metadata": {},
     "execution_count": 74
    },
    {
     "output_type": "display_data",
     "data": {
      "text/plain": [
       "<Figure size 432x288 with 1 Axes>"
      ],
      "image/svg+xml": "<?xml version=\"1.0\" encoding=\"utf-8\" standalone=\"no\"?>\n<!DOCTYPE svg PUBLIC \"-//W3C//DTD SVG 1.1//EN\"\n  \"http://www.w3.org/Graphics/SVG/1.1/DTD/svg11.dtd\">\n<!-- Created with matplotlib (https://matplotlib.org/) -->\n<svg height=\"252.024627pt\" version=\"1.1\" viewBox=\"0 0 374.003031 252.024627\" width=\"374.003031pt\" xmlns=\"http://www.w3.org/2000/svg\" xmlns:xlink=\"http://www.w3.org/1999/xlink\">\n <metadata>\n  <rdf:RDF xmlns:cc=\"http://creativecommons.org/ns#\" xmlns:dc=\"http://purl.org/dc/elements/1.1/\" xmlns:rdf=\"http://www.w3.org/1999/02/22-rdf-syntax-ns#\">\n   <cc:Work>\n    <dc:type rdf:resource=\"http://purl.org/dc/dcmitype/StillImage\"/>\n    <dc:date>2021-10-02T10:34:43.958531</dc:date>\n    <dc:format>image/svg+xml</dc:format>\n    <dc:creator>\n     <cc:Agent>\n      <dc:title>Matplotlib v3.3.4, https://matplotlib.org/</dc:title>\n     </cc:Agent>\n    </dc:creator>\n   </cc:Work>\n  </rdf:RDF>\n </metadata>\n <defs>\n  <style type=\"text/css\">*{stroke-linecap:butt;stroke-linejoin:round;}</style>\n </defs>\n <g id=\"figure_1\">\n  <g id=\"patch_1\">\n   <path d=\"M 0 252.024627 \nL 374.003031 252.024627 \nL 374.003031 0 \nL 0 0 \nz\n\" style=\"fill:none;\"/>\n  </g>\n  <g id=\"axes_1\">\n   <g id=\"patch_2\">\n    <path d=\"M 32.003031 203.04 \nL 366.803031 203.04 \nL 366.803031 7.2 \nL 32.003031 7.2 \nz\n\" style=\"fill:#ffffff;\"/>\n   </g>\n   <g id=\"matplotlib.axis_1\">\n    <g id=\"xtick_1\">\n     <g id=\"line2d_1\">\n      <defs>\n       <path d=\"M 0 0 \nL 0 3.5 \n\" id=\"md3621e4a91\" style=\"stroke:#000000;stroke-width:0.8;\"/>\n      </defs>\n      <g>\n       <use style=\"stroke:#000000;stroke-width:0.8;\" x=\"34.079409\" xlink:href=\"#md3621e4a91\" y=\"203.04\"/>\n      </g>\n     </g>\n     <g id=\"text_1\">\n      <!-- 2015 -->\n      <g transform=\"translate(10.999219 229.34544)rotate(-30)scale(0.1 -0.1)\">\n       <defs>\n        <path d=\"M 19.1875 8.296875 \nL 53.609375 8.296875 \nL 53.609375 0 \nL 7.328125 0 \nL 7.328125 8.296875 \nQ 12.9375 14.109375 22.625 23.890625 \nQ 32.328125 33.6875 34.8125 36.53125 \nQ 39.546875 41.84375 41.421875 45.53125 \nQ 43.3125 49.21875 43.3125 52.78125 \nQ 43.3125 58.59375 39.234375 62.25 \nQ 35.15625 65.921875 28.609375 65.921875 \nQ 23.96875 65.921875 18.8125 64.3125 \nQ 13.671875 62.703125 7.8125 59.421875 \nL 7.8125 69.390625 \nQ 13.765625 71.78125 18.9375 73 \nQ 24.125 74.21875 28.421875 74.21875 \nQ 39.75 74.21875 46.484375 68.546875 \nQ 53.21875 62.890625 53.21875 53.421875 \nQ 53.21875 48.921875 51.53125 44.890625 \nQ 49.859375 40.875 45.40625 35.40625 \nQ 44.1875 33.984375 37.640625 27.21875 \nQ 31.109375 20.453125 19.1875 8.296875 \nz\n\" id=\"DejaVuSans-50\"/>\n        <path d=\"M 31.78125 66.40625 \nQ 24.171875 66.40625 20.328125 58.90625 \nQ 16.5 51.421875 16.5 36.375 \nQ 16.5 21.390625 20.328125 13.890625 \nQ 24.171875 6.390625 31.78125 6.390625 \nQ 39.453125 6.390625 43.28125 13.890625 \nQ 47.125 21.390625 47.125 36.375 \nQ 47.125 51.421875 43.28125 58.90625 \nQ 39.453125 66.40625 31.78125 66.40625 \nz\nM 31.78125 74.21875 \nQ 44.046875 74.21875 50.515625 64.515625 \nQ 56.984375 54.828125 56.984375 36.375 \nQ 56.984375 17.96875 50.515625 8.265625 \nQ 44.046875 -1.421875 31.78125 -1.421875 \nQ 19.53125 -1.421875 13.0625 8.265625 \nQ 6.59375 17.96875 6.59375 36.375 \nQ 6.59375 54.828125 13.0625 64.515625 \nQ 19.53125 74.21875 31.78125 74.21875 \nz\n\" id=\"DejaVuSans-48\"/>\n        <path d=\"M 12.40625 8.296875 \nL 28.515625 8.296875 \nL 28.515625 63.921875 \nL 10.984375 60.40625 \nL 10.984375 69.390625 \nL 28.421875 72.90625 \nL 38.28125 72.90625 \nL 38.28125 8.296875 \nL 54.390625 8.296875 \nL 54.390625 0 \nL 12.40625 0 \nz\n\" id=\"DejaVuSans-49\"/>\n        <path d=\"M 10.796875 72.90625 \nL 49.515625 72.90625 \nL 49.515625 64.59375 \nL 19.828125 64.59375 \nL 19.828125 46.734375 \nQ 21.96875 47.46875 24.109375 47.828125 \nQ 26.265625 48.1875 28.421875 48.1875 \nQ 40.625 48.1875 47.75 41.5 \nQ 54.890625 34.8125 54.890625 23.390625 \nQ 54.890625 11.625 47.5625 5.09375 \nQ 40.234375 -1.421875 26.90625 -1.421875 \nQ 22.3125 -1.421875 17.546875 -0.640625 \nQ 12.796875 0.140625 7.71875 1.703125 \nL 7.71875 11.625 \nQ 12.109375 9.234375 16.796875 8.0625 \nQ 21.484375 6.890625 26.703125 6.890625 \nQ 35.15625 6.890625 40.078125 11.328125 \nQ 45.015625 15.765625 45.015625 23.390625 \nQ 45.015625 31 40.078125 35.4375 \nQ 35.15625 39.890625 26.703125 39.890625 \nQ 22.75 39.890625 18.8125 39.015625 \nQ 14.890625 38.140625 10.796875 36.28125 \nz\n\" id=\"DejaVuSans-53\"/>\n       </defs>\n       <use xlink:href=\"#DejaVuSans-50\"/>\n       <use x=\"63.623047\" xlink:href=\"#DejaVuSans-48\"/>\n       <use x=\"127.246094\" xlink:href=\"#DejaVuSans-49\"/>\n       <use x=\"190.869141\" xlink:href=\"#DejaVuSans-53\"/>\n      </g>\n     </g>\n    </g>\n    <g id=\"xtick_2\">\n     <g id=\"line2d_2\">\n      <g>\n       <use style=\"stroke:#000000;stroke-width:0.8;\" x=\"86.431478\" xlink:href=\"#md3621e4a91\" y=\"203.04\"/>\n      </g>\n     </g>\n     <g id=\"text_2\">\n      <!-- 2016 -->\n      <g transform=\"translate(63.351288 229.34544)rotate(-30)scale(0.1 -0.1)\">\n       <defs>\n        <path d=\"M 33.015625 40.375 \nQ 26.375 40.375 22.484375 35.828125 \nQ 18.609375 31.296875 18.609375 23.390625 \nQ 18.609375 15.53125 22.484375 10.953125 \nQ 26.375 6.390625 33.015625 6.390625 \nQ 39.65625 6.390625 43.53125 10.953125 \nQ 47.40625 15.53125 47.40625 23.390625 \nQ 47.40625 31.296875 43.53125 35.828125 \nQ 39.65625 40.375 33.015625 40.375 \nz\nM 52.59375 71.296875 \nL 52.59375 62.3125 \nQ 48.875 64.0625 45.09375 64.984375 \nQ 41.3125 65.921875 37.59375 65.921875 \nQ 27.828125 65.921875 22.671875 59.328125 \nQ 17.53125 52.734375 16.796875 39.40625 \nQ 19.671875 43.65625 24.015625 45.921875 \nQ 28.375 48.1875 33.59375 48.1875 \nQ 44.578125 48.1875 50.953125 41.515625 \nQ 57.328125 34.859375 57.328125 23.390625 \nQ 57.328125 12.15625 50.6875 5.359375 \nQ 44.046875 -1.421875 33.015625 -1.421875 \nQ 20.359375 -1.421875 13.671875 8.265625 \nQ 6.984375 17.96875 6.984375 36.375 \nQ 6.984375 53.65625 15.1875 63.9375 \nQ 23.390625 74.21875 37.203125 74.21875 \nQ 40.921875 74.21875 44.703125 73.484375 \nQ 48.484375 72.75 52.59375 71.296875 \nz\n\" id=\"DejaVuSans-54\"/>\n       </defs>\n       <use xlink:href=\"#DejaVuSans-50\"/>\n       <use x=\"63.623047\" xlink:href=\"#DejaVuSans-48\"/>\n       <use x=\"127.246094\" xlink:href=\"#DejaVuSans-49\"/>\n       <use x=\"190.869141\" xlink:href=\"#DejaVuSans-54\"/>\n      </g>\n     </g>\n    </g>\n    <g id=\"xtick_3\">\n     <g id=\"line2d_3\">\n      <g>\n       <use style=\"stroke:#000000;stroke-width:0.8;\" x=\"138.926978\" xlink:href=\"#md3621e4a91\" y=\"203.04\"/>\n      </g>\n     </g>\n     <g id=\"text_3\">\n      <!-- 2017 -->\n      <g transform=\"translate(115.846788 229.34544)rotate(-30)scale(0.1 -0.1)\">\n       <defs>\n        <path d=\"M 8.203125 72.90625 \nL 55.078125 72.90625 \nL 55.078125 68.703125 \nL 28.609375 0 \nL 18.3125 0 \nL 43.21875 64.59375 \nL 8.203125 64.59375 \nz\n\" id=\"DejaVuSans-55\"/>\n       </defs>\n       <use xlink:href=\"#DejaVuSans-50\"/>\n       <use x=\"63.623047\" xlink:href=\"#DejaVuSans-48\"/>\n       <use x=\"127.246094\" xlink:href=\"#DejaVuSans-49\"/>\n       <use x=\"190.869141\" xlink:href=\"#DejaVuSans-55\"/>\n      </g>\n     </g>\n    </g>\n    <g id=\"xtick_4\">\n     <g id=\"line2d_4\">\n      <g>\n       <use style=\"stroke:#000000;stroke-width:0.8;\" x=\"191.279048\" xlink:href=\"#md3621e4a91\" y=\"203.04\"/>\n      </g>\n     </g>\n     <g id=\"text_4\">\n      <!-- 2018 -->\n      <g transform=\"translate(168.198857 229.34544)rotate(-30)scale(0.1 -0.1)\">\n       <defs>\n        <path d=\"M 31.78125 34.625 \nQ 24.75 34.625 20.71875 30.859375 \nQ 16.703125 27.09375 16.703125 20.515625 \nQ 16.703125 13.921875 20.71875 10.15625 \nQ 24.75 6.390625 31.78125 6.390625 \nQ 38.8125 6.390625 42.859375 10.171875 \nQ 46.921875 13.96875 46.921875 20.515625 \nQ 46.921875 27.09375 42.890625 30.859375 \nQ 38.875 34.625 31.78125 34.625 \nz\nM 21.921875 38.8125 \nQ 15.578125 40.375 12.03125 44.71875 \nQ 8.5 49.078125 8.5 55.328125 \nQ 8.5 64.0625 14.71875 69.140625 \nQ 20.953125 74.21875 31.78125 74.21875 \nQ 42.671875 74.21875 48.875 69.140625 \nQ 55.078125 64.0625 55.078125 55.328125 \nQ 55.078125 49.078125 51.53125 44.71875 \nQ 48 40.375 41.703125 38.8125 \nQ 48.828125 37.15625 52.796875 32.3125 \nQ 56.78125 27.484375 56.78125 20.515625 \nQ 56.78125 9.90625 50.3125 4.234375 \nQ 43.84375 -1.421875 31.78125 -1.421875 \nQ 19.734375 -1.421875 13.25 4.234375 \nQ 6.78125 9.90625 6.78125 20.515625 \nQ 6.78125 27.484375 10.78125 32.3125 \nQ 14.796875 37.15625 21.921875 38.8125 \nz\nM 18.3125 54.390625 \nQ 18.3125 48.734375 21.84375 45.5625 \nQ 25.390625 42.390625 31.78125 42.390625 \nQ 38.140625 42.390625 41.71875 45.5625 \nQ 45.3125 48.734375 45.3125 54.390625 \nQ 45.3125 60.0625 41.71875 63.234375 \nQ 38.140625 66.40625 31.78125 66.40625 \nQ 25.390625 66.40625 21.84375 63.234375 \nQ 18.3125 60.0625 18.3125 54.390625 \nz\n\" id=\"DejaVuSans-56\"/>\n       </defs>\n       <use xlink:href=\"#DejaVuSans-50\"/>\n       <use x=\"63.623047\" xlink:href=\"#DejaVuSans-48\"/>\n       <use x=\"127.246094\" xlink:href=\"#DejaVuSans-49\"/>\n       <use x=\"190.869141\" xlink:href=\"#DejaVuSans-56\"/>\n      </g>\n     </g>\n    </g>\n    <g id=\"xtick_5\">\n     <g id=\"line2d_5\">\n      <g>\n       <use style=\"stroke:#000000;stroke-width:0.8;\" x=\"243.631117\" xlink:href=\"#md3621e4a91\" y=\"203.04\"/>\n      </g>\n     </g>\n     <g id=\"text_5\">\n      <!-- 2019 -->\n      <g transform=\"translate(220.550927 229.34544)rotate(-30)scale(0.1 -0.1)\">\n       <defs>\n        <path d=\"M 10.984375 1.515625 \nL 10.984375 10.5 \nQ 14.703125 8.734375 18.5 7.8125 \nQ 22.3125 6.890625 25.984375 6.890625 \nQ 35.75 6.890625 40.890625 13.453125 \nQ 46.046875 20.015625 46.78125 33.40625 \nQ 43.953125 29.203125 39.59375 26.953125 \nQ 35.25 24.703125 29.984375 24.703125 \nQ 19.046875 24.703125 12.671875 31.3125 \nQ 6.296875 37.9375 6.296875 49.421875 \nQ 6.296875 60.640625 12.9375 67.421875 \nQ 19.578125 74.21875 30.609375 74.21875 \nQ 43.265625 74.21875 49.921875 64.515625 \nQ 56.59375 54.828125 56.59375 36.375 \nQ 56.59375 19.140625 48.40625 8.859375 \nQ 40.234375 -1.421875 26.421875 -1.421875 \nQ 22.703125 -1.421875 18.890625 -0.6875 \nQ 15.09375 0.046875 10.984375 1.515625 \nz\nM 30.609375 32.421875 \nQ 37.25 32.421875 41.125 36.953125 \nQ 45.015625 41.5 45.015625 49.421875 \nQ 45.015625 57.28125 41.125 61.84375 \nQ 37.25 66.40625 30.609375 66.40625 \nQ 23.96875 66.40625 20.09375 61.84375 \nQ 16.21875 57.28125 16.21875 49.421875 \nQ 16.21875 41.5 20.09375 36.953125 \nQ 23.96875 32.421875 30.609375 32.421875 \nz\n\" id=\"DejaVuSans-57\"/>\n       </defs>\n       <use xlink:href=\"#DejaVuSans-50\"/>\n       <use x=\"63.623047\" xlink:href=\"#DejaVuSans-48\"/>\n       <use x=\"127.246094\" xlink:href=\"#DejaVuSans-49\"/>\n       <use x=\"190.869141\" xlink:href=\"#DejaVuSans-57\"/>\n      </g>\n     </g>\n    </g>\n    <g id=\"xtick_6\">\n     <g id=\"line2d_6\">\n      <g>\n       <use style=\"stroke:#000000;stroke-width:0.8;\" x=\"295.983186\" xlink:href=\"#md3621e4a91\" y=\"203.04\"/>\n      </g>\n     </g>\n     <g id=\"text_6\">\n      <!-- 2020 -->\n      <g transform=\"translate(272.902996 229.34544)rotate(-30)scale(0.1 -0.1)\">\n       <use xlink:href=\"#DejaVuSans-50\"/>\n       <use x=\"63.623047\" xlink:href=\"#DejaVuSans-48\"/>\n       <use x=\"127.246094\" xlink:href=\"#DejaVuSans-50\"/>\n       <use x=\"190.869141\" xlink:href=\"#DejaVuSans-48\"/>\n      </g>\n     </g>\n    </g>\n    <g id=\"xtick_7\">\n     <g id=\"line2d_7\">\n      <g>\n       <use style=\"stroke:#000000;stroke-width:0.8;\" x=\"348.478686\" xlink:href=\"#md3621e4a91\" y=\"203.04\"/>\n      </g>\n     </g>\n     <g id=\"text_7\">\n      <!-- 2021 -->\n      <g transform=\"translate(325.398496 229.34544)rotate(-30)scale(0.1 -0.1)\">\n       <use xlink:href=\"#DejaVuSans-50\"/>\n       <use x=\"63.623047\" xlink:href=\"#DejaVuSans-48\"/>\n       <use x=\"127.246094\" xlink:href=\"#DejaVuSans-50\"/>\n       <use x=\"190.869141\" xlink:href=\"#DejaVuSans-49\"/>\n      </g>\n     </g>\n    </g>\n    <g id=\"text_8\">\n     <!-- date -->\n     <g transform=\"translate(188.128031 242.74494)scale(0.1 -0.1)\">\n      <defs>\n       <path d=\"M 45.40625 46.390625 \nL 45.40625 75.984375 \nL 54.390625 75.984375 \nL 54.390625 0 \nL 45.40625 0 \nL 45.40625 8.203125 \nQ 42.578125 3.328125 38.25 0.953125 \nQ 33.9375 -1.421875 27.875 -1.421875 \nQ 17.96875 -1.421875 11.734375 6.484375 \nQ 5.515625 14.40625 5.515625 27.296875 \nQ 5.515625 40.1875 11.734375 48.09375 \nQ 17.96875 56 27.875 56 \nQ 33.9375 56 38.25 53.625 \nQ 42.578125 51.265625 45.40625 46.390625 \nz\nM 14.796875 27.296875 \nQ 14.796875 17.390625 18.875 11.75 \nQ 22.953125 6.109375 30.078125 6.109375 \nQ 37.203125 6.109375 41.296875 11.75 \nQ 45.40625 17.390625 45.40625 27.296875 \nQ 45.40625 37.203125 41.296875 42.84375 \nQ 37.203125 48.484375 30.078125 48.484375 \nQ 22.953125 48.484375 18.875 42.84375 \nQ 14.796875 37.203125 14.796875 27.296875 \nz\n\" id=\"DejaVuSans-100\"/>\n       <path d=\"M 34.28125 27.484375 \nQ 23.390625 27.484375 19.1875 25 \nQ 14.984375 22.515625 14.984375 16.5 \nQ 14.984375 11.71875 18.140625 8.90625 \nQ 21.296875 6.109375 26.703125 6.109375 \nQ 34.1875 6.109375 38.703125 11.40625 \nQ 43.21875 16.703125 43.21875 25.484375 \nL 43.21875 27.484375 \nz\nM 52.203125 31.203125 \nL 52.203125 0 \nL 43.21875 0 \nL 43.21875 8.296875 \nQ 40.140625 3.328125 35.546875 0.953125 \nQ 30.953125 -1.421875 24.3125 -1.421875 \nQ 15.921875 -1.421875 10.953125 3.296875 \nQ 6 8.015625 6 15.921875 \nQ 6 25.140625 12.171875 29.828125 \nQ 18.359375 34.515625 30.609375 34.515625 \nL 43.21875 34.515625 \nL 43.21875 35.40625 \nQ 43.21875 41.609375 39.140625 45 \nQ 35.0625 48.390625 27.6875 48.390625 \nQ 23 48.390625 18.546875 47.265625 \nQ 14.109375 46.140625 10.015625 43.890625 \nL 10.015625 52.203125 \nQ 14.9375 54.109375 19.578125 55.046875 \nQ 24.21875 56 28.609375 56 \nQ 40.484375 56 46.34375 49.84375 \nQ 52.203125 43.703125 52.203125 31.203125 \nz\n\" id=\"DejaVuSans-97\"/>\n       <path d=\"M 18.3125 70.21875 \nL 18.3125 54.6875 \nL 36.8125 54.6875 \nL 36.8125 47.703125 \nL 18.3125 47.703125 \nL 18.3125 18.015625 \nQ 18.3125 11.328125 20.140625 9.421875 \nQ 21.96875 7.515625 27.59375 7.515625 \nL 36.8125 7.515625 \nL 36.8125 0 \nL 27.59375 0 \nQ 17.1875 0 13.234375 3.875 \nQ 9.28125 7.765625 9.28125 18.015625 \nL 9.28125 47.703125 \nL 2.6875 47.703125 \nL 2.6875 54.6875 \nL 9.28125 54.6875 \nL 9.28125 70.21875 \nz\n\" id=\"DejaVuSans-116\"/>\n       <path d=\"M 56.203125 29.59375 \nL 56.203125 25.203125 \nL 14.890625 25.203125 \nQ 15.484375 15.921875 20.484375 11.0625 \nQ 25.484375 6.203125 34.421875 6.203125 \nQ 39.59375 6.203125 44.453125 7.46875 \nQ 49.3125 8.734375 54.109375 11.28125 \nL 54.109375 2.78125 \nQ 49.265625 0.734375 44.1875 -0.34375 \nQ 39.109375 -1.421875 33.890625 -1.421875 \nQ 20.796875 -1.421875 13.15625 6.1875 \nQ 5.515625 13.8125 5.515625 26.8125 \nQ 5.515625 40.234375 12.765625 48.109375 \nQ 20.015625 56 32.328125 56 \nQ 43.359375 56 49.78125 48.890625 \nQ 56.203125 41.796875 56.203125 29.59375 \nz\nM 47.21875 32.234375 \nQ 47.125 39.59375 43.09375 43.984375 \nQ 39.0625 48.390625 32.421875 48.390625 \nQ 24.90625 48.390625 20.390625 44.140625 \nQ 15.875 39.890625 15.1875 32.171875 \nz\n\" id=\"DejaVuSans-101\"/>\n      </defs>\n      <use xlink:href=\"#DejaVuSans-100\"/>\n      <use x=\"63.476562\" xlink:href=\"#DejaVuSans-97\"/>\n      <use x=\"124.755859\" xlink:href=\"#DejaVuSans-116\"/>\n      <use x=\"163.964844\" xlink:href=\"#DejaVuSans-101\"/>\n     </g>\n    </g>\n   </g>\n   <g id=\"matplotlib.axis_2\">\n    <g id=\"ytick_1\">\n     <g id=\"line2d_8\">\n      <defs>\n       <path d=\"M 0 0 \nL -3.5 0 \n\" id=\"m848c2fc2dd\" style=\"stroke:#000000;stroke-width:0.8;\"/>\n      </defs>\n      <g>\n       <use style=\"stroke:#000000;stroke-width:0.8;\" x=\"32.003031\" xlink:href=\"#m848c2fc2dd\" y=\"168.402198\"/>\n      </g>\n     </g>\n     <g id=\"text_9\">\n      <!-- 0.6 -->\n      <g transform=\"translate(9.099906 172.201417)scale(0.1 -0.1)\">\n       <defs>\n        <path d=\"M 10.6875 12.40625 \nL 21 12.40625 \nL 21 0 \nL 10.6875 0 \nz\n\" id=\"DejaVuSans-46\"/>\n       </defs>\n       <use xlink:href=\"#DejaVuSans-48\"/>\n       <use x=\"63.623047\" xlink:href=\"#DejaVuSans-46\"/>\n       <use x=\"95.410156\" xlink:href=\"#DejaVuSans-54\"/>\n      </g>\n     </g>\n    </g>\n    <g id=\"ytick_2\">\n     <g id=\"line2d_9\">\n      <g>\n       <use style=\"stroke:#000000;stroke-width:0.8;\" x=\"32.003031\" xlink:href=\"#m848c2fc2dd\" y=\"132.055372\"/>\n      </g>\n     </g>\n     <g id=\"text_10\">\n      <!-- 0.7 -->\n      <g transform=\"translate(9.099906 135.854591)scale(0.1 -0.1)\">\n       <use xlink:href=\"#DejaVuSans-48\"/>\n       <use x=\"63.623047\" xlink:href=\"#DejaVuSans-46\"/>\n       <use x=\"95.410156\" xlink:href=\"#DejaVuSans-55\"/>\n      </g>\n     </g>\n    </g>\n    <g id=\"ytick_3\">\n     <g id=\"line2d_10\">\n      <g>\n       <use style=\"stroke:#000000;stroke-width:0.8;\" x=\"32.003031\" xlink:href=\"#m848c2fc2dd\" y=\"95.708546\"/>\n      </g>\n     </g>\n     <g id=\"text_11\">\n      <!-- 0.8 -->\n      <g transform=\"translate(9.099906 99.507765)scale(0.1 -0.1)\">\n       <use xlink:href=\"#DejaVuSans-48\"/>\n       <use x=\"63.623047\" xlink:href=\"#DejaVuSans-46\"/>\n       <use x=\"95.410156\" xlink:href=\"#DejaVuSans-56\"/>\n      </g>\n     </g>\n    </g>\n    <g id=\"ytick_4\">\n     <g id=\"line2d_11\">\n      <g>\n       <use style=\"stroke:#000000;stroke-width:0.8;\" x=\"32.003031\" xlink:href=\"#m848c2fc2dd\" y=\"59.36172\"/>\n      </g>\n     </g>\n     <g id=\"text_12\">\n      <!-- 0.9 -->\n      <g transform=\"translate(9.099906 63.160939)scale(0.1 -0.1)\">\n       <use xlink:href=\"#DejaVuSans-48\"/>\n       <use x=\"63.623047\" xlink:href=\"#DejaVuSans-46\"/>\n       <use x=\"95.410156\" xlink:href=\"#DejaVuSans-57\"/>\n      </g>\n     </g>\n    </g>\n    <g id=\"ytick_5\">\n     <g id=\"line2d_12\">\n      <g>\n       <use style=\"stroke:#000000;stroke-width:0.8;\" x=\"32.003031\" xlink:href=\"#m848c2fc2dd\" y=\"23.014894\"/>\n      </g>\n     </g>\n     <g id=\"text_13\">\n      <!-- 1.0 -->\n      <g transform=\"translate(9.099906 26.814113)scale(0.1 -0.1)\">\n       <use xlink:href=\"#DejaVuSans-49\"/>\n       <use x=\"63.623047\" xlink:href=\"#DejaVuSans-46\"/>\n       <use x=\"95.410156\" xlink:href=\"#DejaVuSans-48\"/>\n      </g>\n     </g>\n    </g>\n   </g>\n   <g id=\"line2d_13\">\n    <path clip-path=\"url(#pf024fa05a5)\" d=\"M 47.221213 23.014894 \nL 47.225695 22.13977 \nL 47.766547 19.222689 \nL 47.775511 18.785127 \nL 47.78597 19.514397 \nL 47.790452 19.223152 \nL 47.920436 19.805642 \nL 47.942847 19.07753 \nL 48.214767 37.853786 \nL 48.222237 37.448246 \nL 48.33728 37.313066 \nL 48.347738 39.337628 \nL 48.373138 38.665907 \nL 48.766077 42.427545 \nL 48.7855 44.005583 \nL 48.798946 43.478998 \nL 49.221767 38.032626 \nL 49.230731 38.432226 \nL 49.37715 33.366758 \nL 50.789042 42.529491 \nL 50.790536 43.183396 \nL 51.080385 37.298257 \nL 51.210369 37.027571 \nL 51.213357 36.214253 \nL 51.238756 38.657459 \nL 51.806501 33.112803 \nL 52.072445 40.550756 \nL 52.075433 40.145049 \nL 55.955522 31.198546 \nL 56.240889 38.875374 \nL 56.835527 36.464386 \nL 57.096988 29.641265 \nL 57.22996 29.348891 \nL 57.376379 32.271426 \nL 57.380861 31.106734 \nL 57.385343 32.718751 \nL 57.80667 37.075456 \nL 57.982969 37.511126 \nL 58.384873 40.553223 \nL 58.40579 41.410901 \nL 58.411766 40.124385 \nL 58.843551 44.732901 \nL 58.961583 40.666115 \nL 59.099037 39.684477 \nL 59.270854 46.678838 \nL 59.381415 46.957252 \nL 59.385897 46.262357 \nL 59.409802 48.76398 \nL 59.970077 45.150524 \nL 59.980536 43.020745 \nL 59.986512 43.588686 \nL 60.274867 44.441069 \nL 60.277855 44.157569 \nL 60.817213 35.354506 \nL 60.842612 41.284303 \nL 60.844106 39.958315 \nL 61.138437 23.393188 \nL 61.969137 40.818512 \nL 61.993042 40.082116 \nL 62.261974 38.464793 \nL 62.403911 39.935086 \nL 62.859601 39.493998 \nL 63.84419 23.931267 \nL 63.85166 22.965321 \nL 63.863613 24.26013 \nL 64.001067 22.81381 \nL 64.113122 23.295916 \nL 64.11611 24.742237 \nL 64.138521 22.350825 \nL 64.262528 23.9451 \nL 64.264023 22.988535 \nL 64.413429 27.796665 \nL 64.830274 32.791429 \nL 64.839238 32.170819 \nL 64.845214 31.233485 \nL 64.867625 32.483264 \nL 65.263553 40.227578 \nL 65.276999 39.309939 \nL 65.415947 37.772414 \nL 65.439852 38.082655 \nL 65.992657 39.011723 \nL 66.133099 33.25601 \nL 66.157004 33.745095 \nL 66.269059 36.124174 \nL 66.29147 34.704439 \nL 66.41996 34.862187 \nL 66.442371 33.757953 \nL 66.445359 34.391212 \nL 67.41949 16.343334 \nL 67.42696 18.097551 \nL 67.449371 24.05055 \nL 67.993211 24.225132 \nL 68.01861 21.248468 \nL 68.023092 16.101818 \nL 68.278578 34.092828 \nL 68.308459 30.442834 \nL 68.427984 30.94149 \nL 68.447407 33.427795 \nL 68.453383 33.097219 \nL 68.989753 41.6922 \nL 68.994235 40.039319 \nL 69.012164 38.203634 \nL 69.027105 39.046273 \nL 69.430502 37.534217 \nL 69.431997 37.702223 \nL 69.451419 33.98731 \nL 70.452444 47.360826 \nL 70.461408 46.564764 \nL 70.860324 47.679251 \nL 70.863312 47.520038 \nL 70.876758 46.563866 \nL 70.891699 48.003224 \nL 71.006742 51.671951 \nL 71.035129 50.735416 \nL 71.320496 44.804029 \nL 71.32199 46.521009 \nL 73.04166 25.605065 \nL 73.180608 32.314148 \nL 73.442069 30.272828 \nL 73.471951 20.916779 \nL 73.473445 21.937439 \nL 73.867878 26.870629 \nL 73.896265 26.705061 \nL 73.89776 25.713482 \nL 73.903736 26.539798 \nL 74.012803 27.696641 \nL 74.190596 38.371496 \nL 74.298169 37.430654 \nL 74.308628 37.776026 \nL 74.334027 34.332778 \nL 74.906254 36.680447 \nL 75.037732 34.176267 \nL 75.051178 35.60261 \nL 75.175186 35.919575 \nL 75.311146 34.021216 \nL 75.89682 31.648268 \nL 75.91176 30.857285 \nL 76.162763 30.857285 \nL 76.174716 31.806464 \nL 76.198621 29.749909 \nL 76.891868 35.191331 \nL 77.038286 40.927097 \nL 77.04725 39.23017 \nL 77.056215 40.943846 \nL 77.059203 40.789587 \nL 77.177234 40.172553 \nL 77.202633 44.029018 \nL 77.334111 41.56088 \nL 77.346064 42.811305 \nL 77.473059 43.747741 \nL 78.03931 36.276669 \nL 78.042298 36.432317 \nL 78.187223 45.32807 \nL 78.199175 44.42034 \nL 78.203657 45.938055 \nL 78.315712 45.786769 \nL 78.339617 49.426292 \nL 78.348582 48.695505 \nL 78.901386 39.39365 \nL 78.904374 40.027456 \nL 79.349606 45.063909 \nL 79.354088 43.65114 \nL 80.041359 46.183602 \nL 80.048829 47.275305 \nL 80.06377 45.871399 \nL 80.07124 46.812316 \nL 80.323737 50.105523 \nL 80.332701 47.952214 \nL 80.341666 50.266074 \nL 80.900446 48.586515 \nL 80.919869 53.302983 \nL 80.92734 53.001189 \nL 81.19926 50.883011 \nL 81.218682 51.342038 \nL 81.483132 47.514584 \nL 82.06283 49.38965 \nL 82.068806 49.235307 \nL 82.074782 50.783025 \nL 82.360149 34.856212 \nL 82.366125 35.027237 \nL 83.048913 41.007284 \nL 83.050407 40.836425 \nL 83.06983 45.261916 \nL 83.083277 44.421718 \nL 83.192344 44.421718 \nL 83.201308 44.253546 \nL 83.202802 44.758061 \nL 83.207284 39.712908 \nL 83.226707 46.736802 \nL 83.500121 55.805661 \nL 83.504603 55.638568 \nL 83.513568 63.460356 \nL 83.906507 61.821478 \nL 83.937882 67.850814 \nL 83.943859 65.42714 \nL 84.063384 58.156118 \nL 84.087289 59.955245 \nL 84.365185 69.099461 \nL 84.37415 67.703493 \nL 84.480228 66.296423 \nL 84.513098 71.148325 \nL 84.51758 69.905168 \nL 85.230249 60.682043 \nL 85.231744 60.838829 \nL 85.34081 58.800612 \nL 85.348281 60.232827 \nL 85.360233 61.332067 \nL 85.914532 52.5442 \nL 85.951883 65.748194 \nL 86.057962 66.849295 \nL 86.06842 66.062794 \nL 86.071409 65.43049 \nL 86.095314 68.278972 \nL 86.923026 82.536274 \nL 86.92452 83.626248 \nL 86.940955 80.978547 \nL 86.955896 83.004853 \nL 87.063468 84.71942 \nL 87.096338 81.786766 \nL 87.099326 83.033605 \nL 87.230804 86.436062 \nL 87.51617 103.162709 \nL 87.529617 101.199888 \nL 87.92405 101.963086 \nL 87.925544 101.811261 \nL 87.944967 104.999586 \nL 87.959908 102.876327 \nL 88.068975 101.511374 \nL 88.233322 105.747211 \nL 88.234816 105.59652 \nL 88.240792 104.087999 \nL 88.367788 106.985142 \nL 88.388705 105.939452 \nL 88.50823 96.217989 \nL 88.520183 95.417919 \nL 88.532135 96.38189 \nL 88.533629 95.901855 \nL 89.071493 90.301444 \nL 89.075975 90.621468 \nL 89.104362 90.61868 \nL 89.223888 100.909075 \nL 89.249287 98.846654 \nL 89.234346 100.923701 \nL 89.250781 99.006098 \nL 89.356859 99.165542 \nL 89.534653 111.479525 \nL 89.537641 111.182545 \nL 90.076999 113.706877 \nL 90.111363 115.933534 \nL 90.221924 117.246881 \nL 90.254793 122.449698 \nL 90.368342 125.737608 \nL 90.398223 125.050018 \nL 90.541654 119.478478 \nL 90.940569 121.841351 \nL 90.958498 120.308039 \nL 91.085494 123.260853 \nL 91.257311 121.854751 \nL 91.376837 119.042547 \nL 91.385801 119.745598 \nL 91.509808 120.59015 \nL 92.119387 131.779756 \nL 92.232936 128.305896 \nL 92.262818 132.057664 \nL 92.54669 123.44304 \nL 93.120411 114.266322 \nL 93.1234 116.13628 \nL 93.372909 121.263572 \nL 93.377391 121.263572 \nL 93.378885 121.953889 \nL 93.390837 120.572112 \nL 93.41026 120.988611 \nL 93.951112 117.37644 \nL 93.975017 116.403933 \nL 94.381403 129.353098 \nL 94.962595 126.110259 \nL 94.967077 126.380496 \nL 94.987994 124.623958 \nL 95.097061 130.23914 \nL 95.131424 129.058292 \nL 95.410815 124.3349 \nL 95.974077 120.923561 \nL 95.992006 121.710793 \nL 96.256456 117.087067 \nL 96.413333 118.693005 \nL 96.53734 122.440194 \nL 96.565727 121.789521 \nL 96.994524 121.399118 \nL 97.25001 126.474364 \nL 97.25748 126.215649 \nL 97.263456 125.956934 \nL 97.270927 126.862437 \nL 97.282879 130.225735 \nL 97.391946 129.091295 \nL 97.39344 129.973637 \nL 97.394934 130.603882 \nL 97.417345 128.094406 \nL 97.426309 128.345757 \nL 97.542847 126.462459 \nL 97.56974 126.713565 \nL 97.965667 124.957518 \nL 98.000031 125.333814 \nL 98.127026 125.08295 \nL 98.138979 123.700545 \nL 98.141967 124.335592 \nL 98.265974 126.989931 \nL 98.406417 124.328884 \nL 98.430322 126.522104 \nL 98.968185 125.507127 \nL 99.004043 127.53609 \nL 99.286421 134.184185 \nL 99.434334 131.754936 \nL 99.541907 127.197419 \nL 99.982656 130.516685 \nL 99.991621 129.658071 \nL 100.273999 134.374225 \nL 101.298928 145.065768 \nL 101.407995 143.462528 \nL 101.437876 143.931265 \nL 101.442359 145.081891 \nL 101.56786 144.851656 \nL 101.576825 144.159411 \nL 101.582801 144.507244 \nL 101.999645 142.657452 \nL 102.007116 142.773064 \nL 102.014586 143.1199 \nL 114.04331 141.732556 \nL 114.047793 142.434183 \nL 114.20467 140.108799 \nL 114.207658 140.225069 \nL 114.614044 141.154456 \nL 114.62002 141.038953 \nL 114.637949 141.617013 \nL 115.030888 141.271806 \nL 115.03537 140.581394 \nL 115.21167 141.041669 \nL 115.49106 137.934815 \nL 116.182813 140.378408 \nL 116.338196 141.861654 \nL 116.471168 141.861654 \nL 116.49059 142.432133 \nL 116.502543 141.519367 \nL 117.076264 142.774421 \nL 117.192801 141.747558 \nL 117.219695 141.86262 \nL 117.333244 142.552339 \nL 117.47518 145.077018 \nL 117.636539 143.161096 \nL 117.642515 143.386498 \nL 118.068324 144.626213 \nL 118.220719 143.956867 \nL 118.329786 143.287521 \nL 118.477698 145.853346 \nL 118.501603 145.083155 \nL 119.084289 142.662553 \nL 119.226225 144.422991 \nL 119.357703 143.872854 \nL 119.371149 144.976535 \nL 119.493663 146.290564 \nL 119.498145 146.0729 \nL 119.620658 145.200663 \nL 119.649046 146.408723 \nL 119.656516 146.082535 \nL 120.213803 149.454238 \nL 120.228743 150.208421 \nL 120.231731 149.67031 \nL 120.369186 149.237379 \nL 120.375162 148.479751 \nL 120.48124 149.237379 \nL 120.505146 148.912484 \nL 120.624671 147.825106 \nL 121.216321 147.389797 \nL 121.222297 147.607451 \nL 121.231262 147.280771 \nL 121.379174 145.316518 \nL 121.501687 145.42745 \nL 121.633165 149.088213 \nL 122.205393 146.828334 \nL 122.519146 146.720721 \nL 122.652118 150.487186 \nL 122.655106 149.94912 \nL 123.082409 147.999771 \nL 123.09735 146.689422 \nL 123.100338 147.126205 \nL 123.354329 152.908301 \nL 123.373752 153.177272 \nL 123.37674 152.047592 \nL 123.382716 152.536452 \nL 123.524653 149.669591 \nL 124.071481 148.263206 \nL 124.072975 148.479573 \nL 124.353859 145.875616 \nL 124.379258 147.520608 \nL 124.498784 142.067332 \nL 124.500278 142.176398 \nL 125.094916 137.377515 \nL 125.218923 138.057616 \nL 125.221912 136.812605 \nL 125.381777 141.108699 \nL 125.519231 140.552799 \nL 125.650709 138.662737 \nL 125.68059 139.678857 \nL 127.088 135.983512 \nL 127.09547 136.095492 \nL 127.104435 136.879353 \nL 127.385319 142.665977 \nL 127.392789 142.555201 \nL 127.654251 143.219855 \nL 127.657239 142.998203 \nL 128.118905 141.555494 \nL 128.513339 144.812212 \nL 128.662745 144.484152 \nL 129.231984 143.718678 \nL 129.264854 143.937385 \nL 129.520339 142.297084 \nL 129.524821 141.521187 \nL 129.548726 142.189569 \nL 130.095555 142.523303 \nL 130.123942 144.411535 \nL 130.382415 147.169871 \nL 130.702145 142.204865 \nL 131.098073 148.530339 \nL 131.116002 148.093528 \nL 131.117496 147.0015 \nL 131.248973 147.656717 \nL 131.275867 149.614715 \nL 131.384933 144.491437 \nL 131.419297 145.505791 \nL 132.257468 139.45052 \nL 132.399404 143.891031 \nL 132.535364 140.050483 \nL 132.54134 140.341912 \nL 132.560763 139.231381 \nL 133.106097 137.584604 \nL 133.113568 138.055112 \nL 133.128508 137.937485 \nL 134.142979 140.880944 \nL 134.280433 140.19105 \nL 134.286409 140.765962 \nL 134.538907 140.19105 \nL 134.57327 140.891326 \nL 134.559824 139.500088 \nL 134.574764 140.313735 \nL 134.710724 141.699954 \nL 134.712218 141.584436 \nL 135.112628 142.856336 \nL 135.121592 142.627471 \nL 135.397994 141.139849 \nL 135.408453 141.712011 \nL 135.544413 140.003511 \nL 135.560848 140.915976 \nL 135.574294 140.349892 \nL 135.716231 140.123459 \nL 135.722207 140.463109 \nL 136.119628 138.085557 \nL 136.407983 142.176867 \nL 136.690361 145.583731 \nL 136.726219 145.356681 \nL 137.120652 145.697898 \nL 137.144558 146.493853 \nL 137.155016 145.131992 \nL 137.413489 146.274215 \nL 137.565884 143.18446 \nL 137.576343 144.234169 \nL 137.721267 143.769422 \nL 138.268095 142.49137 \nL 138.272577 141.445691 \nL 138.290506 142.026624 \nL 138.410031 141.214861 \nL 138.447383 143.418217 \nL 138.729761 138.315989 \nL 138.734244 138.550552 \nL 139.421514 133.049759 \nL 139.451395 133.403004 \nL 139.557474 133.520606 \nL 139.560462 133.403113 \nL 139.594826 131.993197 \nL 139.702398 132.463169 \nL 139.730786 133.049441 \nL 139.738256 132.815106 \nL 140.137172 132.346435 \nL 140.158088 134.917318 \nL 140.165559 134.859488 \nL 140.421044 132.362415 \nL 140.424032 132.594701 \nL 140.435985 135.717409 \nL 140.449431 134.799273 \nL 140.561486 134.569739 \nL 140.59585 138.116582 \nL 140.706411 138.230355 \nL 140.713881 138.116686 \nL 140.716869 137.66201 \nL 140.742268 139.478426 \nL 141.280132 140.152995 \nL 141.281626 140.040567 \nL 141.29059 141.611896 \nL 141.31599 140.939173 \nL 141.442985 143.412384 \nL 141.598368 142.078367 \nL 141.60285 142.415632 \nL 141.719387 142.079296 \nL 141.720881 142.191408 \nL 141.725364 141.855073 \nL 141.732834 142.754544 \nL 142.140714 144.101219 \nL 142.427575 148.306437 \nL 142.581463 150.127816 \nL 142.606862 150.021685 \nL 143.149208 152.039999 \nL 143.150702 152.464523 \nL 143.17909 151.453769 \nL 143.288157 151.293631 \nL 143.289651 151.613907 \nL 143.319532 151.079725 \nL 143.455492 149.153898 \nL 143.582488 149.905279 \nL 143.598922 149.529588 \nL 143.604899 148.829657 \nL 143.606393 148.883817 \nL 144.157703 146.989086 \nL 144.160691 147.097356 \nL 144.183102 147.746978 \nL 144.184596 147.530438 \nL 144.307109 147.692843 \nL 144.308604 147.584573 \nL 144.732918 150.765844 \nL 144.750847 150.34492 \nL 145.187114 149.608304 \nL 145.467999 152.239077 \nL 145.618899 152.239077 \nL 145.724978 151.822644 \nL 146.304676 150.781559 \nL 146.44213 151.40621 \nL 146.45707 152.446468 \nL 146.606477 152.13644 \nL 146.72899 149.024637 \nL 146.733473 149.768451 \nL 146.751401 149.66268 \nL 146.763354 149.768546 \nL 147.3057 150.085857 \nL 147.480505 155.884723 \nL 147.589572 156.906879 \nL 147.59256 156.702448 \nL 147.613477 154.751019 \nL 147.619454 155.06179 \nL 148.164788 154.9582 \nL 148.166282 154.854609 \nL 148.175246 155.890329 \nL 148.315688 156.717568 \nL 148.450154 156.101575 \nL 148.457625 156.306906 \nL 148.471071 156.922899 \nL 148.487506 156.717568 \nL 148.602549 155.168347 \nL 148.604043 154.855618 \nL 148.774367 156.942514 \nL 149.1688 154.778008 \nL 149.186729 154.88108 \nL 149.330159 154.674937 \nL 149.455661 155.293367 \nL 149.602079 150.758213 \nL 149.618514 151.583416 \nL 149.63196 151.993722 \nL 149.634949 151.891145 \nL 149.761944 151.891145 \nL 149.778379 151.685813 \nL 150.177294 150.96715 \nL 150.181777 150.094489 \nL 150.20867 150.45382 \nL 150.322219 151.273722 \nL 150.462661 149.53143 \nL 150.476108 150.259552 \nL 150.606091 151.293354 \nL 150.613562 150.469211 \nL 150.621032 150.057139 \nL 150.638961 150.263175 \nL 150.745039 151.088037 \nL 151.179813 149.020059 \nL 151.184295 149.964455 \nL 151.2082 148.402932 \nL 151.323243 148.715237 \nL 151.60861 151.094184 \nL 151.613092 152.531361 \nL 151.622056 152.429332 \nL 151.781921 153.449619 \nL 152.191295 153.551648 \nL 152.203248 153.449619 \nL 152.322773 152.021217 \nL 152.349666 152.225275 \nL 152.476662 153.549702 \nL 152.502061 152.6402 \nL 152.503555 152.334656 \nL 152.609634 152.641 \nL 152.611128 152.641 \nL 152.617104 153.04839 \nL 152.776969 153.04839 \nL 153.205766 154.167738 \nL 153.347702 153.557185 \nL 153.353679 153.862461 \nL 153.492627 155.894524 \nL 153.616634 156.551904 \nL 153.618128 156.501447 \nL 153.650998 158.816441 \nL 154.215755 161.220707 \nL 154.217249 161.516845 \nL 154.483192 164.665795 \nL 154.507097 163.833759 \nL 154.510086 162.994031 \nL 154.626623 164.784331 \nL 154.628117 164.39281 \nL 154.761089 164.588571 \nL 154.787982 165.077455 \nL 155.194368 167.517994 \nL 155.487205 164.366729 \nL 155.496169 164.844193 \nL 155.802453 165.512973 \nL 156.199874 165.322317 \nL 156.225273 164.273709 \nL 156.226767 164.464365 \nL 156.371692 166.079069 \nL 156.78256 170.127245 \nL 157.209863 167.98879 \nL 157.378692 163.864515 \nL 157.631189 164.990748 \nL 157.643142 164.803915 \nL 157.77462 163.866581 \nL 157.808983 164.522399 \nL 157.810477 164.42902 \nL 158.204911 164.242263 \nL 158.240768 163.215099 \nL 158.354317 163.962128 \nL 158.384198 165.034224 \nL 158.657613 162.469765 \nL 159.24478 159.499528 \nL 159.355341 158.349758 \nL 159.388211 158.446055 \nL 159.495784 158.254749 \nL 159.500266 158.876294 \nL 159.528653 158.158533 \nL 159.531641 158.254387 \nL 159.793103 161.49086 \nL 159.818502 161.303834 \nL 160.386247 160.742057 \nL 160.520713 158.665185 \nL 160.535653 159.526641 \nL 160.649202 160.005048 \nL 160.819526 157.623074 \nL 160.82102 157.813632 \nL 161.225912 157.813632 \nL 161.379801 157.527795 \nL 161.384283 157.718353 \nL 161.514267 157.718353 \nL 161.675626 156.479726 \nL 161.683096 156.575005 \nL 161.825032 154.383589 \nL 162.37186 154.577815 \nL 162.376343 154.093063 \nL 162.389789 154.577977 \nL 162.50782 153.609284 \nL 162.512303 154.481108 \nL 162.793187 149.385699 \nL 162.81261 151.292111 \nL 162.830539 151.292111 \nL 163.229454 148.428744 \nL 163.248877 149.119902 \nL 163.386331 148.823691 \nL 163.399778 148.22979 \nL 163.818116 149.916645 \nL 164.231972 148.344774 \nL 164.233466 147.902686 \nL 164.26036 148.148291 \nL 164.524809 147.754674 \nL 164.533774 148.3464 \nL 164.551703 148.149592 \nL 164.669734 149.920858 \nL 164.680192 147.854382 \nL 164.813164 150.658245 \nL 164.835575 150.071372 \nL 165.522845 148.310755 \nL 165.533304 149.246055 \nL 165.548244 147.922352 \nL 165.699145 151.452228 \nL 165.809706 150.471707 \nL 166.239997 151.460443 \nL 166.399862 148.617031 \nL 166.401356 148.617031 \nL 166.407332 147.930124 \nL 166.416297 148.322643 \nL 166.532834 152.025508 \nL 166.559727 151.355902 \nL 166.668794 150.97327 \nL 166.670288 151.355902 \nL 166.677758 152.168995 \nL 166.679252 151.931498 \nL 166.828659 150.601517 \nL 166.842106 149.746529 \nL 167.276879 151.266508 \nL 167.382957 149.841528 \nL 167.390428 151.185855 \nL 167.409851 152.041328 \nL 167.420309 151.757271 \nL 167.536846 153.935043 \nL 167.699699 153.842098 \nL 167.819225 155.143326 \nL 168.40191 156.99629 \nL 168.406393 156.446621 \nL 168.421333 156.538672 \nL 168.687277 154.423788 \nL 168.693253 155.619023 \nL 168.697735 153.958428 \nL 168.711182 155.077681 \nL 169.280421 155.539568 \nL 169.284903 155.44719 \nL 169.402935 153.692019 \nL 169.677843 154.338661 \nL 169.715194 153.228214 \nL 170.414417 148.335732 \nL 170.417405 147.728808 \nL 170.424876 148.104208 \nL 170.545895 146.508758 \nL 170.568306 147.459453 \nL 170.681855 149.546013 \nL 170.719207 146.492921 \nL 170.83425 146.784762 \nL 170.852178 146.299542 \nL 170.855167 146.49363 \nL 171.25707 148.819261 \nL 171.258564 148.723928 \nL 171.292928 150.812707 \nL 171.422912 151.001244 \nL 171.715749 153.719403 \nL 172.273035 155.398661 \nL 172.287976 155.950395 \nL 172.700338 159.812531 \nL 172.716773 159.012203 \nL 172.839286 157.767249 \nL 172.866179 160.343375 \nL 173.275553 161.84029 \nL 173.408525 163.334393 \nL 173.710327 161.312959 \nL 173.713315 161.576624 \nL 173.731243 161.928453 \nL 173.855251 161.226994 \nL 173.870192 161.665406 \nL 174.414032 160.085129 \nL 174.415526 160.262557 \nL 174.433454 158.488277 \nL 174.442419 159.11824 \nL 174.874204 164.950279 \nL 175.271625 167.908691 \nL 175.305989 167.569816 \nL 175.418044 167.315659 \nL 175.419538 167.485097 \nL 175.42402 167.823776 \nL 175.710881 167.063144 \nL 175.852817 166.808793 \nL 175.878216 165.960957 \nL 176.293567 164.265285 \nL 176.420562 164.943554 \nL 176.45642 165.70544 \nL 176.711905 166.380085 \nL 176.74328 167.138159 \nL 176.861312 165.376689 \nL 177.282638 163.325687 \nL 177.284132 163.412249 \nL 177.317002 161.407107 \nL 177.427563 161.143757 \nL 177.432045 161.407107 \nL 177.451468 161.845749 \nL 177.566511 162.020769 \nL 177.568005 161.845749 \nL 177.603862 160.350358 \nL 178.289639 156.360654 \nL 178.291133 156.449401 \nL 178.437551 158.401848 \nL 178.606381 158.314595 \nL 178.737858 160.844953 \nL 178.894735 162.638863 \nL 179.325026 163.064746 \nL 179.5835 161.113123 \nL 179.728424 160.434298 \nL 180.294675 158.652381 \nL 180.305133 157.887055 \nL 180.448564 156.858178 \nL 180.459022 157.117154 \nL 180.578548 155.911324 \nL 180.586018 156.341978 \nL 180.747377 160.033371 \nL 180.892301 163.694692 \nL 181.300181 165.280078 \nL 181.439129 165.196636 \nL 181.476481 166.030107 \nL 181.745413 165.530968 \nL 181.761848 165.196509 \nL 181.763342 165.531792 \nL 181.870915 166.202357 \nL 181.873903 165.952417 \nL 181.906772 164.619401 \nL 182.304194 164.869342 \nL 182.316146 164.032921 \nL 182.337063 165.875121 \nL 182.464059 164.626396 \nL 182.467047 165.126449 \nL 182.594042 168.200323 \nL 182.623924 166.818968 \nL 182.877915 167.311489 \nL 182.90929 168.376075 \nL 183.31717 169.350313 \nL 183.339581 170.316301 \nL 183.450142 170.316301 \nL 183.451636 170.636786 \nL 183.484506 170.0757 \nL 183.734015 169.754024 \nL 183.738497 169.995281 \nL 183.763896 168.46732 \nL 183.883421 168.46732 \nL 184.307736 168.304196 \nL 184.313712 169.038256 \nL 184.463119 171.069692 \nL 184.488518 170.663159 \nL 184.627466 168.461726 \nL 184.631948 168.793128 \nL 184.742509 171.774049 \nL 184.770896 171.048952 \nL 185.313242 169.840458 \nL 185.316231 169.518193 \nL 185.322207 169.921025 \nL 185.3491 169.599238 \nL 185.491036 166.783609 \nL 185.607573 167.185842 \nL 185.626996 166.944502 \nL 185.635961 166.863878 \nL 185.88547 166.137731 \nL 185.886964 166.381386 \nL 186.317255 168.488398 \nL 186.327713 168.164243 \nL 186.459191 166.781641 \nL 186.490566 168.329408 \nL 186.610092 170.679504 \nL 186.633997 170.359018 \nL 186.889482 173.284914 \nL 186.910399 171.822983 \nL 187.325749 175.018759 \nL 187.339196 173.971015 \nL 187.342184 173.768853 \nL 187.345172 173.89015 \nL 187.470674 173.607124 \nL 187.47665 173.688204 \nL 187.494579 175.106027 \nL 187.640997 172.01042 \nL 187.750064 172.259132 \nL 187.787416 173.953402 \nL 187.911423 170.427711 \nL 187.930846 170.551179 \nL 188.341714 171.786163 \nL 188.346196 171.296732 \nL 188.618116 171.215161 \nL 188.760052 171.459876 \nL 188.774993 171.704406 \nL 188.783957 171.133836 \nL 188.928882 171.379669 \nL 188.933364 171.870213 \nL 189.758088 175.27316 \nL 189.935882 173.597523 \nL 190.487193 174.235861 \nL 190.50811 174.475237 \nL 190.629129 174.156788 \nL 190.633611 174.395625 \nL 190.929436 171.262391 \nL 191.482241 169.238878 \nL 191.494193 169.56258 \nL 191.495687 169.80522 \nL 191.500169 169.482423 \nL 191.513616 169.482423 \nL 191.797488 166.173865 \nL 191.940919 168.025908 \nL 192.339834 168.343779 \nL 192.360751 169.45633 \nL 192.375692 169.141684 \nL 192.502688 170.006732 \nL 192.511652 170.360081 \nL 192.520616 170.320921 \nL 192.628189 168.519569 \nL 192.664047 169.554138 \nL 192.771619 169.791478 \nL 192.925508 167.498863 \nL 192.938955 167.656975 \nL 193.511182 170.102391 \nL 193.515664 169.439575 \nL 193.524629 169.0087 \nL 193.644154 170.975015 \nL 193.663577 170.048098 \nL 193.775632 170.048098 \nL 193.789078 170.666541 \nL 193.799537 170.512055 \nL 193.950437 172.363472 \nL 194.352341 172.591582 \nL 194.380728 173.350332 \nL 194.503242 171.387366 \nL 194.528641 172.142353 \nL 194.643684 171.390016 \nL 194.78562 174.166132 \nL 194.788608 173.86856 \nL 194.790102 173.273418 \nL 194.793091 173.347811 \nL 195.354859 173.570989 \nL 195.644708 179.222463 \nL 195.676084 179.155024 \nL 195.813538 177.317455 \nL 195.959956 173.670082 \nL 196.355884 172.359752 \nL 196.358872 173.218118 \nL 196.393235 165.443796 \nL 196.529195 169.447664 \nL 196.536665 167.771406 \nL 196.644238 164.562092 \nL 196.929605 155.422081 \nL 196.96098 156.130585 \nL 197.506314 162.095822 \nL 197.527231 161.503771 \nL 197.790187 153.468793 \nL 197.791681 152.369269 \nL 197.796163 155.412871 \nL 197.827538 154.567884 \nL 197.970969 157.423844 \nL 198.511821 154.832678 \nL 198.516303 155.855042 \nL 198.526761 155.005019 \nL 198.677662 152.284747 \nL 198.804658 155.855104 \nL 198.810634 155.855104 \nL 198.946594 159.132599 \nL 198.954064 158.967613 \nL 198.971993 158.142684 \nL 199.372403 157.895205 \nL 199.375391 158.555149 \nL 199.692133 152.368178 \nL 199.819128 154.885105 \nL 199.826599 152.996083 \nL 199.943136 150.211295 \nL 199.974511 154.111915 \nL 199.978993 152.898488 \nL 200.391356 153.071835 \nL 200.546738 154.978649 \nL 200.811188 152.844738 \nL 200.81567 152.586669 \nL 200.832105 153.361254 \nL 200.839575 153.189841 \nL 200.950136 155.59139 \nL 200.957607 154.751173 \nL 201.526846 152.566607 \nL 201.6643 156.176457 \nL 202.52787 154.350602 \nL 202.560739 155.443159 \nL 202.668312 155.107832 \nL 202.822201 149.55886 \nL 202.8476 151.404014 \nL 202.986548 148.396679 \nL 203.403392 153.935268 \nL 203.410863 155.234868 \nL 203.421321 154.029553 \nL 203.540846 153.685177 \nL 203.561763 156.612371 \nL 203.564752 155.663399 \nL 203.676806 154.010913 \nL 203.7037 154.62665 \nL 203.823225 159.232717 \nL 203.842648 160.677465 \nL 203.844142 160.509643 \nL 204.393958 163.614366 \nL 204.411887 161.51658 \nL 204.70323 165.415852 \nL 204.712194 163.750561 \nL 204.837696 162.168535 \nL 205.411417 164.000355 \nL 205.427852 162.917916 \nL 205.716206 166.60747 \nL 205.825273 166.688876 \nL 205.826767 166.933092 \nL 205.852166 166.608193 \nL 205.983644 168.801257 \nL 206.003067 168.397324 \nL 206.3975 169.049543 \nL 206.4229 169.701762 \nL 206.563342 168.648245 \nL 206.56633 169.053444 \nL 206.688843 170.269041 \nL 206.717231 169.70807 \nL 206.859167 170.589595 \nL 206.996621 168.421774 \nL 207.007079 168.585055 \nL 207.407489 168.829976 \nL 207.550919 168.178015 \nL 207.561378 169.970741 \nL 207.580801 169.489292 \nL 207.833298 172.675572 \nL 207.83778 171.950801 \nL 207.858697 171.306559 \nL 207.984198 170.984439 \nL 208.002127 170.259667 \nL 208.005115 170.581788 \nL 208.410007 171.948291 \nL 208.57286 167.506769 \nL 208.690892 167.177357 \nL 208.695374 166.600887 \nL 208.728243 169.470491 \nL 208.838804 167.41677 \nL 208.849263 165.830414 \nL 208.868685 167.843102 \nL 208.98074 169.002118 \nL 208.994187 171.071789 \nL 209.411031 170.665659 \nL 209.440913 171.560768 \nL 209.445395 171.317184 \nL 209.584343 172.456489 \nL 209.585837 171.973359 \nL 209.841322 169.396665 \nL 209.862239 168.430405 \nL 209.999693 168.994057 \nL 210.004176 169.557708 \nL 210.555486 171.560344 \nL 210.558474 170.518973 \nL 210.579391 171.247546 \nL 210.875216 171.488392 \nL 211.006694 169.879678 \nL 211.422044 172.799767 \nL 211.425032 173.038786 \nL 211.429514 172.401401 \nL 211.450431 172.401401 \nL 211.59685 172.0808 \nL 211.711893 173.683808 \nL 211.731316 172.641852 \nL 212.56351 176.944247 \nL 212.599368 180.501895 \nL 213.007248 176.409031 \nL 213.029659 177.279394 \nL 213.573499 175.553032 \nL 213.597404 176.415804 \nL 214.018731 172.498099 \nL 214.581994 172.498099 \nL 214.601416 172.897772 \nL 214.717954 172.897772 \nL 214.876325 173.856988 \nL 214.894253 173.697299 \nL 215.448552 178.500592 \nL 215.611405 174.536463 \nL 215.612899 174.126825 \nL 215.872866 176.175015 \nL 215.890795 175.765377 \nL 216.032732 173.873687 \nL 216.04319 174.778408 \nL 216.581054 172.475482 \nL 216.584042 172.643595 \nL 216.58703 172.979292 \nL 216.757353 169.761274 \nL 216.760342 169.501831 \nL 217.020309 175.263778 \nL 217.047202 174.850109 \nL 217.444624 172.16126 \nL 217.465541 172.203692 \nL 217.888361 173.643644 \nL 217.889855 173.559083 \nL 217.907784 173.305199 \nL 218.025815 175.510781 \nL 218.030298 175.012225 \nL 218.477023 172.851815 \nL 218.480011 172.934907 \nL 218.875939 171.605424 \nL 218.896856 172.53024 \nL 218.902832 172.196329 \nL 219.457131 174.116436 \nL 219.628948 177.350915 \nL 219.760426 175.635917 \nL 219.878457 176.948585 \nL 219.912821 176.20905 \nL 219.915809 176.788577 \nL 220.030852 174.487852 \nL 220.059239 174.487852 \nL 220.458155 176.049058 \nL 220.613538 180.068719 \nL 220.615032 179.910122 \nL 220.743521 180.781921 \nL 220.748004 181.177196 \nL 220.919821 182.203578 \nL 221.475614 181.419696 \nL 221.61008 181.972641 \nL 221.611574 181.579805 \nL 221.747534 181.894074 \nL 222.049335 176.809097 \nL 222.067264 176.971635 \nL 222.615586 178.843727 \nL 223.056335 182.28173 \nL 223.471686 183.558987 \nL 223.474674 184.116471 \nL 223.48065 183.479346 \nL 223.501567 184.040352 \nL 223.610634 185.076476 \nL 223.633045 184.439366 \nL 223.782451 178.307173 \nL 224.055865 182.978016 \nL 224.075288 181.178534 \nL 224.468228 180.605971 \nL 224.498109 181.505712 \nL 224.505579 181.424372 \nL 224.755088 178.740144 \nL 224.789452 179.87687 \nL 224.79244 179.634943 \nL 225.505109 175.925384 \nL 225.509592 176.167745 \nL 225.763583 176.571267 \nL 225.766571 176.32934 \nL 225.796452 175.603559 \nL 226.627153 181.651731 \nL 226.657034 181.33139 \nL 226.772077 184.806781 \nL 226.773571 184.645505 \nL 226.912519 185.008958 \nL 226.91999 185.411343 \nL 226.942401 184.40364 \nL 226.943895 184.72645 \nL 227.061926 185.089613 \nL 227.087325 186.739754 \nL 227.486241 185.858769 \nL 227.495205 185.535572 \nL 227.51164 185.981402 \nL 227.916532 182.618774 \nL 227.943425 182.944953 \nL 228.488759 183.916496 \nL 228.633683 182.168508 \nL 228.781596 179.599795 \nL 228.808489 180.57938 \nL 228.922038 181.714797 \nL 228.948931 181.232611 \nL 229.06248 180.428653 \nL 229.066962 180.750236 \nL 229.090868 182.19235 \nL 229.093856 181.872771 \nL 229.631719 182.751613 \nL 229.633213 182.671719 \nL 229.669071 182.192038 \nL 230.078445 179.629883 \nL 230.097868 179.874293 \nL 230.099362 180.282934 \nL 230.501266 178.980446 \nL 230.525171 179.061851 \nL 230.928569 172.449377 \nL 230.936039 171.495418 \nL 230.953968 172.107919 \nL 231.529183 173.853645 \nL 231.677096 175.944287 \nL 231.963956 169.332833 \nL 232.104398 173.561698 \nL 232.107387 172.939899 \nL 232.537678 176.140722 \nL 232.646744 174.457274 \nL 232.648238 174.634479 \nL 232.824538 180.058637 \nL 232.936593 178.068019 \nL 232.956016 175.599481 \nL 232.959004 176.050859 \nL 233.522267 172.814822 \nL 233.801657 177.938547 \nL 233.827056 176.590198 \nL 234.084036 174.222642 \nL 234.115411 177.455491 \nL 234.514327 179.092783 \nL 234.539726 181.612105 \nL 234.67718 183.229366 \nL 234.68465 182.16335 \nL 234.828081 177.455111 \nL 234.94163 176.922102 \nL 234.952088 173.724053 \nL 235.083566 169.548823 \nL 235.119423 170.98171 \nL 235.528798 170.98171 \nL 235.546726 170.267538 \nL 235.54822 170.35681 \nL 235.681192 170.267538 \nL 235.800718 168.214668 \nL 235.824623 167.856704 \nL 235.947136 169.914997 \nL 235.971041 168.750726 \nL 236.096543 164.832931 \nL 236.123436 167.545811 \nL 236.541774 170.505201 \nL 236.679228 176.17088 \nL 236.697157 175.375737 \nL 236.813694 175.286511 \nL 237.112507 170.557563 \nL 237.12446 171.449817 \nL 237.813224 176.4094 \nL 238.094109 178.610508 \nL 238.097097 178.346375 \nL 238.561751 180.641352 \nL 238.690241 180.123294 \nL 238.972619 176.842258 \nL 239.099615 177.44666 \nL 239.105591 177.361818 \nL 239.532894 182.118507 \nL 239.671842 182.283784 \nL 239.67483 181.622677 \nL 239.709194 185.274088 \nL 239.973644 191.818848 \nL 239.991572 190.421342 \nL 240.118568 189.188249 \nL 240.12305 189.27073 \nL 240.129026 190.75415 \nL 240.535412 188.852376 \nL 240.569776 189.104456 \nL 240.686313 187.512016 \nL 240.689301 188.517767 \nL 240.693783 190.103494 \nL 240.710218 189.02494 \nL 240.84319 185.955212 \nL 240.853648 186.288042 \nL 240.983632 186.454663 \nL 241.136027 184.359995 \nL 241.545401 184.445064 \nL 241.560342 185.550026 \nL 241.573788 184.185455 \nL 241.717219 187.604415 \nL 241.972704 186.601169 \nL 241.995115 184.724244 \nL 242.113146 186.11869 \nL 242.146015 185.781454 \nL 242.540449 184.311428 \nL 242.549413 186.127342 \nL 242.559872 185.782875 \nL 242.828804 186.13086 \nL 242.848226 184.483654 \nL 242.858685 185.177215 \nL 242.975222 186.042302 \nL 242.997633 185.350606 \nL 242.999127 185.002926 \nL 243.120146 185.090147 \nL 243.132099 183.870112 \nL 243.148534 184.653521 \nL 243.550437 185.175494 \nL 243.574342 186.992975 \nL 243.581813 186.906428 \nL 243.837298 186.906428 \nL 243.867179 185.34566 \nL 244.140593 178.731159 \nL 244.149558 179.706898 \nL 244.558932 179.884085 \nL 244.576861 181.120755 \nL 244.696386 180.945381 \nL 244.729255 181.823748 \nL 244.862227 177.991827 \nL 244.863721 178.68854 \nL 245.004164 179.64652 \nL 245.014622 179.128781 \nL 245.152076 179.64652 \nL 245.159546 179.301145 \nL 245.585355 178.087597 \nL 245.86624 173.178004 \nL 246.00967 173.353636 \nL 246.012658 173.706062 \nL 246.014152 172.388829 \nL 246.020128 172.915722 \nL 246.163559 170.808149 \nL 246.717857 168.343292 \nL 246.734292 167.078713 \nL 246.73728 168.62375 \nL 247.581427 171.327839 \nL 247.590392 170.800282 \nL 247.717387 170.184799 \nL 247.739798 170.36108 \nL 248.171583 165.360663 \nL 248.567511 165.27239 \nL 248.570499 165.537419 \nL 248.601874 164.656104 \nL 248.873794 161.833109 \nL 249.174101 157.890654 \nL 249.571523 158.07478 \nL 249.855396 156.604143 \nL 249.865854 157.155632 \nL 250.001814 155.868824 \nL 250.027213 157.449011 \nL 251.032719 156.623828 \nL 251.162703 153.414783 \nL 251.182126 154.790088 \nL 251.606441 152.139556 \nL 251.72746 153.236328 \nL 251.864914 152.137042 \nL 251.869396 151.952518 \nL 251.87089 152.137333 \nL 251.876867 152.137333 \nL 252.044202 154.724747 \nL 252.582066 156.847054 \nL 252.585054 156.756613 \nL 252.588042 157.302282 \nL 252.611947 154.829914 \nL 252.617923 155.290714 \nL 252.876397 153.822825 \nL 252.885361 154.28154 \nL 253.036262 157.396191 \nL 253.155787 154.54982 \nL 253.190151 155.113906 \nL 253.596537 151.079487 \nL 254.028322 150.798016 \nL 254.052227 150.610368 \nL 254.179222 147.514186 \nL 254.195657 147.983304 \nL 254.625948 145.262417 \nL 254.876951 146.669773 \nL 254.882927 146.482125 \nL 254.90982 148.917698 \nL 255.186223 144.727689 \nL 255.199669 143.865987 \nL 256.178282 147.236033 \nL 256.194717 147.705698 \nL 256.896928 142.746761 \nL 257.049323 145.037481 \nL 257.050817 144.805456 \nL 257.059781 145.269507 \nL 257.611092 144.251727 \nL 257.62902 143.60405 \nL 257.779921 144.80688 \nL 258.604645 146.006037 \nL 258.637515 145.544823 \nL 258.748076 147.674562 \nL 258.783933 147.492612 \nL 259.617622 146.582865 \nL 259.634057 146.766205 \nL 259.902989 147.498445 \nL 259.905977 147.224065 \nL 259.926894 148.047204 \nL 260.201802 148.047204 \nL 260.20479 147.864284 \nL 260.219731 148.687143 \nL 260.763571 149.369941 \nL 260.784488 148.961452 \nL 260.766559 149.370571 \nL 260.793452 149.052282 \nL 260.915965 148.506464 \nL 260.927918 147.050949 \nL 260.929412 147.505797 \nL 261.065372 145.413495 \nL 261.069854 145.506071 \nL 261.640587 149.57603 \nL 261.648058 148.931008 \nL 261.649552 148.378133 \nL 261.654034 148.746716 \nL 261.79597 143.756269 \nL 261.797464 144.236726 \nL 261.928942 143.758167 \nL 262.6446 155.98082 \nL 262.658046 154.939344 \nL 262.7955 151.322959 \nL 262.801477 151.608463 \nL 262.912037 151.227791 \nL 262.944907 151.800961 \nL 263.056962 151.515691 \nL 263.065926 150.85006 \nL 263.079373 152.276179 \nL 263.085349 151.991217 \nL 263.200392 149.231369 \nL 263.64413 147.672425 \nL 263.769631 148.462208 \nL 263.948919 148.462208 \nL 264.207393 155.205996 \nL 264.802031 157.516236 \nL 264.952932 158.94016 \nL 265.063492 157.815102 \nL 265.789608 156.315024 \nL 265.797079 156.408779 \nL 265.919592 157.437795 \nL 265.927062 155.842714 \nL 265.956944 157.539941 \nL 266.066011 157.446074 \nL 266.932569 152.37722 \nL 266.953486 152.752691 \nL 267.092434 152.470861 \nL 267.240346 150.962999 \nL 267.805103 156.106237 \nL 268.100928 151.899275 \nL 268.677638 153.819845 \nL 268.679132 153.545478 \nL 268.819574 151.528701 \nL 269.254347 154.420161 \nL 269.67418 151.690008 \nL 269.950582 154.693177 \nL 270.253877 156.191232 \nL 270.833575 158.140937 \nL 270.9531 156.055206 \nL 271.098025 157.143413 \nL 271.117447 156.780462 \nL 271.686687 158.236004 \nL 271.819658 158.236004 \nL 271.973547 159.134261 \nL 272.254432 160.120646 \nL 272.267878 159.316515 \nL 272.666794 159.676098 \nL 272.690699 159.138428 \nL 272.813212 159.4079 \nL 272.814706 159.139066 \nL 272.819189 159.318289 \nL 273.236033 159.139066 \nL 273.811248 156.446479 \nL 273.835153 156.814097 \nL 273.844118 157.317958 \nL 274.095121 160.200251 \nL 274.117532 159.74605 \nL 274.132472 164.923941 \nL 274.679301 158.63607 \nL 274.833189 159.982003 \nL 274.849624 159.506958 \nL 274.973632 158.555833 \nL 274.987078 157.026761 \nL 275.133497 155.115421 \nL 275.279915 157.600163 \nL 275.710206 158.933647 \nL 275.982126 155.287921 \nL 276.104639 156.763007 \nL 276.277951 154.23861 \nL 276.699278 152.296766 \nL 276.705254 152.976412 \nL 276.851672 153.753149 \nL 276.969704 153.270907 \nL 277.131063 155.392772 \nL 277.141521 155.296565 \nL 277.689843 153.372415 \nL 277.704784 154.251178 \nL 277.852697 155.127892 \nL 278.005091 153.967732 \nL 279.009104 149.037052 \nL 279.116676 146.233332 \nL 279.690398 145.846612 \nL 279.697868 145.459892 \nL 279.705338 145.749932 \nL 279.853251 145.846612 \nL 280.155052 143.528154 \nL 280.299977 142.465528 \nL 281.01414 145.460202 \nL 282.732316 143.141745 \nL 282.881722 141.664561 \nL 283.017682 138.967249 \nL 283.297073 141.718558 \nL 283.719893 142.117198 \nL 283.722882 142.017538 \nL 283.74081 141.967667 \nL 284.166619 143.115159 \nL 284.311543 138.864621 \nL 285.00479 137.233601 \nL 285.021225 137.381875 \nL 285.022719 137.579418 \nL 285.176608 138.073275 \nL 285.311074 139.155456 \nL 285.320038 138.564549 \nL 286.034201 140.541571 \nL 286.312098 139.082266 \nL 286.318074 139.27684 \nL 286.897772 138.984979 \nL 287.030743 139.568701 \nL 287.314616 142.487311 \nL 287.90029 138.401711 \nL 288.030274 139.351851 \nL 288.757884 138.591739 \nL 288.762366 139.260204 \nL 288.881891 138.686896 \nL 289.17174 136.568429 \nL 289.192657 136.86107 \nL 289.761896 138.903253 \nL 289.766378 138.615815 \nL 291.896916 134.294223 \nL 291.907375 134.49311 \nL 291.916339 135.287405 \nL 296.186379 119.649529 \nL 296.358197 124.08691 \nL 296.794464 125.759477 \nL 296.903531 125.66109 \nL 296.919966 124.874 \nL 296.931918 125.267545 \nL 297.055926 125.464318 \nL 297.19338 123.597792 \nL 297.221767 123.69603 \nL 297.363703 127.403192 \nL 297.767101 129.421997 \nL 297.795488 127.529057 \nL 298.077867 131.407784 \nL 298.085337 131.124892 \nL 298.203368 129.517081 \nL 298.216815 129.611658 \nL 298.363233 131.408623 \nL 298.92799 136.44483 \nL 298.944425 137.745245 \nL 298.945919 137.652537 \nL 299.087855 138.857135 \nL 299.089349 138.673231 \nL 299.214851 142.812101 \nL 299.23278 140.884033 \nL 299.37621 143.087539 \nL 299.794548 136.568833 \nL 299.797537 136.762565 \nL 299.91258 137.342861 \nL 299.915568 138.116589 \nL 299.948437 136.674832 \nL 300.05601 135.377252 \nL 300.060492 136.578715 \nL 300.093362 137.825289 \nL 300.209899 133.400685 \nL 300.236792 135.774337 \nL 300.377234 141.129283 \nL 300.810513 138.021079 \nL 301.097374 145.312733 \nL 301.37527 143.471035 \nL 301.382741 143.845043 \nL 301.804067 144.591335 \nL 301.948992 141.53176 \nL 302.379283 141.902618 \nL 302.953004 141.439046 \nL 302.95898 141.06678 \nL 302.961968 141.532113 \nL 303.375824 142.833067 \nL 303.82255 152.126183 \nL 303.95851 148.503281 \nL 303.965981 149.261858 \nL 304.095964 150.39463 \nL 304.101941 149.740127 \nL 304.103435 149.459404 \nL 304.104929 149.83459 \nL 304.106423 149.55409 \nL 304.243877 153.480866 \nL 304.790705 157.591572 \nL 305.076071 165.5188 \nL 305.088024 165.078982 \nL 305.232948 164.815091 \nL 305.247889 167.100669 \nL 305.255359 165.872127 \nL 306.101001 141.255943 \nL 306.115941 142.849457 \nL 306.371427 167.191467 \nL 306.378897 161.654116 \nL 306.404296 161.821051 \nL 306.815164 179.222388 \nL 306.825623 183.183593 \nL 306.834587 181.558422 \nL 307.084096 191.402782 \nL 307.121448 189.156732 \nL 307.22902 189.97003 \nL 307.264878 194.138182 \nL 307.40532 184.881458 \nL 307.408308 185.135877 \nL 307.801248 183.558479 \nL 307.814694 179.57474 \nL 307.838599 184.339944 \nL 308.119484 163.980594 \nL 308.12546 165.73665 \nL 308.252456 170.157341 \nL 308.442202 162.075057 \nL 308.80526 159.064311 \nL 308.842612 157.451412 \nL 308.980066 156.268619 \nL 309.129472 164.011368 \nL 309.251986 158.860068 \nL 309.265432 159.611299 \nL 309.387946 160.795165 \nL 309.392428 163.244823 \nL 309.416333 161.533905 \nL 309.958679 148.898056 \nL 309.990054 151.14144 \nL 310.129002 152.476788 \nL 310.130496 152.423977 \nL 310.276915 152.740844 \nL 310.835696 151.895865 \nL 310.84466 152.534198 \nL 310.992572 147.032006 \nL 311.101639 151.899329 \nL 311.118074 151.582063 \nL 311.257022 148.399121 \nL 311.280927 149.247905 \nL 311.833732 145.110081 \nL 312.141509 147.762533 \nL 312.405959 146.064964 \nL 313.002091 139.930749 \nL 313.145521 134.44224 \nL 314.139075 149.347307 \nL 314.142063 149.190229 \nL 314.149534 148.666635 \nL 314.436394 142.991826 \nL 314.836804 143.832538 \nL 314.853239 144.463073 \nL 314.975752 143.940351 \nL 314.984717 142.685819 \nL 315.005633 144.983635 \nL 315.010116 143.731616 \nL 315.125159 144.889581 \nL 315.140099 147.287791 \nL 315.296976 147.809141 \nL 315.870698 141.787787 \nL 315.987235 142.410685 \nL 316.014128 140.749622 \nL 316.300989 144.406125 \nL 316.427984 139.934794 \nL 316.444419 140.797606 \nL 317.009176 134.346345 \nL 317.14663 137.56976 \nL 317.161571 137.248305 \nL 317.278108 135.53535 \nL 317.863782 129.325891 \nL 318.022153 124.079969 \nL 318.165583 118.941106 \nL 318.434515 115.836376 \nL 318.444973 116.692853 \nL 319.166607 116.906972 \nL 319.454962 124.389261 \nL 320.021213 125.24438 \nL 320.030177 125.775353 \nL 320.142232 122.809153 \nL 320.155679 123.232896 \nL 320.173607 123.12696 \nL 320.297615 123.869107 \nL 320.426105 121.338904 \nL 320.878807 120.917203 \nL 320.889265 121.86603 \nL 321.146244 122.182305 \nL 321.32105 124.1806 \nL 321.451034 125.743165 \nL 321.461492 124.805626 \nL 322.322074 131.887917 \nL 323.291723 118.618948 \nL 323.468023 121.203167 \nL 323.899808 120.805595 \nL 324.177704 122.297239 \nL 324.573632 118.834127 \nL 324.599031 124.171276 \nL 324.602019 123.574208 \nL 324.89635 120.588868 \nL 325.044262 117.404505 \nL 325.162294 119.792777 \nL 325.186199 118.399618 \nL 325.579138 116.585355 \nL 325.58362 117.807614 \nL 325.59109 117.504216 \nL 325.897374 115.077786 \nL 326.049769 116.390197 \nL 326.336629 123.06572 \nL 326.475577 120.009188 \nL 326.48006 120.81182 \nL 327.052287 116.224402 \nL 327.186753 112.235343 \nL 327.345124 111.537258 \nL 327.912869 115.72577 \nL 328.47165 117.42112 \nL 329.202248 117.224149 \nL 329.205236 116.436266 \nL 329.341196 119.095371 \nL 330.177873 126.284803 \nL 330.179367 125.911492 \nL 330.500591 125.53818 \nL 330.920424 132.444449 \nL 330.930882 131.887753 \nL 331.074312 127.990885 \nL 331.480698 134.949578 \nL 332.075336 133.55784 \nL 332.202332 134.589805 \nL 333.080843 130.123281 \nL 333.369198 133.749714 \nL 334.50917 123.953208 \nL 335.362281 131.804076 \nL 335.36527 131.523077 \nL 335.377222 131.897743 \nL 335.484795 133.768319 \nL 335.5087 133.394203 \nL 336.37974 140.476567 \nL 336.517194 139.545227 \nL 338.065047 138.569539 \nL 338.075505 139.189766 \nL 338.088952 137.863559 \nL 338.209971 138.836111 \nL 338.214453 138.571625 \nL 338.23537 139.62982 \nL 338.242841 139.453748 \nL 338.386271 139.18964 \nL 338.49982 139.981965 \nL 339.069059 139.365712 \nL 339.070553 139.454189 \nL 339.245359 144.493663 \nL 339.521761 142.286536 \nL 339.929641 145.972862 \nL 339.931135 145.798389 \nL 340.096976 144.6207 \nL 340.099964 145.013263 \nL 340.216502 149.113366 \nL 340.250865 145.993408 \nL 340.933653 136.80218 \nL 341.077084 141.439955 \nL 341.081566 139.669168 \nL 341.247407 141.722387 \nL 341.375897 141.049274 \nL 341.380379 141.218189 \nL 341.383367 142.060156 \nL 341.399802 140.367121 \nL 341.401296 140.537976 \nL 341.526797 137.978713 \nL 341.942148 134.736979 \nL 342.234985 138.490565 \nL 342.249925 137.816901 \nL 342.25889 137.479427 \nL 342.261878 138.661941 \nL 342.527822 140.604643 \nL 342.547244 140.355189 \nL 342.941678 138.110103 \nL 342.967077 139.024768 \nL 343.94569 137.444892 \nL 344.984066 144.4135 \nL 345.130484 144.253718 \nL 345.417345 145.853648 \nL 346.109098 148.932151 \nL 346.134497 149.795973 \nL 346.384006 147.301247 \nL 346.421357 148.002888 \nL 346.980138 150.410211 \nL 347.280445 147.445596 \nL 347.281939 147.52402 \nL 347.961739 144.30862 \nL 347.963233 144.711438 \nL 348.138039 149.339852 \nL 348.139533 149.261972 \nL 348.2486 146.614067 \nL 348.96874 142.252811 \nL 349.116652 147.787434 \nL 349.396043 148.921995 \nL 350.122159 157.597548 \nL 350.150546 159.347973 \nL 350.256625 158.162799 \nL 350.279036 158.85996 \nL 350.437406 160.254283 \nL 351.117206 158.188266 \nL 351.135135 158.050531 \nL 351.262131 161.722636 \nL 351.55945 163.802509 \nL 351.584849 163.201572 \n\" style=\"fill:none;stroke:#1f77b4;stroke-linecap:square;stroke-width:1.5;\"/>\n   </g>\n   <g id=\"patch_3\">\n    <path d=\"M 32.003031 203.04 \nL 32.003031 7.2 \n\" style=\"fill:none;stroke:#000000;stroke-linecap:square;stroke-linejoin:miter;stroke-width:0.8;\"/>\n   </g>\n   <g id=\"patch_4\">\n    <path d=\"M 366.803031 203.04 \nL 366.803031 7.2 \n\" style=\"fill:none;stroke:#000000;stroke-linecap:square;stroke-linejoin:miter;stroke-width:0.8;\"/>\n   </g>\n   <g id=\"patch_5\">\n    <path d=\"M 32.003031 203.04 \nL 366.803031 203.04 \n\" style=\"fill:none;stroke:#000000;stroke-linecap:square;stroke-linejoin:miter;stroke-width:0.8;\"/>\n   </g>\n   <g id=\"patch_6\">\n    <path d=\"M 32.003031 7.2 \nL 366.803031 7.2 \n\" style=\"fill:none;stroke:#000000;stroke-linecap:square;stroke-linejoin:miter;stroke-width:0.8;\"/>\n   </g>\n  </g>\n </g>\n <defs>\n  <clipPath id=\"pf024fa05a5\">\n   <rect height=\"195.84\" width=\"334.8\" x=\"32.003031\" y=\"7.2\"/>\n  </clipPath>\n </defs>\n</svg>\n",
      "image/png": "[encoded data removed]"
     },
     "metadata": {
      "needs_background": "light"
     }
    }
   ],
   "metadata": {}
  },
  {
   "cell_type": "markdown",
   "source": [
    "### Step 3: Split the data into training and testing datasets."
   ],
   "metadata": {}
  },
  {
   "cell_type": "code",
   "execution_count": 75,
   "source": [
    "# Assign a copy of the sma_fast and sma_slow columns to a features DataFrame called X\n",
    "X = signals_df[['SMA_Fast', 'SMA_Slow']].shift().dropna()\n",
    "\n",
    "# Review the DataFrame\n",
    "X.head()"
   ],
   "outputs": [
    {
     "output_type": "execute_result",
     "data": {
      "text/plain": [
       "                     SMA_Fast  SMA_Slow\n",
       "date                                   \n",
       "2015-04-02 15:00:00   24.9175   24.3214\n",
       "2015-04-02 15:15:00   24.9200   24.3308\n",
       "2015-04-02 15:30:00   24.9250   24.3360\n",
       "2015-04-02 15:45:00   24.9325   24.3411\n",
       "2015-04-06 09:30:00   24.9475   24.3463"
      ],
      "text/html": [
       "<div>\n",
       "<style scoped>\n",
       "    .dataframe tbody tr th:only-of-type {\n",
       "        vertical-align: middle;\n",
       "    }\n",
       "\n",
       "    .dataframe tbody tr th {\n",
       "        vertical-align: top;\n",
       "    }\n",
       "\n",
       "    .dataframe thead th {\n",
       "        text-align: right;\n",
       "    }\n",
       "</style>\n",
       "<table border=\"1\" class=\"dataframe\">\n",
       "  <thead>\n",
       "    <tr style=\"text-align: right;\">\n",
       "      <th></th>\n",
       "      <th>SMA_Fast</th>\n",
       "      <th>SMA_Slow</th>\n",
       "    </tr>\n",
       "    <tr>\n",
       "      <th>date</th>\n",
       "      <th></th>\n",
       "      <th></th>\n",
       "    </tr>\n",
       "  </thead>\n",
       "  <tbody>\n",
       "    <tr>\n",
       "      <th>2015-04-02 15:00:00</th>\n",
       "      <td>24.9175</td>\n",
       "      <td>24.3214</td>\n",
       "    </tr>\n",
       "    <tr>\n",
       "      <th>2015-04-02 15:15:00</th>\n",
       "      <td>24.9200</td>\n",
       "      <td>24.3308</td>\n",
       "    </tr>\n",
       "    <tr>\n",
       "      <th>2015-04-02 15:30:00</th>\n",
       "      <td>24.9250</td>\n",
       "      <td>24.3360</td>\n",
       "    </tr>\n",
       "    <tr>\n",
       "      <th>2015-04-02 15:45:00</th>\n",
       "      <td>24.9325</td>\n",
       "      <td>24.3411</td>\n",
       "    </tr>\n",
       "    <tr>\n",
       "      <th>2015-04-06 09:30:00</th>\n",
       "      <td>24.9475</td>\n",
       "      <td>24.3463</td>\n",
       "    </tr>\n",
       "  </tbody>\n",
       "</table>\n",
       "</div>"
      ]
     },
     "metadata": {},
     "execution_count": 75
    }
   ],
   "metadata": {}
  },
  {
   "cell_type": "code",
   "execution_count": 76,
   "source": [
    "# Create the target set selecting the Signal column and assiging it to y\n",
    "y = signals_df['Signal']\n",
    "\n",
    "# Review the value counts\n",
    "y.value_counts()"
   ],
   "outputs": [
    {
     "output_type": "execute_result",
     "data": {
      "text/plain": [
       " 1.0    2368\n",
       "-1.0    1855\n",
       "Name: Signal, dtype: int64"
      ]
     },
     "metadata": {},
     "execution_count": 76
    }
   ],
   "metadata": {}
  },
  {
   "cell_type": "code",
   "execution_count": 77,
   "source": [
    "# Select the start of the training period\n",
    "training_begin = X.index.min()\n",
    "\n",
    "# Display the training begin date\n",
    "print(training_begin)"
   ],
   "outputs": [
    {
     "output_type": "stream",
     "name": "stdout",
     "text": [
      "2015-04-02 15:00:00\n"
     ]
    }
   ],
   "metadata": {}
  },
  {
   "cell_type": "code",
   "execution_count": 78,
   "source": [
    "# Select the ending period for the training data with an offset of 3 months\n",
    "training_end = X.index.min() + DateOffset(months=3)\n",
    "\n",
    "# Display the training end date\n",
    "print(training_end)"
   ],
   "outputs": [
    {
     "output_type": "stream",
     "name": "stdout",
     "text": [
      "2015-07-02 15:00:00\n"
     ]
    }
   ],
   "metadata": {}
  },
  {
   "cell_type": "code",
   "execution_count": 79,
   "source": [
    "# Generate the X_train and y_train DataFrames\n",
    "X_train = X.loc[training_begin:training_end]\n",
    "y_train = y.loc[training_begin:training_end]\n",
    "\n",
    "# Review the X_train DataFrame\n",
    "X_train.head()"
   ],
   "outputs": [
    {
     "output_type": "execute_result",
     "data": {
      "text/plain": [
       "                     SMA_Fast  SMA_Slow\n",
       "date                                   \n",
       "2015-04-02 15:00:00   24.9175   24.3214\n",
       "2015-04-02 15:15:00   24.9200   24.3308\n",
       "2015-04-02 15:30:00   24.9250   24.3360\n",
       "2015-04-02 15:45:00   24.9325   24.3411\n",
       "2015-04-06 09:30:00   24.9475   24.3463"
      ],
      "text/html": [
       "<div>\n",
       "<style scoped>\n",
       "    .dataframe tbody tr th:only-of-type {\n",
       "        vertical-align: middle;\n",
       "    }\n",
       "\n",
       "    .dataframe tbody tr th {\n",
       "        vertical-align: top;\n",
       "    }\n",
       "\n",
       "    .dataframe thead th {\n",
       "        text-align: right;\n",
       "    }\n",
       "</style>\n",
       "<table border=\"1\" class=\"dataframe\">\n",
       "  <thead>\n",
       "    <tr style=\"text-align: right;\">\n",
       "      <th></th>\n",
       "      <th>SMA_Fast</th>\n",
       "      <th>SMA_Slow</th>\n",
       "    </tr>\n",
       "    <tr>\n",
       "      <th>date</th>\n",
       "      <th></th>\n",
       "      <th></th>\n",
       "    </tr>\n",
       "  </thead>\n",
       "  <tbody>\n",
       "    <tr>\n",
       "      <th>2015-04-02 15:00:00</th>\n",
       "      <td>24.9175</td>\n",
       "      <td>24.3214</td>\n",
       "    </tr>\n",
       "    <tr>\n",
       "      <th>2015-04-02 15:15:00</th>\n",
       "      <td>24.9200</td>\n",
       "      <td>24.3308</td>\n",
       "    </tr>\n",
       "    <tr>\n",
       "      <th>2015-04-02 15:30:00</th>\n",
       "      <td>24.9250</td>\n",
       "      <td>24.3360</td>\n",
       "    </tr>\n",
       "    <tr>\n",
       "      <th>2015-04-02 15:45:00</th>\n",
       "      <td>24.9325</td>\n",
       "      <td>24.3411</td>\n",
       "    </tr>\n",
       "    <tr>\n",
       "      <th>2015-04-06 09:30:00</th>\n",
       "      <td>24.9475</td>\n",
       "      <td>24.3463</td>\n",
       "    </tr>\n",
       "  </tbody>\n",
       "</table>\n",
       "</div>"
      ]
     },
     "metadata": {},
     "execution_count": 79
    }
   ],
   "metadata": {}
  },
  {
   "cell_type": "code",
   "execution_count": 80,
   "source": [
    "# Generate the X_test and y_test DataFrames\n",
    "X_test = X.loc[training_end+DateOffset(hours=1):]\n",
    "y_test = y.loc[training_end+DateOffset(hours=1):]\n",
    "\n",
    "# Review the X_test DataFrame\n",
    "X_train.head()"
   ],
   "outputs": [
    {
     "output_type": "execute_result",
     "data": {
      "text/plain": [
       "                     SMA_Fast  SMA_Slow\n",
       "date                                   \n",
       "2015-04-02 15:00:00   24.9175   24.3214\n",
       "2015-04-02 15:15:00   24.9200   24.3308\n",
       "2015-04-02 15:30:00   24.9250   24.3360\n",
       "2015-04-02 15:45:00   24.9325   24.3411\n",
       "2015-04-06 09:30:00   24.9475   24.3463"
      ],
      "text/html": [
       "<div>\n",
       "<style scoped>\n",
       "    .dataframe tbody tr th:only-of-type {\n",
       "        vertical-align: middle;\n",
       "    }\n",
       "\n",
       "    .dataframe tbody tr th {\n",
       "        vertical-align: top;\n",
       "    }\n",
       "\n",
       "    .dataframe thead th {\n",
       "        text-align: right;\n",
       "    }\n",
       "</style>\n",
       "<table border=\"1\" class=\"dataframe\">\n",
       "  <thead>\n",
       "    <tr style=\"text-align: right;\">\n",
       "      <th></th>\n",
       "      <th>SMA_Fast</th>\n",
       "      <th>SMA_Slow</th>\n",
       "    </tr>\n",
       "    <tr>\n",
       "      <th>date</th>\n",
       "      <th></th>\n",
       "      <th></th>\n",
       "    </tr>\n",
       "  </thead>\n",
       "  <tbody>\n",
       "    <tr>\n",
       "      <th>2015-04-02 15:00:00</th>\n",
       "      <td>24.9175</td>\n",
       "      <td>24.3214</td>\n",
       "    </tr>\n",
       "    <tr>\n",
       "      <th>2015-04-02 15:15:00</th>\n",
       "      <td>24.9200</td>\n",
       "      <td>24.3308</td>\n",
       "    </tr>\n",
       "    <tr>\n",
       "      <th>2015-04-02 15:30:00</th>\n",
       "      <td>24.9250</td>\n",
       "      <td>24.3360</td>\n",
       "    </tr>\n",
       "    <tr>\n",
       "      <th>2015-04-02 15:45:00</th>\n",
       "      <td>24.9325</td>\n",
       "      <td>24.3411</td>\n",
       "    </tr>\n",
       "    <tr>\n",
       "      <th>2015-04-06 09:30:00</th>\n",
       "      <td>24.9475</td>\n",
       "      <td>24.3463</td>\n",
       "    </tr>\n",
       "  </tbody>\n",
       "</table>\n",
       "</div>"
      ]
     },
     "metadata": {},
     "execution_count": 80
    }
   ],
   "metadata": {}
  },
  {
   "cell_type": "code",
   "execution_count": 81,
   "source": [
    "# Scale the features DataFrames\n",
    "\n",
    "# Create a StandardScaler instance\n",
    "scaler = StandardScaler()\n",
    "\n",
    "# Apply the scaler model to fit the X-train data\n",
    "X_scaler = scaler.fit(X_train)\n",
    "\n",
    "# Transform the X_train and X_test DataFrames using the X_scaler\n",
    "X_train_scaled = X_scaler.transform(X_train)\n",
    "X_test_scaled = X_scaler.transform(X_test)"
   ],
   "outputs": [],
   "metadata": {}
  },
  {
   "cell_type": "markdown",
   "source": [
    "### Step 4: Use the `SVC` classifier model from SKLearn's support vector machine (SVM) learning method to fit the training data and make predictions based on the testing data. Review the predictions."
   ],
   "metadata": {}
  },
  {
   "cell_type": "code",
   "execution_count": 82,
   "source": [
    "# From SVM, instantiate SVC classifier model instance\n",
    "svm_model = svm.SVC()\n",
    " \n",
    "# Fit the model to the data using the training data\n",
    "svm_model = svm_model.fit(X_test_scaled, y_test)\n",
    " \n",
    "# Use the testing data to make the model predictions\n",
    "svm_pred = svm_model.predict(X_test_scaled)\n",
    "\n",
    "# Review the model's predicted values\n",
    "# YOUR CODE HERE\n",
    "svm_pred[:10]\n"
   ],
   "outputs": [
    {
     "output_type": "execute_result",
     "data": {
      "text/plain": [
       "array([1., 1., 1., 1., 1., 1., 1., 1., 1., 1.])"
      ]
     },
     "metadata": {},
     "execution_count": 82
    }
   ],
   "metadata": {}
  },
  {
   "cell_type": "markdown",
   "source": [
    "### Step 5: Review the classification report associated with the `SVC` model predictions. "
   ],
   "metadata": {}
  },
  {
   "cell_type": "code",
   "execution_count": 83,
   "source": [
    "# Use a classification report to evaluate the model using the predictions and testing data\n",
    "svm_testing_report = classification_report(y_test, svm_pred)\n",
    "\n",
    "# Print the classification report\n",
    "# YOUR CODE HERE\n",
    "print(svm_testing_report)\n"
   ],
   "outputs": [
    {
     "output_type": "stream",
     "name": "stdout",
     "text": [
      "              precision    recall  f1-score   support\n",
      "\n",
      "        -1.0       0.00      0.00      0.00      1804\n",
      "         1.0       0.56      1.00      0.72      2288\n",
      "\n",
      "    accuracy                           0.56      4092\n",
      "   macro avg       0.28      0.50      0.36      4092\n",
      "weighted avg       0.31      0.56      0.40      4092\n",
      "\n"
     ]
    },
    {
     "output_type": "stream",
     "name": "stderr",
     "text": [
      "/opt/anaconda3/envs/dev/lib/python3.7/site-packages/sklearn/metrics/_classification.py:1245: UndefinedMetricWarning: Precision and F-score are ill-defined and being set to 0.0 in labels with no predicted samples. Use `zero_division` parameter to control this behavior.\n",
      "  _warn_prf(average, modifier, msg_start, len(result))\n",
      "/opt/anaconda3/envs/dev/lib/python3.7/site-packages/sklearn/metrics/_classification.py:1245: UndefinedMetricWarning: Precision and F-score are ill-defined and being set to 0.0 in labels with no predicted samples. Use `zero_division` parameter to control this behavior.\n",
      "  _warn_prf(average, modifier, msg_start, len(result))\n",
      "/opt/anaconda3/envs/dev/lib/python3.7/site-packages/sklearn/metrics/_classification.py:1245: UndefinedMetricWarning: Precision and F-score are ill-defined and being set to 0.0 in labels with no predicted samples. Use `zero_division` parameter to control this behavior.\n",
      "  _warn_prf(average, modifier, msg_start, len(result))\n"
     ]
    }
   ],
   "metadata": {}
  },
  {
   "cell_type": "markdown",
   "source": [
    "### Step 6: Create a predictions DataFrame that contains columns for “Predicted” values, “Actual Returns”, and “Strategy Returns”."
   ],
   "metadata": {}
  },
  {
   "cell_type": "code",
   "execution_count": 84,
   "source": [
    "# Create a new empty predictions DataFrame.\n",
    "\n",
    "# Create a predictions DataFrame\n",
    "predictions_df = pd.DataFrame(index=X_test.index)\n",
    "\n",
    "# Add the SVM model predictions to the DataFrame\n",
    "predictions_df['Predicted'] = svm_pred\n",
    "\n",
    "# Add the actual returns to the DataFrame\n",
    "predictions_df['Actual Returns'] = signals_df[\"Actual Returns\"]\n",
    "\n",
    "# Add the strategy returns to the DataFrame\n",
    "predictions_df['Strategy Returns'] = signals_df[\"Strategy Returns\"]\n",
    "\n",
    "# Review the DataFrame\n",
    "display(predictions_df.head())\n",
    "display(predictions_df.tail())"
   ],
   "outputs": [
    {
     "output_type": "display_data",
     "data": {
      "text/plain": [
       "                     Predicted  Actual Returns  Strategy Returns\n",
       "date                                                            \n",
       "2015-07-06 10:00:00        1.0       -0.025715          0.025715\n",
       "2015-07-06 10:45:00        1.0        0.007237         -0.007237\n",
       "2015-07-06 14:15:00        1.0       -0.009721         -0.009721\n",
       "2015-07-06 14:30:00        1.0       -0.003841          0.003841\n",
       "2015-07-07 11:30:00        1.0       -0.018423          0.018423"
      ],
      "text/html": [
       "<div>\n",
       "<style scoped>\n",
       "    .dataframe tbody tr th:only-of-type {\n",
       "        vertical-align: middle;\n",
       "    }\n",
       "\n",
       "    .dataframe tbody tr th {\n",
       "        vertical-align: top;\n",
       "    }\n",
       "\n",
       "    .dataframe thead th {\n",
       "        text-align: right;\n",
       "    }\n",
       "</style>\n",
       "<table border=\"1\" class=\"dataframe\">\n",
       "  <thead>\n",
       "    <tr style=\"text-align: right;\">\n",
       "      <th></th>\n",
       "      <th>Predicted</th>\n",
       "      <th>Actual Returns</th>\n",
       "      <th>Strategy Returns</th>\n",
       "    </tr>\n",
       "    <tr>\n",
       "      <th>date</th>\n",
       "      <th></th>\n",
       "      <th></th>\n",
       "      <th></th>\n",
       "    </tr>\n",
       "  </thead>\n",
       "  <tbody>\n",
       "    <tr>\n",
       "      <th>2015-07-06 10:00:00</th>\n",
       "      <td>1.0</td>\n",
       "      <td>-0.025715</td>\n",
       "      <td>0.025715</td>\n",
       "    </tr>\n",
       "    <tr>\n",
       "      <th>2015-07-06 10:45:00</th>\n",
       "      <td>1.0</td>\n",
       "      <td>0.007237</td>\n",
       "      <td>-0.007237</td>\n",
       "    </tr>\n",
       "    <tr>\n",
       "      <th>2015-07-06 14:15:00</th>\n",
       "      <td>1.0</td>\n",
       "      <td>-0.009721</td>\n",
       "      <td>-0.009721</td>\n",
       "    </tr>\n",
       "    <tr>\n",
       "      <th>2015-07-06 14:30:00</th>\n",
       "      <td>1.0</td>\n",
       "      <td>-0.003841</td>\n",
       "      <td>0.003841</td>\n",
       "    </tr>\n",
       "    <tr>\n",
       "      <th>2015-07-07 11:30:00</th>\n",
       "      <td>1.0</td>\n",
       "      <td>-0.018423</td>\n",
       "      <td>0.018423</td>\n",
       "    </tr>\n",
       "  </tbody>\n",
       "</table>\n",
       "</div>"
      ]
     },
     "metadata": {}
    },
    {
     "output_type": "display_data",
     "data": {
      "text/plain": [
       "                     Predicted  Actual Returns  Strategy Returns\n",
       "date                                                            \n",
       "2021-01-22 09:30:00        1.0       -0.006866         -0.006866\n",
       "2021-01-22 11:30:00        1.0        0.002405         -0.002405\n",
       "2021-01-22 13:45:00        1.0        0.002099          0.002099\n",
       "2021-01-22 14:30:00        1.0        0.001496          0.001496\n",
       "2021-01-22 15:45:00        1.0       -0.000896         -0.000896"
      ],
      "text/html": [
       "<div>\n",
       "<style scoped>\n",
       "    .dataframe tbody tr th:only-of-type {\n",
       "        vertical-align: middle;\n",
       "    }\n",
       "\n",
       "    .dataframe tbody tr th {\n",
       "        vertical-align: top;\n",
       "    }\n",
       "\n",
       "    .dataframe thead th {\n",
       "        text-align: right;\n",
       "    }\n",
       "</style>\n",
       "<table border=\"1\" class=\"dataframe\">\n",
       "  <thead>\n",
       "    <tr style=\"text-align: right;\">\n",
       "      <th></th>\n",
       "      <th>Predicted</th>\n",
       "      <th>Actual Returns</th>\n",
       "      <th>Strategy Returns</th>\n",
       "    </tr>\n",
       "    <tr>\n",
       "      <th>date</th>\n",
       "      <th></th>\n",
       "      <th></th>\n",
       "      <th></th>\n",
       "    </tr>\n",
       "  </thead>\n",
       "  <tbody>\n",
       "    <tr>\n",
       "      <th>2021-01-22 09:30:00</th>\n",
       "      <td>1.0</td>\n",
       "      <td>-0.006866</td>\n",
       "      <td>-0.006866</td>\n",
       "    </tr>\n",
       "    <tr>\n",
       "      <th>2021-01-22 11:30:00</th>\n",
       "      <td>1.0</td>\n",
       "      <td>0.002405</td>\n",
       "      <td>-0.002405</td>\n",
       "    </tr>\n",
       "    <tr>\n",
       "      <th>2021-01-22 13:45:00</th>\n",
       "      <td>1.0</td>\n",
       "      <td>0.002099</td>\n",
       "      <td>0.002099</td>\n",
       "    </tr>\n",
       "    <tr>\n",
       "      <th>2021-01-22 14:30:00</th>\n",
       "      <td>1.0</td>\n",
       "      <td>0.001496</td>\n",
       "      <td>0.001496</td>\n",
       "    </tr>\n",
       "    <tr>\n",
       "      <th>2021-01-22 15:45:00</th>\n",
       "      <td>1.0</td>\n",
       "      <td>-0.000896</td>\n",
       "      <td>-0.000896</td>\n",
       "    </tr>\n",
       "  </tbody>\n",
       "</table>\n",
       "</div>"
      ]
     },
     "metadata": {}
    }
   ],
   "metadata": {}
  },
  {
   "cell_type": "markdown",
   "source": [
    "### Step 7: Create a cumulative return plot that shows the actual returns vs. the strategy returns. Save a PNG image of this plot. This will serve as a baseline against which to compare the effects of tuning the trading algorithm."
   ],
   "metadata": {}
  },
  {
   "cell_type": "code",
   "execution_count": 86,
   "source": [
    "# Plot the actual returns versus the strategy returns\n",
    "# YOUR CODE HERE\n",
    "(1 + predictions_df[[\"Actual Returns\", \"Strategy Returns\"]]).cumprod().plot()\n"
   ],
   "outputs": [
    {
     "output_type": "execute_result",
     "data": {
      "text/plain": [
       "<AxesSubplot:xlabel='date'>"
      ]
     },
     "metadata": {},
     "execution_count": 86
    },
    {
     "output_type": "display_data",
     "data": {
      "text/plain": [
       "<Figure size 432x288 with 1 Axes>"
      ],
      "image/svg+xml": "<?xml version=\"1.0\" encoding=\"utf-8\" standalone=\"no\"?>\n<!DOCTYPE svg PUBLIC \"-//W3C//DTD SVG 1.1//EN\"\n  \"http://www.w3.org/Graphics/SVG/1.1/DTD/svg11.dtd\">\n<!-- Created with matplotlib (https://matplotlib.org/) -->\n<svg height=\"252.024627pt\" version=\"1.1\" viewBox=\"0 0 372.103125 252.024627\" width=\"372.103125pt\" xmlns=\"http://www.w3.org/2000/svg\" xmlns:xlink=\"http://www.w3.org/1999/xlink\">\n <metadata>\n  <rdf:RDF xmlns:cc=\"http://creativecommons.org/ns#\" xmlns:dc=\"http://purl.org/dc/elements/1.1/\" xmlns:rdf=\"http://www.w3.org/1999/02/22-rdf-syntax-ns#\">\n   <cc:Work>\n    <dc:type rdf:resource=\"http://purl.org/dc/dcmitype/StillImage\"/>\n    <dc:date>2021-10-02T10:35:25.126228</dc:date>\n    <dc:format>image/svg+xml</dc:format>\n    <dc:creator>\n     <cc:Agent>\n      <dc:title>Matplotlib v3.3.4, https://matplotlib.org/</dc:title>\n     </cc:Agent>\n    </dc:creator>\n   </cc:Work>\n  </rdf:RDF>\n </metadata>\n <defs>\n  <style type=\"text/css\">*{stroke-linecap:butt;stroke-linejoin:round;}</style>\n </defs>\n <g id=\"figure_1\">\n  <g id=\"patch_1\">\n   <path d=\"M 0 252.024627 \nL 372.103125 252.024627 \nL 372.103125 0 \nL 0 0 \nz\n\" style=\"fill:none;\"/>\n  </g>\n  <g id=\"axes_1\">\n   <g id=\"patch_2\">\n    <path d=\"M 30.103125 203.04 \nL 364.903125 203.04 \nL 364.903125 7.2 \nL 30.103125 7.2 \nz\n\" style=\"fill:#ffffff;\"/>\n   </g>\n   <g id=\"matplotlib.axis_1\">\n    <g id=\"xtick_1\">\n     <g id=\"line2d_1\">\n      <defs>\n       <path d=\"M 0 0 \nL 0 3.5 \n\" id=\"m53256833ef\" style=\"stroke:#000000;stroke-width:0.8;\"/>\n      </defs>\n      <g>\n       <use style=\"stroke:#000000;stroke-width:0.8;\" x=\"72.13327\" xlink:href=\"#m53256833ef\" y=\"203.04\"/>\n      </g>\n     </g>\n     <g id=\"text_1\">\n      <!-- 2016 -->\n      <g transform=\"translate(49.05308 229.34544)rotate(-30)scale(0.1 -0.1)\">\n       <defs>\n        <path d=\"M 19.1875 8.296875 \nL 53.609375 8.296875 \nL 53.609375 0 \nL 7.328125 0 \nL 7.328125 8.296875 \nQ 12.9375 14.109375 22.625 23.890625 \nQ 32.328125 33.6875 34.8125 36.53125 \nQ 39.546875 41.84375 41.421875 45.53125 \nQ 43.3125 49.21875 43.3125 52.78125 \nQ 43.3125 58.59375 39.234375 62.25 \nQ 35.15625 65.921875 28.609375 65.921875 \nQ 23.96875 65.921875 18.8125 64.3125 \nQ 13.671875 62.703125 7.8125 59.421875 \nL 7.8125 69.390625 \nQ 13.765625 71.78125 18.9375 73 \nQ 24.125 74.21875 28.421875 74.21875 \nQ 39.75 74.21875 46.484375 68.546875 \nQ 53.21875 62.890625 53.21875 53.421875 \nQ 53.21875 48.921875 51.53125 44.890625 \nQ 49.859375 40.875 45.40625 35.40625 \nQ 44.1875 33.984375 37.640625 27.21875 \nQ 31.109375 20.453125 19.1875 8.296875 \nz\n\" id=\"DejaVuSans-50\"/>\n        <path d=\"M 31.78125 66.40625 \nQ 24.171875 66.40625 20.328125 58.90625 \nQ 16.5 51.421875 16.5 36.375 \nQ 16.5 21.390625 20.328125 13.890625 \nQ 24.171875 6.390625 31.78125 6.390625 \nQ 39.453125 6.390625 43.28125 13.890625 \nQ 47.125 21.390625 47.125 36.375 \nQ 47.125 51.421875 43.28125 58.90625 \nQ 39.453125 66.40625 31.78125 66.40625 \nz\nM 31.78125 74.21875 \nQ 44.046875 74.21875 50.515625 64.515625 \nQ 56.984375 54.828125 56.984375 36.375 \nQ 56.984375 17.96875 50.515625 8.265625 \nQ 44.046875 -1.421875 31.78125 -1.421875 \nQ 19.53125 -1.421875 13.0625 8.265625 \nQ 6.59375 17.96875 6.59375 36.375 \nQ 6.59375 54.828125 13.0625 64.515625 \nQ 19.53125 74.21875 31.78125 74.21875 \nz\n\" id=\"DejaVuSans-48\"/>\n        <path d=\"M 12.40625 8.296875 \nL 28.515625 8.296875 \nL 28.515625 63.921875 \nL 10.984375 60.40625 \nL 10.984375 69.390625 \nL 28.421875 72.90625 \nL 38.28125 72.90625 \nL 38.28125 8.296875 \nL 54.390625 8.296875 \nL 54.390625 0 \nL 12.40625 0 \nz\n\" id=\"DejaVuSans-49\"/>\n        <path d=\"M 33.015625 40.375 \nQ 26.375 40.375 22.484375 35.828125 \nQ 18.609375 31.296875 18.609375 23.390625 \nQ 18.609375 15.53125 22.484375 10.953125 \nQ 26.375 6.390625 33.015625 6.390625 \nQ 39.65625 6.390625 43.53125 10.953125 \nQ 47.40625 15.53125 47.40625 23.390625 \nQ 47.40625 31.296875 43.53125 35.828125 \nQ 39.65625 40.375 33.015625 40.375 \nz\nM 52.59375 71.296875 \nL 52.59375 62.3125 \nQ 48.875 64.0625 45.09375 64.984375 \nQ 41.3125 65.921875 37.59375 65.921875 \nQ 27.828125 65.921875 22.671875 59.328125 \nQ 17.53125 52.734375 16.796875 39.40625 \nQ 19.671875 43.65625 24.015625 45.921875 \nQ 28.375 48.1875 33.59375 48.1875 \nQ 44.578125 48.1875 50.953125 41.515625 \nQ 57.328125 34.859375 57.328125 23.390625 \nQ 57.328125 12.15625 50.6875 5.359375 \nQ 44.046875 -1.421875 33.015625 -1.421875 \nQ 20.359375 -1.421875 13.671875 8.265625 \nQ 6.984375 17.96875 6.984375 36.375 \nQ 6.984375 53.65625 15.1875 63.9375 \nQ 23.390625 74.21875 37.203125 74.21875 \nQ 40.921875 74.21875 44.703125 73.484375 \nQ 48.484375 72.75 52.59375 71.296875 \nz\n\" id=\"DejaVuSans-54\"/>\n       </defs>\n       <use xlink:href=\"#DejaVuSans-50\"/>\n       <use x=\"63.623047\" xlink:href=\"#DejaVuSans-48\"/>\n       <use x=\"127.246094\" xlink:href=\"#DejaVuSans-49\"/>\n       <use x=\"190.869141\" xlink:href=\"#DejaVuSans-54\"/>\n      </g>\n     </g>\n    </g>\n    <g id=\"xtick_2\">\n     <g id=\"line2d_2\">\n      <g>\n       <use style=\"stroke:#000000;stroke-width:0.8;\" x=\"127.083406\" xlink:href=\"#m53256833ef\" y=\"203.04\"/>\n      </g>\n     </g>\n     <g id=\"text_2\">\n      <!-- 2017 -->\n      <g transform=\"translate(104.003216 229.34544)rotate(-30)scale(0.1 -0.1)\">\n       <defs>\n        <path d=\"M 8.203125 72.90625 \nL 55.078125 72.90625 \nL 55.078125 68.703125 \nL 28.609375 0 \nL 18.3125 0 \nL 43.21875 64.59375 \nL 8.203125 64.59375 \nz\n\" id=\"DejaVuSans-55\"/>\n       </defs>\n       <use xlink:href=\"#DejaVuSans-50\"/>\n       <use x=\"63.623047\" xlink:href=\"#DejaVuSans-48\"/>\n       <use x=\"127.246094\" xlink:href=\"#DejaVuSans-49\"/>\n       <use x=\"190.869141\" xlink:href=\"#DejaVuSans-55\"/>\n      </g>\n     </g>\n    </g>\n    <g id=\"xtick_3\">\n     <g id=\"line2d_3\">\n      <g>\n       <use style=\"stroke:#000000;stroke-width:0.8;\" x=\"181.883405\" xlink:href=\"#m53256833ef\" y=\"203.04\"/>\n      </g>\n     </g>\n     <g id=\"text_3\">\n      <!-- 2018 -->\n      <g transform=\"translate(158.803215 229.34544)rotate(-30)scale(0.1 -0.1)\">\n       <defs>\n        <path d=\"M 31.78125 34.625 \nQ 24.75 34.625 20.71875 30.859375 \nQ 16.703125 27.09375 16.703125 20.515625 \nQ 16.703125 13.921875 20.71875 10.15625 \nQ 24.75 6.390625 31.78125 6.390625 \nQ 38.8125 6.390625 42.859375 10.171875 \nQ 46.921875 13.96875 46.921875 20.515625 \nQ 46.921875 27.09375 42.890625 30.859375 \nQ 38.875 34.625 31.78125 34.625 \nz\nM 21.921875 38.8125 \nQ 15.578125 40.375 12.03125 44.71875 \nQ 8.5 49.078125 8.5 55.328125 \nQ 8.5 64.0625 14.71875 69.140625 \nQ 20.953125 74.21875 31.78125 74.21875 \nQ 42.671875 74.21875 48.875 69.140625 \nQ 55.078125 64.0625 55.078125 55.328125 \nQ 55.078125 49.078125 51.53125 44.71875 \nQ 48 40.375 41.703125 38.8125 \nQ 48.828125 37.15625 52.796875 32.3125 \nQ 56.78125 27.484375 56.78125 20.515625 \nQ 56.78125 9.90625 50.3125 4.234375 \nQ 43.84375 -1.421875 31.78125 -1.421875 \nQ 19.734375 -1.421875 13.25 4.234375 \nQ 6.78125 9.90625 6.78125 20.515625 \nQ 6.78125 27.484375 10.78125 32.3125 \nQ 14.796875 37.15625 21.921875 38.8125 \nz\nM 18.3125 54.390625 \nQ 18.3125 48.734375 21.84375 45.5625 \nQ 25.390625 42.390625 31.78125 42.390625 \nQ 38.140625 42.390625 41.71875 45.5625 \nQ 45.3125 48.734375 45.3125 54.390625 \nQ 45.3125 60.0625 41.71875 63.234375 \nQ 38.140625 66.40625 31.78125 66.40625 \nQ 25.390625 66.40625 21.84375 63.234375 \nQ 18.3125 60.0625 18.3125 54.390625 \nz\n\" id=\"DejaVuSans-56\"/>\n       </defs>\n       <use xlink:href=\"#DejaVuSans-50\"/>\n       <use x=\"63.623047\" xlink:href=\"#DejaVuSans-48\"/>\n       <use x=\"127.246094\" xlink:href=\"#DejaVuSans-49\"/>\n       <use x=\"190.869141\" xlink:href=\"#DejaVuSans-56\"/>\n      </g>\n     </g>\n    </g>\n    <g id=\"xtick_4\">\n     <g id=\"line2d_4\">\n      <g>\n       <use style=\"stroke:#000000;stroke-width:0.8;\" x=\"236.683404\" xlink:href=\"#m53256833ef\" y=\"203.04\"/>\n      </g>\n     </g>\n     <g id=\"text_4\">\n      <!-- 2019 -->\n      <g transform=\"translate(213.603214 229.34544)rotate(-30)scale(0.1 -0.1)\">\n       <defs>\n        <path d=\"M 10.984375 1.515625 \nL 10.984375 10.5 \nQ 14.703125 8.734375 18.5 7.8125 \nQ 22.3125 6.890625 25.984375 6.890625 \nQ 35.75 6.890625 40.890625 13.453125 \nQ 46.046875 20.015625 46.78125 33.40625 \nQ 43.953125 29.203125 39.59375 26.953125 \nQ 35.25 24.703125 29.984375 24.703125 \nQ 19.046875 24.703125 12.671875 31.3125 \nQ 6.296875 37.9375 6.296875 49.421875 \nQ 6.296875 60.640625 12.9375 67.421875 \nQ 19.578125 74.21875 30.609375 74.21875 \nQ 43.265625 74.21875 49.921875 64.515625 \nQ 56.59375 54.828125 56.59375 36.375 \nQ 56.59375 19.140625 48.40625 8.859375 \nQ 40.234375 -1.421875 26.421875 -1.421875 \nQ 22.703125 -1.421875 18.890625 -0.6875 \nQ 15.09375 0.046875 10.984375 1.515625 \nz\nM 30.609375 32.421875 \nQ 37.25 32.421875 41.125 36.953125 \nQ 45.015625 41.5 45.015625 49.421875 \nQ 45.015625 57.28125 41.125 61.84375 \nQ 37.25 66.40625 30.609375 66.40625 \nQ 23.96875 66.40625 20.09375 61.84375 \nQ 16.21875 57.28125 16.21875 49.421875 \nQ 16.21875 41.5 20.09375 36.953125 \nQ 23.96875 32.421875 30.609375 32.421875 \nz\n\" id=\"DejaVuSans-57\"/>\n       </defs>\n       <use xlink:href=\"#DejaVuSans-50\"/>\n       <use x=\"63.623047\" xlink:href=\"#DejaVuSans-48\"/>\n       <use x=\"127.246094\" xlink:href=\"#DejaVuSans-49\"/>\n       <use x=\"190.869141\" xlink:href=\"#DejaVuSans-57\"/>\n      </g>\n     </g>\n    </g>\n    <g id=\"xtick_5\">\n     <g id=\"line2d_5\">\n      <g>\n       <use style=\"stroke:#000000;stroke-width:0.8;\" x=\"291.483403\" xlink:href=\"#m53256833ef\" y=\"203.04\"/>\n      </g>\n     </g>\n     <g id=\"text_5\">\n      <!-- 2020 -->\n      <g transform=\"translate(268.403213 229.34544)rotate(-30)scale(0.1 -0.1)\">\n       <use xlink:href=\"#DejaVuSans-50\"/>\n       <use x=\"63.623047\" xlink:href=\"#DejaVuSans-48\"/>\n       <use x=\"127.246094\" xlink:href=\"#DejaVuSans-50\"/>\n       <use x=\"190.869141\" xlink:href=\"#DejaVuSans-48\"/>\n      </g>\n     </g>\n    </g>\n    <g id=\"xtick_6\">\n     <g id=\"line2d_6\">\n      <g>\n       <use style=\"stroke:#000000;stroke-width:0.8;\" x=\"346.433539\" xlink:href=\"#m53256833ef\" y=\"203.04\"/>\n      </g>\n     </g>\n     <g id=\"text_6\">\n      <!-- 2021 -->\n      <g transform=\"translate(323.353349 229.34544)rotate(-30)scale(0.1 -0.1)\">\n       <use xlink:href=\"#DejaVuSans-50\"/>\n       <use x=\"63.623047\" xlink:href=\"#DejaVuSans-48\"/>\n       <use x=\"127.246094\" xlink:href=\"#DejaVuSans-50\"/>\n       <use x=\"190.869141\" xlink:href=\"#DejaVuSans-49\"/>\n      </g>\n     </g>\n    </g>\n    <g id=\"text_7\">\n     <!-- date -->\n     <g transform=\"translate(186.228125 242.74494)scale(0.1 -0.1)\">\n      <defs>\n       <path d=\"M 45.40625 46.390625 \nL 45.40625 75.984375 \nL 54.390625 75.984375 \nL 54.390625 0 \nL 45.40625 0 \nL 45.40625 8.203125 \nQ 42.578125 3.328125 38.25 0.953125 \nQ 33.9375 -1.421875 27.875 -1.421875 \nQ 17.96875 -1.421875 11.734375 6.484375 \nQ 5.515625 14.40625 5.515625 27.296875 \nQ 5.515625 40.1875 11.734375 48.09375 \nQ 17.96875 56 27.875 56 \nQ 33.9375 56 38.25 53.625 \nQ 42.578125 51.265625 45.40625 46.390625 \nz\nM 14.796875 27.296875 \nQ 14.796875 17.390625 18.875 11.75 \nQ 22.953125 6.109375 30.078125 6.109375 \nQ 37.203125 6.109375 41.296875 11.75 \nQ 45.40625 17.390625 45.40625 27.296875 \nQ 45.40625 37.203125 41.296875 42.84375 \nQ 37.203125 48.484375 30.078125 48.484375 \nQ 22.953125 48.484375 18.875 42.84375 \nQ 14.796875 37.203125 14.796875 27.296875 \nz\n\" id=\"DejaVuSans-100\"/>\n       <path d=\"M 34.28125 27.484375 \nQ 23.390625 27.484375 19.1875 25 \nQ 14.984375 22.515625 14.984375 16.5 \nQ 14.984375 11.71875 18.140625 8.90625 \nQ 21.296875 6.109375 26.703125 6.109375 \nQ 34.1875 6.109375 38.703125 11.40625 \nQ 43.21875 16.703125 43.21875 25.484375 \nL 43.21875 27.484375 \nz\nM 52.203125 31.203125 \nL 52.203125 0 \nL 43.21875 0 \nL 43.21875 8.296875 \nQ 40.140625 3.328125 35.546875 0.953125 \nQ 30.953125 -1.421875 24.3125 -1.421875 \nQ 15.921875 -1.421875 10.953125 3.296875 \nQ 6 8.015625 6 15.921875 \nQ 6 25.140625 12.171875 29.828125 \nQ 18.359375 34.515625 30.609375 34.515625 \nL 43.21875 34.515625 \nL 43.21875 35.40625 \nQ 43.21875 41.609375 39.140625 45 \nQ 35.0625 48.390625 27.6875 48.390625 \nQ 23 48.390625 18.546875 47.265625 \nQ 14.109375 46.140625 10.015625 43.890625 \nL 10.015625 52.203125 \nQ 14.9375 54.109375 19.578125 55.046875 \nQ 24.21875 56 28.609375 56 \nQ 40.484375 56 46.34375 49.84375 \nQ 52.203125 43.703125 52.203125 31.203125 \nz\n\" id=\"DejaVuSans-97\"/>\n       <path d=\"M 18.3125 70.21875 \nL 18.3125 54.6875 \nL 36.8125 54.6875 \nL 36.8125 47.703125 \nL 18.3125 47.703125 \nL 18.3125 18.015625 \nQ 18.3125 11.328125 20.140625 9.421875 \nQ 21.96875 7.515625 27.59375 7.515625 \nL 36.8125 7.515625 \nL 36.8125 0 \nL 27.59375 0 \nQ 17.1875 0 13.234375 3.875 \nQ 9.28125 7.765625 9.28125 18.015625 \nL 9.28125 47.703125 \nL 2.6875 47.703125 \nL 2.6875 54.6875 \nL 9.28125 54.6875 \nL 9.28125 70.21875 \nz\n\" id=\"DejaVuSans-116\"/>\n       <path d=\"M 56.203125 29.59375 \nL 56.203125 25.203125 \nL 14.890625 25.203125 \nQ 15.484375 15.921875 20.484375 11.0625 \nQ 25.484375 6.203125 34.421875 6.203125 \nQ 39.59375 6.203125 44.453125 7.46875 \nQ 49.3125 8.734375 54.109375 11.28125 \nL 54.109375 2.78125 \nQ 49.265625 0.734375 44.1875 -0.34375 \nQ 39.109375 -1.421875 33.890625 -1.421875 \nQ 20.796875 -1.421875 13.15625 6.1875 \nQ 5.515625 13.8125 5.515625 26.8125 \nQ 5.515625 40.234375 12.765625 48.109375 \nQ 20.015625 56 32.328125 56 \nQ 43.359375 56 49.78125 48.890625 \nQ 56.203125 41.796875 56.203125 29.59375 \nz\nM 47.21875 32.234375 \nQ 47.125 39.59375 43.09375 43.984375 \nQ 39.0625 48.390625 32.421875 48.390625 \nQ 24.90625 48.390625 20.390625 44.140625 \nQ 15.875 39.890625 15.1875 32.171875 \nz\n\" id=\"DejaVuSans-101\"/>\n      </defs>\n      <use xlink:href=\"#DejaVuSans-100\"/>\n      <use x=\"63.476562\" xlink:href=\"#DejaVuSans-97\"/>\n      <use x=\"124.755859\" xlink:href=\"#DejaVuSans-116\"/>\n      <use x=\"163.964844\" xlink:href=\"#DejaVuSans-101\"/>\n     </g>\n    </g>\n   </g>\n   <g id=\"matplotlib.axis_2\">\n    <g id=\"ytick_1\">\n     <g id=\"line2d_7\">\n      <defs>\n       <path d=\"M 0 0 \nL -3.5 0 \n\" id=\"m4d6f58428f\" style=\"stroke:#000000;stroke-width:0.8;\"/>\n      </defs>\n      <g>\n       <use style=\"stroke:#000000;stroke-width:0.8;\" x=\"30.103125\" xlink:href=\"#m4d6f58428f\" y=\"185.936962\"/>\n      </g>\n     </g>\n     <g id=\"text_8\">\n      <!-- 0.6 -->\n      <g transform=\"translate(7.2 189.73618)scale(0.1 -0.1)\">\n       <defs>\n        <path d=\"M 10.6875 12.40625 \nL 21 12.40625 \nL 21 0 \nL 10.6875 0 \nz\n\" id=\"DejaVuSans-46\"/>\n       </defs>\n       <use xlink:href=\"#DejaVuSans-48\"/>\n       <use x=\"63.623047\" xlink:href=\"#DejaVuSans-46\"/>\n       <use x=\"95.410156\" xlink:href=\"#DejaVuSans-54\"/>\n      </g>\n     </g>\n    </g>\n    <g id=\"ytick_2\">\n     <g id=\"line2d_8\">\n      <g>\n       <use style=\"stroke:#000000;stroke-width:0.8;\" x=\"30.103125\" xlink:href=\"#m4d6f58428f\" y=\"142.911583\"/>\n      </g>\n     </g>\n     <g id=\"text_9\">\n      <!-- 0.8 -->\n      <g transform=\"translate(7.2 146.710802)scale(0.1 -0.1)\">\n       <use xlink:href=\"#DejaVuSans-48\"/>\n       <use x=\"63.623047\" xlink:href=\"#DejaVuSans-46\"/>\n       <use x=\"95.410156\" xlink:href=\"#DejaVuSans-56\"/>\n      </g>\n     </g>\n    </g>\n    <g id=\"ytick_3\">\n     <g id=\"line2d_9\">\n      <g>\n       <use style=\"stroke:#000000;stroke-width:0.8;\" x=\"30.103125\" xlink:href=\"#m4d6f58428f\" y=\"99.886204\"/>\n      </g>\n     </g>\n     <g id=\"text_10\">\n      <!-- 1.0 -->\n      <g transform=\"translate(7.2 103.685423)scale(0.1 -0.1)\">\n       <use xlink:href=\"#DejaVuSans-49\"/>\n       <use x=\"63.623047\" xlink:href=\"#DejaVuSans-46\"/>\n       <use x=\"95.410156\" xlink:href=\"#DejaVuSans-48\"/>\n      </g>\n     </g>\n    </g>\n    <g id=\"ytick_4\">\n     <g id=\"line2d_10\">\n      <g>\n       <use style=\"stroke:#000000;stroke-width:0.8;\" x=\"30.103125\" xlink:href=\"#m4d6f58428f\" y=\"56.860825\"/>\n      </g>\n     </g>\n     <g id=\"text_11\">\n      <!-- 1.2 -->\n      <g transform=\"translate(7.2 60.660044)scale(0.1 -0.1)\">\n       <use xlink:href=\"#DejaVuSans-49\"/>\n       <use x=\"63.623047\" xlink:href=\"#DejaVuSans-46\"/>\n       <use x=\"95.410156\" xlink:href=\"#DejaVuSans-50\"/>\n      </g>\n     </g>\n    </g>\n    <g id=\"ytick_5\">\n     <g id=\"line2d_11\">\n      <g>\n       <use style=\"stroke:#000000;stroke-width:0.8;\" x=\"30.103125\" xlink:href=\"#m4d6f58428f\" y=\"13.835446\"/>\n      </g>\n     </g>\n     <g id=\"text_12\">\n      <!-- 1.4 -->\n      <g transform=\"translate(7.2 17.634665)scale(0.1 -0.1)\">\n       <defs>\n        <path d=\"M 37.796875 64.3125 \nL 12.890625 25.390625 \nL 37.796875 25.390625 \nz\nM 35.203125 72.90625 \nL 47.609375 72.90625 \nL 47.609375 25.390625 \nL 58.015625 25.390625 \nL 58.015625 17.1875 \nL 47.609375 17.1875 \nL 47.609375 0 \nL 37.796875 0 \nL 37.796875 17.1875 \nL 4.890625 17.1875 \nL 4.890625 26.703125 \nz\n\" id=\"DejaVuSans-52\"/>\n       </defs>\n       <use xlink:href=\"#DejaVuSans-49\"/>\n       <use x=\"63.623047\" xlink:href=\"#DejaVuSans-46\"/>\n       <use x=\"95.410156\" xlink:href=\"#DejaVuSans-52\"/>\n      </g>\n     </g>\n    </g>\n   </g>\n   <g id=\"line2d_12\">\n    <path clip-path=\"url(#pc5359a73fa)\" d=\"M 45.321307 105.418293 \nL 45.325999 103.90143 \nL 45.349458 106.756702 \nL 45.657551 114.876382 \nL 46.552117 104.793703 \nL 46.833624 103.812203 \nL 46.982197 104.704475 \nL 47.459195 104.972157 \nL 48.497642 114.6087 \nL 48.510154 113.894882 \nL 48.654035 113.091837 \nL 48.77133 113.359518 \nL 48.797916 111.218064 \nL 48.929286 112.6457 \nL 49.085679 109.968883 \nL 49.526706 113.359518 \nL 49.531398 112.6457 \nL 49.537654 112.110337 \nL 49.561113 112.824155 \nL 49.831672 110.236565 \nL 49.855131 110.950383 \nL 50.135074 114.430245 \nL 50.160097 114.251791 \nL 50.73875 114.787154 \nL 50.885759 118.088562 \nL 50.910782 116.571699 \nL 51.023384 117.374744 \nL 51.028076 116.839381 \nL 51.051535 116.036336 \nL 51.186033 116.125563 \nL 51.189161 116.660926 \nL 51.21262 116.571699 \nL 52.255759 127.90356 \nL 52.262014 130.045014 \nL 52.263578 129.777332 \nL 52.832848 129.866559 \nL 52.859435 131.383422 \nL 52.864126 133.971013 \nL 53.148761 122.639152 \nL 53.287951 123.620652 \nL 53.305154 124.691379 \nL 53.314537 124.245243 \nL 53.880679 129.777332 \nL 53.899446 130.758832 \nL 53.915085 130.49115 \nL 54.337345 129.688105 \nL 54.338909 129.777332 \nL 54.35924 131.740331 \nL 55.416455 124.512924 \nL 55.837151 125.226742 \nL 55.851227 125.762106 \nL 55.866866 125.672879 \nL 56.017003 123.085288 \nL 56.315713 119.694653 \nL 56.317277 120.676153 \nL 58.117357 132.632604 \nL 58.262802 129.241968 \nL 58.536489 128.171241 \nL 58.567768 123.263743 \nL 58.569332 123.799106 \nL 59.011923 120.76538 \nL 59.013487 120.230016 \nL 59.019743 120.676153 \nL 59.133909 120.051562 \nL 59.16988 121.300743 \nL 59.28561 115.233291 \nL 59.320017 116.928608 \nL 59.434183 116.21479 \nL 59.438875 116.393245 \nL 59.440439 117.642426 \nL 59.470154 114.251791 \nL 60.069138 115.5902 \nL 60.220839 117.463972 \nL 60.350644 117.285517 \nL 60.492962 116.21479 \nL 61.106021 114.876382 \nL 61.12166 114.430245 \nL 61.3844 114.430245 \nL 61.421934 116.125563 \nL 62.147596 113.091837 \nL 62.294606 115.500972 \nL 62.310245 116.125563 \nL 62.322756 115.054836 \nL 62.446307 114.697927 \nL 62.472893 116.928608 \nL 62.748144 118.80238 \nL 62.755964 118.534699 \nL 63.348692 114.251791 \nL 63.35182 114.341018 \nL 63.365896 112.824155 \nL 63.373715 113.6272 \nL 63.487882 112.467246 \nL 63.492574 112.913382 \nL 63.51916 114.341018 \nL 63.520724 114.162564 \nL 63.638019 114.073336 \nL 63.644275 115.054836 \nL 63.659914 113.270291 \nL 63.672425 113.796732 \nL 64.251078 119.337744 \nL 64.254206 118.80238 \nL 64.571683 120.497698 \nL 64.712437 120.140789 \nL 64.724948 121.74688 \nL 65.444354 120.319244 \nL 65.475633 121.74688 \nL 65.739937 119.873107 \nL 65.758704 118.534699 \nL 66.343612 117.553199 \nL 66.356124 118.445471 \nL 66.36238 117.463972 \nL 66.371763 118.17779 \nL 66.676729 119.516198 \nL 66.953544 121.74688 \nL 67.544708 120.854607 \nL 67.558784 121.033062 \nL 67.560348 121.033062 \nL 67.561911 121.300743 \nL 67.571295 120.586925 \nL 67.572859 120.76538 \nL 67.871569 131.561877 \nL 67.877825 131.47265 \nL 68.594103 134.684831 \nL 68.600359 133.257195 \nL 68.62851 133.524876 \nL 68.75206 133.435649 \nL 68.758316 136.380148 \nL 68.778647 134.506376 \nL 69.071101 140.038465 \nL 69.078921 139.146193 \nL 69.490233 138.25392 \nL 69.51682 139.324647 \nL 69.529332 137.718557 \nL 69.671649 134.774058 \nL 69.679469 135.398649 \nL 69.942208 131.651104 \nL 69.970359 132.275695 \nL 70.090781 133.881785 \nL 70.092345 132.632604 \nL 70.128316 134.327922 \nL 70.129879 134.327922 \nL 70.841466 129.955786 \nL 70.849286 130.045014 \nL 70.85085 130.669604 \nL 70.875873 129.598877 \nL 70.877437 129.688105 \nL 70.991603 130.848059 \nL 70.993167 129.866559 \nL 71.008806 129.688105 \nL 71.011934 130.134241 \nL 71.592151 135.130967 \nL 71.598407 135.755558 \nL 71.631249 133.07874 \nL 71.753236 134.149467 \nL 71.779822 134.595603 \nL 71.781386 133.792558 \nL 72.652494 141.82301 \nL 72.660313 141.287647 \nL 72.666569 140.127693 \nL 72.682208 141.287647 \nL 72.824526 139.503102 \nL 72.832345 139.860011 \nL 72.966843 142.001465 \nL 72.969971 141.644556 \nL 73.132619 147.444327 \nL 73.243658 146.195146 \nL 73.268681 147.087418 \nL 73.282756 148.247372 \nL 73.697197 147.712009 \nL 73.715964 149.496554 \nL 73.733167 148.158145 \nL 73.847334 147.3551 \nL 73.870793 148.336599 \nL 73.883304 147.801236 \nL 74.02093 148.871963 \nL 74.027185 149.764235 \nL 74.177322 146.998191 \nL 74.183578 148.247372 \nL 74.31964 153.601007 \nL 74.333715 152.976416 \nL 74.896729 149.853463 \nL 74.90142 150.031917 \nL 75.053121 156.010143 \nL 75.056249 155.920916 \nL 75.065633 156.723961 \nL 75.082836 154.047143 \nL 75.0844 154.136371 \nL 75.195439 154.047143 \nL 75.198567 154.314825 \nL 75.20795 151.994917 \nL 75.234537 153.690234 \nL 75.384674 149.585781 \nL 75.949252 151.102644 \nL 75.985222 149.585781 \nL 76.100952 150.388826 \nL 76.116592 148.515054 \nL 76.135359 150.210372 \nL 76.435633 143.607555 \nL 76.853201 145.124419 \nL 76.871968 146.105918 \nL 77.004902 147.97969 \nL 77.184754 147.087418 \nL 77.309868 145.302873 \nL 77.319251 145.927464 \nL 77.449057 145.3921 \nL 78.077756 151.994917 \nL 78.08714 151.459553 \nL 78.205998 149.228872 \nL 78.362391 154.314825 \nL 78.367083 154.225598 \nL 78.387414 152.708735 \nL 78.50158 152.441053 \nL 78.534423 151.370326 \nL 79.127151 145.927464 \nL 79.138098 146.641282 \nL 79.258521 144.053692 \nL 79.285108 144.142919 \nL 79.403966 143.607555 \nL 79.40553 144.053692 \nL 79.411786 144.76751 \nL 79.438372 144.499828 \nL 80.004514 142.179919 \nL 80.029537 141.555329 \nL 80.303224 147.712009 \nL 80.454925 145.213646 \nL 81.063293 143.072192 \nL 81.067984 143.250646 \nL 81.089879 144.410601 \nL 81.240016 139.949238 \nL 81.532471 136.737057 \nL 82.122071 134.417149 \nL 82.267516 137.183193 \nL 82.290975 136.64783 \nL 82.417653 135.398649 \nL 82.581866 136.469376 \nL 82.741386 133.524876 \nL 83.190233 133.257195 \nL 83.338806 136.201694 \nL 83.47174 135.309421 \nL 83.47956 135.934012 \nL 83.606238 132.811058 \nL 83.607802 133.435649 \nL 83.632824 131.561877 \nL 83.642208 131.561877 \nL 83.792345 130.223468 \nL 84.206786 128.974287 \nL 84.521135 131.829559 \nL 84.668144 133.703331 \nL 84.693167 132.186468 \nL 85.256181 131.47265 \nL 85.260872 132.275695 \nL 85.293715 132.008013 \nL 85.564274 127.992787 \nL 85.589297 128.706605 \nL 85.744126 130.49115 \nL 85.856729 133.792558 \nL 86.327471 130.856982 \nL 86.623053 134.238694 \nL 87.691215 126.654378 \nL 87.695907 126.743605 \nL 87.810073 127.992787 \nL 87.813201 127.189742 \nL 87.816329 126.565151 \nL 87.846044 127.814332 \nL 87.977413 127.992787 \nL 87.986797 128.52815 \nL 87.993053 128.260469 \nL 88.429388 126.832833 \nL 88.437208 126.92206 \nL 88.445028 127.189742 \nL 101.036203 128.260469 \nL 101.040895 127.725105 \nL 101.205107 125.94056 \nL 101.208235 126.029788 \nL 101.632059 125.405197 \nL 101.639879 125.583651 \nL 101.658646 125.137515 \nL 102.069959 124.869833 \nL 102.074651 124.33447 \nL 102.259194 124.691379 \nL 102.382744 123.174516 \nL 102.409331 123.35297 \nL 102.551648 124.423697 \nL 103.275746 122.549925 \nL 103.438395 123.709879 \nL 103.577584 123.709879 \nL 103.597915 124.156015 \nL 103.610427 123.442197 \nL 104.210975 124.423697 \nL 104.47997 125.672879 \nL 104.797447 122.37147 \nL 104.803703 122.549925 \nL 105.408943 121.033062 \nL 105.410507 120.586925 \nL 105.523109 120.497698 \nL 105.54344 121.211516 \nL 105.702961 119.248517 \nL 106.312893 117.285517 \nL 106.599091 119.159289 \nL 106.602219 118.445471 \nL 106.613167 118.623926 \nL 106.738281 117.820881 \nL 106.7461 118.267017 \nL 106.874342 118.980835 \nL 106.911877 117.731653 \nL 107.363851 119.694653 \nL 107.495221 118.713153 \nL 107.510861 119.337744 \nL 107.512424 119.873107 \nL 107.513988 119.78388 \nL 107.65787 119.426971 \nL 107.664125 118.80238 \nL 107.804879 119.962335 \nL 107.811135 119.605426 \nL 107.925301 119.337744 \nL 108.544616 118.980835 \nL 108.715084 121.033062 \nL 108.843326 121.122289 \nL 108.980952 118.17779 \nL 109.579936 116.304017 \nL 109.908361 116.21479 \nL 110.050678 119.78388 \nL 110.483886 121.033062 \nL 110.487013 120.76538 \nL 110.5136 119.070062 \nL 110.516728 119.248517 \nL 110.630895 122.639152 \nL 110.782596 121.300743 \nL 110.802927 121.523811 \nL 110.806055 122.460698 \nL 110.81231 122.059175 \nL 110.960883 119.694653 \nL 111.533281 118.534699 \nL 111.534845 118.713153 \nL 111.702185 120.586925 \nL 111.705313 120.051562 \nL 111.828863 119.248517 \nL 111.84763 120.051562 \nL 111.85545 119.516198 \nL 111.980564 115.054836 \nL 111.982128 115.144063 \nL 112.604571 119.070062 \nL 112.732813 118.623926 \nL 112.734376 118.713153 \nL 112.737504 119.694653 \nL 112.91892 116.660926 \nL 113.186351 119.159289 \nL 113.21763 118.356244 \nL 114.690849 115.411745 \nL 114.698669 115.500972 \nL 114.708052 114.876382 \nL 114.989559 119.070062 \nL 115.00989 118.534699 \nL 115.286705 119.248517 \nL 115.769959 120.408471 \nL 116.182835 117.820881 \nL 116.339228 117.553199 \nL 116.935084 116.928608 \nL 117.266637 119.070062 \nL 117.839034 118.80238 \nL 117.862493 119.962335 \nL 117.868749 119.248517 \nL 118.139308 121.479198 \nL 118.473988 125.494424 \nL 119.072972 118.17779 \nL 119.074536 119.516198 \nL 119.188703 123.709879 \nL 119.224673 123.263743 \nL 120.102036 128.082014 \nL 120.119239 126.386696 \nL 120.259993 128.795832 \nL 120.275632 127.992787 \nL 120.392927 126.386696 \nL 120.419513 127.457423 \nL 120.990347 126.208242 \nL 121.013806 126.654378 \nL 122.219593 123.888334 \nL 122.225849 124.33447 \nL 122.490153 124.780606 \nL 122.502664 124.245243 \nL 122.519867 125.672879 \nL 122.527687 124.869833 \nL 122.671568 126.029788 \nL 123.276808 124.33447 \nL 123.426945 122.014561 \nL 123.541111 122.059175 \nL 123.542675 122.193016 \nL 123.573954 121.033062 \nL 123.722527 120.854607 \nL 123.728783 121.122289 \nL 124.144787 122.996061 \nL 124.291796 121.657652 \nL 124.312127 121.74688 \nL 124.446625 122.639152 \nL 124.779742 125.851333 \nL 125.192618 126.119015 \nL 125.214513 125.672879 \nL 125.228589 126.92206 \nL 125.345883 126.029788 \nL 125.375598 126.743605 \nL 125.499148 126.832833 \nL 125.658668 129.241968 \nL 125.669616 128.974287 \nL 125.821317 128.617378 \nL 126.393714 127.635878 \nL 126.398406 126.832833 \nL 126.417173 126.92206 \nL 126.542287 126.297469 \nL 126.579821 127.90356 \nL 126.581385 127.814332 \nL 126.726831 124.869833 \nL 126.731522 125.048288 \nL 126.851945 125.583651 \nL 126.876968 126.208242 \nL 126.881659 126.029788 \nL 127.446237 122.549925 \nL 127.450929 123.085288 \nL 127.474388 123.799106 \nL 127.482207 123.442197 \nL 127.596374 122.639152 \nL 127.632344 122.996061 \nL 127.746511 122.817607 \nL 127.782481 121.74688 \nL 127.924799 122.014561 \nL 127.932618 121.836107 \nL 128.350187 121.479198 \nL 128.362698 122.103789 \nL 128.354878 121.389971 \nL 128.379901 121.702266 \nL 128.647333 119.78388 \nL 128.650461 119.962335 \nL 128.659844 120.586925 \nL 128.677047 119.337744 \nL 128.794342 119.159289 \nL 128.830312 120.230016 \nL 128.953862 120.051562 \nL 128.983577 118.980835 \nL 129.548155 119.605426 \nL 129.549719 119.248517 \nL 129.584125 120.676153 \nL 129.695164 119.337744 \nL 129.717059 119.78388 \nL 129.879707 121.033062 \nL 129.884399 120.76538 \nL 130.006385 120.497698 \nL 130.007949 120.586925 \nL 130.017333 121.479198 \nL 130.020461 121.389971 \nL 130.445849 120.408471 \nL 130.447413 120.497698 \nL 130.630392 117.19629 \nL 130.747687 117.285517 \nL 130.902515 116.125563 \nL 130.935358 116.393245 \nL 131.504627 118.267017 \nL 131.526522 118.891608 \nL 131.534342 118.579312 \nL 131.648509 118.445471 \nL 131.664148 118.80238 \nL 131.681351 118.445471 \nL 131.797082 117.463972 \nL 131.823668 117.731653 \nL 131.973805 118.66854 \nL 131.980061 119.248517 \nL 131.981625 119.203903 \nL 132.558714 117.642426 \nL 132.561842 117.731653 \nL 132.585301 118.267017 \nL 132.586865 118.088562 \nL 132.716671 118.311631 \nL 133.179593 114.787154 \nL 133.63626 114.162564 \nL 133.786397 115.322518 \nL 133.930278 114.251791 \nL 134.088235 114.251791 \nL 134.199273 113.894882 \nL 134.806077 113.002609 \nL 134.949958 113.537973 \nL 134.960906 112.734928 \nL 134.965598 112.824155 \nL 135.12199 113.091837 \nL 135.250232 115.768654 \nL 135.25336 115.233291 \nL 135.286203 115.322518 \nL 135.853908 115.5902 \nL 135.889878 117.017835 \nL 136.036887 113.716427 \nL 136.154182 114.787154 \nL 136.163566 116.036336 \nL 136.182333 115.679427 \nL 136.753166 115.5902 \nL 136.75473 115.500972 \nL 136.759422 116.125563 \nL 136.764113 116.036336 \nL 137.051876 114.787154 \nL 137.059696 114.965609 \nL 137.212961 117.285517 \nL 137.355278 116.125563 \nL 137.367789 116.393245 \nL 137.375609 117.017835 \nL 137.386556 116.304017 \nL 137.391248 116.304017 \nL 137.804125 114.430245 \nL 137.822892 114.519473 \nL 137.973029 114.341018 \nL 138.104399 114.876382 \nL 138.274867 110.682701 \nL 138.288942 111.03961 \nL 138.29207 111.128837 \nL 138.425004 111.128837 \nL 138.442207 110.950383 \nL 138.859776 110.325792 \nL 138.892618 109.522747 \nL 139.158486 111.753428 \nL 139.307059 111.664201 \nL 139.324262 110.236565 \nL 139.343029 110.593474 \nL 139.454068 111.307292 \nL 139.909171 113.091837 \nL 139.938885 110.950383 \nL 140.059307 111.218064 \nL 140.212572 109.611974 \nL 140.242287 109.790428 \nL 140.359581 111.03961 \nL 140.372093 110.325792 \nL 140.539433 111.218064 \nL 140.967949 111.307292 \nL 140.98046 111.218064 \nL 141.265095 109.165838 \nL 141.266659 109.344292 \nL 141.29481 110.415019 \nL 141.407412 110.147337 \nL 141.413668 110.325792 \nL 141.581008 110.325792 \nL 142.029855 111.307292 \nL 142.178428 110.771928 \nL 142.189376 110.861155 \nL 142.195632 111.307292 \nL 142.31449 111.396519 \nL 142.316054 111.307292 \nL 142.32231 112.02111 \nL 142.330129 111.574973 \nL 142.464627 111.931882 \nL 142.466191 111.218064 \nL 142.495906 112.824155 \nL 143.068303 111.03961 \nL 143.08707 111.396519 \nL 143.088634 111.128837 \nL 143.392036 113.761041 \nL 143.395164 114.519473 \nL 143.518714 112.556473 \nL 143.657903 112.734928 \nL 143.661031 112.467246 \nL 143.686054 112.6457 \nL 144.111442 110.415019 \nL 144.417972 107.47052 \nL 144.427355 108.095111 \nL 144.591568 108.362792 \nL 144.708862 108.095111 \nL 144.74796 108.184338 \nL 145.163965 108.005883 \nL 145.190552 107.024384 \nL 145.192116 107.202838 \nL 145.335997 106.176725 \nL 145.343817 106.578247 \nL 145.467367 107.916656 \nL 145.478314 107.024384 \nL 145.609684 106.578247 \nL 145.642527 108.45202 \nL 145.773896 107.381293 \nL 146.210232 105.596748 \nL 146.218052 105.775202 \nL 146.24933 106.667475 \nL 146.518326 103.366067 \nL 146.668463 104.258339 \nL 146.685666 103.722976 \nL 146.691922 103.366067 \nL 146.699741 103.41068 \nL 146.849878 102.830703 \nL 147.262755 102.652249 \nL 147.300289 101.670749 \nL 147.419148 102.384567 \nL 147.434787 101.581522 \nL 147.450426 101.80459 \nL 147.736625 106.399793 \nL 148.351248 103.633748 \nL 148.613988 102.116885 \nL 148.639011 102.91993 \nL 148.651522 102.563021 \nL 148.918953 100.153886 \nL 148.951796 100.421567 \nL 149.546088 100.956931 \nL 149.702481 103.366067 \nL 149.821339 102.91993 \nL 149.999627 100.689249 \nL 150.001191 100.867704 \nL 150.425015 100.867704 \nL 150.5861 100.600022 \nL 150.590791 100.778476 \nL 150.726853 100.778476 \nL 150.895757 99.618522 \nL 150.903577 99.707749 \nL 151.05215 101.759976 \nL 151.624547 101.581522 \nL 151.629239 101.135385 \nL 151.643314 101.403067 \nL 151.766864 100.510795 \nL 151.771556 101.31384 \nL 151.918565 104.436794 \nL 152.065574 104.169112 \nL 152.104673 102.473794 \nL 152.522241 99.886204 \nL 152.542572 100.510795 \nL 152.686453 100.778476 \nL 152.700529 101.31384 \nL 152.96796 100.153886 \nL 152.972652 100.33234 \nL 153.138428 100.153886 \nL 153.571636 98.72625 \nL 153.5732 98.324727 \nL 153.601351 98.904704 \nL 153.881294 99.261613 \nL 153.906316 98.904704 \nL 154.029867 100.510795 \nL 154.040814 102.384567 \nL 154.203462 99.35084 \nL 154.625723 98.547795 \nL 154.638234 98.637022 \nL 154.924433 99.573909 \nL 154.949456 97.923204 \nL 155.223143 102.027658 \nL 155.673554 101.135385 \nL 155.822127 98.547795 \nL 155.823691 98.637022 \nL 155.842458 98.72625 \nL 155.844022 98.458568 \nL 155.9707 96.138659 \nL 155.980083 96.317114 \nL 156.122401 95.335614 \nL 156.123965 95.692523 \nL 156.133348 94.711024 \nL 156.289741 93.461842 \nL 156.303816 92.658797 \nL 156.758919 94.086433 \nL 156.869958 95.424842 \nL 156.877778 94.532569 \nL 156.904364 93.551069 \nL 156.909056 93.818751 \nL 157.031042 91.766524 \nL 157.20151 91.677297 \nL 157.326625 92.926479 \nL 157.924045 91.498843 \nL 157.936556 91.498843 \nL 157.941248 92.034206 \nL 157.956887 91.944979 \nL 158.235266 89.803525 \nL 158.246214 92.56957 \nL 158.260289 91.498843 \nL 158.856145 91.944979 \nL 158.860837 91.855752 \nL 158.984387 90.160434 \nL 159.27215 90.785025 \nL 159.295609 91.855752 \nL 159.311248 91.677297 \nL 160.040038 87.126707 \nL 160.046293 88.01898 \nL 160.20425 90.60657 \nL 160.208942 90.338888 \nL 160.355951 93.907978 \nL 160.362207 94.889478 \nL 160.482629 94.621796 \nL 160.501396 94.17566 \nL 160.504524 94.354115 \nL 160.934604 91.855752 \nL 160.962755 91.944979 \nL 161.098816 92.123433 \nL 161.227058 90.963479 \nL 161.405346 92.391115 \nL 161.988691 90.785025 \nL 162.00433 91.320388 \nL 162.581419 85.520617 \nL 162.60957 85.788299 \nL 163.03183 87.305162 \nL 163.038086 86.948253 \nL 163.177275 88.465116 \nL 163.644889 85.788299 \nL 163.660529 86.234435 \nL 164.22667 87.662071 \nL 164.228234 87.572844 \nL 164.229798 87.305162 \nL 164.250129 89.268161 \nL 164.259513 89.178934 \nL 164.528508 86.591344 \nL 164.545711 87.215935 \nL 164.562914 87.03748 \nL 164.711487 87.840525 \nL 165.283885 84.092981 \nL 165.287013 84.182208 \nL 165.440277 84.806799 \nL 165.466864 84.539117 \nL 165.73586 83.825299 \nL 165.762446 82.933027 \nL 166.197218 81.148482 \nL 166.334844 81.8623 \nL 166.367686 81.416164 \nL 166.635118 82.129982 \nL 166.647629 81.505391 \nL 166.66796 81.683845 \nL 166.79151 83.557618 \nL 167.235665 85.342162 \nL 167.26538 86.859026 \nL 167.268508 86.234435 \nL 167.384239 85.966753 \nL 167.392058 86.145208 \nL 167.393622 86.234435 \nL 167.40457 85.788299 \nL 167.409261 85.966753 \nL 167.531248 86.323662 \nL 167.542195 87.082094 \nL 167.559398 86.234435 \nL 167.568782 86.412889 \nL 167.707971 87.126707 \nL 167.712663 87.03748 \nL 168.286624 83.646845 \nL 168.288188 83.736072 \nL 168.441453 81.773073 \nL 168.618177 81.683845 \nL 168.619741 81.817686 \nL 168.755802 79.363937 \nL 168.880917 80.791573 \nL 168.920015 80.523891 \nL 169.370426 80.077755 \nL 169.640985 78.025528 \nL 169.792686 77.31171 \nL 170.382286 75.527165 \nL 170.385414 75.794847 \nL 170.396362 76.597892 \nL 170.546499 77.668619 \nL 170.557446 77.400937 \nL 170.68256 76.151756 \nL 170.69038 76.597892 \nL 170.721659 76.151756 \nL 170.859284 79.542391 \nL 171.010985 76.776347 \nL 171.437937 78.471664 \nL 171.583382 78.560892 \nL 171.606841 78.114755 \nL 171.62248 78.560892 \nL 171.903987 79.096255 \nL 171.922754 79.810073 \nL 172.038485 78.828573 \nL 172.072891 77.400937 \nL 172.488896 77.668619 \nL 172.518611 79.007028 \nL 172.523302 78.560892 \nL 172.642161 77.400937 \nL 172.659364 77.757846 \nL 172.784478 74.72412 \nL 172.79699 75.170256 \nL 172.823576 76.508665 \nL 172.934615 76.240983 \nL 173.089444 76.508665 \nL 173.112903 75.527165 \nL 173.122286 75.70562 \nL 173.539855 74.813347 \nL 173.546111 74.902575 \nL 173.572697 74.277984 \nL 173.688428 74.277984 \nL 173.699375 75.170256 \nL 173.724398 74.902575 \nL 173.985574 74.545666 \nL 174.016853 76.508665 \nL 174.141967 76.508665 \nL 174.586122 76.33021 \nL 174.587686 76.687119 \nL 174.592378 76.240983 \nL 174.88796 81.148482 \nL 174.925494 80.434664 \nL 175.070939 76.419438 \nL 175.638645 75.081029 \nL 175.676179 74.456438 \nL 175.824752 71.333485 \nL 176.237629 72.939575 \nL 176.239193 72.671893 \nL 176.700551 75.348711 \nL 176.709935 75.973301 \nL 176.72401 75.616392 \nL 176.838177 74.367211 \nL 176.871019 74.813347 \nL 177.166601 79.27471 \nL 177.174421 78.917801 \nL 177.310483 82.397663 \nL 177.738999 79.631619 \nL 177.75151 80.970027 \nL 177.765585 80.434664 \nL 177.896955 80.746959 \nL 177.903211 80.657732 \nL 178.064295 84.896026 \nL 178.075243 84.182208 \nL 178.18941 84.44989 \nL 178.339547 80.925414 \nL 178.34111 81.103868 \nL 178.345802 81.728459 \nL 178.358314 80.657732 \nL 178.378645 81.237709 \nL 178.813416 79.631619 \nL 179.098051 79.542391 \nL 179.24506 79.720846 \nL 179.246624 79.631619 \nL 179.248188 79.27471 \nL 179.271647 80.523891 \nL 179.423348 80.256209 \nL 179.42804 80.791573 \nL 179.864375 78.560892 \nL 179.870631 78.650119 \nL 180.028588 79.720846 \nL 180.291327 78.828573 \nL 180.477435 76.954801 \nL 181.054524 77.668619 \nL 181.203097 77.044028 \nL 181.207789 77.31171 \nL 181.37982 79.27471 \nL 181.517446 77.757846 \nL 182.128941 75.081029 \nL 182.408884 71.511939 \nL 182.410448 71.601166 \nL 182.426088 72.13653 \nL 182.576225 69.727394 \nL 182.993793 70.084303 \nL 183.031327 68.478213 \nL 183.164261 69.102803 \nL 183.173645 68.790508 \nL 183.181464 68.656667 \nL 183.183028 68.745894 \nL 183.328473 71.065803 \nL 183.333165 70.351985 \nL 183.444204 70.530439 \nL 183.445768 70.441212 \nL 183.606852 67.853622 \nL 183.620928 68.032076 \nL 184.196453 65.712168 \nL 184.199581 65.97985 \nL 184.233987 68.299758 \nL 184.377868 64.909123 \nL 184.496727 64.99835 \nL 184.509238 65.97985 \nL 184.52175 65.533713 \nL 184.676578 63.570714 \nL 184.679706 63.749169 \nL 185.100403 63.481487 \nL 185.122298 63.749169 \nL 185.130117 63.124578 \nL 185.405368 59.912397 \nL 185.421008 61.072351 \nL 185.431955 60.090851 \nL 185.546122 60.804669 \nL 185.553941 60.358533 \nL 185.558633 59.287806 \nL 185.561761 59.377033 \nL 186.149798 59.109352 \nL 186.296807 62.946123 \nL 186.299935 64.284532 \nL 186.31401 62.767669 \nL 186.335905 63.035351 \nL 186.446944 60.269306 \nL 186.471967 61.964624 \nL 186.783188 68.656667 \nL 187.197629 70.17353 \nL 187.20232 67.58594 \nL 187.236727 76.062529 \nL 187.383736 71.244257 \nL 187.3853 70.441212 \nL 187.386864 70.530439 \nL 187.499466 74.099529 \nL 187.685574 83.022254 \nL 187.831019 82.933027 \nL 188.250151 78.560892 \nL 188.251715 79.27471 \nL 188.287686 79.720846 \nL 188.423747 77.668619 \nL 188.698998 69.192031 \nL 188.700562 68.032076 \nL 188.706818 71.065803 \nL 188.738097 70.17353 \nL 188.866339 68.56744 \nL 188.888234 69.995076 \nL 189.452811 72.582666 \nL 189.454375 72.404212 \nL 189.457503 73.207257 \nL 189.465323 71.958075 \nL 189.470014 72.047303 \nL 189.627971 69.192031 \nL 189.638919 71.422712 \nL 189.767161 69.905849 \nL 189.789055 71.422712 \nL 189.936065 68.032076 \nL 190.355197 67.764395 \nL 190.358325 68.478213 \nL 190.689877 75.170256 \nL 190.814992 72.314984 \nL 190.822811 73.653393 \nL 190.830631 75.616392 \nL 190.952617 78.471664 \nL 190.990151 74.545666 \nL 191.421795 74.72412 \nL 191.584444 72.761121 \nL 191.851875 71.15503 \nL 191.853439 71.601166 \nL 191.880026 72.761121 \nL 191.890973 72.314984 \nL 192.014523 68.924349 \nL 192.61038 66.60444 \nL 192.630711 68.656667 \nL 192.752697 67.139804 \nL 192.754261 67.407486 \nL 193.658211 69.370485 \nL 193.670722 68.478213 \nL 193.692617 69.102803 \nL 193.80522 69.459712 \nL 194.138336 79.007028 \nL 194.554341 74.813347 \nL 194.559033 75.884074 \nL 194.56998 76.865574 \nL 194.591875 74.099529 \nL 194.593439 74.099529 \nL 194.718553 73.74262 \nL 194.86087 79.453164 \nL 195.004752 77.133256 \nL 194.889021 79.720846 \nL 195.006316 77.400937 \nL 195.03603 74.72412 \nL 195.611555 78.025528 \nL 195.630323 80.256209 \nL 195.758565 78.114755 \nL 195.929033 79.096255 \nL 195.944672 76.33021 \nL 196.076042 74.634893 \nL 196.67659 76.597892 \nL 196.693793 77.757846 \nL 196.994067 73.831848 \nL 196.995631 74.010302 \nL 197.109797 74.099529 \nL 197.137948 73.474939 \nL 197.294341 76.687119 \nL 197.295905 76.33021 \nL 197.708781 77.044028 \nL 197.882377 75.170256 \nL 197.885505 75.616392 \nL 198.043462 73.653393 \nL 198.192035 74.634893 \nL 198.318713 77.044028 \nL 198.346864 76.865574 \nL 198.765996 76.597892 \nL 198.911441 75.884074 \nL 198.913005 76.419438 \nL 198.941156 78.471664 \nL 198.920825 75.973301 \nL 198.947412 78.025528 \nL 199.06627 79.810073 \nL 199.388439 75.437938 \nL 199.391567 75.794847 \nL 199.813827 74.545666 \nL 199.815391 74.813347 \nL 199.973348 79.497778 \nL 199.985859 77.757846 \nL 200.109409 77.400937 \nL 200.118793 76.597892 \nL 200.148507 77.936301 \nL 200.264238 80.166982 \nL 200.270494 81.594618 \nL 200.284569 79.185482 \nL 200.295517 79.363937 \nL 200.412811 80.613118 \nL 200.426886 78.382437 \nL 200.863222 77.936301 \nL 200.899192 79.096255 \nL 201.312069 74.634893 \nL 201.335528 73.385711 \nL 201.479409 74.010302 \nL 201.484101 73.385711 \nL 202.06119 75.616392 \nL 202.064318 76.776347 \nL 202.086213 75.794847 \nL 202.39587 76.062529 \nL 202.533496 77.847074 \nL 202.963576 75.348711 \nL 202.968268 75.70562 \nL 202.997982 76.687119 \nL 203.151247 76.33021 \nL 203.271669 78.114755 \nL 203.292 76.954801 \nL 203.43901 77.668619 \nL 203.575071 76.508665 \nL 204.163108 79.453164 \nL 204.166236 78.917801 \nL 204.199078 81.951527 \nL 204.200642 81.505391 \nL 204.651053 77.133256 \nL 205.220322 75.170256 \nL 205.240653 75.884074 \nL 205.245345 75.794847 \nL 205.397046 73.564166 \nL 205.514341 73.74262 \nL 205.686373 76.151756 \nL 206.275973 76.151756 \nL 206.296304 76.597892 \nL 206.41829 76.597892 \nL 206.588758 77.936301 \nL 206.602834 77.847074 \nL 207.315984 85.43139 \nL 207.32224 86.412889 \nL 207.355083 83.736072 \nL 207.645973 86.412889 \nL 207.794546 84.360663 \nL 207.805494 85.342162 \nL 208.374763 88.01898 \nL 208.542103 90.472729 \nL 208.556178 91.677297 \nL 208.851761 86.591344 \nL 208.856452 86.769798 \nL 209.417902 90.071207 \nL 209.436669 89.714298 \nL 209.738507 90.517343 \nL 209.757274 90.785025 \nL 209.885516 87.929753 \nL 210.35313 85.609844 \nL 210.356258 85.699071 \nL 210.770699 87.126707 \nL 210.79103 86.234435 \nL 210.79885 86.680571 \nL 210.948987 86.234435 \nL 210.956806 86.323662 \nL 211.379067 87.840525 \nL 211.408781 87.215935 \nL 211.521384 87.572844 \nL 211.549535 85.342162 \nL 211.558918 85.43139 \nL 211.857628 88.108207 \nL 211.859192 87.305162 \nL 212.009329 84.806799 \nL 212.445665 86.591344 \nL 212.45974 86.859026 \nL 212.578598 82.397663 \nL 212.59111 82.933027 \nL 212.720916 82.397663 \nL 212.725608 82.8438 \nL 212.730299 83.289936 \nL 212.880436 82.308436 \nL 212.910151 82.486891 \nL 213.491932 83.379163 \nL 213.634249 82.308436 \nL 213.776567 82.665345 \nL 213.939215 86.591344 \nL 214.09248 84.806799 \nL 214.111247 85.342162 \nL 214.685208 83.289936 \nL 215.129363 86.948253 \nL 215.146566 86.769798 \nL 215.573519 87.929753 \nL 215.581338 87.662071 \nL 215.590722 89.00048 \nL 215.612617 88.375889 \nL 215.725219 89.446616 \nL 215.750242 88.643571 \nL 215.759626 88.108207 \nL 215.762754 88.286662 \nL 215.906635 94.800251 \nL 216.041133 91.855752 \nL 216.0599 92.56957 \nL 216.177194 94.086433 \nL 216.192834 93.015706 \nL 216.213165 91.052706 \nL 216.624477 90.428116 \nL 216.635425 90.785025 \nL 216.663576 90.071207 \nL 216.804329 87.215935 \nL 216.924751 87.126707 \nL 216.926315 87.305162 \nL 216.96385 86.145208 \nL 217.697331 82.129982 \nL 217.714534 82.486891 \nL 217.978838 82.8438 \nL 217.981966 82.665345 \nL 218.014808 81.683845 \nL 218.899991 89.00048 \nL 218.91563 88.554343 \nL 219.037617 92.034206 \nL 219.183062 91.632683 \nL 219.195573 92.480342 \nL 219.21434 91.58807 \nL 219.215904 91.944979 \nL 219.339455 91.543456 \nL 219.350402 93.104933 \nL 219.366041 92.480342 \nL 219.78361 93.461842 \nL 219.808633 94.264887 \nL 219.810197 94.220274 \nL 220.229329 90.60657 \nL 220.262171 90.695797 \nL 220.833005 91.766524 \nL 220.859591 92.56957 \nL 221.133279 89.357389 \nL 221.148918 88.286662 \nL 221.167685 88.643571 \nL 221.446064 85.966753 \nL 221.457012 86.859026 \nL 221.463267 86.859026 \nL 221.466395 86.502117 \nL 222.030973 87.572844 \nL 222.032537 87.840525 \nL 222.068507 87.215935 \nL 222.206133 86.323662 \nL 222.21708 86.591344 \nL 222.517354 89.446616 \nL 222.518918 89.00048 \nL 222.939614 87.572844 \nL 222.964637 87.662071 \nL 223.386897 94.800251 \nL 223.397845 96.138659 \nL 223.413484 95.870978 \nL 223.987445 97.566295 \nL 224.015596 97.477068 \nL 224.142274 98.547795 \nL 224.151658 98.101659 \nL 224.165733 97.74475 \nL 224.170425 98.72625 \nL 224.470699 105.418293 \nL 224.620836 100.510795 \nL 225.03684 103.90143 \nL 225.071247 103.187612 \nL 225.21982 99.707749 \nL 225.509146 106.578247 \nL 225.512274 106.132111 \nL 226.101875 102.91993 \nL 226.689911 111.664201 \nL 226.702422 109.255065 \nL 226.722753 109.968883 \nL 227.140322 108.362792 \nL 227.166909 112.110337 \nL 227.31861 109.790428 \nL 227.468747 105.061384 \nL 227.587605 104.526021 \nL 227.598553 101.31384 \nL 227.736178 97.120159 \nL 227.742434 98.993931 \nL 227.754945 101.135385 \nL 227.773712 99.618522 \nL 228.202228 99.618522 \nL 228.220995 98.904704 \nL 228.222559 98.993931 \nL 228.361749 99.083159 \nL 228.368005 100.064658 \nL 228.37426 99.261613 \nL 228.511886 97.030932 \nL 228.669843 101.31384 \nL 228.813724 104.972157 \nL 228.824671 103.812203 \nL 229.248495 106.042884 \nL 229.262571 105.596748 \nL 229.403324 102.384567 \nL 229.273518 106.132111 \nL 229.40958 103.276839 \nL 229.423655 104.436794 \nL 229.425219 103.90143 \nL 229.547206 103.812203 \nL 229.872502 98.369341 \nL 230.890619 104.615248 \nL 231.511498 101.759976 \nL 231.80708 98.369341 \nL 231.943142 99.529295 \nL 231.946269 99.261613 \nL 232.393552 94.354115 \nL 232.538998 94.532569 \nL 232.576532 98.458568 \nL 232.578096 98.280113 \nL 232.853347 104.615248 \nL 232.873678 102.206112 \nL 232.9941 101.046158 \nL 233.011304 101.492294 \nL 233.017559 103.098385 \nL 233.442947 105.150612 \nL 233.478918 104.88293 \nL 233.625927 102.652249 \nL 233.765116 99.35084 \nL 233.776064 100.600022 \nL 233.912126 100.778476 \nL 234.071646 103.009158 \nL 234.500162 102.91993 \nL 234.506418 102.786089 \nL 234.518929 104.793703 \nL 234.529877 105.507521 \nL 234.642479 103.276839 \nL 234.680014 104.526021 \nL 234.947445 105.587825 \nL 234.970904 108.45202 \nL 235.097582 106.578247 \nL 235.122605 107.648974 \nL 235.127297 108.273565 \nL 235.128861 107.916656 \nL 235.541737 106.399793 \nL 235.562068 109.165838 \nL 235.843575 108.808929 \nL 235.863906 107.113611 \nL 235.874854 107.827429 \nL 235.995276 107.381293 \nL 236.021863 108.898156 \nL 236.148541 108.808929 \nL 236.176692 107.47052 \nL 236.178256 108.005883 \nL 236.598952 107.47052 \nL 236.631794 109.433519 \nL 236.899226 109.433519 \nL 236.921121 108.45202 \nL 236.930504 108.898156 \nL 237.080641 112.378019 \nL 237.082205 111.842655 \nL 237.216703 106.132111 \nL 237.226087 106.756702 \nL 237.654603 106.578247 \nL 237.656167 106.756702 \nL 237.668678 105.864429 \nL 237.67337 106.042884 \nL 237.798484 106.221338 \nL 237.97208 101.403067 \nL 237.973644 102.116885 \nL 238.1316 100.600022 \nL 238.708689 102.741476 \nL 238.716509 102.563021 \nL 238.72902 102.384567 \nL 239.023039 98.280113 \nL 239.033986 98.815477 \nL 239.173176 99.172386 \nL 239.310801 96.049432 \nL 239.317057 95.870978 \nL 239.33426 96.406341 \nL 239.914477 98.904704 \nL 239.93168 100.153886 \nL 239.934808 99.35084 \nL 240.818427 96.674023 \nL 240.82781 96.138659 \nL 240.984203 95.15716 \nL 241.271966 90.338888 \nL 241.286041 90.785025 \nL 241.436178 91.498843 \nL 241.850619 91.58807 \nL 241.886589 90.428116 \nL 242.147765 88.465116 \nL 242.160276 88.911252 \nL 242.322924 92.212661 \nL 242.485573 93.461842 \nL 242.901577 93.283388 \nL 243.198724 91.855752 \nL 243.209671 92.391115 \nL 243.351988 93.640297 \nL 243.378575 92.123433 \nL 244.431098 91.320388 \nL 244.56716 88.197434 \nL 244.587491 88.822025 \nL 245.031646 86.234435 \nL 245.314717 88.732798 \nL 245.489876 91.231161 \nL 246.051326 89.357389 \nL 246.05289 89.535843 \nL 246.066965 91.632683 \nL 246.090424 90.160434 \nL 246.360984 88.732798 \nL 246.390698 88.911252 \nL 246.653438 95.15716 \nL 246.689408 94.978705 \nL 247.114797 91.141934 \nL 247.566771 90.874252 \nL 247.591794 90.695797 \nL 247.724728 87.751298 \nL 247.741931 88.197434 \nL 248.186086 86.05598 \nL 248.192342 85.609844 \nL 248.461338 87.126707 \nL 248.484797 85.252935 \nL 248.489488 85.699071 \nL 248.778815 89.714298 \nL 248.79289 90.517343 \nL 249.834465 87.305162 \nL 250.569511 82.576118 \nL 250.594534 83.736072 \nL 250.739979 82.397663 \nL 251.317068 81.416164 \nL 251.335835 80.791573 \nL 251.48128 81.594618 \nL 251.493792 81.237709 \nL 252.35708 82.397663 \nL 252.391486 82.8438 \nL 252.543187 80.166982 \nL 252.544751 80.613118 \nL 253.417422 81.505391 \nL 253.434625 81.326936 \nL 253.714568 81.951527 \nL 253.716132 81.8623 \nL 253.71926 81.594618 \nL 253.741155 82.397663 \nL 254.028917 82.397663 \nL 254.033609 82.665345 \nL 254.047685 81.951527 \nL 254.616954 82.620731 \nL 254.618518 82.888413 \nL 254.638849 81.8623 \nL 254.648232 82.129982 \nL 254.776474 81.594618 \nL 254.788986 80.166982 \nL 254.79055 80.613118 \nL 254.932867 82.665345 \nL 254.937559 82.576118 \nL 255.509956 86.05598 \nL 255.514648 85.609844 \nL 255.544363 84.44989 \nL 255.533415 85.699071 \nL 255.549054 84.806799 \nL 255.697627 89.62507 \nL 255.699191 89.178934 \nL 255.836817 88.732798 \nL 256.121452 93.372615 \nL 256.129271 92.56957 \nL 256.573427 98.458568 \nL 256.600013 97.923204 \nL 256.743895 94.532569 \nL 256.75015 94.800251 \nL 256.865881 95.15716 \nL 256.870573 94.711024 \nL 256.900287 94.800251 \nL 257.017582 94.532569 \nL 257.026965 93.907978 \nL 257.047296 95.15716 \nL 257.167719 97.74475 \nL 257.632205 99.172386 \nL 257.763575 98.458568 \nL 257.951246 98.458568 \nL 258.096691 101.581522 \nL 258.213986 99.886204 \nL 258.221805 101.224613 \nL 258.820789 99.440068 \nL 258.844248 99.796977 \nL 259.117936 97.387841 \nL 259.878004 95.960205 \nL 259.885824 96.049432 \nL 259.896771 95.603296 \nL 260.014066 96.138659 \nL 260.032833 97.655523 \nL 260.053164 97.387841 \nL 260.167331 97.298614 \nL 261.074408 92.480342 \nL 261.080664 92.926479 \nL 261.396577 94.711024 \nL 261.978358 90.071207 \nL 261.987741 90.249661 \nL 262.297399 86.145208 \nL 262.902639 88.286662 \nL 263.049648 90.249661 \nL 263.944214 84.806799 \nL 264.230413 87.483616 \nL 264.233541 87.215935 \nL 264.549454 88.554343 \nL 264.551018 88.420503 \nL 265.157821 90.338888 \nL 265.282935 88.286662 \nL 265.454967 89.714298 \nL 266.050824 88.286662 \nL 266.190013 88.286662 \nL 266.351098 89.178934 \nL 266.629477 88.465116 \nL 266.659191 89.535843 \nL 267.07676 89.178934 \nL 267.083015 88.822025 \nL 267.101782 89.178934 \nL 267.230024 88.911252 \nL 267.231588 88.643571 \nL 267.23628 88.822025 \nL 267.672616 89.00048 \nL 268.301314 91.677297 \nL 268.309134 91.543456 \nL 268.460835 93.551069 \nL 268.595333 92.301888 \nL 268.610972 97.387841 \nL 269.183369 103.544521 \nL 269.355401 101.670749 \nL 269.361657 101.849203 \nL 269.488335 102.563021 \nL 269.491463 102.206112 \nL 269.505538 100.778476 \nL 269.658803 98.993931 \nL 269.791737 100.956931 \nL 269.812068 100.600022 \nL 270.262479 101.849203 \nL 270.547113 105.239839 \nL 270.856771 101.581522 \nL 271.297798 99.796977 \nL 271.304054 100.421567 \nL 271.580869 99.261613 \nL 271.743518 100.956931 \nL 271.760721 100.600022 \nL 272.334682 102.384567 \nL 272.347193 101.938431 \nL 272.350321 102.29534 \nL 272.664671 100.421567 \nL 273.715629 95.870978 \nL 273.828232 93.283388 \nL 274.42878 92.926479 \nL 274.4366 92.56957 \nL 274.444419 92.837251 \nL 274.599248 92.748024 \nL 274.915161 90.60657 \nL 275.066862 89.62507 \nL 275.814419 92.391115 \nL 277.612935 94.532569 \nL 277.769328 95.870978 \nL 277.911645 98.280113 \nL 278.2041 95.870978 \nL 278.668586 96.361728 \nL 279.114305 95.335614 \nL 279.266006 91.498843 \nL 280.17152 89.714298 \nL 280.321657 91.231161 \nL 281.222479 88.822025 \nL 281.355412 88.286662 \nL 281.360104 88.108207 \nL 281.36636 88.286662 \nL 281.973164 88.01898 \nL 282.112353 88.554343 \nL 282.409499 85.877526 \nL 283.022558 82.040754 \nL 283.15862 82.933027 \nL 283.920253 83.646845 \nL 283.921816 83.46839 \nL 283.924944 83.914527 \nL 284.050058 84.44989 \nL 284.35346 86.412889 \nL 284.373791 86.05598 \nL 284.375355 86.145208 \nL 284.968084 84.360663 \nL 284.971211 84.44989 \nL 284.975903 84.717572 \nL 287.223266 88.911252 \nL 287.226394 88.554343 \nL 291.696097 74.456438 \nL 291.711736 74.367211 \nL 291.849362 76.33021 \nL 291.858746 76.151756 \nL 291.872821 77.044028 \nL 291.875949 77.044028 \nL 292.332615 78.560892 \nL 292.446782 78.471664 \nL 292.463985 77.757846 \nL 292.476497 78.114755 \nL 292.606303 77.936301 \nL 292.922216 74.188757 \nL 292.928472 74.545666 \nL 293.350732 72.671893 \nL 293.380446 70.887348 \nL 293.682284 74.277984 \nL 293.683848 74.099529 \nL 293.974739 70.976576 \nL 294.58467 75.70562 \nL 294.734807 74.545666 \nL 294.859921 78.650119 \nL 294.884944 76.33021 \nL 295.596531 85.163708 \nL 295.634065 83.111481 \nL 295.746668 81.906913 \nL 295.77951 82.308436 \nL 295.917136 87.03748 \nL 295.935903 85.252935 \nL 296.073529 89.892752 \nL 296.082912 89.62507 \nL 296.52394 86.948253 \nL 296.536451 87.483616 \nL 296.833597 81.059255 \nL 296.836725 81.326936 \nL 297.127615 83.111481 \nL 297.135435 82.933027 \nL 297.576462 82.219209 \nL 297.728163 79.27471 \nL 298.779122 80.077755 \nL 298.785378 79.720846 \nL 298.788506 79.810073 \nL 299.221713 81.059255 \nL 299.673688 89.446616 \nL 299.689328 88.732798 \nL 299.800366 87.126707 \nL 299.80975 88.465116 \nL 299.831645 90.963479 \nL 299.839465 90.785025 \nL 299.986474 88.911252 \nL 300.130355 92.480342 \nL 300.702752 96.406341 \nL 301.013974 90.428116 \nL 301.165675 90.160434 \nL 301.189134 93.19416 \nL 301.778734 110.236565 \nL 301.791245 108.898156 \nL 301.910104 104.169112 \nL 301.930435 105.418293 \nL 302.074316 109.701201 \nL 302.089955 108.808929 \nL 302.236965 131.829559 \nL 302.391793 118.980835 \nL 302.828129 135.309421 \nL 302.829693 135.220194 \nL 302.842204 136.915512 \nL 302.957935 133.971013 \nL 303.131531 142.80451 \nL 303.255081 142.536828 \nL 303.403654 132.186468 \nL 303.405218 134.327922 \nL 303.442752 138.476989 \nL 303.854065 139.860011 \nL 303.86814 144.142919 \nL 303.877524 139.324647 \nL 303.893163 140.573829 \nL 304.018277 130.580377 \nL 304.040172 131.740331 \nL 304.157467 128.52815 \nL 304.187181 122.817607 \nL 304.193437 124.33447 \nL 304.315423 121.033062 \nL 304.326371 121.568425 \nL 304.52499 128.795832 \nL 304.905024 126.297469 \nL 304.944122 124.959061 \nL 305.088003 123.977561 \nL 305.241268 130.401923 \nL 305.244396 130.045014 \nL 305.372638 125.762106 \nL 305.386713 126.92206 \nL 305.514955 125.94056 \nL 305.533722 128.706605 \nL 305.54467 127.814332 \nL 306.112375 116.571699 \nL 306.145218 118.445471 \nL 306.292227 117.285517 \nL 306.445492 117.553199 \nL 307.030401 118.267017 \nL 307.194613 113.091837 \nL 307.313471 117.508585 \nL 307.325983 117.463972 \nL 307.471428 114.787154 \nL 307.496451 115.500972 \nL 308.075104 112.02111 \nL 308.674088 115.679427 \nL 309.298095 110.593474 \nL 309.448232 106.042884 \nL 310.183277 115.679427 \nL 310.494499 112.6457 \nL 310.49919 113.091837 \nL 310.799464 108.273565 \nL 311.218597 108.987383 \nL 311.2358 108.45202 \nL 311.364042 108.005883 \nL 311.373426 106.935156 \nL 311.400012 109.255065 \nL 311.520435 108.273565 \nL 311.536074 110.325792 \nL 311.700286 109.879656 \nL 312.300834 104.704475 \nL 312.422821 105.239839 \nL 312.450971 106.667475 \nL 312.601108 104.526021 \nL 312.898254 111.485746 \nL 312.901382 111.128837 \nL 313.492547 105.775202 \nL 313.634864 107.827429 \nL 313.652067 107.292065 \nL 313.774053 105.864429 \nL 314.387113 100.689249 \nL 314.552889 96.317114 \nL 314.703026 92.034206 \nL 314.984533 89.446616 \nL 314.99548 90.160434 \nL 315.750857 89.981979 \nL 316.052695 96.227887 \nL 316.645423 95.514069 \nL 316.646987 95.246387 \nL 316.653243 95.692523 \nL 316.654807 95.424842 \nL 316.772101 92.926479 \nL 316.804944 93.372615 \nL 316.955081 92.212661 \nL 317.069247 90.60657 \nL 317.543117 90.249661 \nL 317.554065 91.052706 \nL 317.82306 90.785025 \nL 317.852775 91.409615 \nL 318.00604 90.338888 \nL 318.153049 92.480342 \nL 319.053871 86.457503 \nL 320.068859 74.545666 \nL 320.253403 76.865574 \nL 320.705377 77.222483 \nL 320.969681 76.33021 \nL 320.996268 76.776347 \nL 321.410709 79.8993 \nL 321.412272 78.739346 \nL 321.435731 80.523891 \nL 321.440423 79.27471 \nL 321.748517 76.597892 \nL 321.903345 73.74262 \nL 322.051919 77.133256 \nL 322.463231 78.739346 \nL 322.466359 77.624006 \nL 322.475743 77.757846 \nL 322.796348 75.259483 \nL 322.955868 76.062529 \nL 323.102877 72.671893 \nL 323.401587 78.025528 \nL 323.406279 77.31171 \nL 324.005263 73.207257 \nL 324.146017 69.638167 \nL 324.311793 69.013576 \nL 324.906085 72.761121 \nL 325.490994 71.244257 \nL 326.255754 71.065803 \nL 326.258882 70.351985 \nL 326.401199 72.761121 \nL 327.278562 65.890622 \nL 327.614807 65.533713 \nL 328.037067 71.422712 \nL 328.05427 70.708894 \nL 328.215355 66.425986 \nL 328.640743 73.11803 \nL 329.263186 74.456438 \nL 329.396119 73.474939 \nL 330.315708 69.192031 \nL 330.767683 72.404212 \nL 331.810822 80.523891 \nL 332.719464 72.13653 \nL 332.85709 74.277984 \nL 333.91274 66.60444 \nL 335.532969 65.622941 \nL 335.53766 65.667554 \nL 335.557991 64.106078 \nL 335.683106 64.730668 \nL 335.686233 64.284532 \nL 335.689361 64.106078 \nL 335.703437 65.087577 \nL 335.719076 64.641441 \nL 335.869213 64.373759 \nL 335.988071 65.176804 \nL 336.583927 65.801395 \nL 336.585491 65.712168 \nL 336.755959 70.530439 \nL 336.768471 70.441212 \nL 337.057797 72.671893 \nL 337.659909 67.630554 \nL 337.663037 68.032076 \nL 337.820994 60.536988 \nL 338.535708 50.811218 \nL 338.690537 57.592488 \nL 338.995503 54.915671 \nL 338.997067 55.094125 \nL 339.023653 57.949397 \nL 339.025217 57.770943 \nL 339.156587 55.094125 \nL 339.591359 51.70349 \nL 339.736804 53.934171 \nL 339.905708 51.70349 \nL 339.922911 51.971172 \nL 339.926039 53.220353 \nL 340.637626 48.491309 \nL 340.664213 49.472809 \nL 341.688585 51.168127 \nL 342.741108 44.208401 \nL 342.775514 44.654537 \nL 342.928779 44.832992 \nL 343.229053 43.048447 \nL 343.810834 45.725264 \nL 343.948459 45.011446 \nL 343.953151 45.100674 \nL 343.979738 44.119174 \nL 344.280012 40.99622 \nL 344.86492 43.762265 \nL 344.999418 45.457583 \nL 345.002546 45.011446 \nL 345.17145 42.780765 \nL 345.180834 43.137674 \nL 345.931519 47.331355 \nL 346.192694 40.193175 \nL 346.946507 35.196449 \nL 346.973094 37.873267 \nL 347.096644 33.679586 \nL 347.101336 33.85804 \nL 347.273368 32.787314 \nL 347.39379 33.054995 \nL 348.153859 23.329225 \nL 348.169498 24.935316 \nL 348.183573 24.310725 \nL 348.294612 22.793862 \nL 348.318071 23.686134 \nL 348.483847 21.901589 \nL 349.195434 19.224772 \nL 349.214201 20.830862 \nL 349.347135 16.101818 \nL 349.645845 18.154045 \nL 349.677124 16.3695 \nL 349.684943 16.637182 \n\" style=\"fill:none;stroke:#1f77b4;stroke-linecap:square;stroke-width:1.5;\"/>\n   </g>\n   <g id=\"line2d_13\">\n    <path clip-path=\"url(#pc5359a73fa)\" d=\"M 45.321307 94.354115 \nL 45.347894 98.080563 \nL 45.349458 97.247276 \nL 45.657551 86.837291 \nL 46.527094 97.787848 \nL 46.552117 97.325076 \nL 46.833624 96.308705 \nL 46.982197 97.232678 \nL 47.459195 96.955487 \nL 48.489823 87.175434 \nL 48.497642 86.568407 \nL 48.510154 87.382101 \nL 48.654035 86.473193 \nL 48.77133 86.776162 \nL 48.774457 87.685071 \nL 48.797916 86.182241 \nL 48.927722 87.184127 \nL 48.929286 86.582996 \nL 49.085679 89.604558 \nL 49.522015 92.743406 \nL 49.531398 92.353398 \nL 49.537654 91.764351 \nL 49.561113 92.549747 \nL 49.975553 97.416488 \nL 49.989629 96.839819 \nL 50.135074 95.873595 \nL 50.160097 96.068559 \nL 50.73875 96.652411 \nL 50.885759 93.035361 \nL 50.910782 93.342716 \nL 51.028076 94.837795 \nL 51.051535 93.945595 \nL 51.186033 94.044728 \nL 51.209492 93.350797 \nL 51.21262 93.748754 \nL 52.2323 82.406967 \nL 52.240119 83.509365 \nL 52.263578 87.250395 \nL 52.832848 87.360107 \nL 52.859435 85.489489 \nL 52.864126 82.255191 \nL 53.131558 93.561241 \nL 53.162836 91.267484 \nL 53.287951 91.580853 \nL 53.308282 93.143316 \nL 53.314537 92.935573 \nL 53.875987 98.336897 \nL 53.899446 96.144585 \nL 53.915085 96.674124 \nL 54.337345 95.723906 \nL 54.338909 95.829485 \nL 54.35924 93.494931 \nL 55.407071 101.899219 \nL 55.416455 101.398952 \nL 55.834024 102.099326 \nL 55.837151 101.999273 \nL 55.851227 101.398387 \nL 55.866866 102.30292 \nL 55.987288 104.60845 \nL 56.017003 104.019905 \nL 56.315713 100.292457 \nL 56.317277 101.371455 \nL 58.117357 88.227295 \nL 58.262802 92.44347 \nL 58.536489 91.160647 \nL 58.567768 85.281046 \nL 58.569332 85.922457 \nL 58.982208 89.022611 \nL 59.011923 88.918563 \nL 59.013487 88.295427 \nL 59.019743 88.814707 \nL 59.133909 89.5417 \nL 59.320017 96.250075 \nL 59.434183 95.46174 \nL 59.438875 95.658824 \nL 59.443567 95.875865 \nL 59.470154 93.712033 \nL 60.069138 95.187373 \nL 60.206763 93.613677 \nL 60.220839 94.51003 \nL 60.350644 94.70922 \nL 60.492962 93.516238 \nL 61.106021 92.025012 \nL 61.12166 91.527936 \nL 61.3844 91.527936 \nL 61.396912 92.124427 \nL 61.421934 90.83203 \nL 62.147596 94.251571 \nL 62.300861 97.856086 \nL 62.310245 96.78969 \nL 62.319628 97.866611 \nL 62.322756 97.76967 \nL 62.446307 97.381909 \nL 62.472893 99.805419 \nL 62.610519 98.254372 \nL 62.62303 99.040174 \nL 62.755964 99.628656 \nL 63.348692 94.933628 \nL 63.35182 95.031441 \nL 63.503521 100.621779 \nL 63.516033 100.051336 \nL 63.520724 101.00511 \nL 63.638019 100.910038 \nL 63.663042 103.197215 \nL 63.672425 102.737968 \nL 64.251078 96.892425 \nL 64.254206 97.290726 \nL 64.720256 100.455773 \nL 64.724948 99.56795 \nL 65.444354 101.159419 \nL 65.452174 101.845476 \nL 65.467813 100.963222 \nL 65.475633 101.55452 \nL 65.739937 103.624063 \nL 65.74932 102.270864 \nL 65.758704 103.724957 \nL 66.343612 102.669476 \nL 66.363943 105.633435 \nL 66.371763 105.44378 \nL 66.656398 104.112658 \nL 66.676729 104.401123 \nL 66.953544 101.995845 \nL 67.560348 103.174188 \nL 67.566603 103.077195 \nL 67.572859 104.049824 \nL 67.871569 94.040973 \nL 67.877825 94.148449 \nL 68.592539 97.906477 \nL 68.594103 97.799105 \nL 68.614434 100.580206 \nL 68.62851 100.052202 \nL 68.75206 99.946518 \nL 68.758316 97.093055 \nL 68.778647 101.507065 \nL 69.064845 107.206188 \nL 69.069537 107.101182 \nL 69.078921 112.01661 \nL 69.490233 110.986694 \nL 69.523076 114.775696 \nL 69.529332 113.252592 \nL 69.654446 108.68328 \nL 69.679469 109.813901 \nL 69.970359 115.560381 \nL 69.979742 114.683116 \nL 70.090781 113.798873 \nL 70.125188 116.847943 \nL 70.129879 116.066709 \nL 70.875873 110.270641 \nL 70.877437 110.36917 \nL 70.991603 109.088298 \nL 70.999423 109.988342 \nL 71.011934 110.679135 \nL 71.592151 105.156595 \nL 71.631249 113.454351 \nL 71.742288 114.146314 \nL 71.753236 113.652055 \nL 71.756363 113.254697 \nL 71.781386 115.044763 \nL 72.647802 124.004447 \nL 72.649366 124.689416 \nL 72.666569 123.025528 \nL 72.682208 124.298915 \nL 72.794811 125.376396 \nL 72.829217 123.533435 \nL 72.832345 124.316983 \nL 72.969971 126.455181 \nL 73.268681 136.966671 \nL 73.282756 135.73318 \nL 73.695633 136.212794 \nL 73.697197 136.117383 \nL 73.717528 138.121015 \nL 73.733167 136.7867 \nL 73.847334 135.928926 \nL 73.883304 137.549166 \nL 74.019366 138.590843 \nL 74.02093 138.496145 \nL 74.027185 137.548149 \nL 74.160119 139.368793 \nL 74.182014 138.711653 \nL 74.183578 137.866758 \nL 74.31964 132.09963 \nL 74.333715 132.403748 \nL 74.896729 128.884295 \nL 74.90142 129.085407 \nL 74.931135 129.083655 \nL 75.04843 134.339205 \nL 75.049994 134.339205 \nL 75.067197 135.559616 \nL 75.082836 134.254342 \nL 75.0844 134.354541 \nL 75.195439 134.45474 \nL 75.345576 139.924524 \nL 75.351831 139.163683 \nL 75.381546 142.193189 \nL 75.384674 142.006558 \nL 75.949252 143.592918 \nL 75.985222 144.992211 \nL 76.100952 145.817555 \nL 76.135359 149.08715 \nL 76.254217 151.153364 \nL 76.285496 150.721263 \nL 76.435633 147.219952 \nL 76.853201 148.704848 \nL 76.871968 147.741272 \nL 77.004902 149.596902 \nL 77.184754 148.713269 \nL 77.309868 146.946002 \nL 77.319251 147.387818 \nL 77.449057 147.918558 \nL 78.08714 154.950417 \nL 78.205998 152.767347 \nL 78.237277 155.125062 \nL 78.534423 149.711393 \nL 79.134971 143.944489 \nL 79.138098 145.119622 \nL 79.285108 147.817906 \nL 79.40553 148.775569 \nL 79.418041 147.907223 \nL 79.421169 147.907223 \nL 79.433681 148.34312 \nL 79.438372 148.168962 \nL 80.004514 145.898974 \nL 80.029537 145.287823 \nL 80.454925 153.425438 \nL 81.063293 151.387548 \nL 81.067984 151.557372 \nL 81.089879 150.453515 \nL 81.204046 153.982251 \nL 81.240016 153.240173 \nL 81.532471 150.271863 \nL 82.122071 148.128083 \nL 82.140838 148.622801 \nL 82.417653 145.717124 \nL 82.581866 146.72634 \nL 82.711671 149.081177 \nL 82.741386 148.672276 \nL 83.190233 148.426936 \nL 83.457665 151.616362 \nL 83.465484 151.453778 \nL 83.47174 151.291194 \nL 83.47956 151.860237 \nL 83.492071 153.973827 \nL 83.606238 153.260913 \nL 83.607802 153.815402 \nL 83.609366 154.211465 \nL 83.632824 152.634441 \nL 83.642208 152.792397 \nL 83.764194 151.60888 \nL 83.792345 151.766682 \nL 84.206786 150.663133 \nL 84.242756 150.899608 \nL 84.37569 150.741958 \nL 84.388201 149.873216 \nL 84.391329 150.272298 \nL 84.521135 151.940358 \nL 84.668144 150.268082 \nL 84.693167 151.646363 \nL 85.256181 151.008523 \nL 85.293715 152.283579 \nL 85.589297 156.461427 \nL 85.744126 154.934819 \nL 85.856729 152.070749 \nL 86.318087 154.156668 \nL 86.327471 153.617091 \nL 86.623053 156.580854 \nL 87.695907 163.299716 \nL 87.810073 162.292195 \nL 87.841352 162.586762 \nL 87.846044 163.309847 \nL 87.977413 163.165161 \nL 87.986797 162.730136 \nL 87.993053 162.948724 \nL 88.429388 161.786263 \nL 88.437208 161.858917 \nL 88.445028 162.076878 \nL 101.036203 161.205033 \nL 101.040895 161.645954 \nL 101.205107 160.184619 \nL 101.208235 160.257686 \nL 101.633623 160.841738 \nL 101.639879 160.769153 \nL 101.658646 161.132422 \nL 102.069959 160.915485 \nL 102.074651 160.481611 \nL 102.259194 160.77086 \nL 102.551648 158.818427 \nL 103.275746 160.354049 \nL 103.438395 161.286161 \nL 103.577584 161.286161 \nL 103.597915 161.644666 \nL 103.610427 161.071058 \nL 104.210975 161.859769 \nL 104.332961 161.21446 \nL 104.361112 161.286768 \nL 104.47997 161.720207 \nL 104.628543 163.306785 \nL 104.797447 162.102767 \nL 104.803703 162.244416 \nL 105.249422 163.023487 \nL 105.408943 162.602851 \nL 105.410507 162.252322 \nL 105.523109 162.182216 \nL 105.677938 163.794652 \nL 105.702961 163.310642 \nL 106.312893 161.789469 \nL 106.461466 162.895777 \nL 106.599091 162.550055 \nL 106.613167 163.243639 \nL 106.741409 164.069411 \nL 106.7461 163.932625 \nL 106.874342 163.384487 \nL 106.904057 164.143666 \nL 106.911877 163.93868 \nL 107.495221 166.057552 \nL 107.510861 166.531501 \nL 107.513988 166.193337 \nL 107.65787 165.921272 \nL 107.664125 165.445157 \nL 107.775164 165.921272 \nL 107.800187 165.717099 \nL 107.811135 165.23893 \nL 107.925301 165.03376 \nL 108.544616 164.7602 \nL 108.550872 164.89698 \nL 108.560256 164.691685 \nL 108.715084 163.457294 \nL 108.843326 163.527007 \nL 108.980952 165.827532 \nL 109.579936 164.407361 \nL 109.908361 164.339734 \nL 110.04755 166.706685 \nL 110.050678 166.368549 \nL 110.497961 165.143524 \nL 110.5136 164.320065 \nL 110.516728 164.594551 \nL 110.782596 168.228181 \nL 110.802927 168.39721 \nL 110.806055 167.687287 \nL 110.81231 167.994501 \nL 110.960883 166.192885 \nL 111.533281 165.309074 \nL 111.534845 165.445045 \nL 111.828863 163.808646 \nL 111.85545 164.842405 \nL 111.980564 161.415415 \nL 111.982128 161.483955 \nL 112.604571 158.468204 \nL 112.734376 158.895599 \nL 112.737504 158.113199 \nL 112.904844 160.812984 \nL 113.048726 160.46364 \nL 113.186351 159.275873 \nL 113.21763 159.914431 \nL 114.690849 157.592174 \nL 114.698669 157.662545 \nL 114.708052 158.155145 \nL 115.00207 161.79162 \nL 115.00989 161.722006 \nL 115.283577 162.139693 \nL 115.286705 162.0004 \nL 115.769959 161.093762 \nL 116.182835 163.140374 \nL 116.339228 162.934212 \nL 116.935084 162.453167 \nL 116.969491 162.590608 \nL 117.236922 161.559798 \nL 117.241614 161.072202 \nL 117.266637 161.492232 \nL 117.839034 161.70196 \nL 117.868749 162.888577 \nL 118.139308 164.621992 \nL 118.473988 161.501845 \nL 118.888429 165.476948 \nL 118.907196 165.202444 \nL 118.90876 164.516183 \nL 119.046385 164.92794 \nL 119.074536 166.1584 \nL 119.188703 162.93879 \nL 119.224673 163.576238 \nL 120.102036 159.770938 \nL 120.119239 161.178862 \nL 120.250609 162.561478 \nL 120.264685 162.052651 \nL 120.419513 159.633225 \nL 120.990347 158.598345 \nL 120.998166 158.894025 \nL 121.013806 158.820105 \nL 122.075712 160.669856 \nL 122.219593 160.236307 \nL 122.225849 160.597598 \nL 122.490153 160.236307 \nL 122.526123 160.67638 \nL 122.512048 159.802088 \nL 122.527687 160.313406 \nL 122.670004 161.184545 \nL 122.671568 161.11195 \nL 123.0907 161.911247 \nL 123.100084 161.767422 \nL 123.389411 160.832559 \nL 123.400358 161.192122 \nL 123.426945 160.190031 \nL 123.541111 160.22582 \nL 123.542675 160.118453 \nL 123.559879 160.691871 \nL 123.573954 160.336128 \nL 123.722527 160.193831 \nL 123.728783 160.407277 \nL 124.144787 158.913157 \nL 124.446625 161.48425 \nL 124.742207 163.625218 \nL 124.779742 163.482534 \nL 125.192618 163.696964 \nL 125.217641 164.197164 \nL 125.228589 163.341333 \nL 125.499148 164.059137 \nL 125.658668 162.117449 \nL 125.669616 162.777115 \nL 125.821317 162.485056 \nL 126.393714 161.681892 \nL 126.398406 161.024759 \nL 126.417173 161.389833 \nL 126.542287 160.879699 \nL 126.581385 162.264349 \nL 126.876968 159.057967 \nL 126.881659 159.205373 \nL 127.601066 155.748522 \nL 127.615141 155.822702 \nL 127.743383 156.044416 \nL 127.782481 155.084549 \nL 127.895084 155.379893 \nL 127.924799 155.748322 \nL 127.932618 155.601059 \nL 128.350187 155.306534 \nL 128.372082 156.922148 \nL 128.379901 156.885806 \nL 128.647333 155.316576 \nL 128.650461 155.462551 \nL 128.662972 157.424947 \nL 128.677047 156.847965 \nL 128.794342 156.70372 \nL 128.830312 158.932654 \nL 128.946043 159.004152 \nL 128.953862 158.932719 \nL 128.95699 158.646989 \nL 128.983577 159.788475 \nL 129.546591 160.212393 \nL 129.548155 160.14174 \nL 129.557538 161.129207 \nL 129.584125 160.706449 \nL 129.717059 162.260683 \nL 129.879707 161.42235 \nL 129.884399 161.634297 \nL 130.006385 161.422934 \nL 130.007949 161.493388 \nL 130.012641 161.282026 \nL 130.020461 161.847278 \nL 130.447413 162.693566 \nL 130.747687 165.336242 \nL 130.908771 166.480847 \nL 130.935358 166.414151 \nL 131.503063 167.682516 \nL 131.504627 167.949298 \nL 131.534342 167.314112 \nL 131.648509 167.213477 \nL 131.650072 167.414748 \nL 131.681351 167.079053 \nL 131.823668 165.86881 \nL 131.956602 166.340999 \nL 131.973805 166.104904 \nL 131.980061 165.665048 \nL 131.981625 165.699084 \nL 132.558714 164.508382 \nL 132.561842 164.576422 \nL 132.585301 164.984662 \nL 132.586865 164.848582 \nL 132.715107 164.950642 \nL 132.716671 164.882602 \nL 133.160826 166.881802 \nL 133.179593 166.617281 \nL 133.63626 166.154371 \nL 133.930278 167.807622 \nL 134.088235 167.807622 \nL 134.199273 167.545924 \nL 134.806077 166.891677 \nL 134.949958 167.284225 \nL 134.965598 167.937952 \nL 135.12199 167.743122 \nL 135.250232 165.787579 \nL 135.286203 166.255071 \nL 135.853908 166.454479 \nL 136.036887 170.098647 \nL 136.151054 170.740998 \nL 136.154182 170.612528 \nL 136.176077 169.386196 \nL 136.182333 169.581493 \nL 136.753166 169.516394 \nL 136.75473 169.451295 \nL 136.764113 170.10217 \nL 136.911123 170.62203 \nL 137.051876 170.234923 \nL 137.059696 170.363958 \nL 137.073771 170.751066 \nL 137.090974 170.62203 \nL 137.211397 169.648456 \nL 137.212961 169.451929 \nL 137.391248 170.763392 \nL 137.804125 169.403157 \nL 137.822892 169.46793 \nL 137.973029 169.338384 \nL 138.104399 169.727022 \nL 138.257664 166.877006 \nL 138.274867 167.395587 \nL 138.288942 167.653434 \nL 138.29207 167.588972 \nL 138.425004 167.588972 \nL 138.442207 167.459936 \nL 138.859776 167.008308 \nL 138.864467 166.459903 \nL 138.892618 166.685717 \nL 139.011476 167.200966 \nL 139.158486 166.106061 \nL 139.172561 166.563634 \nL 139.308623 167.213303 \nL 139.316442 166.695389 \nL 139.324262 166.436432 \nL 139.343029 166.56591 \nL 139.454068 167.084277 \nL 139.909171 165.784702 \nL 139.913862 166.378187 \nL 139.938885 165.396882 \nL 140.059307 165.593143 \nL 140.358018 167.08814 \nL 140.362709 167.991301 \nL 140.372093 167.927184 \nL 140.539433 168.56836 \nL 140.98046 168.56836 \nL 141.105575 167.670713 \nL 141.133725 167.798948 \nL 141.266659 168.631255 \nL 141.293246 168.059699 \nL 141.29481 167.867687 \nL 141.412104 168.252213 \nL 141.413668 168.316217 \nL 141.581008 168.316217 \nL 142.029855 169.019646 \nL 142.178428 168.635957 \nL 142.184684 168.827801 \nL 142.195632 169.274879 \nL 142.31449 169.211043 \nL 142.316054 169.274935 \nL 142.330129 170.104806 \nL 142.459935 170.517922 \nL 142.461499 170.486214 \nL 142.495906 171.94102 \nL 143.08707 173.451927 \nL 143.088634 173.638029 \nL 143.367013 175.616916 \nL 143.392036 175.094042 \nL 143.395164 174.566334 \nL 143.51715 175.691408 \nL 143.518714 175.445365 \nL 143.657903 175.568386 \nL 143.686054 175.875615 \nL 144.111442 177.409317 \nL 144.417972 175.428975 \nL 144.427355 175.729027 \nL 144.74796 176.149306 \nL 145.163965 176.029493 \nL 145.190552 175.370519 \nL 145.192116 175.490332 \nL 145.343817 176.505057 \nL 145.773896 179.049043 \nL 146.22118 177.705178 \nL 146.397903 175.11337 \nL 146.662207 175.821126 \nL 146.674718 175.703715 \nL 146.691922 175.232279 \nL 146.699741 175.379627 \nL 146.812344 175.114668 \nL 146.815472 175.350187 \nL 146.848314 175.526802 \nL 146.849878 175.46812 \nL 147.262755 175.350757 \nL 147.300289 174.705259 \nL 147.419148 175.174712 \nL 147.450426 175.848447 \nL 147.736625 174.23687 \nL 148.351248 172.370291 \nL 148.466979 171.647744 \nL 148.501385 171.708259 \nL 148.613988 171.588037 \nL 148.618679 171.978633 \nL 148.648394 171.527572 \nL 148.651522 171.58781 \nL 148.925209 173.621699 \nL 148.951796 173.504167 \nL 149.546088 173.15113 \nL 149.686842 171.845966 \nL 149.702481 172.387329 \nL 149.821339 172.687974 \nL 149.999627 171.191075 \nL 150.001191 171.310827 \nL 150.425015 171.310827 \nL 150.5861 171.131199 \nL 150.590791 171.250951 \nL 150.726853 171.250951 \nL 150.895757 170.472564 \nL 150.903577 170.53244 \nL 151.05215 169.155293 \nL 151.624547 169.27735 \nL 151.629239 168.972718 \nL 151.643314 169.277451 \nL 151.766864 168.668698 \nL 151.771556 169.216576 \nL 152.065574 166.01448 \nL 152.085905 167.212522 \nL 152.104673 167.212522 \nL 152.522241 165.413103 \nL 152.542572 165.847446 \nL 152.686453 165.661299 \nL 152.700529 165.288075 \nL 153.138428 166.348141 \nL 153.5732 165.082513 \nL 153.601351 165.236858 \nL 153.878166 164.989499 \nL 153.87973 165.113588 \nL 153.887549 165.361355 \nL 153.906316 165.237676 \nL 154.029867 166.350788 \nL 154.040814 165.052158 \nL 154.180004 166.814183 \nL 154.203462 166.445376 \nL 154.922869 165.338955 \nL 154.933816 165.926724 \nL 154.949456 165.094872 \nL 155.107412 167.313144 \nL 155.223143 166.696957 \nL 155.673554 167.318307 \nL 155.822127 165.531428 \nL 155.823691 165.593044 \nL 155.848714 165.099756 \nL 155.858097 165.346426 \nL 155.980083 167.673409 \nL 156.008234 167.25261 \nL 156.122401 167.012154 \nL 156.123965 167.25261 \nL 156.131784 167.76358 \nL 156.133348 167.614331 \nL 156.289741 166.778534 \nL 156.303816 166.241236 \nL 156.758919 167.196432 \nL 156.869958 166.300935 \nL 156.87465 167.026066 \nL 157.031042 168.873414 \nL 157.20151 168.815005 \nL 157.326625 169.632733 \nL 157.936556 170.797186 \nL 157.941248 170.451759 \nL 157.956887 170.509607 \nL 158.235266 169.180555 \nL 158.241522 169.931673 \nL 158.246214 168.88811 \nL 158.260289 169.591479 \nL 158.856145 169.881742 \nL 158.860837 169.823689 \nL 158.984387 168.720691 \nL 159.27215 169.127059 \nL 159.311248 168.429223 \nL 160.043166 165.354651 \nL 160.046293 164.973244 \nL 160.054113 165.209156 \nL 160.180791 164.206531 \nL 160.20425 164.803973 \nL 160.323109 166.115226 \nL 160.362207 164.196578 \nL 160.482629 164.379979 \nL 160.501396 164.075054 \nL 160.504524 164.197024 \nL 160.92522 165.658514 \nL 160.926784 165.598605 \nL 160.962755 166.911252 \nL 161.098816 167.029733 \nL 161.405346 168.7379 \nL 161.988691 169.793192 \nL 162.00433 170.139917 \nL 162.435974 172.56699 \nL 162.453177 172.064042 \nL 162.581419 171.281678 \nL 162.60957 172.900588 \nL 163.038086 173.84129 \nL 163.177275 174.780226 \nL 163.493188 173.509901 \nL 163.496316 173.675596 \nL 163.515083 173.896695 \nL 163.644889 173.455878 \nL 163.660529 173.731388 \nL 164.229798 172.738299 \nL 164.231362 172.849799 \nL 164.250129 171.734793 \nL 164.259513 172.130679 \nL 164.711487 175.795694 \nL 165.127492 177.654842 \nL 165.163462 177.441884 \nL 165.280757 177.282165 \nL 165.282321 177.388644 \nL 165.287013 177.601479 \nL 165.587287 177.123477 \nL 165.73586 176.963636 \nL 165.762446 176.430832 \nL 166.197218 175.365224 \nL 166.330152 175.791467 \nL 166.367686 176.270258 \nL 166.635118 176.694224 \nL 166.66796 177.170618 \nL 166.79151 176.063662 \nL 167.232538 174.774755 \nL 167.234102 174.829153 \nL 167.268508 173.569066 \nL 167.384239 173.40357 \nL 167.38893 173.569066 \nL 167.409261 173.844721 \nL 167.529684 173.954708 \nL 167.531248 173.844721 \nL 167.568782 172.904976 \nL 168.286624 170.397735 \nL 168.288188 170.453507 \nL 168.441453 171.680478 \nL 168.618177 171.625646 \nL 168.619741 171.707895 \nL 168.920015 174.343136 \nL 169.370426 174.610773 \nL 169.640985 173.384319 \nL 169.792686 172.957726 \nL 170.385414 171.83792 \nL 170.396362 171.356968 \nL 170.546499 170.710393 \nL 170.557446 170.873141 \nL 170.68256 170.115364 \nL 170.859284 172.705772 \nL 171.010985 175.006648 \nL 171.437937 176.002949 \nL 171.583382 175.950512 \nL 171.62248 176.474288 \nL 171.910243 176.003067 \nL 171.921191 175.950431 \nL 171.922754 176.161133 \nL 172.035357 176.582535 \nL 172.038485 176.425465 \nL 172.072891 175.587761 \nL 172.49046 175.849544 \nL 172.495152 175.692425 \nL 172.501407 175.219201 \nL 172.523302 176.37689 \nL 172.656236 175.592157 \nL 172.659364 175.906404 \nL 172.792298 177.838111 \nL 172.823576 176.97003 \nL 173.089444 177.279544 \nL 173.122286 177.948559 \nL 173.549238 178.560798 \nL 173.572697 179.167851 \nL 173.688428 179.167851 \nL 173.689992 179.369253 \nL 173.724398 179.016651 \nL 173.985574 178.814501 \nL 173.990266 178.966113 \nL 174.016853 178.0059 \nL 174.587686 178.108412 \nL 174.592378 178.364692 \nL 174.74877 179.641303 \nL 174.775357 179.385826 \nL 174.920802 178.002384 \nL 174.925494 178.210647 \nL 175.041225 180.08394 \nL 175.070939 179.62827 \nL 175.638645 178.868818 \nL 175.641773 178.666298 \nL 175.648028 178.919448 \nL 175.676179 178.717229 \nL 175.824752 176.947809 \nL 175.946738 177.200584 \nL 175.967069 177.048919 \nL 175.976453 176.998253 \nL 176.237629 176.541922 \nL 176.239193 176.695041 \nL 176.689604 178.019146 \nL 176.700551 177.815438 \nL 176.709935 177.457886 \nL 176.72401 177.663269 \nL 176.838177 176.946572 \nL 176.842869 177.560884 \nL 176.996133 179.396098 \nL 177.021156 179.194696 \nL 177.288588 181.03341 \nL 177.310483 180.114692 \nL 177.745254 182.123006 \nL 177.75933 181.464574 \nL 177.762458 181.337531 \nL 177.765585 181.413757 \nL 177.896955 181.235895 \nL 177.903211 181.286849 \nL 177.921978 182.177848 \nL 178.075243 180.232482 \nL 178.18941 180.38878 \nL 178.228508 181.453506 \nL 178.358314 179.237864 \nL 178.378645 179.315455 \nL 178.808725 180.091553 \nL 178.813416 179.783981 \nL 179.098051 179.732719 \nL 179.246624 179.886505 \nL 179.262263 180.040175 \nL 179.271647 179.681613 \nL 179.423348 179.836101 \nL 179.42804 180.144372 \nL 180.291327 182.282878 \nL 180.477435 181.229862 \nL 181.076419 181.781442 \nL 181.203097 181.581319 \nL 181.207789 181.731411 \nL 181.517446 179.7624 \nL 182.096099 178.490769 \nL 182.10861 178.694192 \nL 182.110174 178.846674 \nL 182.114866 178.643819 \nL 182.128941 178.643819 \nL 182.402629 176.716808 \nL 182.408884 176.818161 \nL 182.410448 176.8688 \nL 182.426088 176.564629 \nL 182.576225 177.728504 \nL 182.993793 177.928264 \nL 183.015688 178.627421 \nL 183.031327 178.429689 \nL 183.164261 178.973309 \nL 183.173645 179.195363 \nL 183.183028 179.170754 \nL 183.295631 178.038735 \nL 183.333165 178.688887 \nL 183.445768 178.838038 \nL 183.606852 177.397295 \nL 183.620928 177.496656 \nL 184.219912 179.033424 \nL 184.224604 178.616892 \nL 184.233987 178.346118 \nL 184.359101 179.581805 \nL 184.379432 178.999305 \nL 184.496727 178.999305 \nL 184.510802 179.387951 \nL 184.52175 179.290868 \nL 184.679706 180.45435 \nL 185.100403 180.597701 \nL 185.130117 181.07452 \nL 185.258359 179.840938 \nL 185.284946 180.315393 \nL 185.405368 179.842603 \nL 185.553941 181.587191 \nL 185.555505 181.44694 \nL 185.558633 181.026185 \nL 185.561761 181.072936 \nL 186.149798 181.213187 \nL 186.453199 184.76473 \nL 186.486042 184.72235 \nL 186.629923 183.567571 \nL 186.783188 181.27546 \nL 187.197629 180.452012 \nL 187.200756 180.991433 \nL 187.236727 176.105833 \nL 187.379044 178.621975 \nL 187.386864 177.568568 \nL 187.499466 175.551746 \nL 187.798177 169.80791 \nL 187.831019 170.253154 \nL 188.401852 174.001874 \nL 188.423747 173.629812 \nL 188.698998 168.580409 \nL 188.700562 167.889438 \nL 188.705254 169.802122 \nL 188.738097 169.271109 \nL 188.888234 171.065873 \nL 189.454375 169.437513 \nL 189.459067 170.079994 \nL 189.470014 169.545817 \nL 189.627971 167.836322 \nL 189.638919 169.171865 \nL 189.787492 170.871441 \nL 189.789055 170.76592 \nL 189.909478 172.139703 \nL 189.936065 171.517612 \nL 190.355197 171.36209 \nL 190.358325 171.776817 \nL 190.689877 167.888752 \nL 190.822811 169.470459 \nL 190.830631 168.283345 \nL 190.952617 166.533307 \nL 190.98546 168.984565 \nL 190.990151 168.222014 \nL 191.421795 168.33095 \nL 191.584444 169.529245 \nL 191.861259 168.188236 \nL 191.86595 168.026058 \nL 191.883154 168.512829 \nL 191.890973 168.405109 \nL 192.006704 169.914308 \nL 192.014523 169.386293 \nL 192.61038 168.013451 \nL 192.754261 170.281981 \nL 193.658211 169.134563 \nL 193.692617 169.821156 \nL 193.80522 169.610427 \nL 193.966304 166.123299 \nL 193.992891 167.282845 \nL 194.138336 165.392952 \nL 194.574672 168.873555 \nL 194.582491 169.69026 \nL 194.593439 168.932807 \nL 194.718553 168.716391 \nL 194.740448 170.555921 \nL 194.743576 169.959561 \nL 194.86087 168.921093 \nL 194.889021 169.308039 \nL 195.014135 172.202619 \nL 195.034466 173.110539 \nL 195.03603 173.005075 \nL 195.611555 174.956169 \nL 195.630323 173.637862 \nL 195.758565 174.927488 \nL 195.929033 175.50788 \nL 195.935288 176.088273 \nL 195.944672 175.041758 \nL 196.076042 174.047569 \nL 196.67659 175.198735 \nL 196.693793 174.518501 \nL 196.995631 176.837119 \nL 197.109797 176.888276 \nL 197.111361 177.041748 \nL 197.137948 176.837573 \nL 197.275574 178.215755 \nL 197.295905 177.961912 \nL 197.708781 178.371785 \nL 197.735368 178.781658 \nL 197.882377 178.119598 \nL 197.885505 178.374237 \nL 198.013747 179.138151 \nL 198.043462 178.785622 \nL 198.192035 179.339597 \nL 198.335916 177.977278 \nL 198.346864 178.079888 \nL 198.765996 178.233803 \nL 198.916133 177.824093 \nL 198.92708 178.950691 \nL 198.947412 178.648135 \nL 199.211715 180.650482 \nL 199.216407 180.195016 \nL 199.238302 179.790157 \nL 199.369672 179.587727 \nL 199.388439 179.132261 \nL 199.391567 179.33469 \nL 199.815391 180.193439 \nL 199.985859 177.402263 \nL 200.109409 177.195252 \nL 200.114101 176.832982 \nL 200.148507 178.636321 \nL 200.264238 177.345705 \nL 200.275185 176.348795 \nL 200.295517 177.613624 \nL 200.412811 178.341982 \nL 200.426886 179.642621 \nL 200.863222 179.387397 \nL 200.894501 179.949909 \nL 200.899192 179.796834 \nL 201.044637 180.512805 \nL 201.046201 180.209192 \nL 201.313633 178.589926 \nL 201.335528 177.982701 \nL 201.479409 178.336916 \nL 201.484101 178.69113 \nL 202.06119 179.949642 \nL 202.064318 179.295216 \nL 202.086213 179.753071 \nL 202.39587 179.904425 \nL 202.533496 178.893465 \nL 202.968268 180.72853 \nL 202.971395 180.878736 \nL 202.976087 180.478186 \nL 202.997982 180.478186 \nL 203.151247 180.276711 \nL 203.271669 181.284086 \nL 203.292 180.629292 \nL 204.163108 183.333036 \nL 204.200642 185.568761 \nL 204.627594 182.996691 \nL 204.651053 183.543652 \nL 205.220322 182.458758 \nL 205.245345 183.000948 \nL 205.686373 180.538953 \nL 206.275973 180.538953 \nL 206.296304 180.790119 \nL 206.41829 180.790119 \nL 206.584067 181.392917 \nL 206.602834 181.292564 \nL 207.183051 184.311086 \nL 207.353519 181.819918 \nL 207.355083 181.56249 \nL 207.627206 182.849629 \nL 207.645973 182.592201 \nL 207.794546 181.403411 \nL 207.805494 181.971963 \nL 208.368507 180.52474 \nL 208.371635 180.630387 \nL 208.374763 180.841349 \nL 208.542103 179.38496 \nL 208.556178 178.656015 \nL 208.828302 182.276983 \nL 208.856452 182.017021 \nL 209.272457 180.327275 \nL 209.294352 180.35394 \nL 209.736943 181.258846 \nL 209.738507 181.205705 \nL 209.757274 181.046158 \nL 209.880825 182.432206 \nL 209.885516 182.1189 \nL 210.35313 180.761238 \nL 210.356258 180.813456 \nL 210.770699 179.977972 \nL 210.792594 180.559151 \nL 210.79885 180.349313 \nL 211.379067 181.555961 \nL 211.558918 183.588598 \nL 211.696544 182.510845 \nL 211.820094 183.335762 \nL 211.856064 182.871018 \nL 211.859192 183.235209 \nL 211.979614 181.78937 \nL 212.009329 181.78937 \nL 212.426898 182.770475 \nL 212.589546 185.296541 \nL 212.59111 185.196874 \nL 212.725608 185.744737 \nL 212.730299 185.993139 \nL 212.910151 186.638146 \nL 213.491932 186.145533 \nL 213.632685 186.493018 \nL 213.634249 186.246149 \nL 213.776567 186.443644 \nL 214.09248 183.248104 \nL 214.103427 183.452391 \nL 214.111247 183.350247 \nL 214.685208 184.526722 \nL 215.146566 186.687259 \nL 215.581338 187.489922 \nL 215.584466 187.840261 \nL 215.590722 187.439874 \nL 215.612617 187.792425 \nL 215.726783 188.443555 \nL 215.750242 188.043177 \nL 215.906635 184.189537 \nL 216.192834 187.124824 \nL 216.213165 185.993979 \nL 216.624477 185.634165 \nL 216.655756 186.199587 \nL 216.663576 186.148471 \nL 216.804329 184.512744 \nL 216.924751 184.461627 \nL 216.926315 184.56386 \nL 216.960722 185.175978 \nL 216.96385 185.023944 \nL 217.709843 182.692755 \nL 217.714534 182.845061 \nL 217.980402 183.098645 \nL 217.98353 182.946611 \nL 218.014808 182.490511 \nL 218.884352 186.29135 \nL 218.91563 186.090039 \nL 219.036053 188.274071 \nL 219.037617 188.17272 \nL 219.183062 188.401124 \nL 219.190881 188.653994 \nL 219.21434 188.020726 \nL 219.215904 188.223589 \nL 219.339455 188.45181 \nL 219.366041 189.488805 \nL 219.78361 188.935169 \nL 219.792993 188.732063 \nL 219.810197 189.012235 \nL 220.234021 186.899066 \nL 220.262171 187.104046 \nL 220.833005 187.714591 \nL 220.984706 186.616107 \nL 221.139534 185.001856 \nL 221.167685 185.617455 \nL 221.286544 186.330982 \nL 221.314694 186.027963 \nL 221.433553 185.522734 \nL 221.438244 185.724825 \nL 221.463267 186.63109 \nL 221.466395 186.430258 \nL 222.029409 186.982546 \nL 222.030973 186.932338 \nL 222.068507 186.630894 \nL 222.497023 185.020764 \nL 222.517354 185.174358 \nL 222.518918 185.43116 \nL 222.939614 184.61264 \nL 222.964637 184.663797 \nL 223.386897 180.508335 \nL 223.394717 179.908841 \nL 223.413484 180.293753 \nL 224.015596 181.390816 \nL 224.170425 182.704634 \nL 224.470699 178.549812 \nL 224.617708 181.207348 \nL 224.620836 180.816593 \nL 225.071247 182.828079 \nL 225.185413 181.770153 \nL 225.186977 181.881514 \nL 225.371521 185.290205 \nL 225.488815 184.039246 \nL 225.509146 182.487948 \nL 225.512274 182.771606 \nL 226.101875 180.737991 \nL 226.394329 183.957882 \nL 226.420916 183.110542 \nL 226.689911 181.622704 \nL 226.722753 183.654316 \nL 227.140322 184.683236 \nL 227.166909 186.266448 \nL 227.31079 187.282779 \nL 227.31861 186.612865 \nL 227.468747 183.654077 \nL 227.587605 183.31912 \nL 227.598553 181.309377 \nL 227.736178 178.685546 \nL 227.773712 179.586013 \nL 228.202228 179.586013 \nL 228.220995 179.137207 \nL 228.222559 179.193308 \nL 228.361749 179.137207 \nL 228.486863 177.847127 \nL 228.511886 177.622172 \nL 228.640128 178.91566 \nL 228.665151 178.184 \nL 228.669843 177.501844 \nL 228.796521 175.721949 \nL 228.813724 176.662757 \nL 228.824671 177.426798 \nL 229.262571 179.286561 \nL 229.406452 182.847031 \nL 229.425219 182.347341 \nL 229.547206 182.291269 \nL 229.859991 179.319466 \nL 229.872502 179.880184 \nL 230.593473 182.996923 \nL 230.887491 184.380161 \nL 230.890619 184.214172 \nL 231.377 185.6564 \nL 231.511498 185.330837 \nL 231.80708 183.268944 \nL 231.940014 183.648766 \nL 231.946269 183.595449 \nL 232.393552 186.584685 \nL 232.538998 186.688549 \nL 232.542126 186.273091 \nL 232.578096 188.567739 \nL 232.854911 192.680648 \nL 232.873678 191.802417 \nL 233.006612 191.027507 \nL 233.011304 191.07934 \nL 233.017559 192.011562 \nL 233.442947 190.816435 \nL 233.478918 190.974849 \nL 233.600904 189.974115 \nL 233.604032 190.606157 \nL 233.608724 191.602672 \nL 233.625927 190.924879 \nL 233.765116 188.995776 \nL 233.776064 189.204936 \nL 233.912126 189.309645 \nL 234.071646 187.993298 \nL 234.500162 188.046758 \nL 234.506418 187.966636 \nL 234.515801 188.741147 \nL 234.529877 187.883612 \nL 234.680014 190.032181 \nL 234.947445 189.401714 \nL 234.970904 188.222202 \nL 235.094454 189.098511 \nL 235.128861 188.886582 \nL 235.541737 187.962777 \nL 235.551121 189.103948 \nL 235.562068 188.887475 \nL 235.843575 189.106159 \nL 235.863906 188.071009 \nL 235.874854 188.506861 \nL 235.99684 189.050507 \nL 236.020299 188.615825 \nL 236.021863 188.397334 \nL 236.148541 188.452146 \nL 236.161052 187.685442 \nL 236.178256 188.177758 \nL 236.598952 188.50578 \nL 236.623975 189.647936 \nL 236.631794 189.593547 \nL 236.899226 189.593547 \nL 236.930504 188.612717 \nL 237.216703 184.455981 \nL 237.226087 185.069163 \nL 237.656167 185.29167 \nL 237.67337 185.95767 \nL 237.798484 185.84746 \nL 237.83289 186.39945 \nL 237.97208 183.991364 \nL 237.973644 184.429198 \nL 238.120653 185.03122 \nL 238.1316 184.705858 \nL 238.275482 185.03122 \nL 238.283301 184.814176 \nL 238.72902 184.051549 \nL 239.023039 180.966225 \nL 239.173176 181.076597 \nL 239.176304 181.298071 \nL 239.177867 180.470285 \nL 239.184123 180.801399 \nL 239.33426 179.476942 \nL 239.914477 177.927957 \nL 239.93168 177.133261 \nL 239.934808 178.104205 \nL 240.818427 179.803529 \nL 240.82781 179.471998 \nL 240.960744 179.085211 \nL 240.984203 179.195991 \nL 241.436178 176.05359 \nL 241.850619 175.998118 \nL 241.853746 176.164669 \nL 241.886589 175.610826 \nL 242.171224 173.836778 \nL 242.485573 171.35923 \nL 242.901577 171.47494 \nL 243.198724 170.550751 \nL 243.209671 170.897322 \nL 243.351988 170.088656 \nL 243.378575 171.081689 \nL 244.431098 170.563121 \nL 244.56716 168.546468 \nL 244.587491 169.410748 \nL 245.031646 167.74508 \nL 245.158324 168.434322 \nL 245.302205 167.7435 \nL 245.306897 167.62754 \nL 245.308461 167.743683 \nL 245.314717 167.743683 \nL 245.489876 169.369686 \nL 246.05289 170.703403 \nL 246.056018 170.646567 \nL 246.059146 170.98948 \nL 246.084169 169.435776 \nL 246.090424 169.725355 \nL 246.360984 168.802893 \nL 246.370367 169.091162 \nL 246.528324 171.048495 \nL 246.653438 169.259757 \nL 246.689408 169.614244 \nL 247.114797 167.078903 \nL 247.591794 166.784096 \nL 247.724728 164.838369 \nL 247.741931 165.133176 \nL 248.186086 163.718102 \nL 248.192342 163.423295 \nL 248.455082 164.307717 \nL 248.461338 164.189794 \nL 248.489488 165.720375 \nL 248.778815 163.087257 \nL 248.79289 162.54574 \nL 249.817262 164.66357 \nL 249.834465 164.958721 \nL 250.569511 161.842387 \nL 250.710265 163.13596 \nL 250.739979 163.42775 \nL 251.317068 162.78815 \nL 251.335835 162.381131 \nL 251.493792 163.137023 \nL 252.35708 163.890606 \nL 252.391486 163.600767 \nL 252.507217 164.939154 \nL 252.544751 164.824812 \nL 253.417422 164.253102 \nL 253.434625 164.368317 \nL 253.716132 164.828477 \nL 253.71926 164.656049 \nL 253.741155 165.173333 \nL 254.028917 165.173333 \nL 254.032045 165.058381 \nL 254.047685 165.575488 \nL 254.616954 166.004578 \nL 254.638849 165.747871 \nL 254.620082 166.004973 \nL 254.648232 165.804951 \nL 254.776474 165.461944 \nL 254.788986 164.547258 \nL 254.79055 164.833098 \nL 254.932867 163.518237 \nL 254.937559 163.576414 \nL 255.534979 166.134089 \nL 255.542799 165.72874 \nL 255.544363 165.381297 \nL 255.549054 165.612926 \nL 255.697627 162.47679 \nL 255.699191 162.778723 \nL 255.836817 162.477983 \nL 256.585938 170.159037 \nL 256.600013 169.504545 \nL 256.743895 167.231908 \nL 256.75015 167.411327 \nL 256.865881 167.172102 \nL 256.900287 167.532297 \nL 257.017582 167.353026 \nL 257.026965 166.934725 \nL 257.041041 167.830938 \nL 257.047296 167.65186 \nL 257.167719 165.917495 \nL 257.632205 164.937811 \nL 257.763575 165.434133 \nL 257.951246 165.434133 \nL 258.221805 169.672116 \nL 258.844248 171.123935 \nL 259.002205 172.018768 \nL 259.117936 171.311751 \nL 259.878004 170.36906 \nL 259.885824 170.427978 \nL 260.014066 171.07464 \nL 260.021885 170.072248 \nL 260.053164 171.138832 \nL 260.167331 171.079843 \nL 261.074408 167.894435 \nL 261.096303 168.130391 \nL 261.241748 167.953282 \nL 261.396577 167.005699 \nL 261.987741 170.237853 \nL 262.297399 167.594081 \nL 262.901075 168.80102 \nL 262.902639 168.6286 \nL 263.049648 167.361202 \nL 263.504751 169.178276 \nL 263.944214 167.462572 \nL 264.233541 169.349846 \nL 264.551018 170.291266 \nL 265.157821 171.516514 \nL 265.282935 170.205783 \nL 265.434636 170.889643 \nL 265.454967 170.661554 \nL 266.050824 171.576257 \nL 266.190013 171.576257 \nL 266.351098 172.140747 \nL 266.645116 172.760618 \nL 266.659191 172.25528 \nL 267.07676 172.481252 \nL 267.101782 172.143365 \nL 267.230024 172.312709 \nL 267.23628 172.256395 \nL 267.672616 172.143766 \nL 268.274728 170.45167 \nL 268.299751 170.682691 \nL 268.309134 170.999331 \nL 268.571874 172.810645 \nL 268.595333 172.525212 \nL 268.610972 175.779142 \nL 269.183369 171.82767 \nL 269.344454 172.673491 \nL 269.361657 172.37496 \nL 269.491463 171.777247 \nL 269.505538 170.816336 \nL 269.658803 169.615196 \nL 269.812068 171.176677 \nL 270.262479 172.014676 \nL 270.547113 169.7236 \nL 270.675355 170.650585 \nL 270.856771 169.064184 \nL 271.297798 167.843875 \nL 271.304054 168.270983 \nL 271.457319 168.759107 \nL 271.580869 168.456053 \nL 271.749773 169.789491 \nL 271.760721 169.729032 \nL 272.334682 168.519843 \nL 272.350321 169.072082 \nL 272.50515 169.623034 \nL 272.664671 168.893957 \nL 273.715629 165.79538 \nL 273.828232 164.033445 \nL 274.42878 163.790419 \nL 274.4366 163.547394 \nL 274.444419 163.729663 \nL 274.599248 163.790419 \nL 274.915161 162.333436 \nL 275.066862 161.665653 \nL 275.814419 163.547589 \nL 277.612935 162.090606 \nL 277.769328 161.162303 \nL 277.911645 159.467237 \nL 278.2041 161.196236 \nL 278.646691 161.446752 \nL 278.668586 161.352783 \nL 279.114305 162.073898 \nL 279.266006 159.402743 \nL 279.991668 158.377764 \nL 280.008871 158.470944 \nL 280.010435 158.595085 \nL 280.17152 158.905439 \nL 280.312273 159.585512 \nL 280.321657 159.214169 \nL 281.069214 160.456585 \nL 281.360104 159.539517 \nL 281.36636 159.661792 \nL 281.973164 159.478379 \nL 282.112353 159.845206 \nL 282.409499 161.679342 \nL 283.022558 159.111837 \nL 283.15862 159.708931 \nL 283.920253 159.231256 \nL 283.921816 159.351412 \nL 283.924944 159.651338 \nL 284.050058 159.291055 \nL 284.35346 157.959752 \nL 284.375355 158.143655 \nL 284.971211 159.42702 \nL 284.975903 159.246386 \nL 287.206063 156.530578 \nL 287.21701 156.655564 \nL 287.226394 157.154721 \nL 291.696097 147.327446 \nL 291.875949 150.116019 \nL 292.332615 151.167106 \nL 292.446782 151.105278 \nL 292.463985 150.610648 \nL 292.476497 150.857963 \nL 292.606303 150.98162 \nL 292.750184 149.808644 \nL 292.779898 149.87038 \nL 292.928472 152.200063 \nL 293.350732 153.468736 \nL 293.380446 152.27916 \nL 293.676029 154.716659 \nL 293.683848 154.538882 \nL 293.807398 153.528489 \nL 293.821474 153.587924 \nL 293.974739 154.717187 \nL 294.565903 157.882079 \nL 294.583106 158.699296 \nL 294.58467 158.641035 \nL 294.733243 159.398038 \nL 294.734807 159.282468 \nL 294.866177 161.883448 \nL 294.884944 160.671797 \nL 295.035081 162.056542 \nL 295.472981 157.960006 \nL 295.476108 158.081753 \nL 295.596531 158.446427 \nL 295.599659 158.932658 \nL 295.634065 158.026619 \nL 295.746668 157.211183 \nL 295.75136 157.966216 \nL 295.785766 158.749598 \nL 295.907752 155.969054 \nL 295.935903 157.460723 \nL 296.082912 160.825919 \nL 296.536451 158.872637 \nL 296.836725 163.454915 \nL 297.127615 162.297541 \nL 297.135435 162.532578 \nL 297.576462 163.001569 \nL 297.728163 161.078847 \nL 298.178574 161.311904 \nL 298.779122 161.020583 \nL 298.785378 160.786641 \nL 298.788506 161.079068 \nL 299.221713 161.896624 \nL 299.689328 167.736676 \nL 299.831645 165.459944 \nL 299.839465 165.936655 \nL 299.975526 166.64852 \nL 299.981782 166.237212 \nL 299.983346 166.060798 \nL 299.98491 166.296575 \nL 299.986474 166.120301 \nL 300.130355 168.587997 \nL 300.702752 171.171278 \nL 301.001462 176.152968 \nL 301.013974 175.876574 \nL 301.165675 175.710738 \nL 301.181314 177.147059 \nL 301.189134 176.375009 \nL 302.074316 160.905516 \nL 302.089955 161.906924 \nL 302.357387 177.204119 \nL 302.365207 173.724294 \nL 302.391793 173.8292 \nL 302.821873 184.764683 \nL 302.832821 187.254014 \nL 302.842204 186.232712 \nL 303.10338 192.419181 \nL 303.142478 191.0077 \nL 303.255081 191.518799 \nL 303.292615 194.138182 \nL 303.439624 188.321 \nL 303.442752 188.480884 \nL 303.854065 187.489603 \nL 303.86814 184.986111 \nL 303.893163 187.980698 \nL 304.018277 180.703138 \nL 304.040172 181.677811 \nL 304.157467 179.340873 \nL 304.187181 175.186317 \nL 304.193437 176.289871 \nL 304.326371 179.067956 \nL 304.52499 173.988825 \nL 304.905024 172.096788 \nL 304.944122 171.083198 \nL 305.088003 170.339898 \nL 305.244396 175.205656 \nL 305.372638 171.968436 \nL 305.386713 172.440531 \nL 305.514955 173.184505 \nL 305.519647 174.723938 \nL 305.54467 173.64875 \nL 306.112375 165.708031 \nL 306.145218 167.117836 \nL 306.290663 167.957006 \nL 306.292227 167.923818 \nL 306.445492 168.122946 \nL 307.030401 167.591938 \nL 307.039784 167.993084 \nL 307.194613 164.535354 \nL 307.30878 167.594115 \nL 307.325983 167.394736 \nL 307.471428 165.394487 \nL 307.496451 165.927887 \nL 308.075104 163.327563 \nL 308.397273 164.994437 \nL 308.674088 163.927638 \nL 309.298095 160.072727 \nL 309.448232 156.623596 \nL 310.488243 165.990353 \nL 310.491371 165.891641 \nL 310.49919 165.5626 \nL 310.799464 161.996393 \nL 311.218597 162.52472 \nL 311.2358 162.920965 \nL 311.364042 162.592472 \nL 311.373426 161.80409 \nL 311.395321 163.248101 \nL 311.400012 162.461297 \nL 311.520435 163.188995 \nL 311.536074 164.696096 \nL 311.700286 165.023727 \nL 312.300834 161.239741 \nL 312.422821 161.631188 \nL 312.450971 160.58733 \nL 312.751245 162.885177 \nL 312.884179 160.075269 \nL 312.901382 160.617484 \nL 313.492547 156.563333 \nL 313.636428 158.589016 \nL 313.652067 158.387005 \nL 313.774053 157.310537 \nL 314.387113 153.40834 \nL 314.552889 150.111657 \nL 314.703026 146.882253 \nL 314.984533 144.931155 \nL 314.99548 145.469389 \nL 315.750857 145.603947 \nL 316.052695 150.306025 \nL 316.645423 150.843405 \nL 316.646987 150.643198 \nL 316.654807 151.177084 \nL 316.772101 149.313041 \nL 316.804944 149.51276 \nL 316.93475 149.979146 \nL 317.069247 148.389096 \nL 317.543117 148.124087 \nL 317.554065 148.720356 \nL 317.82306 148.919112 \nL 318.00604 150.174897 \nL 318.142101 151.156856 \nL 318.153049 150.56768 \nL 319.053871 155.018388 \nL 320.068859 146.6798 \nL 320.253403 148.303795 \nL 320.705377 148.053949 \nL 320.996268 148.99134 \nL 321.410709 146.815025 \nL 321.437295 150.169037 \nL 321.440423 149.793823 \nL 321.748517 147.917752 \nL 321.903345 145.91661 \nL 322.026896 147.417467 \nL 322.051919 146.541967 \nL 322.463231 145.401834 \nL 322.467923 146.169935 \nL 322.475743 145.979272 \nL 322.796348 144.454435 \nL 322.955868 145.279191 \nL 323.256142 149.474275 \nL 323.401587 147.553465 \nL 323.406279 148.057862 \nL 324.005263 145.175001 \nL 324.146017 142.668166 \nL 324.311793 142.22947 \nL 324.906085 144.861647 \nL 325.490994 145.927052 \nL 326.255754 145.80327 \nL 326.258882 145.308142 \nL 326.401199 146.979198 \nL 327.276998 151.497236 \nL 327.278562 151.262637 \nL 327.614807 151.028037 \nL 328.05427 155.368128 \nL 328.065218 155.018285 \nL 328.215355 152.569385 \nL 328.640743 156.942421 \nL 329.263186 156.067814 \nL 329.396119 156.71633 \nL 330.315708 153.909442 \nL 330.617546 156.188393 \nL 331.810822 150.031997 \nL 332.703825 154.9657 \nL 332.706953 154.789113 \nL 332.719464 155.024563 \nL 332.832067 156.200085 \nL 332.85709 155.964981 \nL 333.768859 160.415734 \nL 333.91274 159.830455 \nL 335.532969 159.217305 \nL 335.543916 159.607073 \nL 335.557991 158.773648 \nL 335.684669 159.384826 \nL 335.689361 159.218616 \nL 335.711256 159.883615 \nL 335.719076 159.772966 \nL 335.869213 159.606993 \nL 335.988071 160.104913 \nL 336.583927 159.717642 \nL 336.585491 159.773244 \nL 336.768471 162.940189 \nL 337.057797 161.553169 \nL 337.484749 163.869758 \nL 337.486313 163.760115 \nL 337.659909 163.020022 \nL 337.663037 163.26672 \nL 337.785023 165.843338 \nL 337.820994 163.88267 \nL 338.535708 158.106647 \nL 338.685845 161.021154 \nL 338.690537 159.908343 \nL 338.864133 161.198642 \nL 338.998631 160.775639 \nL 339.003322 160.88179 \nL 339.00645 161.410905 \nL 339.023653 160.346955 \nL 339.025217 160.454325 \nL 339.156587 158.846013 \nL 339.591359 156.808818 \nL 339.897889 159.167676 \nL 339.911964 158.903082 \nL 339.922911 158.532248 \nL 339.926039 159.275373 \nL 340.204418 160.496221 \nL 340.224749 160.339457 \nL 340.637626 158.928583 \nL 340.664213 159.503383 \nL 341.688585 158.510546 \nL 342.775514 162.889812 \nL 342.928779 162.789401 \nL 343.229053 163.794841 \nL 343.953151 165.729458 \nL 343.979738 166.272308 \nL 344.240914 164.704552 \nL 344.280012 165.145484 \nL 344.86492 166.658312 \nL 345.17927 164.795265 \nL 345.180834 164.844549 \nL 345.89242 162.823903 \nL 345.893984 163.077045 \nL 346.076964 165.985668 \nL 346.078528 165.936727 \nL 346.192694 164.272709 \nL 346.946507 161.531975 \nL 347.101336 165.010086 \nL 347.39379 165.723075 \nL 348.153859 171.175034 \nL 348.183573 172.275049 \nL 348.294612 171.530253 \nL 348.318071 171.968368 \nL 348.483847 172.8446 \nL 349.195434 171.546257 \nL 349.214201 171.459701 \nL 349.347135 173.767353 \nL 349.658356 175.074404 \nL 349.684943 174.696758 \n\" style=\"fill:none;stroke:#ff7f0e;stroke-linecap:square;stroke-width:1.5;\"/>\n   </g>\n   <g id=\"patch_3\">\n    <path d=\"M 30.103125 203.04 \nL 30.103125 7.2 \n\" style=\"fill:none;stroke:#000000;stroke-linecap:square;stroke-linejoin:miter;stroke-width:0.8;\"/>\n   </g>\n   <g id=\"patch_4\">\n    <path d=\"M 364.903125 203.04 \nL 364.903125 7.2 \n\" style=\"fill:none;stroke:#000000;stroke-linecap:square;stroke-linejoin:miter;stroke-width:0.8;\"/>\n   </g>\n   <g id=\"patch_5\">\n    <path d=\"M 30.103125 203.04 \nL 364.903125 203.04 \n\" style=\"fill:none;stroke:#000000;stroke-linecap:square;stroke-linejoin:miter;stroke-width:0.8;\"/>\n   </g>\n   <g id=\"patch_6\">\n    <path d=\"M 30.103125 7.2 \nL 364.903125 7.2 \n\" style=\"fill:none;stroke:#000000;stroke-linecap:square;stroke-linejoin:miter;stroke-width:0.8;\"/>\n   </g>\n   <g id=\"legend_1\">\n    <g id=\"patch_7\">\n     <path d=\"M 37.103125 44.55625 \nL 153.521875 44.55625 \nQ 155.521875 44.55625 155.521875 42.55625 \nL 155.521875 14.2 \nQ 155.521875 12.2 153.521875 12.2 \nL 37.103125 12.2 \nQ 35.103125 12.2 35.103125 14.2 \nL 35.103125 42.55625 \nQ 35.103125 44.55625 37.103125 44.55625 \nz\n\" style=\"fill:#ffffff;opacity:0.8;stroke:#cccccc;stroke-linejoin:miter;\"/>\n    </g>\n    <g id=\"line2d_14\">\n     <path d=\"M 39.103125 20.298437 \nL 59.103125 20.298437 \n\" style=\"fill:none;stroke:#1f77b4;stroke-linecap:square;stroke-width:1.5;\"/>\n    </g>\n    <g id=\"line2d_15\"/>\n    <g id=\"text_13\">\n     <!-- Actual Returns -->\n     <g transform=\"translate(67.103125 23.798437)scale(0.1 -0.1)\">\n      <defs>\n       <path d=\"M 34.1875 63.1875 \nL 20.796875 26.90625 \nL 47.609375 26.90625 \nz\nM 28.609375 72.90625 \nL 39.796875 72.90625 \nL 67.578125 0 \nL 57.328125 0 \nL 50.6875 18.703125 \nL 17.828125 18.703125 \nL 11.1875 0 \nL 0.78125 0 \nz\n\" id=\"DejaVuSans-65\"/>\n       <path d=\"M 48.78125 52.59375 \nL 48.78125 44.1875 \nQ 44.96875 46.296875 41.140625 47.34375 \nQ 37.3125 48.390625 33.40625 48.390625 \nQ 24.65625 48.390625 19.8125 42.84375 \nQ 14.984375 37.3125 14.984375 27.296875 \nQ 14.984375 17.28125 19.8125 11.734375 \nQ 24.65625 6.203125 33.40625 6.203125 \nQ 37.3125 6.203125 41.140625 7.25 \nQ 44.96875 8.296875 48.78125 10.40625 \nL 48.78125 2.09375 \nQ 45.015625 0.34375 40.984375 -0.53125 \nQ 36.96875 -1.421875 32.421875 -1.421875 \nQ 20.0625 -1.421875 12.78125 6.34375 \nQ 5.515625 14.109375 5.515625 27.296875 \nQ 5.515625 40.671875 12.859375 48.328125 \nQ 20.21875 56 33.015625 56 \nQ 37.15625 56 41.109375 55.140625 \nQ 45.0625 54.296875 48.78125 52.59375 \nz\n\" id=\"DejaVuSans-99\"/>\n       <path d=\"M 8.5 21.578125 \nL 8.5 54.6875 \nL 17.484375 54.6875 \nL 17.484375 21.921875 \nQ 17.484375 14.15625 20.5 10.265625 \nQ 23.53125 6.390625 29.59375 6.390625 \nQ 36.859375 6.390625 41.078125 11.03125 \nQ 45.3125 15.671875 45.3125 23.6875 \nL 45.3125 54.6875 \nL 54.296875 54.6875 \nL 54.296875 0 \nL 45.3125 0 \nL 45.3125 8.40625 \nQ 42.046875 3.421875 37.71875 1 \nQ 33.40625 -1.421875 27.6875 -1.421875 \nQ 18.265625 -1.421875 13.375 4.4375 \nQ 8.5 10.296875 8.5 21.578125 \nz\nM 31.109375 56 \nz\n\" id=\"DejaVuSans-117\"/>\n       <path d=\"M 9.421875 75.984375 \nL 18.40625 75.984375 \nL 18.40625 0 \nL 9.421875 0 \nz\n\" id=\"DejaVuSans-108\"/>\n       <path id=\"DejaVuSans-32\"/>\n       <path d=\"M 44.390625 34.1875 \nQ 47.5625 33.109375 50.5625 29.59375 \nQ 53.5625 26.078125 56.59375 19.921875 \nL 66.609375 0 \nL 56 0 \nL 46.6875 18.703125 \nQ 43.0625 26.03125 39.671875 28.421875 \nQ 36.28125 30.8125 30.421875 30.8125 \nL 19.671875 30.8125 \nL 19.671875 0 \nL 9.8125 0 \nL 9.8125 72.90625 \nL 32.078125 72.90625 \nQ 44.578125 72.90625 50.734375 67.671875 \nQ 56.890625 62.453125 56.890625 51.90625 \nQ 56.890625 45.015625 53.6875 40.46875 \nQ 50.484375 35.9375 44.390625 34.1875 \nz\nM 19.671875 64.796875 \nL 19.671875 38.921875 \nL 32.078125 38.921875 \nQ 39.203125 38.921875 42.84375 42.21875 \nQ 46.484375 45.515625 46.484375 51.90625 \nQ 46.484375 58.296875 42.84375 61.546875 \nQ 39.203125 64.796875 32.078125 64.796875 \nz\n\" id=\"DejaVuSans-82\"/>\n       <path d=\"M 41.109375 46.296875 \nQ 39.59375 47.171875 37.8125 47.578125 \nQ 36.03125 48 33.890625 48 \nQ 26.265625 48 22.1875 43.046875 \nQ 18.109375 38.09375 18.109375 28.8125 \nL 18.109375 0 \nL 9.078125 0 \nL 9.078125 54.6875 \nL 18.109375 54.6875 \nL 18.109375 46.1875 \nQ 20.953125 51.171875 25.484375 53.578125 \nQ 30.03125 56 36.53125 56 \nQ 37.453125 56 38.578125 55.875 \nQ 39.703125 55.765625 41.0625 55.515625 \nz\n\" id=\"DejaVuSans-114\"/>\n       <path d=\"M 54.890625 33.015625 \nL 54.890625 0 \nL 45.90625 0 \nL 45.90625 32.71875 \nQ 45.90625 40.484375 42.875 44.328125 \nQ 39.84375 48.1875 33.796875 48.1875 \nQ 26.515625 48.1875 22.3125 43.546875 \nQ 18.109375 38.921875 18.109375 30.90625 \nL 18.109375 0 \nL 9.078125 0 \nL 9.078125 54.6875 \nL 18.109375 54.6875 \nL 18.109375 46.1875 \nQ 21.34375 51.125 25.703125 53.5625 \nQ 30.078125 56 35.796875 56 \nQ 45.21875 56 50.046875 50.171875 \nQ 54.890625 44.34375 54.890625 33.015625 \nz\n\" id=\"DejaVuSans-110\"/>\n       <path d=\"M 44.28125 53.078125 \nL 44.28125 44.578125 \nQ 40.484375 46.53125 36.375 47.5 \nQ 32.28125 48.484375 27.875 48.484375 \nQ 21.1875 48.484375 17.84375 46.4375 \nQ 14.5 44.390625 14.5 40.28125 \nQ 14.5 37.15625 16.890625 35.375 \nQ 19.28125 33.59375 26.515625 31.984375 \nL 29.59375 31.296875 \nQ 39.15625 29.25 43.1875 25.515625 \nQ 47.21875 21.78125 47.21875 15.09375 \nQ 47.21875 7.46875 41.1875 3.015625 \nQ 35.15625 -1.421875 24.609375 -1.421875 \nQ 20.21875 -1.421875 15.453125 -0.5625 \nQ 10.6875 0.296875 5.421875 2 \nL 5.421875 11.28125 \nQ 10.40625 8.6875 15.234375 7.390625 \nQ 20.0625 6.109375 24.8125 6.109375 \nQ 31.15625 6.109375 34.5625 8.28125 \nQ 37.984375 10.453125 37.984375 14.40625 \nQ 37.984375 18.0625 35.515625 20.015625 \nQ 33.0625 21.96875 24.703125 23.78125 \nL 21.578125 24.515625 \nQ 13.234375 26.265625 9.515625 29.90625 \nQ 5.8125 33.546875 5.8125 39.890625 \nQ 5.8125 47.609375 11.28125 51.796875 \nQ 16.75 56 26.8125 56 \nQ 31.78125 56 36.171875 55.265625 \nQ 40.578125 54.546875 44.28125 53.078125 \nz\n\" id=\"DejaVuSans-115\"/>\n      </defs>\n      <use xlink:href=\"#DejaVuSans-65\"/>\n      <use x=\"66.658203\" xlink:href=\"#DejaVuSans-99\"/>\n      <use x=\"121.638672\" xlink:href=\"#DejaVuSans-116\"/>\n      <use x=\"160.847656\" xlink:href=\"#DejaVuSans-117\"/>\n      <use x=\"224.226562\" xlink:href=\"#DejaVuSans-97\"/>\n      <use x=\"285.505859\" xlink:href=\"#DejaVuSans-108\"/>\n      <use x=\"313.289062\" xlink:href=\"#DejaVuSans-32\"/>\n      <use x=\"345.076172\" xlink:href=\"#DejaVuSans-82\"/>\n      <use x=\"410.058594\" xlink:href=\"#DejaVuSans-101\"/>\n      <use x=\"471.582031\" xlink:href=\"#DejaVuSans-116\"/>\n      <use x=\"510.791016\" xlink:href=\"#DejaVuSans-117\"/>\n      <use x=\"574.169922\" xlink:href=\"#DejaVuSans-114\"/>\n      <use x=\"613.533203\" xlink:href=\"#DejaVuSans-110\"/>\n      <use x=\"676.912109\" xlink:href=\"#DejaVuSans-115\"/>\n     </g>\n    </g>\n    <g id=\"line2d_16\">\n     <path d=\"M 39.103125 34.976562 \nL 59.103125 34.976562 \n\" style=\"fill:none;stroke:#ff7f0e;stroke-linecap:square;stroke-width:1.5;\"/>\n    </g>\n    <g id=\"line2d_17\"/>\n    <g id=\"text_14\">\n     <!-- Strategy Returns -->\n     <g transform=\"translate(67.103125 38.476562)scale(0.1 -0.1)\">\n      <defs>\n       <path d=\"M 53.515625 70.515625 \nL 53.515625 60.890625 \nQ 47.90625 63.578125 42.921875 64.890625 \nQ 37.9375 66.21875 33.296875 66.21875 \nQ 25.25 66.21875 20.875 63.09375 \nQ 16.5 59.96875 16.5 54.203125 \nQ 16.5 49.359375 19.40625 46.890625 \nQ 22.3125 44.4375 30.421875 42.921875 \nL 36.375 41.703125 \nQ 47.40625 39.59375 52.65625 34.296875 \nQ 57.90625 29 57.90625 20.125 \nQ 57.90625 9.515625 50.796875 4.046875 \nQ 43.703125 -1.421875 29.984375 -1.421875 \nQ 24.8125 -1.421875 18.96875 -0.25 \nQ 13.140625 0.921875 6.890625 3.21875 \nL 6.890625 13.375 \nQ 12.890625 10.015625 18.65625 8.296875 \nQ 24.421875 6.59375 29.984375 6.59375 \nQ 38.421875 6.59375 43.015625 9.90625 \nQ 47.609375 13.234375 47.609375 19.390625 \nQ 47.609375 24.75 44.3125 27.78125 \nQ 41.015625 30.8125 33.5 32.328125 \nL 27.484375 33.5 \nQ 16.453125 35.6875 11.515625 40.375 \nQ 6.59375 45.0625 6.59375 53.421875 \nQ 6.59375 63.09375 13.40625 68.65625 \nQ 20.21875 74.21875 32.171875 74.21875 \nQ 37.3125 74.21875 42.625 73.28125 \nQ 47.953125 72.359375 53.515625 70.515625 \nz\n\" id=\"DejaVuSans-83\"/>\n       <path d=\"M 45.40625 27.984375 \nQ 45.40625 37.75 41.375 43.109375 \nQ 37.359375 48.484375 30.078125 48.484375 \nQ 22.859375 48.484375 18.828125 43.109375 \nQ 14.796875 37.75 14.796875 27.984375 \nQ 14.796875 18.265625 18.828125 12.890625 \nQ 22.859375 7.515625 30.078125 7.515625 \nQ 37.359375 7.515625 41.375 12.890625 \nQ 45.40625 18.265625 45.40625 27.984375 \nz\nM 54.390625 6.78125 \nQ 54.390625 -7.171875 48.1875 -13.984375 \nQ 42 -20.796875 29.203125 -20.796875 \nQ 24.46875 -20.796875 20.265625 -20.09375 \nQ 16.0625 -19.390625 12.109375 -17.921875 \nL 12.109375 -9.1875 \nQ 16.0625 -11.328125 19.921875 -12.34375 \nQ 23.78125 -13.375 27.78125 -13.375 \nQ 36.625 -13.375 41.015625 -8.765625 \nQ 45.40625 -4.15625 45.40625 5.171875 \nL 45.40625 9.625 \nQ 42.625 4.78125 38.28125 2.390625 \nQ 33.9375 0 27.875 0 \nQ 17.828125 0 11.671875 7.65625 \nQ 5.515625 15.328125 5.515625 27.984375 \nQ 5.515625 40.671875 11.671875 48.328125 \nQ 17.828125 56 27.875 56 \nQ 33.9375 56 38.28125 53.609375 \nQ 42.625 51.21875 45.40625 46.390625 \nL 45.40625 54.6875 \nL 54.390625 54.6875 \nz\n\" id=\"DejaVuSans-103\"/>\n       <path d=\"M 32.171875 -5.078125 \nQ 28.375 -14.84375 24.75 -17.8125 \nQ 21.140625 -20.796875 15.09375 -20.796875 \nL 7.90625 -20.796875 \nL 7.90625 -13.28125 \nL 13.1875 -13.28125 \nQ 16.890625 -13.28125 18.9375 -11.515625 \nQ 21 -9.765625 23.484375 -3.21875 \nL 25.09375 0.875 \nL 2.984375 54.6875 \nL 12.5 54.6875 \nL 29.59375 11.921875 \nL 46.6875 54.6875 \nL 56.203125 54.6875 \nz\n\" id=\"DejaVuSans-121\"/>\n      </defs>\n      <use xlink:href=\"#DejaVuSans-83\"/>\n      <use x=\"63.476562\" xlink:href=\"#DejaVuSans-116\"/>\n      <use x=\"102.685547\" xlink:href=\"#DejaVuSans-114\"/>\n      <use x=\"143.798828\" xlink:href=\"#DejaVuSans-97\"/>\n      <use x=\"205.078125\" xlink:href=\"#DejaVuSans-116\"/>\n      <use x=\"244.287109\" xlink:href=\"#DejaVuSans-101\"/>\n      <use x=\"305.810547\" xlink:href=\"#DejaVuSans-103\"/>\n      <use x=\"369.287109\" xlink:href=\"#DejaVuSans-121\"/>\n      <use x=\"428.466797\" xlink:href=\"#DejaVuSans-32\"/>\n      <use x=\"460.253906\" xlink:href=\"#DejaVuSans-82\"/>\n      <use x=\"525.236328\" xlink:href=\"#DejaVuSans-101\"/>\n      <use x=\"586.759766\" xlink:href=\"#DejaVuSans-116\"/>\n      <use x=\"625.96875\" xlink:href=\"#DejaVuSans-117\"/>\n      <use x=\"689.347656\" xlink:href=\"#DejaVuSans-114\"/>\n      <use x=\"728.710938\" xlink:href=\"#DejaVuSans-110\"/>\n      <use x=\"792.089844\" xlink:href=\"#DejaVuSans-115\"/>\n     </g>\n    </g>\n   </g>\n  </g>\n </g>\n <defs>\n  <clipPath id=\"pc5359a73fa\">\n   <rect height=\"195.84\" width=\"334.8\" x=\"30.103125\" y=\"7.2\"/>\n  </clipPath>\n </defs>\n</svg>\n",
      "image/png": "[encoded data removed]"
     },
     "metadata": {
      "needs_background": "light"
     }
    }
   ],
   "metadata": {}
  },
  {
   "cell_type": "markdown",
   "source": [
    "---\n",
    "\n",
    "## Tune the Baseline Trading Algorithm"
   ],
   "metadata": {}
  },
  {
   "cell_type": "markdown",
   "source": [
    "## Step 6: Use an Alternative ML Model and Evaluate Strategy Returns"
   ],
   "metadata": {}
  },
  {
   "cell_type": "markdown",
   "source": [
    "In this section, you’ll tune, or adjust, the model’s input features to find the parameters that result in the best trading outcomes. You’ll choose the best by comparing the cumulative products of the strategy returns."
   ],
   "metadata": {}
  },
  {
   "cell_type": "markdown",
   "source": [
    "### Step 1: Tune the training algorithm by adjusting the size of the training dataset. \n",
    "\n",
    "To do so, slice your data into different periods. Rerun the notebook with the updated parameters, and record the results in your `README.md` file. \n",
    "\n",
    "Answer the following question: What impact resulted from increasing or decreasing the training window?"
   ],
   "metadata": {}
  },
  {
   "cell_type": "markdown",
   "source": [
    "### Step 2: Tune the trading algorithm by adjusting the SMA input features. \n",
    "\n",
    "Adjust one or both of the windows for the algorithm. Rerun the notebook with the updated parameters, and record the results in your `README.md` file. \n",
    "\n",
    "Answer the following question: What impact resulted from increasing or decreasing either or both of the SMA windows?"
   ],
   "metadata": {}
  },
  {
   "cell_type": "markdown",
   "source": [
    "### Step 3: Choose the set of parameters that best improved the trading algorithm returns. \n",
    "\n",
    "Save a PNG image of the cumulative product of the actual returns vs. the strategy returns, and document your conclusion in your `README.md` file."
   ],
   "metadata": {}
  },
  {
   "cell_type": "markdown",
   "source": [
    "---\n",
    "\n",
    "## Evaluate a New Machine Learning Classifier\n",
    "\n",
    "In this section, you’ll use the original parameters that the starter code provided. But, you’ll apply them to the performance of a second machine learning model. "
   ],
   "metadata": {}
  },
  {
   "cell_type": "markdown",
   "source": [
    "### Step 1:  Import a new classifier, such as `AdaBoost`, `DecisionTreeClassifier`, or `LogisticRegression`. (For the full list of classifiers, refer to the [Supervised learning page](https://scikit-learn.org/stable/supervised_learning.html) in the scikit-learn documentation.)"
   ],
   "metadata": {}
  },
  {
   "cell_type": "code",
   "execution_count": 87,
   "source": [
    "# Import a new classifier from SKLearn\n",
    "# YOUR CODE HERE\n",
    "from sklearn.linear_model import LogisticRegression\n",
    "\n",
    "# Initiate the model instance\n",
    "# YOUR CODE HERE\n",
    "lr = LogisticRegression()\n",
    "lr\n"
   ],
   "outputs": [
    {
     "output_type": "execute_result",
     "data": {
      "text/plain": [
       "LogisticRegression()"
      ]
     },
     "metadata": {},
     "execution_count": 87
    }
   ],
   "metadata": {}
  },
  {
   "cell_type": "markdown",
   "source": [
    "### Step 2: Using the original training data as the baseline model, fit another model with the new classifier."
   ],
   "metadata": {}
  },
  {
   "cell_type": "code",
   "execution_count": 88,
   "source": [
    "# Fit the model using the training data\n",
    "model = lr.fit(X_train, y_train)\n",
    "\n",
    "# Use the testing dataset to generate the predictions for the new model\n",
    "pred = lr.predict(X_test)\n",
    "\n",
    "# Review the model's predicted values\n",
    "# YOUR CODE HERE\n",
    "results_df = ({\n",
    "    \"Predictions\": pred,\n",
    "    \"Actual\": y_test\n",
    "})\n",
    "results_df"
   ],
   "outputs": [
    {
     "output_type": "execute_result",
     "data": {
      "text/plain": [
       "{'Predictions': array([ 1.,  1.,  1., ..., -1., -1., -1.]),\n",
       " 'Actual': date\n",
       " 2015-07-06 10:00:00   -1.0\n",
       " 2015-07-06 10:45:00    1.0\n",
       " 2015-07-06 14:15:00   -1.0\n",
       " 2015-07-06 14:30:00   -1.0\n",
       " 2015-07-07 11:30:00   -1.0\n",
       "                       ... \n",
       " 2021-01-22 09:30:00   -1.0\n",
       " 2021-01-22 11:30:00    1.0\n",
       " 2021-01-22 13:45:00    1.0\n",
       " 2021-01-22 14:30:00    1.0\n",
       " 2021-01-22 15:45:00   -1.0\n",
       " Name: Signal, Length: 4092, dtype: float64}"
      ]
     },
     "metadata": {},
     "execution_count": 88
    }
   ],
   "metadata": {}
  },
  {
   "cell_type": "markdown",
   "source": [
    "### Step 3: Backtest the new model to evaluate its performance. \n",
    "\n",
    "Save a PNG image of the cumulative product of the actual returns vs. the strategy returns for this updated trading algorithm, and write your conclusions in your `README.md` file. \n",
    "\n",
    "Answer the following questions: \n",
    "Did this new model perform better or worse than the provided baseline model? \n",
    "Did this new model perform better or worse than your tuned trading algorithm?"
   ],
   "metadata": {}
  },
  {
   "cell_type": "code",
   "execution_count": 89,
   "source": [
    "# Use a classification report to evaluate the model using the predictions and testing data\n",
    "# YOUR CODE HERE\n",
    "testing_report = classification_report(y_test, pred)\n",
    "\n",
    "# Print the classification report\n",
    "# YOUR CODE HERE\n",
    "print(testing_report)\n"
   ],
   "outputs": [
    {
     "output_type": "stream",
     "name": "stdout",
     "text": [
      "              precision    recall  f1-score   support\n",
      "\n",
      "        -1.0       0.44      0.32      0.37      1804\n",
      "         1.0       0.56      0.68      0.61      2288\n",
      "\n",
      "    accuracy                           0.52      4092\n",
      "   macro avg       0.50      0.50      0.49      4092\n",
      "weighted avg       0.51      0.52      0.51      4092\n",
      "\n"
     ]
    }
   ],
   "metadata": {}
  },
  {
   "cell_type": "code",
   "execution_count": 90,
   "source": [
    "# Create a new empty predictions DataFrame.\n",
    "\n",
    "# Create a predictions DataFrame\n",
    "# YOUR CODE HERE\n",
    "pred_df = pd.DataFrame(index=X_test.index)\n",
    "\n",
    "# Add the SVM model predictions to the DataFrame\n",
    "# YOUR CODE HERE\n",
    "pred_df['Predicted'] = pred\n",
    "\n",
    "# Add the actual returns to the DataFrame\n",
    "# YOUR CODE HERE\n",
    "pred_df['Actual Returns'] = signals_df[\"Actual Returns\"]\n",
    "\n",
    "# Add the strategy returns to the DataFrame\n",
    "# YOUR CODE HERE\n",
    "pred_df['Strategy Returns'] = signals_df[\"Strategy Returns\"]\n",
    "\n",
    "\n",
    "# Review the DataFrame\n",
    "# YOUR CODE HERE\n",
    "display(pred_df.head())\n",
    "display(pred_df.tail())"
   ],
   "outputs": [
    {
     "output_type": "display_data",
     "data": {
      "text/plain": [
       "                     Predicted  Actual Returns  Strategy Returns\n",
       "date                                                            \n",
       "2015-07-06 10:00:00        1.0       -0.025715          0.025715\n",
       "2015-07-06 10:45:00        1.0        0.007237         -0.007237\n",
       "2015-07-06 14:15:00        1.0       -0.009721         -0.009721\n",
       "2015-07-06 14:30:00        1.0       -0.003841          0.003841\n",
       "2015-07-07 11:30:00        1.0       -0.018423          0.018423"
      ],
      "text/html": [
       "<div>\n",
       "<style scoped>\n",
       "    .dataframe tbody tr th:only-of-type {\n",
       "        vertical-align: middle;\n",
       "    }\n",
       "\n",
       "    .dataframe tbody tr th {\n",
       "        vertical-align: top;\n",
       "    }\n",
       "\n",
       "    .dataframe thead th {\n",
       "        text-align: right;\n",
       "    }\n",
       "</style>\n",
       "<table border=\"1\" class=\"dataframe\">\n",
       "  <thead>\n",
       "    <tr style=\"text-align: right;\">\n",
       "      <th></th>\n",
       "      <th>Predicted</th>\n",
       "      <th>Actual Returns</th>\n",
       "      <th>Strategy Returns</th>\n",
       "    </tr>\n",
       "    <tr>\n",
       "      <th>date</th>\n",
       "      <th></th>\n",
       "      <th></th>\n",
       "      <th></th>\n",
       "    </tr>\n",
       "  </thead>\n",
       "  <tbody>\n",
       "    <tr>\n",
       "      <th>2015-07-06 10:00:00</th>\n",
       "      <td>1.0</td>\n",
       "      <td>-0.025715</td>\n",
       "      <td>0.025715</td>\n",
       "    </tr>\n",
       "    <tr>\n",
       "      <th>2015-07-06 10:45:00</th>\n",
       "      <td>1.0</td>\n",
       "      <td>0.007237</td>\n",
       "      <td>-0.007237</td>\n",
       "    </tr>\n",
       "    <tr>\n",
       "      <th>2015-07-06 14:15:00</th>\n",
       "      <td>1.0</td>\n",
       "      <td>-0.009721</td>\n",
       "      <td>-0.009721</td>\n",
       "    </tr>\n",
       "    <tr>\n",
       "      <th>2015-07-06 14:30:00</th>\n",
       "      <td>1.0</td>\n",
       "      <td>-0.003841</td>\n",
       "      <td>0.003841</td>\n",
       "    </tr>\n",
       "    <tr>\n",
       "      <th>2015-07-07 11:30:00</th>\n",
       "      <td>1.0</td>\n",
       "      <td>-0.018423</td>\n",
       "      <td>0.018423</td>\n",
       "    </tr>\n",
       "  </tbody>\n",
       "</table>\n",
       "</div>"
      ]
     },
     "metadata": {}
    },
    {
     "output_type": "display_data",
     "data": {
      "text/plain": [
       "                     Predicted  Actual Returns  Strategy Returns\n",
       "date                                                            \n",
       "2021-01-22 09:30:00       -1.0       -0.006866         -0.006866\n",
       "2021-01-22 11:30:00       -1.0        0.002405         -0.002405\n",
       "2021-01-22 13:45:00       -1.0        0.002099          0.002099\n",
       "2021-01-22 14:30:00       -1.0        0.001496          0.001496\n",
       "2021-01-22 15:45:00       -1.0       -0.000896         -0.000896"
      ],
      "text/html": [
       "<div>\n",
       "<style scoped>\n",
       "    .dataframe tbody tr th:only-of-type {\n",
       "        vertical-align: middle;\n",
       "    }\n",
       "\n",
       "    .dataframe tbody tr th {\n",
       "        vertical-align: top;\n",
       "    }\n",
       "\n",
       "    .dataframe thead th {\n",
       "        text-align: right;\n",
       "    }\n",
       "</style>\n",
       "<table border=\"1\" class=\"dataframe\">\n",
       "  <thead>\n",
       "    <tr style=\"text-align: right;\">\n",
       "      <th></th>\n",
       "      <th>Predicted</th>\n",
       "      <th>Actual Returns</th>\n",
       "      <th>Strategy Returns</th>\n",
       "    </tr>\n",
       "    <tr>\n",
       "      <th>date</th>\n",
       "      <th></th>\n",
       "      <th></th>\n",
       "      <th></th>\n",
       "    </tr>\n",
       "  </thead>\n",
       "  <tbody>\n",
       "    <tr>\n",
       "      <th>2021-01-22 09:30:00</th>\n",
       "      <td>-1.0</td>\n",
       "      <td>-0.006866</td>\n",
       "      <td>-0.006866</td>\n",
       "    </tr>\n",
       "    <tr>\n",
       "      <th>2021-01-22 11:30:00</th>\n",
       "      <td>-1.0</td>\n",
       "      <td>0.002405</td>\n",
       "      <td>-0.002405</td>\n",
       "    </tr>\n",
       "    <tr>\n",
       "      <th>2021-01-22 13:45:00</th>\n",
       "      <td>-1.0</td>\n",
       "      <td>0.002099</td>\n",
       "      <td>0.002099</td>\n",
       "    </tr>\n",
       "    <tr>\n",
       "      <th>2021-01-22 14:30:00</th>\n",
       "      <td>-1.0</td>\n",
       "      <td>0.001496</td>\n",
       "      <td>0.001496</td>\n",
       "    </tr>\n",
       "    <tr>\n",
       "      <th>2021-01-22 15:45:00</th>\n",
       "      <td>-1.0</td>\n",
       "      <td>-0.000896</td>\n",
       "      <td>-0.000896</td>\n",
       "    </tr>\n",
       "  </tbody>\n",
       "</table>\n",
       "</div>"
      ]
     },
     "metadata": {}
    }
   ],
   "metadata": {}
  },
  {
   "cell_type": "code",
   "execution_count": 91,
   "source": [
    "# Plot the actual returns versus the strategy returns\n",
    "# YOUR CODE HERE\n",
    "(1 + predictions_df[[\"Actual Returns\", \"Strategy Returns\"]]).cumprod().plot()"
   ],
   "outputs": [
    {
     "output_type": "execute_result",
     "data": {
      "text/plain": [
       "<AxesSubplot:xlabel='date'>"
      ]
     },
     "metadata": {},
     "execution_count": 91
    },
    {
     "output_type": "display_data",
     "data": {
      "text/plain": [
       "<Figure size 432x288 with 1 Axes>"
      ],
      "image/svg+xml": "<?xml version=\"1.0\" encoding=\"utf-8\" standalone=\"no\"?>\n<!DOCTYPE svg PUBLIC \"-//W3C//DTD SVG 1.1//EN\"\n  \"http://www.w3.org/Graphics/SVG/1.1/DTD/svg11.dtd\">\n<!-- Created with matplotlib (https://matplotlib.org/) -->\n<svg height=\"252.024627pt\" version=\"1.1\" viewBox=\"0 0 372.103125 252.024627\" width=\"372.103125pt\" xmlns=\"http://www.w3.org/2000/svg\" xmlns:xlink=\"http://www.w3.org/1999/xlink\">\n <metadata>\n  <rdf:RDF xmlns:cc=\"http://creativecommons.org/ns#\" xmlns:dc=\"http://purl.org/dc/elements/1.1/\" xmlns:rdf=\"http://www.w3.org/1999/02/22-rdf-syntax-ns#\">\n   <cc:Work>\n    <dc:type rdf:resource=\"http://purl.org/dc/dcmitype/StillImage\"/>\n    <dc:date>2021-10-02T10:36:24.907556</dc:date>\n    <dc:format>image/svg+xml</dc:format>\n    <dc:creator>\n     <cc:Agent>\n      <dc:title>Matplotlib v3.3.4, https://matplotlib.org/</dc:title>\n     </cc:Agent>\n    </dc:creator>\n   </cc:Work>\n  </rdf:RDF>\n </metadata>\n <defs>\n  <style type=\"text/css\">*{stroke-linecap:butt;stroke-linejoin:round;}</style>\n </defs>\n <g id=\"figure_1\">\n  <g id=\"patch_1\">\n   <path d=\"M 0 252.024627 \nL 372.103125 252.024627 \nL 372.103125 0 \nL 0 0 \nz\n\" style=\"fill:none;\"/>\n  </g>\n  <g id=\"axes_1\">\n   <g id=\"patch_2\">\n    <path d=\"M 30.103125 203.04 \nL 364.903125 203.04 \nL 364.903125 7.2 \nL 30.103125 7.2 \nz\n\" style=\"fill:#ffffff;\"/>\n   </g>\n   <g id=\"matplotlib.axis_1\">\n    <g id=\"xtick_1\">\n     <g id=\"line2d_1\">\n      <defs>\n       <path d=\"M 0 0 \nL 0 3.5 \n\" id=\"m573093b5e6\" style=\"stroke:#000000;stroke-width:0.8;\"/>\n      </defs>\n      <g>\n       <use style=\"stroke:#000000;stroke-width:0.8;\" x=\"72.13327\" xlink:href=\"#m573093b5e6\" y=\"203.04\"/>\n      </g>\n     </g>\n     <g id=\"text_1\">\n      <!-- 2016 -->\n      <g transform=\"translate(49.05308 229.34544)rotate(-30)scale(0.1 -0.1)\">\n       <defs>\n        <path d=\"M 19.1875 8.296875 \nL 53.609375 8.296875 \nL 53.609375 0 \nL 7.328125 0 \nL 7.328125 8.296875 \nQ 12.9375 14.109375 22.625 23.890625 \nQ 32.328125 33.6875 34.8125 36.53125 \nQ 39.546875 41.84375 41.421875 45.53125 \nQ 43.3125 49.21875 43.3125 52.78125 \nQ 43.3125 58.59375 39.234375 62.25 \nQ 35.15625 65.921875 28.609375 65.921875 \nQ 23.96875 65.921875 18.8125 64.3125 \nQ 13.671875 62.703125 7.8125 59.421875 \nL 7.8125 69.390625 \nQ 13.765625 71.78125 18.9375 73 \nQ 24.125 74.21875 28.421875 74.21875 \nQ 39.75 74.21875 46.484375 68.546875 \nQ 53.21875 62.890625 53.21875 53.421875 \nQ 53.21875 48.921875 51.53125 44.890625 \nQ 49.859375 40.875 45.40625 35.40625 \nQ 44.1875 33.984375 37.640625 27.21875 \nQ 31.109375 20.453125 19.1875 8.296875 \nz\n\" id=\"DejaVuSans-50\"/>\n        <path d=\"M 31.78125 66.40625 \nQ 24.171875 66.40625 20.328125 58.90625 \nQ 16.5 51.421875 16.5 36.375 \nQ 16.5 21.390625 20.328125 13.890625 \nQ 24.171875 6.390625 31.78125 6.390625 \nQ 39.453125 6.390625 43.28125 13.890625 \nQ 47.125 21.390625 47.125 36.375 \nQ 47.125 51.421875 43.28125 58.90625 \nQ 39.453125 66.40625 31.78125 66.40625 \nz\nM 31.78125 74.21875 \nQ 44.046875 74.21875 50.515625 64.515625 \nQ 56.984375 54.828125 56.984375 36.375 \nQ 56.984375 17.96875 50.515625 8.265625 \nQ 44.046875 -1.421875 31.78125 -1.421875 \nQ 19.53125 -1.421875 13.0625 8.265625 \nQ 6.59375 17.96875 6.59375 36.375 \nQ 6.59375 54.828125 13.0625 64.515625 \nQ 19.53125 74.21875 31.78125 74.21875 \nz\n\" id=\"DejaVuSans-48\"/>\n        <path d=\"M 12.40625 8.296875 \nL 28.515625 8.296875 \nL 28.515625 63.921875 \nL 10.984375 60.40625 \nL 10.984375 69.390625 \nL 28.421875 72.90625 \nL 38.28125 72.90625 \nL 38.28125 8.296875 \nL 54.390625 8.296875 \nL 54.390625 0 \nL 12.40625 0 \nz\n\" id=\"DejaVuSans-49\"/>\n        <path d=\"M 33.015625 40.375 \nQ 26.375 40.375 22.484375 35.828125 \nQ 18.609375 31.296875 18.609375 23.390625 \nQ 18.609375 15.53125 22.484375 10.953125 \nQ 26.375 6.390625 33.015625 6.390625 \nQ 39.65625 6.390625 43.53125 10.953125 \nQ 47.40625 15.53125 47.40625 23.390625 \nQ 47.40625 31.296875 43.53125 35.828125 \nQ 39.65625 40.375 33.015625 40.375 \nz\nM 52.59375 71.296875 \nL 52.59375 62.3125 \nQ 48.875 64.0625 45.09375 64.984375 \nQ 41.3125 65.921875 37.59375 65.921875 \nQ 27.828125 65.921875 22.671875 59.328125 \nQ 17.53125 52.734375 16.796875 39.40625 \nQ 19.671875 43.65625 24.015625 45.921875 \nQ 28.375 48.1875 33.59375 48.1875 \nQ 44.578125 48.1875 50.953125 41.515625 \nQ 57.328125 34.859375 57.328125 23.390625 \nQ 57.328125 12.15625 50.6875 5.359375 \nQ 44.046875 -1.421875 33.015625 -1.421875 \nQ 20.359375 -1.421875 13.671875 8.265625 \nQ 6.984375 17.96875 6.984375 36.375 \nQ 6.984375 53.65625 15.1875 63.9375 \nQ 23.390625 74.21875 37.203125 74.21875 \nQ 40.921875 74.21875 44.703125 73.484375 \nQ 48.484375 72.75 52.59375 71.296875 \nz\n\" id=\"DejaVuSans-54\"/>\n       </defs>\n       <use xlink:href=\"#DejaVuSans-50\"/>\n       <use x=\"63.623047\" xlink:href=\"#DejaVuSans-48\"/>\n       <use x=\"127.246094\" xlink:href=\"#DejaVuSans-49\"/>\n       <use x=\"190.869141\" xlink:href=\"#DejaVuSans-54\"/>\n      </g>\n     </g>\n    </g>\n    <g id=\"xtick_2\">\n     <g id=\"line2d_2\">\n      <g>\n       <use style=\"stroke:#000000;stroke-width:0.8;\" x=\"127.083406\" xlink:href=\"#m573093b5e6\" y=\"203.04\"/>\n      </g>\n     </g>\n     <g id=\"text_2\">\n      <!-- 2017 -->\n      <g transform=\"translate(104.003216 229.34544)rotate(-30)scale(0.1 -0.1)\">\n       <defs>\n        <path d=\"M 8.203125 72.90625 \nL 55.078125 72.90625 \nL 55.078125 68.703125 \nL 28.609375 0 \nL 18.3125 0 \nL 43.21875 64.59375 \nL 8.203125 64.59375 \nz\n\" id=\"DejaVuSans-55\"/>\n       </defs>\n       <use xlink:href=\"#DejaVuSans-50\"/>\n       <use x=\"63.623047\" xlink:href=\"#DejaVuSans-48\"/>\n       <use x=\"127.246094\" xlink:href=\"#DejaVuSans-49\"/>\n       <use x=\"190.869141\" xlink:href=\"#DejaVuSans-55\"/>\n      </g>\n     </g>\n    </g>\n    <g id=\"xtick_3\">\n     <g id=\"line2d_3\">\n      <g>\n       <use style=\"stroke:#000000;stroke-width:0.8;\" x=\"181.883405\" xlink:href=\"#m573093b5e6\" y=\"203.04\"/>\n      </g>\n     </g>\n     <g id=\"text_3\">\n      <!-- 2018 -->\n      <g transform=\"translate(158.803215 229.34544)rotate(-30)scale(0.1 -0.1)\">\n       <defs>\n        <path d=\"M 31.78125 34.625 \nQ 24.75 34.625 20.71875 30.859375 \nQ 16.703125 27.09375 16.703125 20.515625 \nQ 16.703125 13.921875 20.71875 10.15625 \nQ 24.75 6.390625 31.78125 6.390625 \nQ 38.8125 6.390625 42.859375 10.171875 \nQ 46.921875 13.96875 46.921875 20.515625 \nQ 46.921875 27.09375 42.890625 30.859375 \nQ 38.875 34.625 31.78125 34.625 \nz\nM 21.921875 38.8125 \nQ 15.578125 40.375 12.03125 44.71875 \nQ 8.5 49.078125 8.5 55.328125 \nQ 8.5 64.0625 14.71875 69.140625 \nQ 20.953125 74.21875 31.78125 74.21875 \nQ 42.671875 74.21875 48.875 69.140625 \nQ 55.078125 64.0625 55.078125 55.328125 \nQ 55.078125 49.078125 51.53125 44.71875 \nQ 48 40.375 41.703125 38.8125 \nQ 48.828125 37.15625 52.796875 32.3125 \nQ 56.78125 27.484375 56.78125 20.515625 \nQ 56.78125 9.90625 50.3125 4.234375 \nQ 43.84375 -1.421875 31.78125 -1.421875 \nQ 19.734375 -1.421875 13.25 4.234375 \nQ 6.78125 9.90625 6.78125 20.515625 \nQ 6.78125 27.484375 10.78125 32.3125 \nQ 14.796875 37.15625 21.921875 38.8125 \nz\nM 18.3125 54.390625 \nQ 18.3125 48.734375 21.84375 45.5625 \nQ 25.390625 42.390625 31.78125 42.390625 \nQ 38.140625 42.390625 41.71875 45.5625 \nQ 45.3125 48.734375 45.3125 54.390625 \nQ 45.3125 60.0625 41.71875 63.234375 \nQ 38.140625 66.40625 31.78125 66.40625 \nQ 25.390625 66.40625 21.84375 63.234375 \nQ 18.3125 60.0625 18.3125 54.390625 \nz\n\" id=\"DejaVuSans-56\"/>\n       </defs>\n       <use xlink:href=\"#DejaVuSans-50\"/>\n       <use x=\"63.623047\" xlink:href=\"#DejaVuSans-48\"/>\n       <use x=\"127.246094\" xlink:href=\"#DejaVuSans-49\"/>\n       <use x=\"190.869141\" xlink:href=\"#DejaVuSans-56\"/>\n      </g>\n     </g>\n    </g>\n    <g id=\"xtick_4\">\n     <g id=\"line2d_4\">\n      <g>\n       <use style=\"stroke:#000000;stroke-width:0.8;\" x=\"236.683404\" xlink:href=\"#m573093b5e6\" y=\"203.04\"/>\n      </g>\n     </g>\n     <g id=\"text_4\">\n      <!-- 2019 -->\n      <g transform=\"translate(213.603214 229.34544)rotate(-30)scale(0.1 -0.1)\">\n       <defs>\n        <path d=\"M 10.984375 1.515625 \nL 10.984375 10.5 \nQ 14.703125 8.734375 18.5 7.8125 \nQ 22.3125 6.890625 25.984375 6.890625 \nQ 35.75 6.890625 40.890625 13.453125 \nQ 46.046875 20.015625 46.78125 33.40625 \nQ 43.953125 29.203125 39.59375 26.953125 \nQ 35.25 24.703125 29.984375 24.703125 \nQ 19.046875 24.703125 12.671875 31.3125 \nQ 6.296875 37.9375 6.296875 49.421875 \nQ 6.296875 60.640625 12.9375 67.421875 \nQ 19.578125 74.21875 30.609375 74.21875 \nQ 43.265625 74.21875 49.921875 64.515625 \nQ 56.59375 54.828125 56.59375 36.375 \nQ 56.59375 19.140625 48.40625 8.859375 \nQ 40.234375 -1.421875 26.421875 -1.421875 \nQ 22.703125 -1.421875 18.890625 -0.6875 \nQ 15.09375 0.046875 10.984375 1.515625 \nz\nM 30.609375 32.421875 \nQ 37.25 32.421875 41.125 36.953125 \nQ 45.015625 41.5 45.015625 49.421875 \nQ 45.015625 57.28125 41.125 61.84375 \nQ 37.25 66.40625 30.609375 66.40625 \nQ 23.96875 66.40625 20.09375 61.84375 \nQ 16.21875 57.28125 16.21875 49.421875 \nQ 16.21875 41.5 20.09375 36.953125 \nQ 23.96875 32.421875 30.609375 32.421875 \nz\n\" id=\"DejaVuSans-57\"/>\n       </defs>\n       <use xlink:href=\"#DejaVuSans-50\"/>\n       <use x=\"63.623047\" xlink:href=\"#DejaVuSans-48\"/>\n       <use x=\"127.246094\" xlink:href=\"#DejaVuSans-49\"/>\n       <use x=\"190.869141\" xlink:href=\"#DejaVuSans-57\"/>\n      </g>\n     </g>\n    </g>\n    <g id=\"xtick_5\">\n     <g id=\"line2d_5\">\n      <g>\n       <use style=\"stroke:#000000;stroke-width:0.8;\" x=\"291.483403\" xlink:href=\"#m573093b5e6\" y=\"203.04\"/>\n      </g>\n     </g>\n     <g id=\"text_5\">\n      <!-- 2020 -->\n      <g transform=\"translate(268.403213 229.34544)rotate(-30)scale(0.1 -0.1)\">\n       <use xlink:href=\"#DejaVuSans-50\"/>\n       <use x=\"63.623047\" xlink:href=\"#DejaVuSans-48\"/>\n       <use x=\"127.246094\" xlink:href=\"#DejaVuSans-50\"/>\n       <use x=\"190.869141\" xlink:href=\"#DejaVuSans-48\"/>\n      </g>\n     </g>\n    </g>\n    <g id=\"xtick_6\">\n     <g id=\"line2d_6\">\n      <g>\n       <use style=\"stroke:#000000;stroke-width:0.8;\" x=\"346.433539\" xlink:href=\"#m573093b5e6\" y=\"203.04\"/>\n      </g>\n     </g>\n     <g id=\"text_6\">\n      <!-- 2021 -->\n      <g transform=\"translate(323.353349 229.34544)rotate(-30)scale(0.1 -0.1)\">\n       <use xlink:href=\"#DejaVuSans-50\"/>\n       <use x=\"63.623047\" xlink:href=\"#DejaVuSans-48\"/>\n       <use x=\"127.246094\" xlink:href=\"#DejaVuSans-50\"/>\n       <use x=\"190.869141\" xlink:href=\"#DejaVuSans-49\"/>\n      </g>\n     </g>\n    </g>\n    <g id=\"text_7\">\n     <!-- date -->\n     <g transform=\"translate(186.228125 242.74494)scale(0.1 -0.1)\">\n      <defs>\n       <path d=\"M 45.40625 46.390625 \nL 45.40625 75.984375 \nL 54.390625 75.984375 \nL 54.390625 0 \nL 45.40625 0 \nL 45.40625 8.203125 \nQ 42.578125 3.328125 38.25 0.953125 \nQ 33.9375 -1.421875 27.875 -1.421875 \nQ 17.96875 -1.421875 11.734375 6.484375 \nQ 5.515625 14.40625 5.515625 27.296875 \nQ 5.515625 40.1875 11.734375 48.09375 \nQ 17.96875 56 27.875 56 \nQ 33.9375 56 38.25 53.625 \nQ 42.578125 51.265625 45.40625 46.390625 \nz\nM 14.796875 27.296875 \nQ 14.796875 17.390625 18.875 11.75 \nQ 22.953125 6.109375 30.078125 6.109375 \nQ 37.203125 6.109375 41.296875 11.75 \nQ 45.40625 17.390625 45.40625 27.296875 \nQ 45.40625 37.203125 41.296875 42.84375 \nQ 37.203125 48.484375 30.078125 48.484375 \nQ 22.953125 48.484375 18.875 42.84375 \nQ 14.796875 37.203125 14.796875 27.296875 \nz\n\" id=\"DejaVuSans-100\"/>\n       <path d=\"M 34.28125 27.484375 \nQ 23.390625 27.484375 19.1875 25 \nQ 14.984375 22.515625 14.984375 16.5 \nQ 14.984375 11.71875 18.140625 8.90625 \nQ 21.296875 6.109375 26.703125 6.109375 \nQ 34.1875 6.109375 38.703125 11.40625 \nQ 43.21875 16.703125 43.21875 25.484375 \nL 43.21875 27.484375 \nz\nM 52.203125 31.203125 \nL 52.203125 0 \nL 43.21875 0 \nL 43.21875 8.296875 \nQ 40.140625 3.328125 35.546875 0.953125 \nQ 30.953125 -1.421875 24.3125 -1.421875 \nQ 15.921875 -1.421875 10.953125 3.296875 \nQ 6 8.015625 6 15.921875 \nQ 6 25.140625 12.171875 29.828125 \nQ 18.359375 34.515625 30.609375 34.515625 \nL 43.21875 34.515625 \nL 43.21875 35.40625 \nQ 43.21875 41.609375 39.140625 45 \nQ 35.0625 48.390625 27.6875 48.390625 \nQ 23 48.390625 18.546875 47.265625 \nQ 14.109375 46.140625 10.015625 43.890625 \nL 10.015625 52.203125 \nQ 14.9375 54.109375 19.578125 55.046875 \nQ 24.21875 56 28.609375 56 \nQ 40.484375 56 46.34375 49.84375 \nQ 52.203125 43.703125 52.203125 31.203125 \nz\n\" id=\"DejaVuSans-97\"/>\n       <path d=\"M 18.3125 70.21875 \nL 18.3125 54.6875 \nL 36.8125 54.6875 \nL 36.8125 47.703125 \nL 18.3125 47.703125 \nL 18.3125 18.015625 \nQ 18.3125 11.328125 20.140625 9.421875 \nQ 21.96875 7.515625 27.59375 7.515625 \nL 36.8125 7.515625 \nL 36.8125 0 \nL 27.59375 0 \nQ 17.1875 0 13.234375 3.875 \nQ 9.28125 7.765625 9.28125 18.015625 \nL 9.28125 47.703125 \nL 2.6875 47.703125 \nL 2.6875 54.6875 \nL 9.28125 54.6875 \nL 9.28125 70.21875 \nz\n\" id=\"DejaVuSans-116\"/>\n       <path d=\"M 56.203125 29.59375 \nL 56.203125 25.203125 \nL 14.890625 25.203125 \nQ 15.484375 15.921875 20.484375 11.0625 \nQ 25.484375 6.203125 34.421875 6.203125 \nQ 39.59375 6.203125 44.453125 7.46875 \nQ 49.3125 8.734375 54.109375 11.28125 \nL 54.109375 2.78125 \nQ 49.265625 0.734375 44.1875 -0.34375 \nQ 39.109375 -1.421875 33.890625 -1.421875 \nQ 20.796875 -1.421875 13.15625 6.1875 \nQ 5.515625 13.8125 5.515625 26.8125 \nQ 5.515625 40.234375 12.765625 48.109375 \nQ 20.015625 56 32.328125 56 \nQ 43.359375 56 49.78125 48.890625 \nQ 56.203125 41.796875 56.203125 29.59375 \nz\nM 47.21875 32.234375 \nQ 47.125 39.59375 43.09375 43.984375 \nQ 39.0625 48.390625 32.421875 48.390625 \nQ 24.90625 48.390625 20.390625 44.140625 \nQ 15.875 39.890625 15.1875 32.171875 \nz\n\" id=\"DejaVuSans-101\"/>\n      </defs>\n      <use xlink:href=\"#DejaVuSans-100\"/>\n      <use x=\"63.476562\" xlink:href=\"#DejaVuSans-97\"/>\n      <use x=\"124.755859\" xlink:href=\"#DejaVuSans-116\"/>\n      <use x=\"163.964844\" xlink:href=\"#DejaVuSans-101\"/>\n     </g>\n    </g>\n   </g>\n   <g id=\"matplotlib.axis_2\">\n    <g id=\"ytick_1\">\n     <g id=\"line2d_7\">\n      <defs>\n       <path d=\"M 0 0 \nL -3.5 0 \n\" id=\"mfef9ed7ca7\" style=\"stroke:#000000;stroke-width:0.8;\"/>\n      </defs>\n      <g>\n       <use style=\"stroke:#000000;stroke-width:0.8;\" x=\"30.103125\" xlink:href=\"#mfef9ed7ca7\" y=\"185.936962\"/>\n      </g>\n     </g>\n     <g id=\"text_8\">\n      <!-- 0.6 -->\n      <g transform=\"translate(7.2 189.73618)scale(0.1 -0.1)\">\n       <defs>\n        <path d=\"M 10.6875 12.40625 \nL 21 12.40625 \nL 21 0 \nL 10.6875 0 \nz\n\" id=\"DejaVuSans-46\"/>\n       </defs>\n       <use xlink:href=\"#DejaVuSans-48\"/>\n       <use x=\"63.623047\" xlink:href=\"#DejaVuSans-46\"/>\n       <use x=\"95.410156\" xlink:href=\"#DejaVuSans-54\"/>\n      </g>\n     </g>\n    </g>\n    <g id=\"ytick_2\">\n     <g id=\"line2d_8\">\n      <g>\n       <use style=\"stroke:#000000;stroke-width:0.8;\" x=\"30.103125\" xlink:href=\"#mfef9ed7ca7\" y=\"142.911583\"/>\n      </g>\n     </g>\n     <g id=\"text_9\">\n      <!-- 0.8 -->\n      <g transform=\"translate(7.2 146.710802)scale(0.1 -0.1)\">\n       <use xlink:href=\"#DejaVuSans-48\"/>\n       <use x=\"63.623047\" xlink:href=\"#DejaVuSans-46\"/>\n       <use x=\"95.410156\" xlink:href=\"#DejaVuSans-56\"/>\n      </g>\n     </g>\n    </g>\n    <g id=\"ytick_3\">\n     <g id=\"line2d_9\">\n      <g>\n       <use style=\"stroke:#000000;stroke-width:0.8;\" x=\"30.103125\" xlink:href=\"#mfef9ed7ca7\" y=\"99.886204\"/>\n      </g>\n     </g>\n     <g id=\"text_10\">\n      <!-- 1.0 -->\n      <g transform=\"translate(7.2 103.685423)scale(0.1 -0.1)\">\n       <use xlink:href=\"#DejaVuSans-49\"/>\n       <use x=\"63.623047\" xlink:href=\"#DejaVuSans-46\"/>\n       <use x=\"95.410156\" xlink:href=\"#DejaVuSans-48\"/>\n      </g>\n     </g>\n    </g>\n    <g id=\"ytick_4\">\n     <g id=\"line2d_10\">\n      <g>\n       <use style=\"stroke:#000000;stroke-width:0.8;\" x=\"30.103125\" xlink:href=\"#mfef9ed7ca7\" y=\"56.860825\"/>\n      </g>\n     </g>\n     <g id=\"text_11\">\n      <!-- 1.2 -->\n      <g transform=\"translate(7.2 60.660044)scale(0.1 -0.1)\">\n       <use xlink:href=\"#DejaVuSans-49\"/>\n       <use x=\"63.623047\" xlink:href=\"#DejaVuSans-46\"/>\n       <use x=\"95.410156\" xlink:href=\"#DejaVuSans-50\"/>\n      </g>\n     </g>\n    </g>\n    <g id=\"ytick_5\">\n     <g id=\"line2d_11\">\n      <g>\n       <use style=\"stroke:#000000;stroke-width:0.8;\" x=\"30.103125\" xlink:href=\"#mfef9ed7ca7\" y=\"13.835446\"/>\n      </g>\n     </g>\n     <g id=\"text_12\">\n      <!-- 1.4 -->\n      <g transform=\"translate(7.2 17.634665)scale(0.1 -0.1)\">\n       <defs>\n        <path d=\"M 37.796875 64.3125 \nL 12.890625 25.390625 \nL 37.796875 25.390625 \nz\nM 35.203125 72.90625 \nL 47.609375 72.90625 \nL 47.609375 25.390625 \nL 58.015625 25.390625 \nL 58.015625 17.1875 \nL 47.609375 17.1875 \nL 47.609375 0 \nL 37.796875 0 \nL 37.796875 17.1875 \nL 4.890625 17.1875 \nL 4.890625 26.703125 \nz\n\" id=\"DejaVuSans-52\"/>\n       </defs>\n       <use xlink:href=\"#DejaVuSans-49\"/>\n       <use x=\"63.623047\" xlink:href=\"#DejaVuSans-46\"/>\n       <use x=\"95.410156\" xlink:href=\"#DejaVuSans-52\"/>\n      </g>\n     </g>\n    </g>\n   </g>\n   <g id=\"line2d_12\">\n    <path clip-path=\"url(#p0b3cc18bcc)\" d=\"M 45.321307 105.418293 \nL 45.325999 103.90143 \nL 45.349458 106.756702 \nL 45.657551 114.876382 \nL 46.552117 104.793703 \nL 46.833624 103.812203 \nL 46.982197 104.704475 \nL 47.459195 104.972157 \nL 48.497642 114.6087 \nL 48.510154 113.894882 \nL 48.654035 113.091837 \nL 48.77133 113.359518 \nL 48.797916 111.218064 \nL 48.929286 112.6457 \nL 49.085679 109.968883 \nL 49.526706 113.359518 \nL 49.531398 112.6457 \nL 49.537654 112.110337 \nL 49.561113 112.824155 \nL 49.831672 110.236565 \nL 49.855131 110.950383 \nL 50.135074 114.430245 \nL 50.160097 114.251791 \nL 50.73875 114.787154 \nL 50.885759 118.088562 \nL 50.910782 116.571699 \nL 51.023384 117.374744 \nL 51.028076 116.839381 \nL 51.051535 116.036336 \nL 51.186033 116.125563 \nL 51.189161 116.660926 \nL 51.21262 116.571699 \nL 52.255759 127.90356 \nL 52.262014 130.045014 \nL 52.263578 129.777332 \nL 52.832848 129.866559 \nL 52.859435 131.383422 \nL 52.864126 133.971013 \nL 53.148761 122.639152 \nL 53.287951 123.620652 \nL 53.305154 124.691379 \nL 53.314537 124.245243 \nL 53.880679 129.777332 \nL 53.899446 130.758832 \nL 53.915085 130.49115 \nL 54.337345 129.688105 \nL 54.338909 129.777332 \nL 54.35924 131.740331 \nL 55.416455 124.512924 \nL 55.837151 125.226742 \nL 55.851227 125.762106 \nL 55.866866 125.672879 \nL 56.017003 123.085288 \nL 56.315713 119.694653 \nL 56.317277 120.676153 \nL 58.117357 132.632604 \nL 58.262802 129.241968 \nL 58.536489 128.171241 \nL 58.567768 123.263743 \nL 58.569332 123.799106 \nL 59.011923 120.76538 \nL 59.013487 120.230016 \nL 59.019743 120.676153 \nL 59.133909 120.051562 \nL 59.16988 121.300743 \nL 59.28561 115.233291 \nL 59.320017 116.928608 \nL 59.434183 116.21479 \nL 59.438875 116.393245 \nL 59.440439 117.642426 \nL 59.470154 114.251791 \nL 60.069138 115.5902 \nL 60.220839 117.463972 \nL 60.350644 117.285517 \nL 60.492962 116.21479 \nL 61.106021 114.876382 \nL 61.12166 114.430245 \nL 61.3844 114.430245 \nL 61.421934 116.125563 \nL 62.147596 113.091837 \nL 62.294606 115.500972 \nL 62.310245 116.125563 \nL 62.322756 115.054836 \nL 62.446307 114.697927 \nL 62.472893 116.928608 \nL 62.748144 118.80238 \nL 62.755964 118.534699 \nL 63.348692 114.251791 \nL 63.35182 114.341018 \nL 63.365896 112.824155 \nL 63.373715 113.6272 \nL 63.487882 112.467246 \nL 63.492574 112.913382 \nL 63.51916 114.341018 \nL 63.520724 114.162564 \nL 63.638019 114.073336 \nL 63.644275 115.054836 \nL 63.659914 113.270291 \nL 63.672425 113.796732 \nL 64.251078 119.337744 \nL 64.254206 118.80238 \nL 64.571683 120.497698 \nL 64.712437 120.140789 \nL 64.724948 121.74688 \nL 65.444354 120.319244 \nL 65.475633 121.74688 \nL 65.739937 119.873107 \nL 65.758704 118.534699 \nL 66.343612 117.553199 \nL 66.356124 118.445471 \nL 66.36238 117.463972 \nL 66.371763 118.17779 \nL 66.676729 119.516198 \nL 66.953544 121.74688 \nL 67.544708 120.854607 \nL 67.558784 121.033062 \nL 67.560348 121.033062 \nL 67.561911 121.300743 \nL 67.571295 120.586925 \nL 67.572859 120.76538 \nL 67.871569 131.561877 \nL 67.877825 131.47265 \nL 68.594103 134.684831 \nL 68.600359 133.257195 \nL 68.62851 133.524876 \nL 68.75206 133.435649 \nL 68.758316 136.380148 \nL 68.778647 134.506376 \nL 69.071101 140.038465 \nL 69.078921 139.146193 \nL 69.490233 138.25392 \nL 69.51682 139.324647 \nL 69.529332 137.718557 \nL 69.671649 134.774058 \nL 69.679469 135.398649 \nL 69.942208 131.651104 \nL 69.970359 132.275695 \nL 70.090781 133.881785 \nL 70.092345 132.632604 \nL 70.128316 134.327922 \nL 70.129879 134.327922 \nL 70.841466 129.955786 \nL 70.849286 130.045014 \nL 70.85085 130.669604 \nL 70.875873 129.598877 \nL 70.877437 129.688105 \nL 70.991603 130.848059 \nL 70.993167 129.866559 \nL 71.008806 129.688105 \nL 71.011934 130.134241 \nL 71.592151 135.130967 \nL 71.598407 135.755558 \nL 71.631249 133.07874 \nL 71.753236 134.149467 \nL 71.779822 134.595603 \nL 71.781386 133.792558 \nL 72.652494 141.82301 \nL 72.660313 141.287647 \nL 72.666569 140.127693 \nL 72.682208 141.287647 \nL 72.824526 139.503102 \nL 72.832345 139.860011 \nL 72.966843 142.001465 \nL 72.969971 141.644556 \nL 73.132619 147.444327 \nL 73.243658 146.195146 \nL 73.268681 147.087418 \nL 73.282756 148.247372 \nL 73.697197 147.712009 \nL 73.715964 149.496554 \nL 73.733167 148.158145 \nL 73.847334 147.3551 \nL 73.870793 148.336599 \nL 73.883304 147.801236 \nL 74.02093 148.871963 \nL 74.027185 149.764235 \nL 74.177322 146.998191 \nL 74.183578 148.247372 \nL 74.31964 153.601007 \nL 74.333715 152.976416 \nL 74.896729 149.853463 \nL 74.90142 150.031917 \nL 75.053121 156.010143 \nL 75.056249 155.920916 \nL 75.065633 156.723961 \nL 75.082836 154.047143 \nL 75.0844 154.136371 \nL 75.195439 154.047143 \nL 75.198567 154.314825 \nL 75.20795 151.994917 \nL 75.234537 153.690234 \nL 75.384674 149.585781 \nL 75.949252 151.102644 \nL 75.985222 149.585781 \nL 76.100952 150.388826 \nL 76.116592 148.515054 \nL 76.135359 150.210372 \nL 76.435633 143.607555 \nL 76.853201 145.124419 \nL 76.871968 146.105918 \nL 77.004902 147.97969 \nL 77.184754 147.087418 \nL 77.309868 145.302873 \nL 77.319251 145.927464 \nL 77.449057 145.3921 \nL 78.077756 151.994917 \nL 78.08714 151.459553 \nL 78.205998 149.228872 \nL 78.362391 154.314825 \nL 78.367083 154.225598 \nL 78.387414 152.708735 \nL 78.50158 152.441053 \nL 78.534423 151.370326 \nL 79.127151 145.927464 \nL 79.138098 146.641282 \nL 79.258521 144.053692 \nL 79.285108 144.142919 \nL 79.403966 143.607555 \nL 79.40553 144.053692 \nL 79.411786 144.76751 \nL 79.438372 144.499828 \nL 80.004514 142.179919 \nL 80.029537 141.555329 \nL 80.303224 147.712009 \nL 80.454925 145.213646 \nL 81.063293 143.072192 \nL 81.067984 143.250646 \nL 81.089879 144.410601 \nL 81.240016 139.949238 \nL 81.532471 136.737057 \nL 82.122071 134.417149 \nL 82.267516 137.183193 \nL 82.290975 136.64783 \nL 82.417653 135.398649 \nL 82.581866 136.469376 \nL 82.741386 133.524876 \nL 83.190233 133.257195 \nL 83.338806 136.201694 \nL 83.47174 135.309421 \nL 83.47956 135.934012 \nL 83.606238 132.811058 \nL 83.607802 133.435649 \nL 83.632824 131.561877 \nL 83.642208 131.561877 \nL 83.792345 130.223468 \nL 84.206786 128.974287 \nL 84.521135 131.829559 \nL 84.668144 133.703331 \nL 84.693167 132.186468 \nL 85.256181 131.47265 \nL 85.260872 132.275695 \nL 85.293715 132.008013 \nL 85.564274 127.992787 \nL 85.589297 128.706605 \nL 85.744126 130.49115 \nL 85.856729 133.792558 \nL 86.327471 130.856982 \nL 86.623053 134.238694 \nL 87.691215 126.654378 \nL 87.695907 126.743605 \nL 87.810073 127.992787 \nL 87.813201 127.189742 \nL 87.816329 126.565151 \nL 87.846044 127.814332 \nL 87.977413 127.992787 \nL 87.986797 128.52815 \nL 87.993053 128.260469 \nL 88.429388 126.832833 \nL 88.437208 126.92206 \nL 88.445028 127.189742 \nL 101.036203 128.260469 \nL 101.040895 127.725105 \nL 101.205107 125.94056 \nL 101.208235 126.029788 \nL 101.632059 125.405197 \nL 101.639879 125.583651 \nL 101.658646 125.137515 \nL 102.069959 124.869833 \nL 102.074651 124.33447 \nL 102.259194 124.691379 \nL 102.382744 123.174516 \nL 102.409331 123.35297 \nL 102.551648 124.423697 \nL 103.275746 122.549925 \nL 103.438395 123.709879 \nL 103.577584 123.709879 \nL 103.597915 124.156015 \nL 103.610427 123.442197 \nL 104.210975 124.423697 \nL 104.47997 125.672879 \nL 104.797447 122.37147 \nL 104.803703 122.549925 \nL 105.408943 121.033062 \nL 105.410507 120.586925 \nL 105.523109 120.497698 \nL 105.54344 121.211516 \nL 105.702961 119.248517 \nL 106.312893 117.285517 \nL 106.599091 119.159289 \nL 106.602219 118.445471 \nL 106.613167 118.623926 \nL 106.738281 117.820881 \nL 106.7461 118.267017 \nL 106.874342 118.980835 \nL 106.911877 117.731653 \nL 107.363851 119.694653 \nL 107.495221 118.713153 \nL 107.510861 119.337744 \nL 107.512424 119.873107 \nL 107.513988 119.78388 \nL 107.65787 119.426971 \nL 107.664125 118.80238 \nL 107.804879 119.962335 \nL 107.811135 119.605426 \nL 107.925301 119.337744 \nL 108.544616 118.980835 \nL 108.715084 121.033062 \nL 108.843326 121.122289 \nL 108.980952 118.17779 \nL 109.579936 116.304017 \nL 109.908361 116.21479 \nL 110.050678 119.78388 \nL 110.483886 121.033062 \nL 110.487013 120.76538 \nL 110.5136 119.070062 \nL 110.516728 119.248517 \nL 110.630895 122.639152 \nL 110.782596 121.300743 \nL 110.802927 121.523811 \nL 110.806055 122.460698 \nL 110.81231 122.059175 \nL 110.960883 119.694653 \nL 111.533281 118.534699 \nL 111.534845 118.713153 \nL 111.702185 120.586925 \nL 111.705313 120.051562 \nL 111.828863 119.248517 \nL 111.84763 120.051562 \nL 111.85545 119.516198 \nL 111.980564 115.054836 \nL 111.982128 115.144063 \nL 112.604571 119.070062 \nL 112.732813 118.623926 \nL 112.734376 118.713153 \nL 112.737504 119.694653 \nL 112.91892 116.660926 \nL 113.186351 119.159289 \nL 113.21763 118.356244 \nL 114.690849 115.411745 \nL 114.698669 115.500972 \nL 114.708052 114.876382 \nL 114.989559 119.070062 \nL 115.00989 118.534699 \nL 115.286705 119.248517 \nL 115.769959 120.408471 \nL 116.182835 117.820881 \nL 116.339228 117.553199 \nL 116.935084 116.928608 \nL 117.266637 119.070062 \nL 117.839034 118.80238 \nL 117.862493 119.962335 \nL 117.868749 119.248517 \nL 118.139308 121.479198 \nL 118.473988 125.494424 \nL 119.072972 118.17779 \nL 119.074536 119.516198 \nL 119.188703 123.709879 \nL 119.224673 123.263743 \nL 120.102036 128.082014 \nL 120.119239 126.386696 \nL 120.259993 128.795832 \nL 120.275632 127.992787 \nL 120.392927 126.386696 \nL 120.419513 127.457423 \nL 120.990347 126.208242 \nL 121.013806 126.654378 \nL 122.219593 123.888334 \nL 122.225849 124.33447 \nL 122.490153 124.780606 \nL 122.502664 124.245243 \nL 122.519867 125.672879 \nL 122.527687 124.869833 \nL 122.671568 126.029788 \nL 123.276808 124.33447 \nL 123.426945 122.014561 \nL 123.541111 122.059175 \nL 123.542675 122.193016 \nL 123.573954 121.033062 \nL 123.722527 120.854607 \nL 123.728783 121.122289 \nL 124.144787 122.996061 \nL 124.291796 121.657652 \nL 124.312127 121.74688 \nL 124.446625 122.639152 \nL 124.779742 125.851333 \nL 125.192618 126.119015 \nL 125.214513 125.672879 \nL 125.228589 126.92206 \nL 125.345883 126.029788 \nL 125.375598 126.743605 \nL 125.499148 126.832833 \nL 125.658668 129.241968 \nL 125.669616 128.974287 \nL 125.821317 128.617378 \nL 126.393714 127.635878 \nL 126.398406 126.832833 \nL 126.417173 126.92206 \nL 126.542287 126.297469 \nL 126.579821 127.90356 \nL 126.581385 127.814332 \nL 126.726831 124.869833 \nL 126.731522 125.048288 \nL 126.851945 125.583651 \nL 126.876968 126.208242 \nL 126.881659 126.029788 \nL 127.446237 122.549925 \nL 127.450929 123.085288 \nL 127.474388 123.799106 \nL 127.482207 123.442197 \nL 127.596374 122.639152 \nL 127.632344 122.996061 \nL 127.746511 122.817607 \nL 127.782481 121.74688 \nL 127.924799 122.014561 \nL 127.932618 121.836107 \nL 128.350187 121.479198 \nL 128.362698 122.103789 \nL 128.354878 121.389971 \nL 128.379901 121.702266 \nL 128.647333 119.78388 \nL 128.650461 119.962335 \nL 128.659844 120.586925 \nL 128.677047 119.337744 \nL 128.794342 119.159289 \nL 128.830312 120.230016 \nL 128.953862 120.051562 \nL 128.983577 118.980835 \nL 129.548155 119.605426 \nL 129.549719 119.248517 \nL 129.584125 120.676153 \nL 129.695164 119.337744 \nL 129.717059 119.78388 \nL 129.879707 121.033062 \nL 129.884399 120.76538 \nL 130.006385 120.497698 \nL 130.007949 120.586925 \nL 130.017333 121.479198 \nL 130.020461 121.389971 \nL 130.445849 120.408471 \nL 130.447413 120.497698 \nL 130.630392 117.19629 \nL 130.747687 117.285517 \nL 130.902515 116.125563 \nL 130.935358 116.393245 \nL 131.504627 118.267017 \nL 131.526522 118.891608 \nL 131.534342 118.579312 \nL 131.648509 118.445471 \nL 131.664148 118.80238 \nL 131.681351 118.445471 \nL 131.797082 117.463972 \nL 131.823668 117.731653 \nL 131.973805 118.66854 \nL 131.980061 119.248517 \nL 131.981625 119.203903 \nL 132.558714 117.642426 \nL 132.561842 117.731653 \nL 132.585301 118.267017 \nL 132.586865 118.088562 \nL 132.716671 118.311631 \nL 133.179593 114.787154 \nL 133.63626 114.162564 \nL 133.786397 115.322518 \nL 133.930278 114.251791 \nL 134.088235 114.251791 \nL 134.199273 113.894882 \nL 134.806077 113.002609 \nL 134.949958 113.537973 \nL 134.960906 112.734928 \nL 134.965598 112.824155 \nL 135.12199 113.091837 \nL 135.250232 115.768654 \nL 135.25336 115.233291 \nL 135.286203 115.322518 \nL 135.853908 115.5902 \nL 135.889878 117.017835 \nL 136.036887 113.716427 \nL 136.154182 114.787154 \nL 136.163566 116.036336 \nL 136.182333 115.679427 \nL 136.753166 115.5902 \nL 136.75473 115.500972 \nL 136.759422 116.125563 \nL 136.764113 116.036336 \nL 137.051876 114.787154 \nL 137.059696 114.965609 \nL 137.212961 117.285517 \nL 137.355278 116.125563 \nL 137.367789 116.393245 \nL 137.375609 117.017835 \nL 137.386556 116.304017 \nL 137.391248 116.304017 \nL 137.804125 114.430245 \nL 137.822892 114.519473 \nL 137.973029 114.341018 \nL 138.104399 114.876382 \nL 138.274867 110.682701 \nL 138.288942 111.03961 \nL 138.29207 111.128837 \nL 138.425004 111.128837 \nL 138.442207 110.950383 \nL 138.859776 110.325792 \nL 138.892618 109.522747 \nL 139.158486 111.753428 \nL 139.307059 111.664201 \nL 139.324262 110.236565 \nL 139.343029 110.593474 \nL 139.454068 111.307292 \nL 139.909171 113.091837 \nL 139.938885 110.950383 \nL 140.059307 111.218064 \nL 140.212572 109.611974 \nL 140.242287 109.790428 \nL 140.359581 111.03961 \nL 140.372093 110.325792 \nL 140.539433 111.218064 \nL 140.967949 111.307292 \nL 140.98046 111.218064 \nL 141.265095 109.165838 \nL 141.266659 109.344292 \nL 141.29481 110.415019 \nL 141.407412 110.147337 \nL 141.413668 110.325792 \nL 141.581008 110.325792 \nL 142.029855 111.307292 \nL 142.178428 110.771928 \nL 142.189376 110.861155 \nL 142.195632 111.307292 \nL 142.31449 111.396519 \nL 142.316054 111.307292 \nL 142.32231 112.02111 \nL 142.330129 111.574973 \nL 142.464627 111.931882 \nL 142.466191 111.218064 \nL 142.495906 112.824155 \nL 143.068303 111.03961 \nL 143.08707 111.396519 \nL 143.088634 111.128837 \nL 143.392036 113.761041 \nL 143.395164 114.519473 \nL 143.518714 112.556473 \nL 143.657903 112.734928 \nL 143.661031 112.467246 \nL 143.686054 112.6457 \nL 144.111442 110.415019 \nL 144.417972 107.47052 \nL 144.427355 108.095111 \nL 144.591568 108.362792 \nL 144.708862 108.095111 \nL 144.74796 108.184338 \nL 145.163965 108.005883 \nL 145.190552 107.024384 \nL 145.192116 107.202838 \nL 145.335997 106.176725 \nL 145.343817 106.578247 \nL 145.467367 107.916656 \nL 145.478314 107.024384 \nL 145.609684 106.578247 \nL 145.642527 108.45202 \nL 145.773896 107.381293 \nL 146.210232 105.596748 \nL 146.218052 105.775202 \nL 146.24933 106.667475 \nL 146.518326 103.366067 \nL 146.668463 104.258339 \nL 146.685666 103.722976 \nL 146.691922 103.366067 \nL 146.699741 103.41068 \nL 146.849878 102.830703 \nL 147.262755 102.652249 \nL 147.300289 101.670749 \nL 147.419148 102.384567 \nL 147.434787 101.581522 \nL 147.450426 101.80459 \nL 147.736625 106.399793 \nL 148.351248 103.633748 \nL 148.613988 102.116885 \nL 148.639011 102.91993 \nL 148.651522 102.563021 \nL 148.918953 100.153886 \nL 148.951796 100.421567 \nL 149.546088 100.956931 \nL 149.702481 103.366067 \nL 149.821339 102.91993 \nL 149.999627 100.689249 \nL 150.001191 100.867704 \nL 150.425015 100.867704 \nL 150.5861 100.600022 \nL 150.590791 100.778476 \nL 150.726853 100.778476 \nL 150.895757 99.618522 \nL 150.903577 99.707749 \nL 151.05215 101.759976 \nL 151.624547 101.581522 \nL 151.629239 101.135385 \nL 151.643314 101.403067 \nL 151.766864 100.510795 \nL 151.771556 101.31384 \nL 151.918565 104.436794 \nL 152.065574 104.169112 \nL 152.104673 102.473794 \nL 152.522241 99.886204 \nL 152.542572 100.510795 \nL 152.686453 100.778476 \nL 152.700529 101.31384 \nL 152.96796 100.153886 \nL 152.972652 100.33234 \nL 153.138428 100.153886 \nL 153.571636 98.72625 \nL 153.5732 98.324727 \nL 153.601351 98.904704 \nL 153.881294 99.261613 \nL 153.906316 98.904704 \nL 154.029867 100.510795 \nL 154.040814 102.384567 \nL 154.203462 99.35084 \nL 154.625723 98.547795 \nL 154.638234 98.637022 \nL 154.924433 99.573909 \nL 154.949456 97.923204 \nL 155.223143 102.027658 \nL 155.673554 101.135385 \nL 155.822127 98.547795 \nL 155.823691 98.637022 \nL 155.842458 98.72625 \nL 155.844022 98.458568 \nL 155.9707 96.138659 \nL 155.980083 96.317114 \nL 156.122401 95.335614 \nL 156.123965 95.692523 \nL 156.133348 94.711024 \nL 156.289741 93.461842 \nL 156.303816 92.658797 \nL 156.758919 94.086433 \nL 156.869958 95.424842 \nL 156.877778 94.532569 \nL 156.904364 93.551069 \nL 156.909056 93.818751 \nL 157.031042 91.766524 \nL 157.20151 91.677297 \nL 157.326625 92.926479 \nL 157.924045 91.498843 \nL 157.936556 91.498843 \nL 157.941248 92.034206 \nL 157.956887 91.944979 \nL 158.235266 89.803525 \nL 158.246214 92.56957 \nL 158.260289 91.498843 \nL 158.856145 91.944979 \nL 158.860837 91.855752 \nL 158.984387 90.160434 \nL 159.27215 90.785025 \nL 159.295609 91.855752 \nL 159.311248 91.677297 \nL 160.040038 87.126707 \nL 160.046293 88.01898 \nL 160.20425 90.60657 \nL 160.208942 90.338888 \nL 160.355951 93.907978 \nL 160.362207 94.889478 \nL 160.482629 94.621796 \nL 160.501396 94.17566 \nL 160.504524 94.354115 \nL 160.934604 91.855752 \nL 160.962755 91.944979 \nL 161.098816 92.123433 \nL 161.227058 90.963479 \nL 161.405346 92.391115 \nL 161.988691 90.785025 \nL 162.00433 91.320388 \nL 162.581419 85.520617 \nL 162.60957 85.788299 \nL 163.03183 87.305162 \nL 163.038086 86.948253 \nL 163.177275 88.465116 \nL 163.644889 85.788299 \nL 163.660529 86.234435 \nL 164.22667 87.662071 \nL 164.228234 87.572844 \nL 164.229798 87.305162 \nL 164.250129 89.268161 \nL 164.259513 89.178934 \nL 164.528508 86.591344 \nL 164.545711 87.215935 \nL 164.562914 87.03748 \nL 164.711487 87.840525 \nL 165.283885 84.092981 \nL 165.287013 84.182208 \nL 165.440277 84.806799 \nL 165.466864 84.539117 \nL 165.73586 83.825299 \nL 165.762446 82.933027 \nL 166.197218 81.148482 \nL 166.334844 81.8623 \nL 166.367686 81.416164 \nL 166.635118 82.129982 \nL 166.647629 81.505391 \nL 166.66796 81.683845 \nL 166.79151 83.557618 \nL 167.235665 85.342162 \nL 167.26538 86.859026 \nL 167.268508 86.234435 \nL 167.384239 85.966753 \nL 167.392058 86.145208 \nL 167.393622 86.234435 \nL 167.40457 85.788299 \nL 167.409261 85.966753 \nL 167.531248 86.323662 \nL 167.542195 87.082094 \nL 167.559398 86.234435 \nL 167.568782 86.412889 \nL 167.707971 87.126707 \nL 167.712663 87.03748 \nL 168.286624 83.646845 \nL 168.288188 83.736072 \nL 168.441453 81.773073 \nL 168.618177 81.683845 \nL 168.619741 81.817686 \nL 168.755802 79.363937 \nL 168.880917 80.791573 \nL 168.920015 80.523891 \nL 169.370426 80.077755 \nL 169.640985 78.025528 \nL 169.792686 77.31171 \nL 170.382286 75.527165 \nL 170.385414 75.794847 \nL 170.396362 76.597892 \nL 170.546499 77.668619 \nL 170.557446 77.400937 \nL 170.68256 76.151756 \nL 170.69038 76.597892 \nL 170.721659 76.151756 \nL 170.859284 79.542391 \nL 171.010985 76.776347 \nL 171.437937 78.471664 \nL 171.583382 78.560892 \nL 171.606841 78.114755 \nL 171.62248 78.560892 \nL 171.903987 79.096255 \nL 171.922754 79.810073 \nL 172.038485 78.828573 \nL 172.072891 77.400937 \nL 172.488896 77.668619 \nL 172.518611 79.007028 \nL 172.523302 78.560892 \nL 172.642161 77.400937 \nL 172.659364 77.757846 \nL 172.784478 74.72412 \nL 172.79699 75.170256 \nL 172.823576 76.508665 \nL 172.934615 76.240983 \nL 173.089444 76.508665 \nL 173.112903 75.527165 \nL 173.122286 75.70562 \nL 173.539855 74.813347 \nL 173.546111 74.902575 \nL 173.572697 74.277984 \nL 173.688428 74.277984 \nL 173.699375 75.170256 \nL 173.724398 74.902575 \nL 173.985574 74.545666 \nL 174.016853 76.508665 \nL 174.141967 76.508665 \nL 174.586122 76.33021 \nL 174.587686 76.687119 \nL 174.592378 76.240983 \nL 174.88796 81.148482 \nL 174.925494 80.434664 \nL 175.070939 76.419438 \nL 175.638645 75.081029 \nL 175.676179 74.456438 \nL 175.824752 71.333485 \nL 176.237629 72.939575 \nL 176.239193 72.671893 \nL 176.700551 75.348711 \nL 176.709935 75.973301 \nL 176.72401 75.616392 \nL 176.838177 74.367211 \nL 176.871019 74.813347 \nL 177.166601 79.27471 \nL 177.174421 78.917801 \nL 177.310483 82.397663 \nL 177.738999 79.631619 \nL 177.75151 80.970027 \nL 177.765585 80.434664 \nL 177.896955 80.746959 \nL 177.903211 80.657732 \nL 178.064295 84.896026 \nL 178.075243 84.182208 \nL 178.18941 84.44989 \nL 178.339547 80.925414 \nL 178.34111 81.103868 \nL 178.345802 81.728459 \nL 178.358314 80.657732 \nL 178.378645 81.237709 \nL 178.813416 79.631619 \nL 179.098051 79.542391 \nL 179.24506 79.720846 \nL 179.246624 79.631619 \nL 179.248188 79.27471 \nL 179.271647 80.523891 \nL 179.423348 80.256209 \nL 179.42804 80.791573 \nL 179.864375 78.560892 \nL 179.870631 78.650119 \nL 180.028588 79.720846 \nL 180.291327 78.828573 \nL 180.477435 76.954801 \nL 181.054524 77.668619 \nL 181.203097 77.044028 \nL 181.207789 77.31171 \nL 181.37982 79.27471 \nL 181.517446 77.757846 \nL 182.128941 75.081029 \nL 182.408884 71.511939 \nL 182.410448 71.601166 \nL 182.426088 72.13653 \nL 182.576225 69.727394 \nL 182.993793 70.084303 \nL 183.031327 68.478213 \nL 183.164261 69.102803 \nL 183.173645 68.790508 \nL 183.181464 68.656667 \nL 183.183028 68.745894 \nL 183.328473 71.065803 \nL 183.333165 70.351985 \nL 183.444204 70.530439 \nL 183.445768 70.441212 \nL 183.606852 67.853622 \nL 183.620928 68.032076 \nL 184.196453 65.712168 \nL 184.199581 65.97985 \nL 184.233987 68.299758 \nL 184.377868 64.909123 \nL 184.496727 64.99835 \nL 184.509238 65.97985 \nL 184.52175 65.533713 \nL 184.676578 63.570714 \nL 184.679706 63.749169 \nL 185.100403 63.481487 \nL 185.122298 63.749169 \nL 185.130117 63.124578 \nL 185.405368 59.912397 \nL 185.421008 61.072351 \nL 185.431955 60.090851 \nL 185.546122 60.804669 \nL 185.553941 60.358533 \nL 185.558633 59.287806 \nL 185.561761 59.377033 \nL 186.149798 59.109352 \nL 186.296807 62.946123 \nL 186.299935 64.284532 \nL 186.31401 62.767669 \nL 186.335905 63.035351 \nL 186.446944 60.269306 \nL 186.471967 61.964624 \nL 186.783188 68.656667 \nL 187.197629 70.17353 \nL 187.20232 67.58594 \nL 187.236727 76.062529 \nL 187.383736 71.244257 \nL 187.3853 70.441212 \nL 187.386864 70.530439 \nL 187.499466 74.099529 \nL 187.685574 83.022254 \nL 187.831019 82.933027 \nL 188.250151 78.560892 \nL 188.251715 79.27471 \nL 188.287686 79.720846 \nL 188.423747 77.668619 \nL 188.698998 69.192031 \nL 188.700562 68.032076 \nL 188.706818 71.065803 \nL 188.738097 70.17353 \nL 188.866339 68.56744 \nL 188.888234 69.995076 \nL 189.452811 72.582666 \nL 189.454375 72.404212 \nL 189.457503 73.207257 \nL 189.465323 71.958075 \nL 189.470014 72.047303 \nL 189.627971 69.192031 \nL 189.638919 71.422712 \nL 189.767161 69.905849 \nL 189.789055 71.422712 \nL 189.936065 68.032076 \nL 190.355197 67.764395 \nL 190.358325 68.478213 \nL 190.689877 75.170256 \nL 190.814992 72.314984 \nL 190.822811 73.653393 \nL 190.830631 75.616392 \nL 190.952617 78.471664 \nL 190.990151 74.545666 \nL 191.421795 74.72412 \nL 191.584444 72.761121 \nL 191.851875 71.15503 \nL 191.853439 71.601166 \nL 191.880026 72.761121 \nL 191.890973 72.314984 \nL 192.014523 68.924349 \nL 192.61038 66.60444 \nL 192.630711 68.656667 \nL 192.752697 67.139804 \nL 192.754261 67.407486 \nL 193.658211 69.370485 \nL 193.670722 68.478213 \nL 193.692617 69.102803 \nL 193.80522 69.459712 \nL 194.138336 79.007028 \nL 194.554341 74.813347 \nL 194.559033 75.884074 \nL 194.56998 76.865574 \nL 194.591875 74.099529 \nL 194.593439 74.099529 \nL 194.718553 73.74262 \nL 194.86087 79.453164 \nL 195.004752 77.133256 \nL 194.889021 79.720846 \nL 195.006316 77.400937 \nL 195.03603 74.72412 \nL 195.611555 78.025528 \nL 195.630323 80.256209 \nL 195.758565 78.114755 \nL 195.929033 79.096255 \nL 195.944672 76.33021 \nL 196.076042 74.634893 \nL 196.67659 76.597892 \nL 196.693793 77.757846 \nL 196.994067 73.831848 \nL 196.995631 74.010302 \nL 197.109797 74.099529 \nL 197.137948 73.474939 \nL 197.294341 76.687119 \nL 197.295905 76.33021 \nL 197.708781 77.044028 \nL 197.882377 75.170256 \nL 197.885505 75.616392 \nL 198.043462 73.653393 \nL 198.192035 74.634893 \nL 198.318713 77.044028 \nL 198.346864 76.865574 \nL 198.765996 76.597892 \nL 198.911441 75.884074 \nL 198.913005 76.419438 \nL 198.941156 78.471664 \nL 198.920825 75.973301 \nL 198.947412 78.025528 \nL 199.06627 79.810073 \nL 199.388439 75.437938 \nL 199.391567 75.794847 \nL 199.813827 74.545666 \nL 199.815391 74.813347 \nL 199.973348 79.497778 \nL 199.985859 77.757846 \nL 200.109409 77.400937 \nL 200.118793 76.597892 \nL 200.148507 77.936301 \nL 200.264238 80.166982 \nL 200.270494 81.594618 \nL 200.284569 79.185482 \nL 200.295517 79.363937 \nL 200.412811 80.613118 \nL 200.426886 78.382437 \nL 200.863222 77.936301 \nL 200.899192 79.096255 \nL 201.312069 74.634893 \nL 201.335528 73.385711 \nL 201.479409 74.010302 \nL 201.484101 73.385711 \nL 202.06119 75.616392 \nL 202.064318 76.776347 \nL 202.086213 75.794847 \nL 202.39587 76.062529 \nL 202.533496 77.847074 \nL 202.963576 75.348711 \nL 202.968268 75.70562 \nL 202.997982 76.687119 \nL 203.151247 76.33021 \nL 203.271669 78.114755 \nL 203.292 76.954801 \nL 203.43901 77.668619 \nL 203.575071 76.508665 \nL 204.163108 79.453164 \nL 204.166236 78.917801 \nL 204.199078 81.951527 \nL 204.200642 81.505391 \nL 204.651053 77.133256 \nL 205.220322 75.170256 \nL 205.240653 75.884074 \nL 205.245345 75.794847 \nL 205.397046 73.564166 \nL 205.514341 73.74262 \nL 205.686373 76.151756 \nL 206.275973 76.151756 \nL 206.296304 76.597892 \nL 206.41829 76.597892 \nL 206.588758 77.936301 \nL 206.602834 77.847074 \nL 207.315984 85.43139 \nL 207.32224 86.412889 \nL 207.355083 83.736072 \nL 207.645973 86.412889 \nL 207.794546 84.360663 \nL 207.805494 85.342162 \nL 208.374763 88.01898 \nL 208.542103 90.472729 \nL 208.556178 91.677297 \nL 208.851761 86.591344 \nL 208.856452 86.769798 \nL 209.417902 90.071207 \nL 209.436669 89.714298 \nL 209.738507 90.517343 \nL 209.757274 90.785025 \nL 209.885516 87.929753 \nL 210.35313 85.609844 \nL 210.356258 85.699071 \nL 210.770699 87.126707 \nL 210.79103 86.234435 \nL 210.79885 86.680571 \nL 210.948987 86.234435 \nL 210.956806 86.323662 \nL 211.379067 87.840525 \nL 211.408781 87.215935 \nL 211.521384 87.572844 \nL 211.549535 85.342162 \nL 211.558918 85.43139 \nL 211.857628 88.108207 \nL 211.859192 87.305162 \nL 212.009329 84.806799 \nL 212.445665 86.591344 \nL 212.45974 86.859026 \nL 212.578598 82.397663 \nL 212.59111 82.933027 \nL 212.720916 82.397663 \nL 212.725608 82.8438 \nL 212.730299 83.289936 \nL 212.880436 82.308436 \nL 212.910151 82.486891 \nL 213.491932 83.379163 \nL 213.634249 82.308436 \nL 213.776567 82.665345 \nL 213.939215 86.591344 \nL 214.09248 84.806799 \nL 214.111247 85.342162 \nL 214.685208 83.289936 \nL 215.129363 86.948253 \nL 215.146566 86.769798 \nL 215.573519 87.929753 \nL 215.581338 87.662071 \nL 215.590722 89.00048 \nL 215.612617 88.375889 \nL 215.725219 89.446616 \nL 215.750242 88.643571 \nL 215.759626 88.108207 \nL 215.762754 88.286662 \nL 215.906635 94.800251 \nL 216.041133 91.855752 \nL 216.0599 92.56957 \nL 216.177194 94.086433 \nL 216.192834 93.015706 \nL 216.213165 91.052706 \nL 216.624477 90.428116 \nL 216.635425 90.785025 \nL 216.663576 90.071207 \nL 216.804329 87.215935 \nL 216.924751 87.126707 \nL 216.926315 87.305162 \nL 216.96385 86.145208 \nL 217.697331 82.129982 \nL 217.714534 82.486891 \nL 217.978838 82.8438 \nL 217.981966 82.665345 \nL 218.014808 81.683845 \nL 218.899991 89.00048 \nL 218.91563 88.554343 \nL 219.037617 92.034206 \nL 219.183062 91.632683 \nL 219.195573 92.480342 \nL 219.21434 91.58807 \nL 219.215904 91.944979 \nL 219.339455 91.543456 \nL 219.350402 93.104933 \nL 219.366041 92.480342 \nL 219.78361 93.461842 \nL 219.808633 94.264887 \nL 219.810197 94.220274 \nL 220.229329 90.60657 \nL 220.262171 90.695797 \nL 220.833005 91.766524 \nL 220.859591 92.56957 \nL 221.133279 89.357389 \nL 221.148918 88.286662 \nL 221.167685 88.643571 \nL 221.446064 85.966753 \nL 221.457012 86.859026 \nL 221.463267 86.859026 \nL 221.466395 86.502117 \nL 222.030973 87.572844 \nL 222.032537 87.840525 \nL 222.068507 87.215935 \nL 222.206133 86.323662 \nL 222.21708 86.591344 \nL 222.517354 89.446616 \nL 222.518918 89.00048 \nL 222.939614 87.572844 \nL 222.964637 87.662071 \nL 223.386897 94.800251 \nL 223.397845 96.138659 \nL 223.413484 95.870978 \nL 223.987445 97.566295 \nL 224.015596 97.477068 \nL 224.142274 98.547795 \nL 224.151658 98.101659 \nL 224.165733 97.74475 \nL 224.170425 98.72625 \nL 224.470699 105.418293 \nL 224.620836 100.510795 \nL 225.03684 103.90143 \nL 225.071247 103.187612 \nL 225.21982 99.707749 \nL 225.509146 106.578247 \nL 225.512274 106.132111 \nL 226.101875 102.91993 \nL 226.689911 111.664201 \nL 226.702422 109.255065 \nL 226.722753 109.968883 \nL 227.140322 108.362792 \nL 227.166909 112.110337 \nL 227.31861 109.790428 \nL 227.468747 105.061384 \nL 227.587605 104.526021 \nL 227.598553 101.31384 \nL 227.736178 97.120159 \nL 227.742434 98.993931 \nL 227.754945 101.135385 \nL 227.773712 99.618522 \nL 228.202228 99.618522 \nL 228.220995 98.904704 \nL 228.222559 98.993931 \nL 228.361749 99.083159 \nL 228.368005 100.064658 \nL 228.37426 99.261613 \nL 228.511886 97.030932 \nL 228.669843 101.31384 \nL 228.813724 104.972157 \nL 228.824671 103.812203 \nL 229.248495 106.042884 \nL 229.262571 105.596748 \nL 229.403324 102.384567 \nL 229.273518 106.132111 \nL 229.40958 103.276839 \nL 229.423655 104.436794 \nL 229.425219 103.90143 \nL 229.547206 103.812203 \nL 229.872502 98.369341 \nL 230.890619 104.615248 \nL 231.511498 101.759976 \nL 231.80708 98.369341 \nL 231.943142 99.529295 \nL 231.946269 99.261613 \nL 232.393552 94.354115 \nL 232.538998 94.532569 \nL 232.576532 98.458568 \nL 232.578096 98.280113 \nL 232.853347 104.615248 \nL 232.873678 102.206112 \nL 232.9941 101.046158 \nL 233.011304 101.492294 \nL 233.017559 103.098385 \nL 233.442947 105.150612 \nL 233.478918 104.88293 \nL 233.625927 102.652249 \nL 233.765116 99.35084 \nL 233.776064 100.600022 \nL 233.912126 100.778476 \nL 234.071646 103.009158 \nL 234.500162 102.91993 \nL 234.506418 102.786089 \nL 234.518929 104.793703 \nL 234.529877 105.507521 \nL 234.642479 103.276839 \nL 234.680014 104.526021 \nL 234.947445 105.587825 \nL 234.970904 108.45202 \nL 235.097582 106.578247 \nL 235.122605 107.648974 \nL 235.127297 108.273565 \nL 235.128861 107.916656 \nL 235.541737 106.399793 \nL 235.562068 109.165838 \nL 235.843575 108.808929 \nL 235.863906 107.113611 \nL 235.874854 107.827429 \nL 235.995276 107.381293 \nL 236.021863 108.898156 \nL 236.148541 108.808929 \nL 236.176692 107.47052 \nL 236.178256 108.005883 \nL 236.598952 107.47052 \nL 236.631794 109.433519 \nL 236.899226 109.433519 \nL 236.921121 108.45202 \nL 236.930504 108.898156 \nL 237.080641 112.378019 \nL 237.082205 111.842655 \nL 237.216703 106.132111 \nL 237.226087 106.756702 \nL 237.654603 106.578247 \nL 237.656167 106.756702 \nL 237.668678 105.864429 \nL 237.67337 106.042884 \nL 237.798484 106.221338 \nL 237.97208 101.403067 \nL 237.973644 102.116885 \nL 238.1316 100.600022 \nL 238.708689 102.741476 \nL 238.716509 102.563021 \nL 238.72902 102.384567 \nL 239.023039 98.280113 \nL 239.033986 98.815477 \nL 239.173176 99.172386 \nL 239.310801 96.049432 \nL 239.317057 95.870978 \nL 239.33426 96.406341 \nL 239.914477 98.904704 \nL 239.93168 100.153886 \nL 239.934808 99.35084 \nL 240.818427 96.674023 \nL 240.82781 96.138659 \nL 240.984203 95.15716 \nL 241.271966 90.338888 \nL 241.286041 90.785025 \nL 241.436178 91.498843 \nL 241.850619 91.58807 \nL 241.886589 90.428116 \nL 242.147765 88.465116 \nL 242.160276 88.911252 \nL 242.322924 92.212661 \nL 242.485573 93.461842 \nL 242.901577 93.283388 \nL 243.198724 91.855752 \nL 243.209671 92.391115 \nL 243.351988 93.640297 \nL 243.378575 92.123433 \nL 244.431098 91.320388 \nL 244.56716 88.197434 \nL 244.587491 88.822025 \nL 245.031646 86.234435 \nL 245.314717 88.732798 \nL 245.489876 91.231161 \nL 246.051326 89.357389 \nL 246.05289 89.535843 \nL 246.066965 91.632683 \nL 246.090424 90.160434 \nL 246.360984 88.732798 \nL 246.390698 88.911252 \nL 246.653438 95.15716 \nL 246.689408 94.978705 \nL 247.114797 91.141934 \nL 247.566771 90.874252 \nL 247.591794 90.695797 \nL 247.724728 87.751298 \nL 247.741931 88.197434 \nL 248.186086 86.05598 \nL 248.192342 85.609844 \nL 248.461338 87.126707 \nL 248.484797 85.252935 \nL 248.489488 85.699071 \nL 248.778815 89.714298 \nL 248.79289 90.517343 \nL 249.834465 87.305162 \nL 250.569511 82.576118 \nL 250.594534 83.736072 \nL 250.739979 82.397663 \nL 251.317068 81.416164 \nL 251.335835 80.791573 \nL 251.48128 81.594618 \nL 251.493792 81.237709 \nL 252.35708 82.397663 \nL 252.391486 82.8438 \nL 252.543187 80.166982 \nL 252.544751 80.613118 \nL 253.417422 81.505391 \nL 253.434625 81.326936 \nL 253.714568 81.951527 \nL 253.716132 81.8623 \nL 253.71926 81.594618 \nL 253.741155 82.397663 \nL 254.028917 82.397663 \nL 254.033609 82.665345 \nL 254.047685 81.951527 \nL 254.616954 82.620731 \nL 254.618518 82.888413 \nL 254.638849 81.8623 \nL 254.648232 82.129982 \nL 254.776474 81.594618 \nL 254.788986 80.166982 \nL 254.79055 80.613118 \nL 254.932867 82.665345 \nL 254.937559 82.576118 \nL 255.509956 86.05598 \nL 255.514648 85.609844 \nL 255.544363 84.44989 \nL 255.533415 85.699071 \nL 255.549054 84.806799 \nL 255.697627 89.62507 \nL 255.699191 89.178934 \nL 255.836817 88.732798 \nL 256.121452 93.372615 \nL 256.129271 92.56957 \nL 256.573427 98.458568 \nL 256.600013 97.923204 \nL 256.743895 94.532569 \nL 256.75015 94.800251 \nL 256.865881 95.15716 \nL 256.870573 94.711024 \nL 256.900287 94.800251 \nL 257.017582 94.532569 \nL 257.026965 93.907978 \nL 257.047296 95.15716 \nL 257.167719 97.74475 \nL 257.632205 99.172386 \nL 257.763575 98.458568 \nL 257.951246 98.458568 \nL 258.096691 101.581522 \nL 258.213986 99.886204 \nL 258.221805 101.224613 \nL 258.820789 99.440068 \nL 258.844248 99.796977 \nL 259.117936 97.387841 \nL 259.878004 95.960205 \nL 259.885824 96.049432 \nL 259.896771 95.603296 \nL 260.014066 96.138659 \nL 260.032833 97.655523 \nL 260.053164 97.387841 \nL 260.167331 97.298614 \nL 261.074408 92.480342 \nL 261.080664 92.926479 \nL 261.396577 94.711024 \nL 261.978358 90.071207 \nL 261.987741 90.249661 \nL 262.297399 86.145208 \nL 262.902639 88.286662 \nL 263.049648 90.249661 \nL 263.944214 84.806799 \nL 264.230413 87.483616 \nL 264.233541 87.215935 \nL 264.549454 88.554343 \nL 264.551018 88.420503 \nL 265.157821 90.338888 \nL 265.282935 88.286662 \nL 265.454967 89.714298 \nL 266.050824 88.286662 \nL 266.190013 88.286662 \nL 266.351098 89.178934 \nL 266.629477 88.465116 \nL 266.659191 89.535843 \nL 267.07676 89.178934 \nL 267.083015 88.822025 \nL 267.101782 89.178934 \nL 267.230024 88.911252 \nL 267.231588 88.643571 \nL 267.23628 88.822025 \nL 267.672616 89.00048 \nL 268.301314 91.677297 \nL 268.309134 91.543456 \nL 268.460835 93.551069 \nL 268.595333 92.301888 \nL 268.610972 97.387841 \nL 269.183369 103.544521 \nL 269.355401 101.670749 \nL 269.361657 101.849203 \nL 269.488335 102.563021 \nL 269.491463 102.206112 \nL 269.505538 100.778476 \nL 269.658803 98.993931 \nL 269.791737 100.956931 \nL 269.812068 100.600022 \nL 270.262479 101.849203 \nL 270.547113 105.239839 \nL 270.856771 101.581522 \nL 271.297798 99.796977 \nL 271.304054 100.421567 \nL 271.580869 99.261613 \nL 271.743518 100.956931 \nL 271.760721 100.600022 \nL 272.334682 102.384567 \nL 272.347193 101.938431 \nL 272.350321 102.29534 \nL 272.664671 100.421567 \nL 273.715629 95.870978 \nL 273.828232 93.283388 \nL 274.42878 92.926479 \nL 274.4366 92.56957 \nL 274.444419 92.837251 \nL 274.599248 92.748024 \nL 274.915161 90.60657 \nL 275.066862 89.62507 \nL 275.814419 92.391115 \nL 277.612935 94.532569 \nL 277.769328 95.870978 \nL 277.911645 98.280113 \nL 278.2041 95.870978 \nL 278.668586 96.361728 \nL 279.114305 95.335614 \nL 279.266006 91.498843 \nL 280.17152 89.714298 \nL 280.321657 91.231161 \nL 281.222479 88.822025 \nL 281.355412 88.286662 \nL 281.360104 88.108207 \nL 281.36636 88.286662 \nL 281.973164 88.01898 \nL 282.112353 88.554343 \nL 282.409499 85.877526 \nL 283.022558 82.040754 \nL 283.15862 82.933027 \nL 283.920253 83.646845 \nL 283.921816 83.46839 \nL 283.924944 83.914527 \nL 284.050058 84.44989 \nL 284.35346 86.412889 \nL 284.373791 86.05598 \nL 284.375355 86.145208 \nL 284.968084 84.360663 \nL 284.971211 84.44989 \nL 284.975903 84.717572 \nL 287.223266 88.911252 \nL 287.226394 88.554343 \nL 291.696097 74.456438 \nL 291.711736 74.367211 \nL 291.849362 76.33021 \nL 291.858746 76.151756 \nL 291.872821 77.044028 \nL 291.875949 77.044028 \nL 292.332615 78.560892 \nL 292.446782 78.471664 \nL 292.463985 77.757846 \nL 292.476497 78.114755 \nL 292.606303 77.936301 \nL 292.922216 74.188757 \nL 292.928472 74.545666 \nL 293.350732 72.671893 \nL 293.380446 70.887348 \nL 293.682284 74.277984 \nL 293.683848 74.099529 \nL 293.974739 70.976576 \nL 294.58467 75.70562 \nL 294.734807 74.545666 \nL 294.859921 78.650119 \nL 294.884944 76.33021 \nL 295.596531 85.163708 \nL 295.634065 83.111481 \nL 295.746668 81.906913 \nL 295.77951 82.308436 \nL 295.917136 87.03748 \nL 295.935903 85.252935 \nL 296.073529 89.892752 \nL 296.082912 89.62507 \nL 296.52394 86.948253 \nL 296.536451 87.483616 \nL 296.833597 81.059255 \nL 296.836725 81.326936 \nL 297.127615 83.111481 \nL 297.135435 82.933027 \nL 297.576462 82.219209 \nL 297.728163 79.27471 \nL 298.779122 80.077755 \nL 298.785378 79.720846 \nL 298.788506 79.810073 \nL 299.221713 81.059255 \nL 299.673688 89.446616 \nL 299.689328 88.732798 \nL 299.800366 87.126707 \nL 299.80975 88.465116 \nL 299.831645 90.963479 \nL 299.839465 90.785025 \nL 299.986474 88.911252 \nL 300.130355 92.480342 \nL 300.702752 96.406341 \nL 301.013974 90.428116 \nL 301.165675 90.160434 \nL 301.189134 93.19416 \nL 301.778734 110.236565 \nL 301.791245 108.898156 \nL 301.910104 104.169112 \nL 301.930435 105.418293 \nL 302.074316 109.701201 \nL 302.089955 108.808929 \nL 302.236965 131.829559 \nL 302.391793 118.980835 \nL 302.828129 135.309421 \nL 302.829693 135.220194 \nL 302.842204 136.915512 \nL 302.957935 133.971013 \nL 303.131531 142.80451 \nL 303.255081 142.536828 \nL 303.403654 132.186468 \nL 303.405218 134.327922 \nL 303.442752 138.476989 \nL 303.854065 139.860011 \nL 303.86814 144.142919 \nL 303.877524 139.324647 \nL 303.893163 140.573829 \nL 304.018277 130.580377 \nL 304.040172 131.740331 \nL 304.157467 128.52815 \nL 304.187181 122.817607 \nL 304.193437 124.33447 \nL 304.315423 121.033062 \nL 304.326371 121.568425 \nL 304.52499 128.795832 \nL 304.905024 126.297469 \nL 304.944122 124.959061 \nL 305.088003 123.977561 \nL 305.241268 130.401923 \nL 305.244396 130.045014 \nL 305.372638 125.762106 \nL 305.386713 126.92206 \nL 305.514955 125.94056 \nL 305.533722 128.706605 \nL 305.54467 127.814332 \nL 306.112375 116.571699 \nL 306.145218 118.445471 \nL 306.292227 117.285517 \nL 306.445492 117.553199 \nL 307.030401 118.267017 \nL 307.194613 113.091837 \nL 307.313471 117.508585 \nL 307.325983 117.463972 \nL 307.471428 114.787154 \nL 307.496451 115.500972 \nL 308.075104 112.02111 \nL 308.674088 115.679427 \nL 309.298095 110.593474 \nL 309.448232 106.042884 \nL 310.183277 115.679427 \nL 310.494499 112.6457 \nL 310.49919 113.091837 \nL 310.799464 108.273565 \nL 311.218597 108.987383 \nL 311.2358 108.45202 \nL 311.364042 108.005883 \nL 311.373426 106.935156 \nL 311.400012 109.255065 \nL 311.520435 108.273565 \nL 311.536074 110.325792 \nL 311.700286 109.879656 \nL 312.300834 104.704475 \nL 312.422821 105.239839 \nL 312.450971 106.667475 \nL 312.601108 104.526021 \nL 312.898254 111.485746 \nL 312.901382 111.128837 \nL 313.492547 105.775202 \nL 313.634864 107.827429 \nL 313.652067 107.292065 \nL 313.774053 105.864429 \nL 314.387113 100.689249 \nL 314.552889 96.317114 \nL 314.703026 92.034206 \nL 314.984533 89.446616 \nL 314.99548 90.160434 \nL 315.750857 89.981979 \nL 316.052695 96.227887 \nL 316.645423 95.514069 \nL 316.646987 95.246387 \nL 316.653243 95.692523 \nL 316.654807 95.424842 \nL 316.772101 92.926479 \nL 316.804944 93.372615 \nL 316.955081 92.212661 \nL 317.069247 90.60657 \nL 317.543117 90.249661 \nL 317.554065 91.052706 \nL 317.82306 90.785025 \nL 317.852775 91.409615 \nL 318.00604 90.338888 \nL 318.153049 92.480342 \nL 319.053871 86.457503 \nL 320.068859 74.545666 \nL 320.253403 76.865574 \nL 320.705377 77.222483 \nL 320.969681 76.33021 \nL 320.996268 76.776347 \nL 321.410709 79.8993 \nL 321.412272 78.739346 \nL 321.435731 80.523891 \nL 321.440423 79.27471 \nL 321.748517 76.597892 \nL 321.903345 73.74262 \nL 322.051919 77.133256 \nL 322.463231 78.739346 \nL 322.466359 77.624006 \nL 322.475743 77.757846 \nL 322.796348 75.259483 \nL 322.955868 76.062529 \nL 323.102877 72.671893 \nL 323.401587 78.025528 \nL 323.406279 77.31171 \nL 324.005263 73.207257 \nL 324.146017 69.638167 \nL 324.311793 69.013576 \nL 324.906085 72.761121 \nL 325.490994 71.244257 \nL 326.255754 71.065803 \nL 326.258882 70.351985 \nL 326.401199 72.761121 \nL 327.278562 65.890622 \nL 327.614807 65.533713 \nL 328.037067 71.422712 \nL 328.05427 70.708894 \nL 328.215355 66.425986 \nL 328.640743 73.11803 \nL 329.263186 74.456438 \nL 329.396119 73.474939 \nL 330.315708 69.192031 \nL 330.767683 72.404212 \nL 331.810822 80.523891 \nL 332.719464 72.13653 \nL 332.85709 74.277984 \nL 333.91274 66.60444 \nL 335.532969 65.622941 \nL 335.53766 65.667554 \nL 335.557991 64.106078 \nL 335.683106 64.730668 \nL 335.686233 64.284532 \nL 335.689361 64.106078 \nL 335.703437 65.087577 \nL 335.719076 64.641441 \nL 335.869213 64.373759 \nL 335.988071 65.176804 \nL 336.583927 65.801395 \nL 336.585491 65.712168 \nL 336.755959 70.530439 \nL 336.768471 70.441212 \nL 337.057797 72.671893 \nL 337.659909 67.630554 \nL 337.663037 68.032076 \nL 337.820994 60.536988 \nL 338.535708 50.811218 \nL 338.690537 57.592488 \nL 338.995503 54.915671 \nL 338.997067 55.094125 \nL 339.023653 57.949397 \nL 339.025217 57.770943 \nL 339.156587 55.094125 \nL 339.591359 51.70349 \nL 339.736804 53.934171 \nL 339.905708 51.70349 \nL 339.922911 51.971172 \nL 339.926039 53.220353 \nL 340.637626 48.491309 \nL 340.664213 49.472809 \nL 341.688585 51.168127 \nL 342.741108 44.208401 \nL 342.775514 44.654537 \nL 342.928779 44.832992 \nL 343.229053 43.048447 \nL 343.810834 45.725264 \nL 343.948459 45.011446 \nL 343.953151 45.100674 \nL 343.979738 44.119174 \nL 344.280012 40.99622 \nL 344.86492 43.762265 \nL 344.999418 45.457583 \nL 345.002546 45.011446 \nL 345.17145 42.780765 \nL 345.180834 43.137674 \nL 345.931519 47.331355 \nL 346.192694 40.193175 \nL 346.946507 35.196449 \nL 346.973094 37.873267 \nL 347.096644 33.679586 \nL 347.101336 33.85804 \nL 347.273368 32.787314 \nL 347.39379 33.054995 \nL 348.153859 23.329225 \nL 348.169498 24.935316 \nL 348.183573 24.310725 \nL 348.294612 22.793862 \nL 348.318071 23.686134 \nL 348.483847 21.901589 \nL 349.195434 19.224772 \nL 349.214201 20.830862 \nL 349.347135 16.101818 \nL 349.645845 18.154045 \nL 349.677124 16.3695 \nL 349.684943 16.637182 \n\" style=\"fill:none;stroke:#1f77b4;stroke-linecap:square;stroke-width:1.5;\"/>\n   </g>\n   <g id=\"line2d_13\">\n    <path clip-path=\"url(#p0b3cc18bcc)\" d=\"M 45.321307 94.354115 \nL 45.347894 98.080563 \nL 45.349458 97.247276 \nL 45.657551 86.837291 \nL 46.527094 97.787848 \nL 46.552117 97.325076 \nL 46.833624 96.308705 \nL 46.982197 97.232678 \nL 47.459195 96.955487 \nL 48.489823 87.175434 \nL 48.497642 86.568407 \nL 48.510154 87.382101 \nL 48.654035 86.473193 \nL 48.77133 86.776162 \nL 48.774457 87.685071 \nL 48.797916 86.182241 \nL 48.927722 87.184127 \nL 48.929286 86.582996 \nL 49.085679 89.604558 \nL 49.522015 92.743406 \nL 49.531398 92.353398 \nL 49.537654 91.764351 \nL 49.561113 92.549747 \nL 49.975553 97.416488 \nL 49.989629 96.839819 \nL 50.135074 95.873595 \nL 50.160097 96.068559 \nL 50.73875 96.652411 \nL 50.885759 93.035361 \nL 50.910782 93.342716 \nL 51.028076 94.837795 \nL 51.051535 93.945595 \nL 51.186033 94.044728 \nL 51.209492 93.350797 \nL 51.21262 93.748754 \nL 52.2323 82.406967 \nL 52.240119 83.509365 \nL 52.263578 87.250395 \nL 52.832848 87.360107 \nL 52.859435 85.489489 \nL 52.864126 82.255191 \nL 53.131558 93.561241 \nL 53.162836 91.267484 \nL 53.287951 91.580853 \nL 53.308282 93.143316 \nL 53.314537 92.935573 \nL 53.875987 98.336897 \nL 53.899446 96.144585 \nL 53.915085 96.674124 \nL 54.337345 95.723906 \nL 54.338909 95.829485 \nL 54.35924 93.494931 \nL 55.407071 101.899219 \nL 55.416455 101.398952 \nL 55.834024 102.099326 \nL 55.837151 101.999273 \nL 55.851227 101.398387 \nL 55.866866 102.30292 \nL 55.987288 104.60845 \nL 56.017003 104.019905 \nL 56.315713 100.292457 \nL 56.317277 101.371455 \nL 58.117357 88.227295 \nL 58.262802 92.44347 \nL 58.536489 91.160647 \nL 58.567768 85.281046 \nL 58.569332 85.922457 \nL 58.982208 89.022611 \nL 59.011923 88.918563 \nL 59.013487 88.295427 \nL 59.019743 88.814707 \nL 59.133909 89.5417 \nL 59.320017 96.250075 \nL 59.434183 95.46174 \nL 59.438875 95.658824 \nL 59.443567 95.875865 \nL 59.470154 93.712033 \nL 60.069138 95.187373 \nL 60.206763 93.613677 \nL 60.220839 94.51003 \nL 60.350644 94.70922 \nL 60.492962 93.516238 \nL 61.106021 92.025012 \nL 61.12166 91.527936 \nL 61.3844 91.527936 \nL 61.396912 92.124427 \nL 61.421934 90.83203 \nL 62.147596 94.251571 \nL 62.300861 97.856086 \nL 62.310245 96.78969 \nL 62.319628 97.866611 \nL 62.322756 97.76967 \nL 62.446307 97.381909 \nL 62.472893 99.805419 \nL 62.610519 98.254372 \nL 62.62303 99.040174 \nL 62.755964 99.628656 \nL 63.348692 94.933628 \nL 63.35182 95.031441 \nL 63.503521 100.621779 \nL 63.516033 100.051336 \nL 63.520724 101.00511 \nL 63.638019 100.910038 \nL 63.663042 103.197215 \nL 63.672425 102.737968 \nL 64.251078 96.892425 \nL 64.254206 97.290726 \nL 64.720256 100.455773 \nL 64.724948 99.56795 \nL 65.444354 101.159419 \nL 65.452174 101.845476 \nL 65.467813 100.963222 \nL 65.475633 101.55452 \nL 65.739937 103.624063 \nL 65.74932 102.270864 \nL 65.758704 103.724957 \nL 66.343612 102.669476 \nL 66.363943 105.633435 \nL 66.371763 105.44378 \nL 66.656398 104.112658 \nL 66.676729 104.401123 \nL 66.953544 101.995845 \nL 67.560348 103.174188 \nL 67.566603 103.077195 \nL 67.572859 104.049824 \nL 67.871569 94.040973 \nL 67.877825 94.148449 \nL 68.592539 97.906477 \nL 68.594103 97.799105 \nL 68.614434 100.580206 \nL 68.62851 100.052202 \nL 68.75206 99.946518 \nL 68.758316 97.093055 \nL 68.778647 101.507065 \nL 69.064845 107.206188 \nL 69.069537 107.101182 \nL 69.078921 112.01661 \nL 69.490233 110.986694 \nL 69.523076 114.775696 \nL 69.529332 113.252592 \nL 69.654446 108.68328 \nL 69.679469 109.813901 \nL 69.970359 115.560381 \nL 69.979742 114.683116 \nL 70.090781 113.798873 \nL 70.125188 116.847943 \nL 70.129879 116.066709 \nL 70.875873 110.270641 \nL 70.877437 110.36917 \nL 70.991603 109.088298 \nL 70.999423 109.988342 \nL 71.011934 110.679135 \nL 71.592151 105.156595 \nL 71.631249 113.454351 \nL 71.742288 114.146314 \nL 71.753236 113.652055 \nL 71.756363 113.254697 \nL 71.781386 115.044763 \nL 72.647802 124.004447 \nL 72.649366 124.689416 \nL 72.666569 123.025528 \nL 72.682208 124.298915 \nL 72.794811 125.376396 \nL 72.829217 123.533435 \nL 72.832345 124.316983 \nL 72.969971 126.455181 \nL 73.268681 136.966671 \nL 73.282756 135.73318 \nL 73.695633 136.212794 \nL 73.697197 136.117383 \nL 73.717528 138.121015 \nL 73.733167 136.7867 \nL 73.847334 135.928926 \nL 73.883304 137.549166 \nL 74.019366 138.590843 \nL 74.02093 138.496145 \nL 74.027185 137.548149 \nL 74.160119 139.368793 \nL 74.182014 138.711653 \nL 74.183578 137.866758 \nL 74.31964 132.09963 \nL 74.333715 132.403748 \nL 74.896729 128.884295 \nL 74.90142 129.085407 \nL 74.931135 129.083655 \nL 75.04843 134.339205 \nL 75.049994 134.339205 \nL 75.067197 135.559616 \nL 75.082836 134.254342 \nL 75.0844 134.354541 \nL 75.195439 134.45474 \nL 75.345576 139.924524 \nL 75.351831 139.163683 \nL 75.381546 142.193189 \nL 75.384674 142.006558 \nL 75.949252 143.592918 \nL 75.985222 144.992211 \nL 76.100952 145.817555 \nL 76.135359 149.08715 \nL 76.254217 151.153364 \nL 76.285496 150.721263 \nL 76.435633 147.219952 \nL 76.853201 148.704848 \nL 76.871968 147.741272 \nL 77.004902 149.596902 \nL 77.184754 148.713269 \nL 77.309868 146.946002 \nL 77.319251 147.387818 \nL 77.449057 147.918558 \nL 78.08714 154.950417 \nL 78.205998 152.767347 \nL 78.237277 155.125062 \nL 78.534423 149.711393 \nL 79.134971 143.944489 \nL 79.138098 145.119622 \nL 79.285108 147.817906 \nL 79.40553 148.775569 \nL 79.418041 147.907223 \nL 79.421169 147.907223 \nL 79.433681 148.34312 \nL 79.438372 148.168962 \nL 80.004514 145.898974 \nL 80.029537 145.287823 \nL 80.454925 153.425438 \nL 81.063293 151.387548 \nL 81.067984 151.557372 \nL 81.089879 150.453515 \nL 81.204046 153.982251 \nL 81.240016 153.240173 \nL 81.532471 150.271863 \nL 82.122071 148.128083 \nL 82.140838 148.622801 \nL 82.417653 145.717124 \nL 82.581866 146.72634 \nL 82.711671 149.081177 \nL 82.741386 148.672276 \nL 83.190233 148.426936 \nL 83.457665 151.616362 \nL 83.465484 151.453778 \nL 83.47174 151.291194 \nL 83.47956 151.860237 \nL 83.492071 153.973827 \nL 83.606238 153.260913 \nL 83.607802 153.815402 \nL 83.609366 154.211465 \nL 83.632824 152.634441 \nL 83.642208 152.792397 \nL 83.764194 151.60888 \nL 83.792345 151.766682 \nL 84.206786 150.663133 \nL 84.242756 150.899608 \nL 84.37569 150.741958 \nL 84.388201 149.873216 \nL 84.391329 150.272298 \nL 84.521135 151.940358 \nL 84.668144 150.268082 \nL 84.693167 151.646363 \nL 85.256181 151.008523 \nL 85.293715 152.283579 \nL 85.589297 156.461427 \nL 85.744126 154.934819 \nL 85.856729 152.070749 \nL 86.318087 154.156668 \nL 86.327471 153.617091 \nL 86.623053 156.580854 \nL 87.695907 163.299716 \nL 87.810073 162.292195 \nL 87.841352 162.586762 \nL 87.846044 163.309847 \nL 87.977413 163.165161 \nL 87.986797 162.730136 \nL 87.993053 162.948724 \nL 88.429388 161.786263 \nL 88.437208 161.858917 \nL 88.445028 162.076878 \nL 101.036203 161.205033 \nL 101.040895 161.645954 \nL 101.205107 160.184619 \nL 101.208235 160.257686 \nL 101.633623 160.841738 \nL 101.639879 160.769153 \nL 101.658646 161.132422 \nL 102.069959 160.915485 \nL 102.074651 160.481611 \nL 102.259194 160.77086 \nL 102.551648 158.818427 \nL 103.275746 160.354049 \nL 103.438395 161.286161 \nL 103.577584 161.286161 \nL 103.597915 161.644666 \nL 103.610427 161.071058 \nL 104.210975 161.859769 \nL 104.332961 161.21446 \nL 104.361112 161.286768 \nL 104.47997 161.720207 \nL 104.628543 163.306785 \nL 104.797447 162.102767 \nL 104.803703 162.244416 \nL 105.249422 163.023487 \nL 105.408943 162.602851 \nL 105.410507 162.252322 \nL 105.523109 162.182216 \nL 105.677938 163.794652 \nL 105.702961 163.310642 \nL 106.312893 161.789469 \nL 106.461466 162.895777 \nL 106.599091 162.550055 \nL 106.613167 163.243639 \nL 106.741409 164.069411 \nL 106.7461 163.932625 \nL 106.874342 163.384487 \nL 106.904057 164.143666 \nL 106.911877 163.93868 \nL 107.495221 166.057552 \nL 107.510861 166.531501 \nL 107.513988 166.193337 \nL 107.65787 165.921272 \nL 107.664125 165.445157 \nL 107.775164 165.921272 \nL 107.800187 165.717099 \nL 107.811135 165.23893 \nL 107.925301 165.03376 \nL 108.544616 164.7602 \nL 108.550872 164.89698 \nL 108.560256 164.691685 \nL 108.715084 163.457294 \nL 108.843326 163.527007 \nL 108.980952 165.827532 \nL 109.579936 164.407361 \nL 109.908361 164.339734 \nL 110.04755 166.706685 \nL 110.050678 166.368549 \nL 110.497961 165.143524 \nL 110.5136 164.320065 \nL 110.516728 164.594551 \nL 110.782596 168.228181 \nL 110.802927 168.39721 \nL 110.806055 167.687287 \nL 110.81231 167.994501 \nL 110.960883 166.192885 \nL 111.533281 165.309074 \nL 111.534845 165.445045 \nL 111.828863 163.808646 \nL 111.85545 164.842405 \nL 111.980564 161.415415 \nL 111.982128 161.483955 \nL 112.604571 158.468204 \nL 112.734376 158.895599 \nL 112.737504 158.113199 \nL 112.904844 160.812984 \nL 113.048726 160.46364 \nL 113.186351 159.275873 \nL 113.21763 159.914431 \nL 114.690849 157.592174 \nL 114.698669 157.662545 \nL 114.708052 158.155145 \nL 115.00207 161.79162 \nL 115.00989 161.722006 \nL 115.283577 162.139693 \nL 115.286705 162.0004 \nL 115.769959 161.093762 \nL 116.182835 163.140374 \nL 116.339228 162.934212 \nL 116.935084 162.453167 \nL 116.969491 162.590608 \nL 117.236922 161.559798 \nL 117.241614 161.072202 \nL 117.266637 161.492232 \nL 117.839034 161.70196 \nL 117.868749 162.888577 \nL 118.139308 164.621992 \nL 118.473988 161.501845 \nL 118.888429 165.476948 \nL 118.907196 165.202444 \nL 118.90876 164.516183 \nL 119.046385 164.92794 \nL 119.074536 166.1584 \nL 119.188703 162.93879 \nL 119.224673 163.576238 \nL 120.102036 159.770938 \nL 120.119239 161.178862 \nL 120.250609 162.561478 \nL 120.264685 162.052651 \nL 120.419513 159.633225 \nL 120.990347 158.598345 \nL 120.998166 158.894025 \nL 121.013806 158.820105 \nL 122.075712 160.669856 \nL 122.219593 160.236307 \nL 122.225849 160.597598 \nL 122.490153 160.236307 \nL 122.526123 160.67638 \nL 122.512048 159.802088 \nL 122.527687 160.313406 \nL 122.670004 161.184545 \nL 122.671568 161.11195 \nL 123.0907 161.911247 \nL 123.100084 161.767422 \nL 123.389411 160.832559 \nL 123.400358 161.192122 \nL 123.426945 160.190031 \nL 123.541111 160.22582 \nL 123.542675 160.118453 \nL 123.559879 160.691871 \nL 123.573954 160.336128 \nL 123.722527 160.193831 \nL 123.728783 160.407277 \nL 124.144787 158.913157 \nL 124.446625 161.48425 \nL 124.742207 163.625218 \nL 124.779742 163.482534 \nL 125.192618 163.696964 \nL 125.217641 164.197164 \nL 125.228589 163.341333 \nL 125.499148 164.059137 \nL 125.658668 162.117449 \nL 125.669616 162.777115 \nL 125.821317 162.485056 \nL 126.393714 161.681892 \nL 126.398406 161.024759 \nL 126.417173 161.389833 \nL 126.542287 160.879699 \nL 126.581385 162.264349 \nL 126.876968 159.057967 \nL 126.881659 159.205373 \nL 127.601066 155.748522 \nL 127.615141 155.822702 \nL 127.743383 156.044416 \nL 127.782481 155.084549 \nL 127.895084 155.379893 \nL 127.924799 155.748322 \nL 127.932618 155.601059 \nL 128.350187 155.306534 \nL 128.372082 156.922148 \nL 128.379901 156.885806 \nL 128.647333 155.316576 \nL 128.650461 155.462551 \nL 128.662972 157.424947 \nL 128.677047 156.847965 \nL 128.794342 156.70372 \nL 128.830312 158.932654 \nL 128.946043 159.004152 \nL 128.953862 158.932719 \nL 128.95699 158.646989 \nL 128.983577 159.788475 \nL 129.546591 160.212393 \nL 129.548155 160.14174 \nL 129.557538 161.129207 \nL 129.584125 160.706449 \nL 129.717059 162.260683 \nL 129.879707 161.42235 \nL 129.884399 161.634297 \nL 130.006385 161.422934 \nL 130.007949 161.493388 \nL 130.012641 161.282026 \nL 130.020461 161.847278 \nL 130.447413 162.693566 \nL 130.747687 165.336242 \nL 130.908771 166.480847 \nL 130.935358 166.414151 \nL 131.503063 167.682516 \nL 131.504627 167.949298 \nL 131.534342 167.314112 \nL 131.648509 167.213477 \nL 131.650072 167.414748 \nL 131.681351 167.079053 \nL 131.823668 165.86881 \nL 131.956602 166.340999 \nL 131.973805 166.104904 \nL 131.980061 165.665048 \nL 131.981625 165.699084 \nL 132.558714 164.508382 \nL 132.561842 164.576422 \nL 132.585301 164.984662 \nL 132.586865 164.848582 \nL 132.715107 164.950642 \nL 132.716671 164.882602 \nL 133.160826 166.881802 \nL 133.179593 166.617281 \nL 133.63626 166.154371 \nL 133.930278 167.807622 \nL 134.088235 167.807622 \nL 134.199273 167.545924 \nL 134.806077 166.891677 \nL 134.949958 167.284225 \nL 134.965598 167.937952 \nL 135.12199 167.743122 \nL 135.250232 165.787579 \nL 135.286203 166.255071 \nL 135.853908 166.454479 \nL 136.036887 170.098647 \nL 136.151054 170.740998 \nL 136.154182 170.612528 \nL 136.176077 169.386196 \nL 136.182333 169.581493 \nL 136.753166 169.516394 \nL 136.75473 169.451295 \nL 136.764113 170.10217 \nL 136.911123 170.62203 \nL 137.051876 170.234923 \nL 137.059696 170.363958 \nL 137.073771 170.751066 \nL 137.090974 170.62203 \nL 137.211397 169.648456 \nL 137.212961 169.451929 \nL 137.391248 170.763392 \nL 137.804125 169.403157 \nL 137.822892 169.46793 \nL 137.973029 169.338384 \nL 138.104399 169.727022 \nL 138.257664 166.877006 \nL 138.274867 167.395587 \nL 138.288942 167.653434 \nL 138.29207 167.588972 \nL 138.425004 167.588972 \nL 138.442207 167.459936 \nL 138.859776 167.008308 \nL 138.864467 166.459903 \nL 138.892618 166.685717 \nL 139.011476 167.200966 \nL 139.158486 166.106061 \nL 139.172561 166.563634 \nL 139.308623 167.213303 \nL 139.316442 166.695389 \nL 139.324262 166.436432 \nL 139.343029 166.56591 \nL 139.454068 167.084277 \nL 139.909171 165.784702 \nL 139.913862 166.378187 \nL 139.938885 165.396882 \nL 140.059307 165.593143 \nL 140.358018 167.08814 \nL 140.362709 167.991301 \nL 140.372093 167.927184 \nL 140.539433 168.56836 \nL 140.98046 168.56836 \nL 141.105575 167.670713 \nL 141.133725 167.798948 \nL 141.266659 168.631255 \nL 141.293246 168.059699 \nL 141.29481 167.867687 \nL 141.412104 168.252213 \nL 141.413668 168.316217 \nL 141.581008 168.316217 \nL 142.029855 169.019646 \nL 142.178428 168.635957 \nL 142.184684 168.827801 \nL 142.195632 169.274879 \nL 142.31449 169.211043 \nL 142.316054 169.274935 \nL 142.330129 170.104806 \nL 142.459935 170.517922 \nL 142.461499 170.486214 \nL 142.495906 171.94102 \nL 143.08707 173.451927 \nL 143.088634 173.638029 \nL 143.367013 175.616916 \nL 143.392036 175.094042 \nL 143.395164 174.566334 \nL 143.51715 175.691408 \nL 143.518714 175.445365 \nL 143.657903 175.568386 \nL 143.686054 175.875615 \nL 144.111442 177.409317 \nL 144.417972 175.428975 \nL 144.427355 175.729027 \nL 144.74796 176.149306 \nL 145.163965 176.029493 \nL 145.190552 175.370519 \nL 145.192116 175.490332 \nL 145.343817 176.505057 \nL 145.773896 179.049043 \nL 146.22118 177.705178 \nL 146.397903 175.11337 \nL 146.662207 175.821126 \nL 146.674718 175.703715 \nL 146.691922 175.232279 \nL 146.699741 175.379627 \nL 146.812344 175.114668 \nL 146.815472 175.350187 \nL 146.848314 175.526802 \nL 146.849878 175.46812 \nL 147.262755 175.350757 \nL 147.300289 174.705259 \nL 147.419148 175.174712 \nL 147.450426 175.848447 \nL 147.736625 174.23687 \nL 148.351248 172.370291 \nL 148.466979 171.647744 \nL 148.501385 171.708259 \nL 148.613988 171.588037 \nL 148.618679 171.978633 \nL 148.648394 171.527572 \nL 148.651522 171.58781 \nL 148.925209 173.621699 \nL 148.951796 173.504167 \nL 149.546088 173.15113 \nL 149.686842 171.845966 \nL 149.702481 172.387329 \nL 149.821339 172.687974 \nL 149.999627 171.191075 \nL 150.001191 171.310827 \nL 150.425015 171.310827 \nL 150.5861 171.131199 \nL 150.590791 171.250951 \nL 150.726853 171.250951 \nL 150.895757 170.472564 \nL 150.903577 170.53244 \nL 151.05215 169.155293 \nL 151.624547 169.27735 \nL 151.629239 168.972718 \nL 151.643314 169.277451 \nL 151.766864 168.668698 \nL 151.771556 169.216576 \nL 152.065574 166.01448 \nL 152.085905 167.212522 \nL 152.104673 167.212522 \nL 152.522241 165.413103 \nL 152.542572 165.847446 \nL 152.686453 165.661299 \nL 152.700529 165.288075 \nL 153.138428 166.348141 \nL 153.5732 165.082513 \nL 153.601351 165.236858 \nL 153.878166 164.989499 \nL 153.87973 165.113588 \nL 153.887549 165.361355 \nL 153.906316 165.237676 \nL 154.029867 166.350788 \nL 154.040814 165.052158 \nL 154.180004 166.814183 \nL 154.203462 166.445376 \nL 154.922869 165.338955 \nL 154.933816 165.926724 \nL 154.949456 165.094872 \nL 155.107412 167.313144 \nL 155.223143 166.696957 \nL 155.673554 167.318307 \nL 155.822127 165.531428 \nL 155.823691 165.593044 \nL 155.848714 165.099756 \nL 155.858097 165.346426 \nL 155.980083 167.673409 \nL 156.008234 167.25261 \nL 156.122401 167.012154 \nL 156.123965 167.25261 \nL 156.131784 167.76358 \nL 156.133348 167.614331 \nL 156.289741 166.778534 \nL 156.303816 166.241236 \nL 156.758919 167.196432 \nL 156.869958 166.300935 \nL 156.87465 167.026066 \nL 157.031042 168.873414 \nL 157.20151 168.815005 \nL 157.326625 169.632733 \nL 157.936556 170.797186 \nL 157.941248 170.451759 \nL 157.956887 170.509607 \nL 158.235266 169.180555 \nL 158.241522 169.931673 \nL 158.246214 168.88811 \nL 158.260289 169.591479 \nL 158.856145 169.881742 \nL 158.860837 169.823689 \nL 158.984387 168.720691 \nL 159.27215 169.127059 \nL 159.311248 168.429223 \nL 160.043166 165.354651 \nL 160.046293 164.973244 \nL 160.054113 165.209156 \nL 160.180791 164.206531 \nL 160.20425 164.803973 \nL 160.323109 166.115226 \nL 160.362207 164.196578 \nL 160.482629 164.379979 \nL 160.501396 164.075054 \nL 160.504524 164.197024 \nL 160.92522 165.658514 \nL 160.926784 165.598605 \nL 160.962755 166.911252 \nL 161.098816 167.029733 \nL 161.405346 168.7379 \nL 161.988691 169.793192 \nL 162.00433 170.139917 \nL 162.435974 172.56699 \nL 162.453177 172.064042 \nL 162.581419 171.281678 \nL 162.60957 172.900588 \nL 163.038086 173.84129 \nL 163.177275 174.780226 \nL 163.493188 173.509901 \nL 163.496316 173.675596 \nL 163.515083 173.896695 \nL 163.644889 173.455878 \nL 163.660529 173.731388 \nL 164.229798 172.738299 \nL 164.231362 172.849799 \nL 164.250129 171.734793 \nL 164.259513 172.130679 \nL 164.711487 175.795694 \nL 165.127492 177.654842 \nL 165.163462 177.441884 \nL 165.280757 177.282165 \nL 165.282321 177.388644 \nL 165.287013 177.601479 \nL 165.587287 177.123477 \nL 165.73586 176.963636 \nL 165.762446 176.430832 \nL 166.197218 175.365224 \nL 166.330152 175.791467 \nL 166.367686 176.270258 \nL 166.635118 176.694224 \nL 166.66796 177.170618 \nL 166.79151 176.063662 \nL 167.232538 174.774755 \nL 167.234102 174.829153 \nL 167.268508 173.569066 \nL 167.384239 173.40357 \nL 167.38893 173.569066 \nL 167.409261 173.844721 \nL 167.529684 173.954708 \nL 167.531248 173.844721 \nL 167.568782 172.904976 \nL 168.286624 170.397735 \nL 168.288188 170.453507 \nL 168.441453 171.680478 \nL 168.618177 171.625646 \nL 168.619741 171.707895 \nL 168.920015 174.343136 \nL 169.370426 174.610773 \nL 169.640985 173.384319 \nL 169.792686 172.957726 \nL 170.385414 171.83792 \nL 170.396362 171.356968 \nL 170.546499 170.710393 \nL 170.557446 170.873141 \nL 170.68256 170.115364 \nL 170.859284 172.705772 \nL 171.010985 175.006648 \nL 171.437937 176.002949 \nL 171.583382 175.950512 \nL 171.62248 176.474288 \nL 171.910243 176.003067 \nL 171.921191 175.950431 \nL 171.922754 176.161133 \nL 172.035357 176.582535 \nL 172.038485 176.425465 \nL 172.072891 175.587761 \nL 172.49046 175.849544 \nL 172.495152 175.692425 \nL 172.501407 175.219201 \nL 172.523302 176.37689 \nL 172.656236 175.592157 \nL 172.659364 175.906404 \nL 172.792298 177.838111 \nL 172.823576 176.97003 \nL 173.089444 177.279544 \nL 173.122286 177.948559 \nL 173.549238 178.560798 \nL 173.572697 179.167851 \nL 173.688428 179.167851 \nL 173.689992 179.369253 \nL 173.724398 179.016651 \nL 173.985574 178.814501 \nL 173.990266 178.966113 \nL 174.016853 178.0059 \nL 174.587686 178.108412 \nL 174.592378 178.364692 \nL 174.74877 179.641303 \nL 174.775357 179.385826 \nL 174.920802 178.002384 \nL 174.925494 178.210647 \nL 175.041225 180.08394 \nL 175.070939 179.62827 \nL 175.638645 178.868818 \nL 175.641773 178.666298 \nL 175.648028 178.919448 \nL 175.676179 178.717229 \nL 175.824752 176.947809 \nL 175.946738 177.200584 \nL 175.967069 177.048919 \nL 175.976453 176.998253 \nL 176.237629 176.541922 \nL 176.239193 176.695041 \nL 176.689604 178.019146 \nL 176.700551 177.815438 \nL 176.709935 177.457886 \nL 176.72401 177.663269 \nL 176.838177 176.946572 \nL 176.842869 177.560884 \nL 176.996133 179.396098 \nL 177.021156 179.194696 \nL 177.288588 181.03341 \nL 177.310483 180.114692 \nL 177.745254 182.123006 \nL 177.75933 181.464574 \nL 177.762458 181.337531 \nL 177.765585 181.413757 \nL 177.896955 181.235895 \nL 177.903211 181.286849 \nL 177.921978 182.177848 \nL 178.075243 180.232482 \nL 178.18941 180.38878 \nL 178.228508 181.453506 \nL 178.358314 179.237864 \nL 178.378645 179.315455 \nL 178.808725 180.091553 \nL 178.813416 179.783981 \nL 179.098051 179.732719 \nL 179.246624 179.886505 \nL 179.262263 180.040175 \nL 179.271647 179.681613 \nL 179.423348 179.836101 \nL 179.42804 180.144372 \nL 180.291327 182.282878 \nL 180.477435 181.229862 \nL 181.076419 181.781442 \nL 181.203097 181.581319 \nL 181.207789 181.731411 \nL 181.517446 179.7624 \nL 182.096099 178.490769 \nL 182.10861 178.694192 \nL 182.110174 178.846674 \nL 182.114866 178.643819 \nL 182.128941 178.643819 \nL 182.402629 176.716808 \nL 182.408884 176.818161 \nL 182.410448 176.8688 \nL 182.426088 176.564629 \nL 182.576225 177.728504 \nL 182.993793 177.928264 \nL 183.015688 178.627421 \nL 183.031327 178.429689 \nL 183.164261 178.973309 \nL 183.173645 179.195363 \nL 183.183028 179.170754 \nL 183.295631 178.038735 \nL 183.333165 178.688887 \nL 183.445768 178.838038 \nL 183.606852 177.397295 \nL 183.620928 177.496656 \nL 184.219912 179.033424 \nL 184.224604 178.616892 \nL 184.233987 178.346118 \nL 184.359101 179.581805 \nL 184.379432 178.999305 \nL 184.496727 178.999305 \nL 184.510802 179.387951 \nL 184.52175 179.290868 \nL 184.679706 180.45435 \nL 185.100403 180.597701 \nL 185.130117 181.07452 \nL 185.258359 179.840938 \nL 185.284946 180.315393 \nL 185.405368 179.842603 \nL 185.553941 181.587191 \nL 185.555505 181.44694 \nL 185.558633 181.026185 \nL 185.561761 181.072936 \nL 186.149798 181.213187 \nL 186.453199 184.76473 \nL 186.486042 184.72235 \nL 186.629923 183.567571 \nL 186.783188 181.27546 \nL 187.197629 180.452012 \nL 187.200756 180.991433 \nL 187.236727 176.105833 \nL 187.379044 178.621975 \nL 187.386864 177.568568 \nL 187.499466 175.551746 \nL 187.798177 169.80791 \nL 187.831019 170.253154 \nL 188.401852 174.001874 \nL 188.423747 173.629812 \nL 188.698998 168.580409 \nL 188.700562 167.889438 \nL 188.705254 169.802122 \nL 188.738097 169.271109 \nL 188.888234 171.065873 \nL 189.454375 169.437513 \nL 189.459067 170.079994 \nL 189.470014 169.545817 \nL 189.627971 167.836322 \nL 189.638919 169.171865 \nL 189.787492 170.871441 \nL 189.789055 170.76592 \nL 189.909478 172.139703 \nL 189.936065 171.517612 \nL 190.355197 171.36209 \nL 190.358325 171.776817 \nL 190.689877 167.888752 \nL 190.822811 169.470459 \nL 190.830631 168.283345 \nL 190.952617 166.533307 \nL 190.98546 168.984565 \nL 190.990151 168.222014 \nL 191.421795 168.33095 \nL 191.584444 169.529245 \nL 191.861259 168.188236 \nL 191.86595 168.026058 \nL 191.883154 168.512829 \nL 191.890973 168.405109 \nL 192.006704 169.914308 \nL 192.014523 169.386293 \nL 192.61038 168.013451 \nL 192.754261 170.281981 \nL 193.658211 169.134563 \nL 193.692617 169.821156 \nL 193.80522 169.610427 \nL 193.966304 166.123299 \nL 193.992891 167.282845 \nL 194.138336 165.392952 \nL 194.574672 168.873555 \nL 194.582491 169.69026 \nL 194.593439 168.932807 \nL 194.718553 168.716391 \nL 194.740448 170.555921 \nL 194.743576 169.959561 \nL 194.86087 168.921093 \nL 194.889021 169.308039 \nL 195.014135 172.202619 \nL 195.034466 173.110539 \nL 195.03603 173.005075 \nL 195.611555 174.956169 \nL 195.630323 173.637862 \nL 195.758565 174.927488 \nL 195.929033 175.50788 \nL 195.935288 176.088273 \nL 195.944672 175.041758 \nL 196.076042 174.047569 \nL 196.67659 175.198735 \nL 196.693793 174.518501 \nL 196.995631 176.837119 \nL 197.109797 176.888276 \nL 197.111361 177.041748 \nL 197.137948 176.837573 \nL 197.275574 178.215755 \nL 197.295905 177.961912 \nL 197.708781 178.371785 \nL 197.735368 178.781658 \nL 197.882377 178.119598 \nL 197.885505 178.374237 \nL 198.013747 179.138151 \nL 198.043462 178.785622 \nL 198.192035 179.339597 \nL 198.335916 177.977278 \nL 198.346864 178.079888 \nL 198.765996 178.233803 \nL 198.916133 177.824093 \nL 198.92708 178.950691 \nL 198.947412 178.648135 \nL 199.211715 180.650482 \nL 199.216407 180.195016 \nL 199.238302 179.790157 \nL 199.369672 179.587727 \nL 199.388439 179.132261 \nL 199.391567 179.33469 \nL 199.815391 180.193439 \nL 199.985859 177.402263 \nL 200.109409 177.195252 \nL 200.114101 176.832982 \nL 200.148507 178.636321 \nL 200.264238 177.345705 \nL 200.275185 176.348795 \nL 200.295517 177.613624 \nL 200.412811 178.341982 \nL 200.426886 179.642621 \nL 200.863222 179.387397 \nL 200.894501 179.949909 \nL 200.899192 179.796834 \nL 201.044637 180.512805 \nL 201.046201 180.209192 \nL 201.313633 178.589926 \nL 201.335528 177.982701 \nL 201.479409 178.336916 \nL 201.484101 178.69113 \nL 202.06119 179.949642 \nL 202.064318 179.295216 \nL 202.086213 179.753071 \nL 202.39587 179.904425 \nL 202.533496 178.893465 \nL 202.968268 180.72853 \nL 202.971395 180.878736 \nL 202.976087 180.478186 \nL 202.997982 180.478186 \nL 203.151247 180.276711 \nL 203.271669 181.284086 \nL 203.292 180.629292 \nL 204.163108 183.333036 \nL 204.200642 185.568761 \nL 204.627594 182.996691 \nL 204.651053 183.543652 \nL 205.220322 182.458758 \nL 205.245345 183.000948 \nL 205.686373 180.538953 \nL 206.275973 180.538953 \nL 206.296304 180.790119 \nL 206.41829 180.790119 \nL 206.584067 181.392917 \nL 206.602834 181.292564 \nL 207.183051 184.311086 \nL 207.353519 181.819918 \nL 207.355083 181.56249 \nL 207.627206 182.849629 \nL 207.645973 182.592201 \nL 207.794546 181.403411 \nL 207.805494 181.971963 \nL 208.368507 180.52474 \nL 208.371635 180.630387 \nL 208.374763 180.841349 \nL 208.542103 179.38496 \nL 208.556178 178.656015 \nL 208.828302 182.276983 \nL 208.856452 182.017021 \nL 209.272457 180.327275 \nL 209.294352 180.35394 \nL 209.736943 181.258846 \nL 209.738507 181.205705 \nL 209.757274 181.046158 \nL 209.880825 182.432206 \nL 209.885516 182.1189 \nL 210.35313 180.761238 \nL 210.356258 180.813456 \nL 210.770699 179.977972 \nL 210.792594 180.559151 \nL 210.79885 180.349313 \nL 211.379067 181.555961 \nL 211.558918 183.588598 \nL 211.696544 182.510845 \nL 211.820094 183.335762 \nL 211.856064 182.871018 \nL 211.859192 183.235209 \nL 211.979614 181.78937 \nL 212.009329 181.78937 \nL 212.426898 182.770475 \nL 212.589546 185.296541 \nL 212.59111 185.196874 \nL 212.725608 185.744737 \nL 212.730299 185.993139 \nL 212.910151 186.638146 \nL 213.491932 186.145533 \nL 213.632685 186.493018 \nL 213.634249 186.246149 \nL 213.776567 186.443644 \nL 214.09248 183.248104 \nL 214.103427 183.452391 \nL 214.111247 183.350247 \nL 214.685208 184.526722 \nL 215.146566 186.687259 \nL 215.581338 187.489922 \nL 215.584466 187.840261 \nL 215.590722 187.439874 \nL 215.612617 187.792425 \nL 215.726783 188.443555 \nL 215.750242 188.043177 \nL 215.906635 184.189537 \nL 216.192834 187.124824 \nL 216.213165 185.993979 \nL 216.624477 185.634165 \nL 216.655756 186.199587 \nL 216.663576 186.148471 \nL 216.804329 184.512744 \nL 216.924751 184.461627 \nL 216.926315 184.56386 \nL 216.960722 185.175978 \nL 216.96385 185.023944 \nL 217.709843 182.692755 \nL 217.714534 182.845061 \nL 217.980402 183.098645 \nL 217.98353 182.946611 \nL 218.014808 182.490511 \nL 218.884352 186.29135 \nL 218.91563 186.090039 \nL 219.036053 188.274071 \nL 219.037617 188.17272 \nL 219.183062 188.401124 \nL 219.190881 188.653994 \nL 219.21434 188.020726 \nL 219.215904 188.223589 \nL 219.339455 188.45181 \nL 219.366041 189.488805 \nL 219.78361 188.935169 \nL 219.792993 188.732063 \nL 219.810197 189.012235 \nL 220.234021 186.899066 \nL 220.262171 187.104046 \nL 220.833005 187.714591 \nL 220.984706 186.616107 \nL 221.139534 185.001856 \nL 221.167685 185.617455 \nL 221.286544 186.330982 \nL 221.314694 186.027963 \nL 221.433553 185.522734 \nL 221.438244 185.724825 \nL 221.463267 186.63109 \nL 221.466395 186.430258 \nL 222.029409 186.982546 \nL 222.030973 186.932338 \nL 222.068507 186.630894 \nL 222.497023 185.020764 \nL 222.517354 185.174358 \nL 222.518918 185.43116 \nL 222.939614 184.61264 \nL 222.964637 184.663797 \nL 223.386897 180.508335 \nL 223.394717 179.908841 \nL 223.413484 180.293753 \nL 224.015596 181.390816 \nL 224.170425 182.704634 \nL 224.470699 178.549812 \nL 224.617708 181.207348 \nL 224.620836 180.816593 \nL 225.071247 182.828079 \nL 225.185413 181.770153 \nL 225.186977 181.881514 \nL 225.371521 185.290205 \nL 225.488815 184.039246 \nL 225.509146 182.487948 \nL 225.512274 182.771606 \nL 226.101875 180.737991 \nL 226.394329 183.957882 \nL 226.420916 183.110542 \nL 226.689911 181.622704 \nL 226.722753 183.654316 \nL 227.140322 184.683236 \nL 227.166909 186.266448 \nL 227.31079 187.282779 \nL 227.31861 186.612865 \nL 227.468747 183.654077 \nL 227.587605 183.31912 \nL 227.598553 181.309377 \nL 227.736178 178.685546 \nL 227.773712 179.586013 \nL 228.202228 179.586013 \nL 228.220995 179.137207 \nL 228.222559 179.193308 \nL 228.361749 179.137207 \nL 228.486863 177.847127 \nL 228.511886 177.622172 \nL 228.640128 178.91566 \nL 228.665151 178.184 \nL 228.669843 177.501844 \nL 228.796521 175.721949 \nL 228.813724 176.662757 \nL 228.824671 177.426798 \nL 229.262571 179.286561 \nL 229.406452 182.847031 \nL 229.425219 182.347341 \nL 229.547206 182.291269 \nL 229.859991 179.319466 \nL 229.872502 179.880184 \nL 230.593473 182.996923 \nL 230.887491 184.380161 \nL 230.890619 184.214172 \nL 231.377 185.6564 \nL 231.511498 185.330837 \nL 231.80708 183.268944 \nL 231.940014 183.648766 \nL 231.946269 183.595449 \nL 232.393552 186.584685 \nL 232.538998 186.688549 \nL 232.542126 186.273091 \nL 232.578096 188.567739 \nL 232.854911 192.680648 \nL 232.873678 191.802417 \nL 233.006612 191.027507 \nL 233.011304 191.07934 \nL 233.017559 192.011562 \nL 233.442947 190.816435 \nL 233.478918 190.974849 \nL 233.600904 189.974115 \nL 233.604032 190.606157 \nL 233.608724 191.602672 \nL 233.625927 190.924879 \nL 233.765116 188.995776 \nL 233.776064 189.204936 \nL 233.912126 189.309645 \nL 234.071646 187.993298 \nL 234.500162 188.046758 \nL 234.506418 187.966636 \nL 234.515801 188.741147 \nL 234.529877 187.883612 \nL 234.680014 190.032181 \nL 234.947445 189.401714 \nL 234.970904 188.222202 \nL 235.094454 189.098511 \nL 235.128861 188.886582 \nL 235.541737 187.962777 \nL 235.551121 189.103948 \nL 235.562068 188.887475 \nL 235.843575 189.106159 \nL 235.863906 188.071009 \nL 235.874854 188.506861 \nL 235.99684 189.050507 \nL 236.020299 188.615825 \nL 236.021863 188.397334 \nL 236.148541 188.452146 \nL 236.161052 187.685442 \nL 236.178256 188.177758 \nL 236.598952 188.50578 \nL 236.623975 189.647936 \nL 236.631794 189.593547 \nL 236.899226 189.593547 \nL 236.930504 188.612717 \nL 237.216703 184.455981 \nL 237.226087 185.069163 \nL 237.656167 185.29167 \nL 237.67337 185.95767 \nL 237.798484 185.84746 \nL 237.83289 186.39945 \nL 237.97208 183.991364 \nL 237.973644 184.429198 \nL 238.120653 185.03122 \nL 238.1316 184.705858 \nL 238.275482 185.03122 \nL 238.283301 184.814176 \nL 238.72902 184.051549 \nL 239.023039 180.966225 \nL 239.173176 181.076597 \nL 239.176304 181.298071 \nL 239.177867 180.470285 \nL 239.184123 180.801399 \nL 239.33426 179.476942 \nL 239.914477 177.927957 \nL 239.93168 177.133261 \nL 239.934808 178.104205 \nL 240.818427 179.803529 \nL 240.82781 179.471998 \nL 240.960744 179.085211 \nL 240.984203 179.195991 \nL 241.436178 176.05359 \nL 241.850619 175.998118 \nL 241.853746 176.164669 \nL 241.886589 175.610826 \nL 242.171224 173.836778 \nL 242.485573 171.35923 \nL 242.901577 171.47494 \nL 243.198724 170.550751 \nL 243.209671 170.897322 \nL 243.351988 170.088656 \nL 243.378575 171.081689 \nL 244.431098 170.563121 \nL 244.56716 168.546468 \nL 244.587491 169.410748 \nL 245.031646 167.74508 \nL 245.158324 168.434322 \nL 245.302205 167.7435 \nL 245.306897 167.62754 \nL 245.308461 167.743683 \nL 245.314717 167.743683 \nL 245.489876 169.369686 \nL 246.05289 170.703403 \nL 246.056018 170.646567 \nL 246.059146 170.98948 \nL 246.084169 169.435776 \nL 246.090424 169.725355 \nL 246.360984 168.802893 \nL 246.370367 169.091162 \nL 246.528324 171.048495 \nL 246.653438 169.259757 \nL 246.689408 169.614244 \nL 247.114797 167.078903 \nL 247.591794 166.784096 \nL 247.724728 164.838369 \nL 247.741931 165.133176 \nL 248.186086 163.718102 \nL 248.192342 163.423295 \nL 248.455082 164.307717 \nL 248.461338 164.189794 \nL 248.489488 165.720375 \nL 248.778815 163.087257 \nL 248.79289 162.54574 \nL 249.817262 164.66357 \nL 249.834465 164.958721 \nL 250.569511 161.842387 \nL 250.710265 163.13596 \nL 250.739979 163.42775 \nL 251.317068 162.78815 \nL 251.335835 162.381131 \nL 251.493792 163.137023 \nL 252.35708 163.890606 \nL 252.391486 163.600767 \nL 252.507217 164.939154 \nL 252.544751 164.824812 \nL 253.417422 164.253102 \nL 253.434625 164.368317 \nL 253.716132 164.828477 \nL 253.71926 164.656049 \nL 253.741155 165.173333 \nL 254.028917 165.173333 \nL 254.032045 165.058381 \nL 254.047685 165.575488 \nL 254.616954 166.004578 \nL 254.638849 165.747871 \nL 254.620082 166.004973 \nL 254.648232 165.804951 \nL 254.776474 165.461944 \nL 254.788986 164.547258 \nL 254.79055 164.833098 \nL 254.932867 163.518237 \nL 254.937559 163.576414 \nL 255.534979 166.134089 \nL 255.542799 165.72874 \nL 255.544363 165.381297 \nL 255.549054 165.612926 \nL 255.697627 162.47679 \nL 255.699191 162.778723 \nL 255.836817 162.477983 \nL 256.585938 170.159037 \nL 256.600013 169.504545 \nL 256.743895 167.231908 \nL 256.75015 167.411327 \nL 256.865881 167.172102 \nL 256.900287 167.532297 \nL 257.017582 167.353026 \nL 257.026965 166.934725 \nL 257.041041 167.830938 \nL 257.047296 167.65186 \nL 257.167719 165.917495 \nL 257.632205 164.937811 \nL 257.763575 165.434133 \nL 257.951246 165.434133 \nL 258.221805 169.672116 \nL 258.844248 171.123935 \nL 259.002205 172.018768 \nL 259.117936 171.311751 \nL 259.878004 170.36906 \nL 259.885824 170.427978 \nL 260.014066 171.07464 \nL 260.021885 170.072248 \nL 260.053164 171.138832 \nL 260.167331 171.079843 \nL 261.074408 167.894435 \nL 261.096303 168.130391 \nL 261.241748 167.953282 \nL 261.396577 167.005699 \nL 261.987741 170.237853 \nL 262.297399 167.594081 \nL 262.901075 168.80102 \nL 262.902639 168.6286 \nL 263.049648 167.361202 \nL 263.504751 169.178276 \nL 263.944214 167.462572 \nL 264.233541 169.349846 \nL 264.551018 170.291266 \nL 265.157821 171.516514 \nL 265.282935 170.205783 \nL 265.434636 170.889643 \nL 265.454967 170.661554 \nL 266.050824 171.576257 \nL 266.190013 171.576257 \nL 266.351098 172.140747 \nL 266.645116 172.760618 \nL 266.659191 172.25528 \nL 267.07676 172.481252 \nL 267.101782 172.143365 \nL 267.230024 172.312709 \nL 267.23628 172.256395 \nL 267.672616 172.143766 \nL 268.274728 170.45167 \nL 268.299751 170.682691 \nL 268.309134 170.999331 \nL 268.571874 172.810645 \nL 268.595333 172.525212 \nL 268.610972 175.779142 \nL 269.183369 171.82767 \nL 269.344454 172.673491 \nL 269.361657 172.37496 \nL 269.491463 171.777247 \nL 269.505538 170.816336 \nL 269.658803 169.615196 \nL 269.812068 171.176677 \nL 270.262479 172.014676 \nL 270.547113 169.7236 \nL 270.675355 170.650585 \nL 270.856771 169.064184 \nL 271.297798 167.843875 \nL 271.304054 168.270983 \nL 271.457319 168.759107 \nL 271.580869 168.456053 \nL 271.749773 169.789491 \nL 271.760721 169.729032 \nL 272.334682 168.519843 \nL 272.350321 169.072082 \nL 272.50515 169.623034 \nL 272.664671 168.893957 \nL 273.715629 165.79538 \nL 273.828232 164.033445 \nL 274.42878 163.790419 \nL 274.4366 163.547394 \nL 274.444419 163.729663 \nL 274.599248 163.790419 \nL 274.915161 162.333436 \nL 275.066862 161.665653 \nL 275.814419 163.547589 \nL 277.612935 162.090606 \nL 277.769328 161.162303 \nL 277.911645 159.467237 \nL 278.2041 161.196236 \nL 278.646691 161.446752 \nL 278.668586 161.352783 \nL 279.114305 162.073898 \nL 279.266006 159.402743 \nL 279.991668 158.377764 \nL 280.008871 158.470944 \nL 280.010435 158.595085 \nL 280.17152 158.905439 \nL 280.312273 159.585512 \nL 280.321657 159.214169 \nL 281.069214 160.456585 \nL 281.360104 159.539517 \nL 281.36636 159.661792 \nL 281.973164 159.478379 \nL 282.112353 159.845206 \nL 282.409499 161.679342 \nL 283.022558 159.111837 \nL 283.15862 159.708931 \nL 283.920253 159.231256 \nL 283.921816 159.351412 \nL 283.924944 159.651338 \nL 284.050058 159.291055 \nL 284.35346 157.959752 \nL 284.375355 158.143655 \nL 284.971211 159.42702 \nL 284.975903 159.246386 \nL 287.206063 156.530578 \nL 287.21701 156.655564 \nL 287.226394 157.154721 \nL 291.696097 147.327446 \nL 291.875949 150.116019 \nL 292.332615 151.167106 \nL 292.446782 151.105278 \nL 292.463985 150.610648 \nL 292.476497 150.857963 \nL 292.606303 150.98162 \nL 292.750184 149.808644 \nL 292.779898 149.87038 \nL 292.928472 152.200063 \nL 293.350732 153.468736 \nL 293.380446 152.27916 \nL 293.676029 154.716659 \nL 293.683848 154.538882 \nL 293.807398 153.528489 \nL 293.821474 153.587924 \nL 293.974739 154.717187 \nL 294.565903 157.882079 \nL 294.583106 158.699296 \nL 294.58467 158.641035 \nL 294.733243 159.398038 \nL 294.734807 159.282468 \nL 294.866177 161.883448 \nL 294.884944 160.671797 \nL 295.035081 162.056542 \nL 295.472981 157.960006 \nL 295.476108 158.081753 \nL 295.596531 158.446427 \nL 295.599659 158.932658 \nL 295.634065 158.026619 \nL 295.746668 157.211183 \nL 295.75136 157.966216 \nL 295.785766 158.749598 \nL 295.907752 155.969054 \nL 295.935903 157.460723 \nL 296.082912 160.825919 \nL 296.536451 158.872637 \nL 296.836725 163.454915 \nL 297.127615 162.297541 \nL 297.135435 162.532578 \nL 297.576462 163.001569 \nL 297.728163 161.078847 \nL 298.178574 161.311904 \nL 298.779122 161.020583 \nL 298.785378 160.786641 \nL 298.788506 161.079068 \nL 299.221713 161.896624 \nL 299.689328 167.736676 \nL 299.831645 165.459944 \nL 299.839465 165.936655 \nL 299.975526 166.64852 \nL 299.981782 166.237212 \nL 299.983346 166.060798 \nL 299.98491 166.296575 \nL 299.986474 166.120301 \nL 300.130355 168.587997 \nL 300.702752 171.171278 \nL 301.001462 176.152968 \nL 301.013974 175.876574 \nL 301.165675 175.710738 \nL 301.181314 177.147059 \nL 301.189134 176.375009 \nL 302.074316 160.905516 \nL 302.089955 161.906924 \nL 302.357387 177.204119 \nL 302.365207 173.724294 \nL 302.391793 173.8292 \nL 302.821873 184.764683 \nL 302.832821 187.254014 \nL 302.842204 186.232712 \nL 303.10338 192.419181 \nL 303.142478 191.0077 \nL 303.255081 191.518799 \nL 303.292615 194.138182 \nL 303.439624 188.321 \nL 303.442752 188.480884 \nL 303.854065 187.489603 \nL 303.86814 184.986111 \nL 303.893163 187.980698 \nL 304.018277 180.703138 \nL 304.040172 181.677811 \nL 304.157467 179.340873 \nL 304.187181 175.186317 \nL 304.193437 176.289871 \nL 304.326371 179.067956 \nL 304.52499 173.988825 \nL 304.905024 172.096788 \nL 304.944122 171.083198 \nL 305.088003 170.339898 \nL 305.244396 175.205656 \nL 305.372638 171.968436 \nL 305.386713 172.440531 \nL 305.514955 173.184505 \nL 305.519647 174.723938 \nL 305.54467 173.64875 \nL 306.112375 165.708031 \nL 306.145218 167.117836 \nL 306.290663 167.957006 \nL 306.292227 167.923818 \nL 306.445492 168.122946 \nL 307.030401 167.591938 \nL 307.039784 167.993084 \nL 307.194613 164.535354 \nL 307.30878 167.594115 \nL 307.325983 167.394736 \nL 307.471428 165.394487 \nL 307.496451 165.927887 \nL 308.075104 163.327563 \nL 308.397273 164.994437 \nL 308.674088 163.927638 \nL 309.298095 160.072727 \nL 309.448232 156.623596 \nL 310.488243 165.990353 \nL 310.491371 165.891641 \nL 310.49919 165.5626 \nL 310.799464 161.996393 \nL 311.218597 162.52472 \nL 311.2358 162.920965 \nL 311.364042 162.592472 \nL 311.373426 161.80409 \nL 311.395321 163.248101 \nL 311.400012 162.461297 \nL 311.520435 163.188995 \nL 311.536074 164.696096 \nL 311.700286 165.023727 \nL 312.300834 161.239741 \nL 312.422821 161.631188 \nL 312.450971 160.58733 \nL 312.751245 162.885177 \nL 312.884179 160.075269 \nL 312.901382 160.617484 \nL 313.492547 156.563333 \nL 313.636428 158.589016 \nL 313.652067 158.387005 \nL 313.774053 157.310537 \nL 314.387113 153.40834 \nL 314.552889 150.111657 \nL 314.703026 146.882253 \nL 314.984533 144.931155 \nL 314.99548 145.469389 \nL 315.750857 145.603947 \nL 316.052695 150.306025 \nL 316.645423 150.843405 \nL 316.646987 150.643198 \nL 316.654807 151.177084 \nL 316.772101 149.313041 \nL 316.804944 149.51276 \nL 316.93475 149.979146 \nL 317.069247 148.389096 \nL 317.543117 148.124087 \nL 317.554065 148.720356 \nL 317.82306 148.919112 \nL 318.00604 150.174897 \nL 318.142101 151.156856 \nL 318.153049 150.56768 \nL 319.053871 155.018388 \nL 320.068859 146.6798 \nL 320.253403 148.303795 \nL 320.705377 148.053949 \nL 320.996268 148.99134 \nL 321.410709 146.815025 \nL 321.437295 150.169037 \nL 321.440423 149.793823 \nL 321.748517 147.917752 \nL 321.903345 145.91661 \nL 322.026896 147.417467 \nL 322.051919 146.541967 \nL 322.463231 145.401834 \nL 322.467923 146.169935 \nL 322.475743 145.979272 \nL 322.796348 144.454435 \nL 322.955868 145.279191 \nL 323.256142 149.474275 \nL 323.401587 147.553465 \nL 323.406279 148.057862 \nL 324.005263 145.175001 \nL 324.146017 142.668166 \nL 324.311793 142.22947 \nL 324.906085 144.861647 \nL 325.490994 145.927052 \nL 326.255754 145.80327 \nL 326.258882 145.308142 \nL 326.401199 146.979198 \nL 327.276998 151.497236 \nL 327.278562 151.262637 \nL 327.614807 151.028037 \nL 328.05427 155.368128 \nL 328.065218 155.018285 \nL 328.215355 152.569385 \nL 328.640743 156.942421 \nL 329.263186 156.067814 \nL 329.396119 156.71633 \nL 330.315708 153.909442 \nL 330.617546 156.188393 \nL 331.810822 150.031997 \nL 332.703825 154.9657 \nL 332.706953 154.789113 \nL 332.719464 155.024563 \nL 332.832067 156.200085 \nL 332.85709 155.964981 \nL 333.768859 160.415734 \nL 333.91274 159.830455 \nL 335.532969 159.217305 \nL 335.543916 159.607073 \nL 335.557991 158.773648 \nL 335.684669 159.384826 \nL 335.689361 159.218616 \nL 335.711256 159.883615 \nL 335.719076 159.772966 \nL 335.869213 159.606993 \nL 335.988071 160.104913 \nL 336.583927 159.717642 \nL 336.585491 159.773244 \nL 336.768471 162.940189 \nL 337.057797 161.553169 \nL 337.484749 163.869758 \nL 337.486313 163.760115 \nL 337.659909 163.020022 \nL 337.663037 163.26672 \nL 337.785023 165.843338 \nL 337.820994 163.88267 \nL 338.535708 158.106647 \nL 338.685845 161.021154 \nL 338.690537 159.908343 \nL 338.864133 161.198642 \nL 338.998631 160.775639 \nL 339.003322 160.88179 \nL 339.00645 161.410905 \nL 339.023653 160.346955 \nL 339.025217 160.454325 \nL 339.156587 158.846013 \nL 339.591359 156.808818 \nL 339.897889 159.167676 \nL 339.911964 158.903082 \nL 339.922911 158.532248 \nL 339.926039 159.275373 \nL 340.204418 160.496221 \nL 340.224749 160.339457 \nL 340.637626 158.928583 \nL 340.664213 159.503383 \nL 341.688585 158.510546 \nL 342.775514 162.889812 \nL 342.928779 162.789401 \nL 343.229053 163.794841 \nL 343.953151 165.729458 \nL 343.979738 166.272308 \nL 344.240914 164.704552 \nL 344.280012 165.145484 \nL 344.86492 166.658312 \nL 345.17927 164.795265 \nL 345.180834 164.844549 \nL 345.89242 162.823903 \nL 345.893984 163.077045 \nL 346.076964 165.985668 \nL 346.078528 165.936727 \nL 346.192694 164.272709 \nL 346.946507 161.531975 \nL 347.101336 165.010086 \nL 347.39379 165.723075 \nL 348.153859 171.175034 \nL 348.183573 172.275049 \nL 348.294612 171.530253 \nL 348.318071 171.968368 \nL 348.483847 172.8446 \nL 349.195434 171.546257 \nL 349.214201 171.459701 \nL 349.347135 173.767353 \nL 349.658356 175.074404 \nL 349.684943 174.696758 \n\" style=\"fill:none;stroke:#ff7f0e;stroke-linecap:square;stroke-width:1.5;\"/>\n   </g>\n   <g id=\"patch_3\">\n    <path d=\"M 30.103125 203.04 \nL 30.103125 7.2 \n\" style=\"fill:none;stroke:#000000;stroke-linecap:square;stroke-linejoin:miter;stroke-width:0.8;\"/>\n   </g>\n   <g id=\"patch_4\">\n    <path d=\"M 364.903125 203.04 \nL 364.903125 7.2 \n\" style=\"fill:none;stroke:#000000;stroke-linecap:square;stroke-linejoin:miter;stroke-width:0.8;\"/>\n   </g>\n   <g id=\"patch_5\">\n    <path d=\"M 30.103125 203.04 \nL 364.903125 203.04 \n\" style=\"fill:none;stroke:#000000;stroke-linecap:square;stroke-linejoin:miter;stroke-width:0.8;\"/>\n   </g>\n   <g id=\"patch_6\">\n    <path d=\"M 30.103125 7.2 \nL 364.903125 7.2 \n\" style=\"fill:none;stroke:#000000;stroke-linecap:square;stroke-linejoin:miter;stroke-width:0.8;\"/>\n   </g>\n   <g id=\"legend_1\">\n    <g id=\"patch_7\">\n     <path d=\"M 37.103125 44.55625 \nL 153.521875 44.55625 \nQ 155.521875 44.55625 155.521875 42.55625 \nL 155.521875 14.2 \nQ 155.521875 12.2 153.521875 12.2 \nL 37.103125 12.2 \nQ 35.103125 12.2 35.103125 14.2 \nL 35.103125 42.55625 \nQ 35.103125 44.55625 37.103125 44.55625 \nz\n\" style=\"fill:#ffffff;opacity:0.8;stroke:#cccccc;stroke-linejoin:miter;\"/>\n    </g>\n    <g id=\"line2d_14\">\n     <path d=\"M 39.103125 20.298437 \nL 59.103125 20.298437 \n\" style=\"fill:none;stroke:#1f77b4;stroke-linecap:square;stroke-width:1.5;\"/>\n    </g>\n    <g id=\"line2d_15\"/>\n    <g id=\"text_13\">\n     <!-- Actual Returns -->\n     <g transform=\"translate(67.103125 23.798437)scale(0.1 -0.1)\">\n      <defs>\n       <path d=\"M 34.1875 63.1875 \nL 20.796875 26.90625 \nL 47.609375 26.90625 \nz\nM 28.609375 72.90625 \nL 39.796875 72.90625 \nL 67.578125 0 \nL 57.328125 0 \nL 50.6875 18.703125 \nL 17.828125 18.703125 \nL 11.1875 0 \nL 0.78125 0 \nz\n\" id=\"DejaVuSans-65\"/>\n       <path d=\"M 48.78125 52.59375 \nL 48.78125 44.1875 \nQ 44.96875 46.296875 41.140625 47.34375 \nQ 37.3125 48.390625 33.40625 48.390625 \nQ 24.65625 48.390625 19.8125 42.84375 \nQ 14.984375 37.3125 14.984375 27.296875 \nQ 14.984375 17.28125 19.8125 11.734375 \nQ 24.65625 6.203125 33.40625 6.203125 \nQ 37.3125 6.203125 41.140625 7.25 \nQ 44.96875 8.296875 48.78125 10.40625 \nL 48.78125 2.09375 \nQ 45.015625 0.34375 40.984375 -0.53125 \nQ 36.96875 -1.421875 32.421875 -1.421875 \nQ 20.0625 -1.421875 12.78125 6.34375 \nQ 5.515625 14.109375 5.515625 27.296875 \nQ 5.515625 40.671875 12.859375 48.328125 \nQ 20.21875 56 33.015625 56 \nQ 37.15625 56 41.109375 55.140625 \nQ 45.0625 54.296875 48.78125 52.59375 \nz\n\" id=\"DejaVuSans-99\"/>\n       <path d=\"M 8.5 21.578125 \nL 8.5 54.6875 \nL 17.484375 54.6875 \nL 17.484375 21.921875 \nQ 17.484375 14.15625 20.5 10.265625 \nQ 23.53125 6.390625 29.59375 6.390625 \nQ 36.859375 6.390625 41.078125 11.03125 \nQ 45.3125 15.671875 45.3125 23.6875 \nL 45.3125 54.6875 \nL 54.296875 54.6875 \nL 54.296875 0 \nL 45.3125 0 \nL 45.3125 8.40625 \nQ 42.046875 3.421875 37.71875 1 \nQ 33.40625 -1.421875 27.6875 -1.421875 \nQ 18.265625 -1.421875 13.375 4.4375 \nQ 8.5 10.296875 8.5 21.578125 \nz\nM 31.109375 56 \nz\n\" id=\"DejaVuSans-117\"/>\n       <path d=\"M 9.421875 75.984375 \nL 18.40625 75.984375 \nL 18.40625 0 \nL 9.421875 0 \nz\n\" id=\"DejaVuSans-108\"/>\n       <path id=\"DejaVuSans-32\"/>\n       <path d=\"M 44.390625 34.1875 \nQ 47.5625 33.109375 50.5625 29.59375 \nQ 53.5625 26.078125 56.59375 19.921875 \nL 66.609375 0 \nL 56 0 \nL 46.6875 18.703125 \nQ 43.0625 26.03125 39.671875 28.421875 \nQ 36.28125 30.8125 30.421875 30.8125 \nL 19.671875 30.8125 \nL 19.671875 0 \nL 9.8125 0 \nL 9.8125 72.90625 \nL 32.078125 72.90625 \nQ 44.578125 72.90625 50.734375 67.671875 \nQ 56.890625 62.453125 56.890625 51.90625 \nQ 56.890625 45.015625 53.6875 40.46875 \nQ 50.484375 35.9375 44.390625 34.1875 \nz\nM 19.671875 64.796875 \nL 19.671875 38.921875 \nL 32.078125 38.921875 \nQ 39.203125 38.921875 42.84375 42.21875 \nQ 46.484375 45.515625 46.484375 51.90625 \nQ 46.484375 58.296875 42.84375 61.546875 \nQ 39.203125 64.796875 32.078125 64.796875 \nz\n\" id=\"DejaVuSans-82\"/>\n       <path d=\"M 41.109375 46.296875 \nQ 39.59375 47.171875 37.8125 47.578125 \nQ 36.03125 48 33.890625 48 \nQ 26.265625 48 22.1875 43.046875 \nQ 18.109375 38.09375 18.109375 28.8125 \nL 18.109375 0 \nL 9.078125 0 \nL 9.078125 54.6875 \nL 18.109375 54.6875 \nL 18.109375 46.1875 \nQ 20.953125 51.171875 25.484375 53.578125 \nQ 30.03125 56 36.53125 56 \nQ 37.453125 56 38.578125 55.875 \nQ 39.703125 55.765625 41.0625 55.515625 \nz\n\" id=\"DejaVuSans-114\"/>\n       <path d=\"M 54.890625 33.015625 \nL 54.890625 0 \nL 45.90625 0 \nL 45.90625 32.71875 \nQ 45.90625 40.484375 42.875 44.328125 \nQ 39.84375 48.1875 33.796875 48.1875 \nQ 26.515625 48.1875 22.3125 43.546875 \nQ 18.109375 38.921875 18.109375 30.90625 \nL 18.109375 0 \nL 9.078125 0 \nL 9.078125 54.6875 \nL 18.109375 54.6875 \nL 18.109375 46.1875 \nQ 21.34375 51.125 25.703125 53.5625 \nQ 30.078125 56 35.796875 56 \nQ 45.21875 56 50.046875 50.171875 \nQ 54.890625 44.34375 54.890625 33.015625 \nz\n\" id=\"DejaVuSans-110\"/>\n       <path d=\"M 44.28125 53.078125 \nL 44.28125 44.578125 \nQ 40.484375 46.53125 36.375 47.5 \nQ 32.28125 48.484375 27.875 48.484375 \nQ 21.1875 48.484375 17.84375 46.4375 \nQ 14.5 44.390625 14.5 40.28125 \nQ 14.5 37.15625 16.890625 35.375 \nQ 19.28125 33.59375 26.515625 31.984375 \nL 29.59375 31.296875 \nQ 39.15625 29.25 43.1875 25.515625 \nQ 47.21875 21.78125 47.21875 15.09375 \nQ 47.21875 7.46875 41.1875 3.015625 \nQ 35.15625 -1.421875 24.609375 -1.421875 \nQ 20.21875 -1.421875 15.453125 -0.5625 \nQ 10.6875 0.296875 5.421875 2 \nL 5.421875 11.28125 \nQ 10.40625 8.6875 15.234375 7.390625 \nQ 20.0625 6.109375 24.8125 6.109375 \nQ 31.15625 6.109375 34.5625 8.28125 \nQ 37.984375 10.453125 37.984375 14.40625 \nQ 37.984375 18.0625 35.515625 20.015625 \nQ 33.0625 21.96875 24.703125 23.78125 \nL 21.578125 24.515625 \nQ 13.234375 26.265625 9.515625 29.90625 \nQ 5.8125 33.546875 5.8125 39.890625 \nQ 5.8125 47.609375 11.28125 51.796875 \nQ 16.75 56 26.8125 56 \nQ 31.78125 56 36.171875 55.265625 \nQ 40.578125 54.546875 44.28125 53.078125 \nz\n\" id=\"DejaVuSans-115\"/>\n      </defs>\n      <use xlink:href=\"#DejaVuSans-65\"/>\n      <use x=\"66.658203\" xlink:href=\"#DejaVuSans-99\"/>\n      <use x=\"121.638672\" xlink:href=\"#DejaVuSans-116\"/>\n      <use x=\"160.847656\" xlink:href=\"#DejaVuSans-117\"/>\n      <use x=\"224.226562\" xlink:href=\"#DejaVuSans-97\"/>\n      <use x=\"285.505859\" xlink:href=\"#DejaVuSans-108\"/>\n      <use x=\"313.289062\" xlink:href=\"#DejaVuSans-32\"/>\n      <use x=\"345.076172\" xlink:href=\"#DejaVuSans-82\"/>\n      <use x=\"410.058594\" xlink:href=\"#DejaVuSans-101\"/>\n      <use x=\"471.582031\" xlink:href=\"#DejaVuSans-116\"/>\n      <use x=\"510.791016\" xlink:href=\"#DejaVuSans-117\"/>\n      <use x=\"574.169922\" xlink:href=\"#DejaVuSans-114\"/>\n      <use x=\"613.533203\" xlink:href=\"#DejaVuSans-110\"/>\n      <use x=\"676.912109\" xlink:href=\"#DejaVuSans-115\"/>\n     </g>\n    </g>\n    <g id=\"line2d_16\">\n     <path d=\"M 39.103125 34.976562 \nL 59.103125 34.976562 \n\" style=\"fill:none;stroke:#ff7f0e;stroke-linecap:square;stroke-width:1.5;\"/>\n    </g>\n    <g id=\"line2d_17\"/>\n    <g id=\"text_14\">\n     <!-- Strategy Returns -->\n     <g transform=\"translate(67.103125 38.476562)scale(0.1 -0.1)\">\n      <defs>\n       <path d=\"M 53.515625 70.515625 \nL 53.515625 60.890625 \nQ 47.90625 63.578125 42.921875 64.890625 \nQ 37.9375 66.21875 33.296875 66.21875 \nQ 25.25 66.21875 20.875 63.09375 \nQ 16.5 59.96875 16.5 54.203125 \nQ 16.5 49.359375 19.40625 46.890625 \nQ 22.3125 44.4375 30.421875 42.921875 \nL 36.375 41.703125 \nQ 47.40625 39.59375 52.65625 34.296875 \nQ 57.90625 29 57.90625 20.125 \nQ 57.90625 9.515625 50.796875 4.046875 \nQ 43.703125 -1.421875 29.984375 -1.421875 \nQ 24.8125 -1.421875 18.96875 -0.25 \nQ 13.140625 0.921875 6.890625 3.21875 \nL 6.890625 13.375 \nQ 12.890625 10.015625 18.65625 8.296875 \nQ 24.421875 6.59375 29.984375 6.59375 \nQ 38.421875 6.59375 43.015625 9.90625 \nQ 47.609375 13.234375 47.609375 19.390625 \nQ 47.609375 24.75 44.3125 27.78125 \nQ 41.015625 30.8125 33.5 32.328125 \nL 27.484375 33.5 \nQ 16.453125 35.6875 11.515625 40.375 \nQ 6.59375 45.0625 6.59375 53.421875 \nQ 6.59375 63.09375 13.40625 68.65625 \nQ 20.21875 74.21875 32.171875 74.21875 \nQ 37.3125 74.21875 42.625 73.28125 \nQ 47.953125 72.359375 53.515625 70.515625 \nz\n\" id=\"DejaVuSans-83\"/>\n       <path d=\"M 45.40625 27.984375 \nQ 45.40625 37.75 41.375 43.109375 \nQ 37.359375 48.484375 30.078125 48.484375 \nQ 22.859375 48.484375 18.828125 43.109375 \nQ 14.796875 37.75 14.796875 27.984375 \nQ 14.796875 18.265625 18.828125 12.890625 \nQ 22.859375 7.515625 30.078125 7.515625 \nQ 37.359375 7.515625 41.375 12.890625 \nQ 45.40625 18.265625 45.40625 27.984375 \nz\nM 54.390625 6.78125 \nQ 54.390625 -7.171875 48.1875 -13.984375 \nQ 42 -20.796875 29.203125 -20.796875 \nQ 24.46875 -20.796875 20.265625 -20.09375 \nQ 16.0625 -19.390625 12.109375 -17.921875 \nL 12.109375 -9.1875 \nQ 16.0625 -11.328125 19.921875 -12.34375 \nQ 23.78125 -13.375 27.78125 -13.375 \nQ 36.625 -13.375 41.015625 -8.765625 \nQ 45.40625 -4.15625 45.40625 5.171875 \nL 45.40625 9.625 \nQ 42.625 4.78125 38.28125 2.390625 \nQ 33.9375 0 27.875 0 \nQ 17.828125 0 11.671875 7.65625 \nQ 5.515625 15.328125 5.515625 27.984375 \nQ 5.515625 40.671875 11.671875 48.328125 \nQ 17.828125 56 27.875 56 \nQ 33.9375 56 38.28125 53.609375 \nQ 42.625 51.21875 45.40625 46.390625 \nL 45.40625 54.6875 \nL 54.390625 54.6875 \nz\n\" id=\"DejaVuSans-103\"/>\n       <path d=\"M 32.171875 -5.078125 \nQ 28.375 -14.84375 24.75 -17.8125 \nQ 21.140625 -20.796875 15.09375 -20.796875 \nL 7.90625 -20.796875 \nL 7.90625 -13.28125 \nL 13.1875 -13.28125 \nQ 16.890625 -13.28125 18.9375 -11.515625 \nQ 21 -9.765625 23.484375 -3.21875 \nL 25.09375 0.875 \nL 2.984375 54.6875 \nL 12.5 54.6875 \nL 29.59375 11.921875 \nL 46.6875 54.6875 \nL 56.203125 54.6875 \nz\n\" id=\"DejaVuSans-121\"/>\n      </defs>\n      <use xlink:href=\"#DejaVuSans-83\"/>\n      <use x=\"63.476562\" xlink:href=\"#DejaVuSans-116\"/>\n      <use x=\"102.685547\" xlink:href=\"#DejaVuSans-114\"/>\n      <use x=\"143.798828\" xlink:href=\"#DejaVuSans-97\"/>\n      <use x=\"205.078125\" xlink:href=\"#DejaVuSans-116\"/>\n      <use x=\"244.287109\" xlink:href=\"#DejaVuSans-101\"/>\n      <use x=\"305.810547\" xlink:href=\"#DejaVuSans-103\"/>\n      <use x=\"369.287109\" xlink:href=\"#DejaVuSans-121\"/>\n      <use x=\"428.466797\" xlink:href=\"#DejaVuSans-32\"/>\n      <use x=\"460.253906\" xlink:href=\"#DejaVuSans-82\"/>\n      <use x=\"525.236328\" xlink:href=\"#DejaVuSans-101\"/>\n      <use x=\"586.759766\" xlink:href=\"#DejaVuSans-116\"/>\n      <use x=\"625.96875\" xlink:href=\"#DejaVuSans-117\"/>\n      <use x=\"689.347656\" xlink:href=\"#DejaVuSans-114\"/>\n      <use x=\"728.710938\" xlink:href=\"#DejaVuSans-110\"/>\n      <use x=\"792.089844\" xlink:href=\"#DejaVuSans-115\"/>\n     </g>\n    </g>\n   </g>\n  </g>\n </g>\n <defs>\n  <clipPath id=\"p0b3cc18bcc\">\n   <rect height=\"195.84\" width=\"334.8\" x=\"30.103125\" y=\"7.2\"/>\n  </clipPath>\n </defs>\n</svg>\n",
      "image/png": "[encoded data removed]"
     },
     "metadata": {
      "needs_background": "light"
     }
    }
   ],
   "metadata": {}
  },
  {
   "cell_type": "code",
   "execution_count": null,
   "source": [],
   "outputs": [],
   "metadata": {}
  }
 ],
 "metadata": {
  "kernelspec": {
   "name": "python3",
   "display_name": "Python 3.7.10 64-bit ('dev': conda)"
  },
  "language_info": {
   "codemirror_mode": {
    "name": "ipython",
    "version": 3
   },
   "file_extension": ".py",
   "mimetype": "text/x-python",
   "name": "python",
   "nbconvert_exporter": "python",
   "pygments_lexer": "ipython3",
   "version": "3.7.10"
  },
  "interpreter": {
   "hash": "aeb41122d04dfa4a85eba97579844b778e04418b7034b9d608ec539f4ca41812"
  }
 },
 "nbformat": 4,
 "nbformat_minor": 4
}